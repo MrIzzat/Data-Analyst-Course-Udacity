{
 "cells": [
  {
   "cell_type": "markdown",
   "id": "a5d35a36-dacd-47e0-8752-85e0e83f7ec4",
   "metadata": {},
   "source": [
    "# How should the file be read\n",
    "\n",
    "Each text file is in the following structure:\n",
    "\n",
    "1. The first line contains the title\n",
    "2. The second line contains the url\n",
    "3. The rest contains the review"
   ]
  },
  {
   "cell_type": "markdown",
   "id": "b5d8b3e9-ee43-46d3-b6b6-a7cd93e69c3b",
   "metadata": {},
   "source": [
    "# Import Libararies"
   ]
  },
  {
   "cell_type": "code",
   "execution_count": 1,
   "id": "16182b8f-aeeb-408c-8db3-ad59862b027b",
   "metadata": {},
   "outputs": [],
   "source": [
    "import pandas as pd\n",
    "import glob"
   ]
  },
  {
   "cell_type": "markdown",
   "id": "9ce90a42-f69d-44e3-be32-8ad14765d1d2",
   "metadata": {},
   "source": [
    "`glob` is a python library that allows for unix style pathname pattern expansion (regex i guess)."
   ]
  },
  {
   "cell_type": "markdown",
   "id": "7202cf71-b62c-430d-969a-50b2b18afbee",
   "metadata": {},
   "source": [
    "# Find the text files to read"
   ]
  },
  {
   "cell_type": "code",
   "execution_count": 2,
   "id": "e7fa6814-8c5b-40c1-9de4-3a5f92e69fc1",
   "metadata": {},
   "outputs": [
    {
     "data": {
      "text/plain": [
       "['./ebert_reviews_2017\\\\1-the-wizard-of-oz-1939-film.txt',\n",
       " './ebert_reviews_2017\\\\2-citizen-kane.txt',\n",
       " './ebert_reviews_2017\\\\3-the-third-man.txt']"
      ]
     },
     "execution_count": 2,
     "metadata": {},
     "output_type": "execute_result"
    }
   ],
   "source": [
    "glob.glob('./ebert_reviews_2017/*.txt')"
   ]
  },
  {
   "cell_type": "markdown",
   "id": "748c2ddb-8ae7-4c62-b4af-bfd20363fab8",
   "metadata": {},
   "source": [
    "# Reading the file"
   ]
  },
  {
   "cell_type": "code",
   "execution_count": 8,
   "id": "2229fda4-eee2-4429-b67c-801126ed6d08",
   "metadata": {},
   "outputs": [
    {
     "data": {
      "text/html": [
       "<div>\n",
       "<style scoped>\n",
       "    .dataframe tbody tr th:only-of-type {\n",
       "        vertical-align: middle;\n",
       "    }\n",
       "\n",
       "    .dataframe tbody tr th {\n",
       "        vertical-align: top;\n",
       "    }\n",
       "\n",
       "    .dataframe thead th {\n",
       "        text-align: right;\n",
       "    }\n",
       "</style>\n",
       "<table border=\"1\" class=\"dataframe\">\n",
       "  <thead>\n",
       "    <tr style=\"text-align: right;\">\n",
       "      <th></th>\n",
       "      <th>title</th>\n",
       "      <th>review_url</th>\n",
       "      <th>review_text</th>\n",
       "    </tr>\n",
       "  </thead>\n",
       "  <tbody>\n",
       "    <tr>\n",
       "      <th>0</th>\n",
       "      <td>The Wizard of Oz (1939)</td>\n",
       "      <td>http://www.rogerebert.com/reviews/great-movie-...</td>\n",
       "      <td>As a child I simply did not notice whether a m...</td>\n",
       "    </tr>\n",
       "    <tr>\n",
       "      <th>1</th>\n",
       "      <td>Citizen Kane (1941)</td>\n",
       "      <td>http://www.rogerebert.com/reviews/great-movie-...</td>\n",
       "      <td>“I don't think any word can explain a man's li...</td>\n",
       "    </tr>\n",
       "    <tr>\n",
       "      <th>2</th>\n",
       "      <td>The Third Man (1949)</td>\n",
       "      <td>http://www.rogerebert.com/reviews/great-movie-...</td>\n",
       "      <td>Has there ever been a film where the music mor...</td>\n",
       "    </tr>\n",
       "  </tbody>\n",
       "</table>\n",
       "</div>"
      ],
      "text/plain": [
       "                     title                                         review_url  \\\n",
       "0  The Wizard of Oz (1939)  http://www.rogerebert.com/reviews/great-movie-...   \n",
       "1      Citizen Kane (1941)  http://www.rogerebert.com/reviews/great-movie-...   \n",
       "2     The Third Man (1949)  http://www.rogerebert.com/reviews/great-movie-...   \n",
       "\n",
       "                                         review_text  \n",
       "0  As a child I simply did not notice whether a m...  \n",
       "1  “I don't think any word can explain a man's li...  \n",
       "2  Has there ever been a film where the music mor...  "
      ]
     },
     "execution_count": 8,
     "metadata": {},
     "output_type": "execute_result"
    }
   ],
   "source": [
    "text_list = []\n",
    "\n",
    "for ebert_review in glob.glob('./ebert_reviews_2017/*.txt'):\n",
    "\n",
    "    with open(ebert_review,encoding='utf-8') as file:\n",
    "\n",
    "        title = file.readline()[:-1]# The [:-1] just removes the new line at the end\n",
    "\n",
    "        review_url = file.readline()[:-1]\n",
    "\n",
    "        review_text = file.read()\n",
    "\n",
    "        text_list.append({'title':title,\n",
    "                         'review_url':review_url,\n",
    "                         'review_text':review_text})\n",
    "\n",
    "df = pd.DataFrame(text_list)\n",
    "\n",
    "df"
   ]
  }
 ],
 "metadata": {
  "kernelspec": {
   "display_name": "Python 3 (ipykernel)",
   "language": "python",
   "name": "python3"
  },
  "language_info": {
   "codemirror_mode": {
    "name": "ipython",
    "version": 3
   },
   "file_extension": ".py",
   "mimetype": "text/x-python",
   "name": "python",
   "nbconvert_exporter": "python",
   "pygments_lexer": "ipython3",
   "version": "3.12.3"
  }
 },
 "nbformat": 4,
 "nbformat_minor": 5
}
