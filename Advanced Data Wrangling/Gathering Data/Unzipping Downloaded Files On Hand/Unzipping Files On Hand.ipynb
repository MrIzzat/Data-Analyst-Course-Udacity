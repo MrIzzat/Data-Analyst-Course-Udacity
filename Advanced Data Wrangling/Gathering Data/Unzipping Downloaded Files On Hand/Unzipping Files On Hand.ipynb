{
 "cells": [
  {
   "cell_type": "markdown",
   "id": "a6b6cf52-a5d3-423e-988a-b0bfce33f8d3",
   "metadata": {},
   "source": [
    "# Import Libraries"
   ]
  },
  {
   "cell_type": "code",
   "execution_count": 2,
   "id": "68c64a93-df18-4b52-8847-3091cb329359",
   "metadata": {},
   "outputs": [],
   "source": [
    "import zipfile"
   ]
  },
  {
   "cell_type": "markdown",
   "id": "f33c3fd3-f3f1-4e06-82c6-5b1820e1f18b",
   "metadata": {},
   "source": [
    "# Extract File"
   ]
  },
  {
   "cell_type": "code",
   "execution_count": 3,
   "id": "23df58f8-65cd-4011-81fe-67ab2d36e530",
   "metadata": {},
   "outputs": [],
   "source": [
    "with zipfile.ZipFile(\"Chart_Types.zip\",\"r\") as zip_ref:\n",
    "    zip_ref.extractall(\"./\")"
   ]
  }
 ],
 "metadata": {
  "kernelspec": {
   "display_name": "Python 3 (ipykernel)",
   "language": "python",
   "name": "python3"
  },
  "language_info": {
   "codemirror_mode": {
    "name": "ipython",
    "version": 3
   },
   "file_extension": ".py",
   "mimetype": "text/x-python",
   "name": "python",
   "nbconvert_exporter": "python",
   "pygments_lexer": "ipython3",
   "version": "3.12.3"
  }
 },
 "nbformat": 4,
 "nbformat_minor": 5
}
