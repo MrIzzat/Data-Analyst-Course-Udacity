{
 "cells": [
  {
   "cell_type": "markdown",
   "id": "ed9d7a1d-efcd-482e-907a-8e91105ff85d",
   "metadata": {
    "jp-MarkdownHeadingCollapsed": true
   },
   "source": [
    "#  Why use web scraping?\n",
    "\n",
    "When data is not available through APIs or as a neat file, web scrapping may be necessary to use. During web scraping, HTML files are gathered which use tags to structure the page.\n",
    "\n",
    "APIs are always the better option for gathering data because a web scraper needs to be designed with a specific layout in mind. If the web site changes the web scraper needs to be adjusted so that it is still able to gather data from that web site otherwise it will break."
   ]
  },
  {
   "cell_type": "markdown",
   "id": "daa236db-2115-4226-8f78-6dd325aeb407",
   "metadata": {},
   "source": [
    "# Import Libraries"
   ]
  },
  {
   "cell_type": "code",
   "execution_count": 3,
   "id": "7ea0f6bc-4687-4232-b41e-42a212f20c3f",
   "metadata": {},
   "outputs": [],
   "source": [
    "import requests"
   ]
  },
  {
   "cell_type": "markdown",
   "id": "c7f60873-3037-4695-b59e-90f73e9d31f5",
   "metadata": {},
   "source": [
    "# Sending GET request for file"
   ]
  },
  {
   "cell_type": "code",
   "execution_count": 4,
   "id": "8a2e01cf-30a9-4aca-a399-bcffd9f30632",
   "metadata": {},
   "outputs": [
    {
     "data": {
      "text/plain": [
       "<Response [200]>"
      ]
     },
     "execution_count": 4,
     "metadata": {},
     "output_type": "execute_result"
    }
   ],
   "source": [
    "url = 'https://archive.org/details/cu31924067841738'\n",
    "response = requests.get(url)\n",
    "\n",
    "response"
   ]
  },
  {
   "cell_type": "markdown",
   "id": "e73a19f5-da22-4ccf-a763-e932b0b23865",
   "metadata": {},
   "source": [
    "# Save HTML file"
   ]
  },
  {
   "cell_type": "code",
   "execution_count": 6,
   "id": "69d5db98-74a0-4e75-8065-20d4880ef276",
   "metadata": {},
   "outputs": [],
   "source": [
    "with open('./language_of_flowers.html','wb') as file:\n",
    "    file.write(response.content)"
   ]
  }
 ],
 "metadata": {
  "kernelspec": {
   "display_name": "Python 3 (ipykernel)",
   "language": "python",
   "name": "python3"
  },
  "language_info": {
   "codemirror_mode": {
    "name": "ipython",
    "version": 3
   },
   "file_extension": ".py",
   "mimetype": "text/x-python",
   "name": "python",
   "nbconvert_exporter": "python",
   "pygments_lexer": "ipython3",
   "version": "3.12.3"
  }
 },
 "nbformat": 4,
 "nbformat_minor": 5
}
