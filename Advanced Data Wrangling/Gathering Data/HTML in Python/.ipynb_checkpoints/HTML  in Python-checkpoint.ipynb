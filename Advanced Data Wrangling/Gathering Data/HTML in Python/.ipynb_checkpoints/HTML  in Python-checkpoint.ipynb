{
 "cells": [
  {
   "cell_type": "markdown",
   "id": "967fd089-5925-4f0c-bb7c-01713295c40d",
   "metadata": {},
   "source": [
    "# How does Python interact with HTML?\n",
    "\n",
    "`Beautiful Soup` is a library that contains an HTML parser in python."
   ]
  },
  {
   "cell_type": "markdown",
   "id": "019af191-404d-4491-a95b-f23583becb2b",
   "metadata": {},
   "source": [
    "# Import Library"
   ]
  },
  {
   "cell_type": "code",
   "execution_count": null,
   "id": "b58224fe-314e-4e99-9ca7-9198b8cbb902",
   "metadata": {},
   "outputs": [],
   "source": [
    "from bs4 import BeautifulSoup"
   ]
  },
  {
   "cell_type": "markdown",
   "id": "d6f001ab-af33-44c2-9746-48304ba65604",
   "metadata": {},
   "source": [
    "# Open the HTML File"
   ]
  },
  {
   "cell_type": "markdown",
   "id": "be43dc06-e65b-4d11-a550-5d5bcf208e58",
   "metadata": {},
   "source": [
    "The HTML file can be downloaded first using like in the `web scraping` notebook"
   ]
  },
  {
   "cell_type": "code",
   "execution_count": null,
   "id": "1abe71a8-ce64-40d7-a772-d315e8770400",
   "metadata": {},
   "outputs": [],
   "source": [
    "with open('./language_of_flowers.html') as fp:\n",
    "    flower_soup = BeautifulSoup(fp,'html.parser')"
   ]
  },
  {
   "cell_type": "code",
   "execution_count": null,
   "id": "75962b10-af1f-42c9-851f-80458fa46fe0",
   "metadata": {},
   "outputs": [],
   "source": [
    "print(flower_soup)"
   ]
  },
  {
   "cell_type": "markdown",
   "id": "0d02a24b-df33-4e59-b9c3-af964d980cc5",
   "metadata": {},
   "source": [
    "## Viewing a cleaner version"
   ]
  },
  {
   "cell_type": "code",
   "execution_count": null,
   "id": "831a4b08-de67-4f59-ba8f-988149d715af",
   "metadata": {},
   "outputs": [],
   "source": [
    "print(flower_soup.prettify())#Without print it removes all the new lines which makes it look bad"
   ]
  },
  {
   "cell_type": "markdown",
   "id": "fe4c4684-8dfd-49bd-ba3d-4dd0bfed984a",
   "metadata": {},
   "source": [
    "# Finding the content of the `title` tag"
   ]
  },
  {
   "cell_type": "code",
   "execution_count": null,
   "id": "56151da7-003b-40c7-9ea5-f18be2d29348",
   "metadata": {},
   "outputs": [],
   "source": [
    "book_title = flower_soup.find('title')\n",
    "print(book_title)"
   ]
  },
  {
   "cell_type": "markdown",
   "id": "2a30855f-15a3-42a7-947d-2b183a10f9a3",
   "metadata": {},
   "source": [
    "## Viewing the information without the tag"
   ]
  },
  {
   "cell_type": "markdown",
   "id": "e5eba61a-a3ec-4995-b37c-c3c6260ccd1f",
   "metadata": {},
   "source": [
    "`.text` removes the tags `.strip()` removes the extra spaces."
   ]
  },
  {
   "cell_type": "code",
   "execution_count": null,
   "id": "6c0ea24f-7297-461c-af9b-825ad08a61dd",
   "metadata": {},
   "outputs": [],
   "source": [
    "print(book_title.text.strip())"
   ]
  },
  {
   "cell_type": "markdown",
   "id": "2a6fffec-4359-4370-886f-2af5a7fb033f",
   "metadata": {},
   "source": [
    "# Getting the uploader name"
   ]
  },
  {
   "cell_type": "markdown",
   "id": "6d7f8e32-1c3e-4f3e-b5fd-a00536d4e07c",
   "metadata": {},
   "source": [
    "The uploader name can be found a anchor tag that contains the `item-upload-info__uploader-name` class"
   ]
  },
  {
   "cell_type": "code",
   "execution_count": null,
   "id": "37fb90f0-0bf3-412d-b078-ca21ae74dc6c",
   "metadata": {},
   "outputs": [],
   "source": [
    "uploader_name = flower_soup.find('a',class_=\"item-upload-info__uploader-name\")\n",
    "print(uploader_name.text.strip())"
   ]
  },
  {
   "cell_type": "markdown",
   "id": "67189345-f23c-4954-8a38-8547d20b4223",
   "metadata": {},
   "source": [
    "# Retrieving multiple items"
   ]
  },
  {
   "cell_type": "markdown",
   "id": "4fa35666-0c6d-43cd-8a4b-069cccbc5672",
   "metadata": {},
   "source": [
    "Sometimes tags will be the same type and contain the same class name. To retrieve these tags the `find_all()` function can be used, which returns a list. Using just `find()` will only return the first instance of that specific tag."
   ]
  },
  {
   "cell_type": "code",
   "execution_count": null,
   "id": "4880a50d-9d0b-4d1e-af8b-48f56c89c5d0",
   "metadata": {},
   "outputs": [],
   "source": [
    "collection_items = flower_soup.find_all(\"a\",class_=\"collection-item\")\n",
    "print(collection_items)"
   ]
  },
  {
   "cell_type": "markdown",
   "id": "13f25cf1-2771-4134-b806-ac645510a90c",
   "metadata": {},
   "source": [
    "## Viewing each item"
   ]
  },
  {
   "cell_type": "code",
   "execution_count": null,
   "id": "20d659ef-de78-4a1e-9044-2018fe223fbc",
   "metadata": {},
   "outputs": [],
   "source": [
    "for item in collection_items:\n",
    "    print(item.text.strip())"
   ]
  }
 ],
 "metadata": {
  "kernelspec": {
   "display_name": "Python 3 (ipykernel)",
   "language": "python",
   "name": "python3"
  },
  "language_info": {
   "codemirror_mode": {
    "name": "ipython",
    "version": 3
   },
   "file_extension": ".py",
   "mimetype": "text/x-python",
   "name": "python",
   "nbconvert_exporter": "python",
   "pygments_lexer": "ipython3",
   "version": "3.12.3"
  }
 },
 "nbformat": 4,
 "nbformat_minor": 5
}
