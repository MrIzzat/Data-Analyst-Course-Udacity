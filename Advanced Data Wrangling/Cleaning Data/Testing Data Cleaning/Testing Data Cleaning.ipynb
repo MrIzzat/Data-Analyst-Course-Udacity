{
 "cells": [
  {
   "cell_type": "markdown",
   "id": "470fc771-fd54-40b9-a24b-a797bff0bb6e",
   "metadata": {},
   "source": [
    "# What is testing data cleaning"
   ]
  },
  {
   "cell_type": "markdown",
   "id": "e1d07413-8741-4647-982f-a988b6ee4101",
   "metadata": {},
   "source": [
    "After a dataset has been cleaned, it's important to reassess the dataset to confirm the success of the data cleaning operation. After a certain issues has been cleaned, it should be followed by a test before resolving the next issue. This follows the test-drived development concept in QA. \n",
    "\n",
    "The difference between data assessment and data testing is:\n",
    "\n",
    "* in data assessment, the assessment is usually flexiable in order to be able to be vigilant of different types of data issues. Like when looking for missing data, it was found that not only NaN represent missing data, but also '#' and '*' do as well.\n",
    "\n",
    "* In data testing, it is already known what the exact issues are and can be targetted with specific test cases, since the issues are already known. The test cases' purpose is to ensure that the issues have been resolved correctly."
   ]
  },
  {
   "cell_type": "markdown",
   "id": "6d29bfb6-52a5-4f63-8f7e-05964d081c80",
   "metadata": {},
   "source": [
    "# Import Libraries"
   ]
  },
  {
   "cell_type": "code",
   "execution_count": 61,
   "id": "d69cb750-c11b-4cd5-b0e2-4a573460e33b",
   "metadata": {},
   "outputs": [],
   "source": [
    "import pandas as pd\n",
    "import numpy as np\n",
    "import seaborn as sns\n",
    "\n",
    "pd.options.mode.chained_assignment = None\n",
    "%config InlineBackend.figure_format = \"retina\""
   ]
  },
  {
   "cell_type": "markdown",
   "id": "21c5619d-a260-4643-aa64-76689ea0aae4",
   "metadata": {},
   "source": [
    "# Load Datasets"
   ]
  },
  {
   "cell_type": "code",
   "execution_count": 24,
   "id": "1db5f7c1-ce88-4be0-b556-10d993b282c6",
   "metadata": {},
   "outputs": [],
   "source": [
    "orig_pums = pd.read_json('./2021-pums.json')\n",
    "orig_wage_df = pd.read_excel('./oes_research_2021_sec_55-56.xlsx')"
   ]
  },
  {
   "cell_type": "code",
   "execution_count": 25,
   "id": "41ab411c-0a03-4875-8504-2fd35989d31d",
   "metadata": {},
   "outputs": [
    {
     "data": {
      "text/html": [
       "<div>\n",
       "<style scoped>\n",
       "    .dataframe tbody tr th:only-of-type {\n",
       "        vertical-align: middle;\n",
       "    }\n",
       "\n",
       "    .dataframe tbody tr th {\n",
       "        vertical-align: top;\n",
       "    }\n",
       "\n",
       "    .dataframe thead th {\n",
       "        text-align: right;\n",
       "    }\n",
       "</style>\n",
       "<table border=\"1\" class=\"dataframe\">\n",
       "  <thead>\n",
       "    <tr style=\"text-align: right;\">\n",
       "      <th></th>\n",
       "      <th>0</th>\n",
       "      <th>1</th>\n",
       "      <th>2</th>\n",
       "      <th>3</th>\n",
       "      <th>4</th>\n",
       "    </tr>\n",
       "  </thead>\n",
       "  <tbody>\n",
       "    <tr>\n",
       "      <th>0</th>\n",
       "      <td>PWGTP</td>\n",
       "      <td>WRK</td>\n",
       "      <td>SEX</td>\n",
       "      <td>SOCP</td>\n",
       "      <td>ST</td>\n",
       "    </tr>\n",
       "    <tr>\n",
       "      <th>1</th>\n",
       "      <td>208</td>\n",
       "      <td>0</td>\n",
       "      <td>1</td>\n",
       "      <td>119111</td>\n",
       "      <td>06</td>\n",
       "    </tr>\n",
       "    <tr>\n",
       "      <th>2</th>\n",
       "      <td>88</td>\n",
       "      <td>1</td>\n",
       "      <td>2</td>\n",
       "      <td>119151</td>\n",
       "      <td>06</td>\n",
       "    </tr>\n",
       "    <tr>\n",
       "      <th>3</th>\n",
       "      <td>55</td>\n",
       "      <td>2</td>\n",
       "      <td>1</td>\n",
       "      <td>119111</td>\n",
       "      <td>06</td>\n",
       "    </tr>\n",
       "    <tr>\n",
       "      <th>4</th>\n",
       "      <td>87</td>\n",
       "      <td>1</td>\n",
       "      <td>2</td>\n",
       "      <td>113121</td>\n",
       "      <td>06</td>\n",
       "    </tr>\n",
       "  </tbody>\n",
       "</table>\n",
       "</div>"
      ],
      "text/plain": [
       "       0    1    2       3   4\n",
       "0  PWGTP  WRK  SEX    SOCP  ST\n",
       "1    208    0    1  119111  06\n",
       "2     88    1    2  119151  06\n",
       "3     55    2    1  119111  06\n",
       "4     87    1    2  113121  06"
      ]
     },
     "execution_count": 25,
     "metadata": {},
     "output_type": "execute_result"
    }
   ],
   "source": [
    "orig_pums.head()"
   ]
  },
  {
   "cell_type": "markdown",
   "id": "4678a494-8ccc-470a-b083-08ee544f4dd6",
   "metadata": {},
   "source": [
    "# Code for Cleaning the `PUMS` dataset"
   ]
  },
  {
   "cell_type": "markdown",
   "id": "2281d214-1c4e-47d9-8d58-a4cb23050761",
   "metadata": {},
   "source": [
    "## Making copies of the dataframes"
   ]
  },
  {
   "cell_type": "code",
   "execution_count": 46,
   "id": "46381596-bbbf-4551-aee7-77ad20870101",
   "metadata": {},
   "outputs": [],
   "source": [
    "cleaned_pums = orig_pums.copy()"
   ]
  },
  {
   "cell_type": "markdown",
   "id": "f3abf94b-4da9-4ddd-9b10-33257638bca0",
   "metadata": {},
   "source": [
    "## Defining the 0th row as the header"
   ]
  },
  {
   "cell_type": "code",
   "execution_count": 47,
   "id": "fae1f987-e7b2-4763-9176-e46ce88a1f3a",
   "metadata": {},
   "outputs": [],
   "source": [
    "cleaned_pums.columns = cleaned_pums.iloc[0]"
   ]
  },
  {
   "cell_type": "code",
   "execution_count": 48,
   "id": "f17f59a4-fad4-4c96-905b-a73f7e472419",
   "metadata": {},
   "outputs": [
    {
     "data": {
      "text/html": [
       "<div>\n",
       "<style scoped>\n",
       "    .dataframe tbody tr th:only-of-type {\n",
       "        vertical-align: middle;\n",
       "    }\n",
       "\n",
       "    .dataframe tbody tr th {\n",
       "        vertical-align: top;\n",
       "    }\n",
       "\n",
       "    .dataframe thead th {\n",
       "        text-align: right;\n",
       "    }\n",
       "</style>\n",
       "<table border=\"1\" class=\"dataframe\">\n",
       "  <thead>\n",
       "    <tr style=\"text-align: right;\">\n",
       "      <th></th>\n",
       "      <th>PWGTP</th>\n",
       "      <th>WRK</th>\n",
       "      <th>SEX</th>\n",
       "      <th>SOCP</th>\n",
       "      <th>ST</th>\n",
       "    </tr>\n",
       "  </thead>\n",
       "  <tbody>\n",
       "    <tr>\n",
       "      <th>0</th>\n",
       "      <td>PWGTP</td>\n",
       "      <td>WRK</td>\n",
       "      <td>SEX</td>\n",
       "      <td>SOCP</td>\n",
       "      <td>ST</td>\n",
       "    </tr>\n",
       "    <tr>\n",
       "      <th>1</th>\n",
       "      <td>208</td>\n",
       "      <td>0</td>\n",
       "      <td>1</td>\n",
       "      <td>119111</td>\n",
       "      <td>06</td>\n",
       "    </tr>\n",
       "    <tr>\n",
       "      <th>2</th>\n",
       "      <td>88</td>\n",
       "      <td>1</td>\n",
       "      <td>2</td>\n",
       "      <td>119151</td>\n",
       "      <td>06</td>\n",
       "    </tr>\n",
       "    <tr>\n",
       "      <th>3</th>\n",
       "      <td>55</td>\n",
       "      <td>2</td>\n",
       "      <td>1</td>\n",
       "      <td>119111</td>\n",
       "      <td>06</td>\n",
       "    </tr>\n",
       "    <tr>\n",
       "      <th>4</th>\n",
       "      <td>87</td>\n",
       "      <td>1</td>\n",
       "      <td>2</td>\n",
       "      <td>113121</td>\n",
       "      <td>06</td>\n",
       "    </tr>\n",
       "  </tbody>\n",
       "</table>\n",
       "</div>"
      ],
      "text/plain": [
       "0  PWGTP  WRK  SEX    SOCP  ST\n",
       "0  PWGTP  WRK  SEX    SOCP  ST\n",
       "1    208    0    1  119111  06\n",
       "2     88    1    2  119151  06\n",
       "3     55    2    1  119111  06\n",
       "4     87    1    2  113121  06"
      ]
     },
     "execution_count": 48,
     "metadata": {},
     "output_type": "execute_result"
    }
   ],
   "source": [
    "cleaned_pums.head()"
   ]
  },
  {
   "cell_type": "markdown",
   "id": "9edf82c6-1680-4d98-8f1d-ddbaa0fd80bc",
   "metadata": {},
   "source": [
    "## Dropping the original row containing the columns"
   ]
  },
  {
   "cell_type": "code",
   "execution_count": 49,
   "id": "e22adad5-442e-442a-a641-4bdaaf3ecf96",
   "metadata": {},
   "outputs": [],
   "source": [
    "cleaned_pums = cleaned_pums.drop(cleaned_pums.index[0])"
   ]
  },
  {
   "cell_type": "code",
   "execution_count": 50,
   "id": "131dcd40-9a93-4d93-a09c-176249d5f2b4",
   "metadata": {},
   "outputs": [
    {
     "data": {
      "text/html": [
       "<div>\n",
       "<style scoped>\n",
       "    .dataframe tbody tr th:only-of-type {\n",
       "        vertical-align: middle;\n",
       "    }\n",
       "\n",
       "    .dataframe tbody tr th {\n",
       "        vertical-align: top;\n",
       "    }\n",
       "\n",
       "    .dataframe thead th {\n",
       "        text-align: right;\n",
       "    }\n",
       "</style>\n",
       "<table border=\"1\" class=\"dataframe\">\n",
       "  <thead>\n",
       "    <tr style=\"text-align: right;\">\n",
       "      <th></th>\n",
       "      <th>PWGTP</th>\n",
       "      <th>WRK</th>\n",
       "      <th>SEX</th>\n",
       "      <th>SOCP</th>\n",
       "      <th>ST</th>\n",
       "    </tr>\n",
       "  </thead>\n",
       "  <tbody>\n",
       "    <tr>\n",
       "      <th>1</th>\n",
       "      <td>208</td>\n",
       "      <td>0</td>\n",
       "      <td>1</td>\n",
       "      <td>119111</td>\n",
       "      <td>06</td>\n",
       "    </tr>\n",
       "    <tr>\n",
       "      <th>2</th>\n",
       "      <td>88</td>\n",
       "      <td>1</td>\n",
       "      <td>2</td>\n",
       "      <td>119151</td>\n",
       "      <td>06</td>\n",
       "    </tr>\n",
       "    <tr>\n",
       "      <th>3</th>\n",
       "      <td>55</td>\n",
       "      <td>2</td>\n",
       "      <td>1</td>\n",
       "      <td>119111</td>\n",
       "      <td>06</td>\n",
       "    </tr>\n",
       "    <tr>\n",
       "      <th>4</th>\n",
       "      <td>87</td>\n",
       "      <td>1</td>\n",
       "      <td>2</td>\n",
       "      <td>113121</td>\n",
       "      <td>06</td>\n",
       "    </tr>\n",
       "    <tr>\n",
       "      <th>5</th>\n",
       "      <td>69</td>\n",
       "      <td>1</td>\n",
       "      <td>1</td>\n",
       "      <td>1110XX</td>\n",
       "      <td>06</td>\n",
       "    </tr>\n",
       "  </tbody>\n",
       "</table>\n",
       "</div>"
      ],
      "text/plain": [
       "0 PWGTP WRK SEX    SOCP  ST\n",
       "1   208   0   1  119111  06\n",
       "2    88   1   2  119151  06\n",
       "3    55   2   1  119111  06\n",
       "4    87   1   2  113121  06\n",
       "5    69   1   1  1110XX  06"
      ]
     },
     "execution_count": 50,
     "metadata": {},
     "output_type": "execute_result"
    }
   ],
   "source": [
    "cleaned_pums.head()"
   ]
  },
  {
   "cell_type": "markdown",
   "id": "6e34a92c-1436-4a6d-a43e-f2aceafba954",
   "metadata": {},
   "source": [
    "## Resetting the index"
   ]
  },
  {
   "cell_type": "code",
   "execution_count": 51,
   "id": "32c74828-40b4-4d17-990a-5747af0ae6d0",
   "metadata": {},
   "outputs": [],
   "source": [
    "cleaned_pums = cleaned_pums.reset_index(drop=True)"
   ]
  },
  {
   "cell_type": "code",
   "execution_count": 52,
   "id": "b96f213f-73be-44f2-8cd0-a0cb16e95c0e",
   "metadata": {},
   "outputs": [
    {
     "data": {
      "text/html": [
       "<div>\n",
       "<style scoped>\n",
       "    .dataframe tbody tr th:only-of-type {\n",
       "        vertical-align: middle;\n",
       "    }\n",
       "\n",
       "    .dataframe tbody tr th {\n",
       "        vertical-align: top;\n",
       "    }\n",
       "\n",
       "    .dataframe thead th {\n",
       "        text-align: right;\n",
       "    }\n",
       "</style>\n",
       "<table border=\"1\" class=\"dataframe\">\n",
       "  <thead>\n",
       "    <tr style=\"text-align: right;\">\n",
       "      <th></th>\n",
       "      <th>PWGTP</th>\n",
       "      <th>WRK</th>\n",
       "      <th>SEX</th>\n",
       "      <th>SOCP</th>\n",
       "      <th>ST</th>\n",
       "    </tr>\n",
       "  </thead>\n",
       "  <tbody>\n",
       "    <tr>\n",
       "      <th>0</th>\n",
       "      <td>208</td>\n",
       "      <td>0</td>\n",
       "      <td>1</td>\n",
       "      <td>119111</td>\n",
       "      <td>06</td>\n",
       "    </tr>\n",
       "    <tr>\n",
       "      <th>1</th>\n",
       "      <td>88</td>\n",
       "      <td>1</td>\n",
       "      <td>2</td>\n",
       "      <td>119151</td>\n",
       "      <td>06</td>\n",
       "    </tr>\n",
       "    <tr>\n",
       "      <th>2</th>\n",
       "      <td>55</td>\n",
       "      <td>2</td>\n",
       "      <td>1</td>\n",
       "      <td>119111</td>\n",
       "      <td>06</td>\n",
       "    </tr>\n",
       "    <tr>\n",
       "      <th>3</th>\n",
       "      <td>87</td>\n",
       "      <td>1</td>\n",
       "      <td>2</td>\n",
       "      <td>113121</td>\n",
       "      <td>06</td>\n",
       "    </tr>\n",
       "    <tr>\n",
       "      <th>4</th>\n",
       "      <td>69</td>\n",
       "      <td>1</td>\n",
       "      <td>1</td>\n",
       "      <td>1110XX</td>\n",
       "      <td>06</td>\n",
       "    </tr>\n",
       "  </tbody>\n",
       "</table>\n",
       "</div>"
      ],
      "text/plain": [
       "0 PWGTP WRK SEX    SOCP  ST\n",
       "0   208   0   1  119111  06\n",
       "1    88   1   2  119151  06\n",
       "2    55   2   1  119111  06\n",
       "3    87   1   2  113121  06\n",
       "4    69   1   1  1110XX  06"
      ]
     },
     "execution_count": 52,
     "metadata": {},
     "output_type": "execute_result"
    }
   ],
   "source": [
    "cleaned_pums.head()"
   ]
  },
  {
   "cell_type": "markdown",
   "id": "e68d3ed9-a54c-4265-85b1-cc20fbbfce03",
   "metadata": {},
   "source": [
    "## Keeping the `WRK`, `SEX` and `SOCP` columns and removing the rest"
   ]
  },
  {
   "cell_type": "code",
   "execution_count": 53,
   "id": "a27530c0-a45c-4bc8-80e8-d698c807a0fd",
   "metadata": {},
   "outputs": [],
   "source": [
    "cleaned_pums = cleaned_pums[['WRK','SEX','SOCP']]"
   ]
  },
  {
   "cell_type": "markdown",
   "id": "501c20c0-1593-4222-9aa2-59f651f75387",
   "metadata": {},
   "source": [
    "## Replacing '0' in the `WRK` column with NaN"
   ]
  },
  {
   "cell_type": "code",
   "execution_count": 58,
   "id": "25c688ec-7577-45af-b3b3-2a927ef430d9",
   "metadata": {},
   "outputs": [],
   "source": [
    "cleaned_pums['WRK'] = cleaned_pums['WRK'].replace({'0' : np.nan})"
   ]
  },
  {
   "cell_type": "markdown",
   "id": "b331a094-1e71-432d-93be-12e3ab8fd3ce",
   "metadata": {},
   "source": [
    "## Creating a heatmap to see missing data"
   ]
  },
  {
   "cell_type": "code",
   "execution_count": 62,
   "id": "124b5c13-48a8-4041-a613-f82cf97b803e",
   "metadata": {},
   "outputs": [
    {
     "data": {
      "image/png": "[encoded data removed]",
      "text/plain": [
       "<Figure size 640x480 with 2 Axes>"
      ]
     },
     "metadata": {
      "image/png": {
       "height": 448,
       "width": 554
      }
     },
     "output_type": "display_data"
    }
   ],
   "source": [
    "sns.heatmap(cleaned_pums.isna().transpose(),\n",
    "           cbar_kws={'label':'Missing Data'});"
   ]
  },
  {
   "cell_type": "markdown",
   "id": "8180b34e-92cc-4af7-9034-514c672b79c7",
   "metadata": {},
   "source": [
    "All the white spots in the heat map represent the missing data"
   ]
  },
  {
   "cell_type": "markdown",
   "id": "7593f3e4-3b5d-42a0-92f5-22f1ebe4aea3",
   "metadata": {},
   "source": [
    "## Dropping NA values in the `PUMS` dataset"
   ]
  },
  {
   "cell_type": "code",
   "execution_count": 63,
   "id": "33373710-ff5a-4853-8030-eea5d733298e",
   "metadata": {},
   "outputs": [],
   "source": [
    "cleaned_pums = cleaned_pums.dropna()"
   ]
  },
  {
   "cell_type": "code",
   "execution_count": 65,
   "id": "c66231b3-8ec4-4ed5-8fdc-27fab4a48f80",
   "metadata": {},
   "outputs": [
    {
     "data": {
      "image/png": "[encoded data removed]",
      "text/plain": [
       "<Figure size 640x480 with 2 Axes>"
      ]
     },
     "metadata": {
      "image/png": {
       "height": 448,
       "width": 583
      }
     },
     "output_type": "display_data"
    }
   ],
   "source": [
    "sns.heatmap(cleaned_pums.isna().transpose(),\n",
    "           cbar_kws={'label' : 'Missing Data'});"
   ]
  },
  {
   "cell_type": "markdown",
   "id": "8f9e2992-a4a7-46d1-baa3-eb8be5920de3",
   "metadata": {},
   "source": [
    "All the missing data is gone, the heatmap is no longer in black and white"
   ]
  },
  {
   "cell_type": "markdown",
   "id": "de933f7f-4782-4ed1-8d52-a08285149fff",
   "metadata": {},
   "source": [
    "# Cleaning the `OES` dataset"
   ]
  },
  {
   "cell_type": "code",
   "execution_count": 66,
   "id": "c8d653ec-04d3-4ec2-9edd-47749b5785ce",
   "metadata": {},
   "outputs": [
    {
     "data": {
      "text/html": [
       "<div>\n",
       "<style scoped>\n",
       "    .dataframe tbody tr th:only-of-type {\n",
       "        vertical-align: middle;\n",
       "    }\n",
       "\n",
       "    .dataframe tbody tr th {\n",
       "        vertical-align: top;\n",
       "    }\n",
       "\n",
       "    .dataframe thead th {\n",
       "        text-align: right;\n",
       "    }\n",
       "</style>\n",
       "<table border=\"1\" class=\"dataframe\">\n",
       "  <thead>\n",
       "    <tr style=\"text-align: right;\">\n",
       "      <th></th>\n",
       "      <th>AREA</th>\n",
       "      <th>AREA_TITLE</th>\n",
       "      <th>NAICS</th>\n",
       "      <th>NAICS_TITLE</th>\n",
       "      <th>I_GROUP</th>\n",
       "      <th>OCC_CODE</th>\n",
       "      <th>OCC_TITLE</th>\n",
       "      <th>O_GROUP</th>\n",
       "      <th>TOT_EMP</th>\n",
       "      <th>EMP_PRSE</th>\n",
       "      <th>...</th>\n",
       "      <th>H_MEDIAN</th>\n",
       "      <th>H_PCT75</th>\n",
       "      <th>H_PCT90</th>\n",
       "      <th>A_PCT10</th>\n",
       "      <th>A_PCT25</th>\n",
       "      <th>A_MEDIAN</th>\n",
       "      <th>A_PCT75</th>\n",
       "      <th>A_PCT90</th>\n",
       "      <th>ANNUAL</th>\n",
       "      <th>HOURLY</th>\n",
       "    </tr>\n",
       "  </thead>\n",
       "  <tbody>\n",
       "    <tr>\n",
       "      <th>0</th>\n",
       "      <td>1</td>\n",
       "      <td>Alabama</td>\n",
       "      <td>55</td>\n",
       "      <td>Management of Companies and Enterprises</td>\n",
       "      <td>sector</td>\n",
       "      <td>00-0000</td>\n",
       "      <td>All Occupations</td>\n",
       "      <td>total</td>\n",
       "      <td>21920</td>\n",
       "      <td>0</td>\n",
       "      <td>...</td>\n",
       "      <td>35.6</td>\n",
       "      <td>56.94</td>\n",
       "      <td>79.49</td>\n",
       "      <td>35470</td>\n",
       "      <td>47040</td>\n",
       "      <td>74050</td>\n",
       "      <td>118440</td>\n",
       "      <td>165330</td>\n",
       "      <td>NaN</td>\n",
       "      <td>NaN</td>\n",
       "    </tr>\n",
       "    <tr>\n",
       "      <th>1</th>\n",
       "      <td>1</td>\n",
       "      <td>Alabama</td>\n",
       "      <td>55</td>\n",
       "      <td>Management of Companies and Enterprises</td>\n",
       "      <td>sector</td>\n",
       "      <td>11-0000</td>\n",
       "      <td>Management Occupations</td>\n",
       "      <td>major</td>\n",
       "      <td>4820</td>\n",
       "      <td>4.1</td>\n",
       "      <td>...</td>\n",
       "      <td>61.13</td>\n",
       "      <td>92.03</td>\n",
       "      <td>#</td>\n",
       "      <td>61600</td>\n",
       "      <td>94020</td>\n",
       "      <td>127140</td>\n",
       "      <td>191420</td>\n",
       "      <td>#</td>\n",
       "      <td>NaN</td>\n",
       "      <td>NaN</td>\n",
       "    </tr>\n",
       "    <tr>\n",
       "      <th>2</th>\n",
       "      <td>1</td>\n",
       "      <td>Alabama</td>\n",
       "      <td>55</td>\n",
       "      <td>Management of Companies and Enterprises</td>\n",
       "      <td>sector</td>\n",
       "      <td>11-1021</td>\n",
       "      <td>General and Operations Managers</td>\n",
       "      <td>detailed</td>\n",
       "      <td>1600</td>\n",
       "      <td>7</td>\n",
       "      <td>...</td>\n",
       "      <td>60.5</td>\n",
       "      <td>#</td>\n",
       "      <td>#</td>\n",
       "      <td>60010</td>\n",
       "      <td>78520</td>\n",
       "      <td>125850</td>\n",
       "      <td>#</td>\n",
       "      <td>#</td>\n",
       "      <td>NaN</td>\n",
       "      <td>NaN</td>\n",
       "    </tr>\n",
       "    <tr>\n",
       "      <th>3</th>\n",
       "      <td>1</td>\n",
       "      <td>Alabama</td>\n",
       "      <td>55</td>\n",
       "      <td>Management of Companies and Enterprises</td>\n",
       "      <td>sector</td>\n",
       "      <td>11-2021</td>\n",
       "      <td>Marketing Managers</td>\n",
       "      <td>detailed</td>\n",
       "      <td>140</td>\n",
       "      <td>13.6</td>\n",
       "      <td>...</td>\n",
       "      <td>61.13</td>\n",
       "      <td>99.23</td>\n",
       "      <td>#</td>\n",
       "      <td>65240</td>\n",
       "      <td>98680</td>\n",
       "      <td>127140</td>\n",
       "      <td>206410</td>\n",
       "      <td>#</td>\n",
       "      <td>NaN</td>\n",
       "      <td>NaN</td>\n",
       "    </tr>\n",
       "    <tr>\n",
       "      <th>4</th>\n",
       "      <td>1</td>\n",
       "      <td>Alabama</td>\n",
       "      <td>55</td>\n",
       "      <td>Management of Companies and Enterprises</td>\n",
       "      <td>sector</td>\n",
       "      <td>11-2022</td>\n",
       "      <td>Sales Managers</td>\n",
       "      <td>detailed</td>\n",
       "      <td>140</td>\n",
       "      <td>14.7</td>\n",
       "      <td>...</td>\n",
       "      <td>49.56</td>\n",
       "      <td>77.94</td>\n",
       "      <td>#</td>\n",
       "      <td>59390</td>\n",
       "      <td>79010</td>\n",
       "      <td>103080</td>\n",
       "      <td>162110</td>\n",
       "      <td>#</td>\n",
       "      <td>NaN</td>\n",
       "      <td>NaN</td>\n",
       "    </tr>\n",
       "  </tbody>\n",
       "</table>\n",
       "<p>5 rows × 26 columns</p>\n",
       "</div>"
      ],
      "text/plain": [
       "   AREA AREA_TITLE  NAICS                              NAICS_TITLE I_GROUP  \\\n",
       "0     1    Alabama     55  Management of Companies and Enterprises  sector   \n",
       "1     1    Alabama     55  Management of Companies and Enterprises  sector   \n",
       "2     1    Alabama     55  Management of Companies and Enterprises  sector   \n",
       "3     1    Alabama     55  Management of Companies and Enterprises  sector   \n",
       "4     1    Alabama     55  Management of Companies and Enterprises  sector   \n",
       "\n",
       "  OCC_CODE                        OCC_TITLE   O_GROUP TOT_EMP EMP_PRSE  ...  \\\n",
       "0  00-0000                  All Occupations     total   21920        0  ...   \n",
       "1  11-0000           Management Occupations     major    4820      4.1  ...   \n",
       "2  11-1021  General and Operations Managers  detailed    1600        7  ...   \n",
       "3  11-2021               Marketing Managers  detailed     140     13.6  ...   \n",
       "4  11-2022                   Sales Managers  detailed     140     14.7  ...   \n",
       "\n",
       "  H_MEDIAN H_PCT75 H_PCT90 A_PCT10 A_PCT25 A_MEDIAN A_PCT75 A_PCT90 ANNUAL  \\\n",
       "0     35.6   56.94   79.49   35470   47040    74050  118440  165330    NaN   \n",
       "1    61.13   92.03       #   61600   94020   127140  191420       #    NaN   \n",
       "2     60.5       #       #   60010   78520   125850       #       #    NaN   \n",
       "3    61.13   99.23       #   65240   98680   127140  206410       #    NaN   \n",
       "4    49.56   77.94       #   59390   79010   103080  162110       #    NaN   \n",
       "\n",
       "  HOURLY  \n",
       "0    NaN  \n",
       "1    NaN  \n",
       "2    NaN  \n",
       "3    NaN  \n",
       "4    NaN  \n",
       "\n",
       "[5 rows x 26 columns]"
      ]
     },
     "execution_count": 66,
     "metadata": {},
     "output_type": "execute_result"
    }
   ],
   "source": [
    "orig_wage_df.head()"
   ]
  },
  {
   "cell_type": "markdown",
   "id": "bd508a52-c990-4e0b-98c9-ea76c4e55b6a",
   "metadata": {},
   "source": [
    "## Making copies of the dataframe"
   ]
  },
  {
   "cell_type": "code",
   "execution_count": 67,
   "id": "aeb98be0-8b49-46c8-9051-b82e112a8bb3",
   "metadata": {},
   "outputs": [],
   "source": [
    "cleaned_wage = orig_wage_df.copy()"
   ]
  },
  {
   "cell_type": "markdown",
   "id": "411e1f04-6793-4a53-b987-d69a456a58e6",
   "metadata": {},
   "source": [
    "## Replacing alphanumeric characters (which represent missing values and outliers) with NaNs"
   ]
  },
  {
   "cell_type": "code",
   "execution_count": 68,
   "id": "ec9aa2ee-8752-46f9-9ad4-70a024a7b5bc",
   "metadata": {},
   "outputs": [
    {
     "name": "stderr",
     "output_type": "stream",
     "text": [
      "C:\\Users\\MrIzzat\\AppData\\Local\\Temp\\ipykernel_1920\\1778053412.py:2: FutureWarning: Downcasting behavior in `replace` is deprecated and will be removed in a future version. To retain the old behavior, explicitly call `result.infer_objects(copy=False)`. To opt-in to the future behavior, set `pd.set_option('future.no_silent_downcasting', True)`\n",
      "  cleaned_wage['H_MEAN'] = cleaned_wage['H_MEAN'].replace({'#' : np.nan})\n"
     ]
    }
   ],
   "source": [
    "cleaned_wage['H_MEAN'] = cleaned_wage['H_MEAN'].replace({'*': np.nan})\n",
    "cleaned_wage['H_MEAN'] = cleaned_wage['H_MEAN'].replace({'#' : np.nan})"
   ]
  },
  {
   "cell_type": "markdown",
   "id": "d59f01fe-9ce8-4e69-b533-08f29c9e94b8",
   "metadata": {},
   "source": [
    "## Filtering the dataframe based on specific data elements"
   ]
  },
  {
   "cell_type": "code",
   "execution_count": 69,
   "id": "5f80c32d-96e4-4215-9dba-a3c193461d23",
   "metadata": {},
   "outputs": [],
   "source": [
    "cleaned_wage = cleaned_wage[['AREA_TITLE','OCC_CODE','OCC_TITLE','H_MEAN']]"
   ]
  },
  {
   "cell_type": "markdown",
   "id": "e609a80e-80a6-450a-b0bb-52a514bdbed9",
   "metadata": {},
   "source": [
    "## Filter data only related to California"
   ]
  },
  {
   "cell_type": "code",
   "execution_count": 70,
   "id": "26bc7caa-f55f-4310-8074-53607fa18c2f",
   "metadata": {},
   "outputs": [],
   "source": [
    "cleaned_wage = cleaned_wage[cleaned_wage['AREA_TITLE'] == 'California']"
   ]
  },
  {
   "cell_type": "markdown",
   "id": "61a15597-272a-4027-8b2d-611a9fadc457",
   "metadata": {},
   "source": [
    "\n",
    "## Dropping NaN values"
   ]
  },
  {
   "cell_type": "code",
   "execution_count": 71,
   "id": "3b20cf94-5719-4477-b3ba-0f34fbb36d42",
   "metadata": {},
   "outputs": [],
   "source": [
    "cleaned_wage = cleaned_wage.dropna()"
   ]
  },
  {
   "cell_type": "markdown",
   "id": "68ecaf12-de85-4ed9-83eb-a0fc04312ffa",
   "metadata": {},
   "source": [
    "## Visually assessing that all values lie within an expected range using a historgram"
   ]
  },
  {
   "cell_type": "code",
   "execution_count": 73,
   "id": "929f2e10-6f79-4ead-b647-32fa77926cf4",
   "metadata": {},
   "outputs": [
    {
     "data": {
      "image/png": "[encoded data removed]",
      "text/plain": [
       "<Figure size 640x480 with 1 Axes>"
      ]
     },
     "metadata": {
      "image/png": {
       "height": 413,
       "width": 583
      }
     },
     "output_type": "display_data"
    }
   ],
   "source": [
    "cleaned_wage['H_MEAN'].plot.hist(bins=12,alpha=0.5);"
   ]
  },
  {
   "cell_type": "markdown",
   "id": "017e0d38-12ba-465d-b664-f80921dfbe39",
   "metadata": {},
   "source": [
    "# Programmetic Asserts"
   ]
  },
  {
   "cell_type": "markdown",
   "id": "4fb0de2c-f4f2-4dff-9e43-8bbb3101e14a",
   "metadata": {},
   "source": [
    "The `assert` keyword can be used to ensure the restuls of the cleaning are correct. If something was not cleaned properly, the statement will raise an exception. The test cases can be built based on how the cleaning was done."
   ]
  },
  {
   "cell_type": "code",
   "execution_count": 74,
   "id": "015dab42-bd32-4abf-aabd-5ef7afdd6c2c",
   "metadata": {},
   "outputs": [
    {
     "name": "stdout",
     "output_type": "stream",
     "text": [
      "<class 'pandas.core.frame.DataFrame'>\n",
      "Index: 22353 entries, 1 to 24872\n",
      "Data columns (total 3 columns):\n",
      " #   Column  Non-Null Count  Dtype \n",
      "---  ------  --------------  ----- \n",
      " 0   WRK     22353 non-null  object\n",
      " 1   SEX     22353 non-null  object\n",
      " 2   SOCP    22353 non-null  object\n",
      "dtypes: object(3)\n",
      "memory usage: 1.2+ MB\n"
     ]
    }
   ],
   "source": [
    "cleaned_pums.info()"
   ]
  },
  {
   "cell_type": "markdown",
   "id": "a4440763-7f0f-401a-b14c-28b5dab4aac2",
   "metadata": {},
   "source": [
    "## For `PUMS` dataset"
   ]
  },
  {
   "cell_type": "markdown",
   "id": "4b4ec9f9-1cc7-4aac-b99e-ffabd99f536e",
   "metadata": {},
   "source": [
    "### Checking the column data types are accuracte"
   ]
  },
  {
   "cell_type": "code",
   "execution_count": 76,
   "id": "d37031d0-424e-4274-8fa5-f946dc94d9fd",
   "metadata": {},
   "outputs": [],
   "source": [
    "assert cleaned_pums['WRK'].dtype == 'object'\n",
    "assert cleaned_pums['SEX'].dtype == 'object'\n",
    "assert cleaned_pums['SOCP'].dtype == 'object'"
   ]
  },
  {
   "cell_type": "markdown",
   "id": "a6d65bf8-84f4-4d95-9584-e81574632dfb",
   "metadata": {},
   "source": [
    "### Checking the number of NaN values is 0"
   ]
  },
  {
   "cell_type": "code",
   "execution_count": 85,
   "id": "61b06d0e-7de3-4d48-a1fd-3c992325ad49",
   "metadata": {},
   "outputs": [],
   "source": [
    "assert cleaned_pums.isna().sum().sum() == 0"
   ]
  },
  {
   "cell_type": "markdown",
   "id": "5b724258-e004-4a08-aaf1-630757e2c5b4",
   "metadata": {},
   "source": [
    "## For the `OEWS` dataset"
   ]
  },
  {
   "cell_type": "markdown",
   "id": "ae4fa41b-f0f7-44fd-a84b-3afe6c91f625",
   "metadata": {},
   "source": [
    "### Checking the column data type is accurate"
   ]
  },
  {
   "cell_type": "code",
   "execution_count": 86,
   "id": "f6e4a3a0-8e41-43e1-9623-20f87d353699",
   "metadata": {},
   "outputs": [],
   "source": [
    "assert cleaned_wage['H_MEAN'].dtype == 'float'"
   ]
  },
  {
   "cell_type": "markdown",
   "id": "53a2cf06-a5f5-4f4d-bf00-e1509a83148d",
   "metadata": {},
   "source": [
    "### Checking the number of NaN values is 0"
   ]
  },
  {
   "cell_type": "code",
   "execution_count": 88,
   "id": "4128ac1e-5812-44ba-95ff-f0ea50cae887",
   "metadata": {},
   "outputs": [],
   "source": [
    "assert cleaned_wage.isna().sum().sum() == 0"
   ]
  },
  {
   "cell_type": "markdown",
   "id": "00f85241-c212-4279-a2f3-1a5f1bf90a2e",
   "metadata": {},
   "source": [
    "### Checking to see if all `H_MEAN`  values are under 150"
   ]
  },
  {
   "cell_type": "code",
   "execution_count": 91,
   "id": "eded2faa-3bd2-486f-bee1-428b2b5396dc",
   "metadata": {},
   "outputs": [
    {
     "ename": "AssertionError",
     "evalue": "",
     "output_type": "error",
     "traceback": [
      "\u001b[1;31m---------------------------------------------------------------------------\u001b[0m",
      "\u001b[1;31mAssertionError\u001b[0m                            Traceback (most recent call last)",
      "Cell \u001b[1;32mIn[91], line 1\u001b[0m\n\u001b[1;32m----> 1\u001b[0m \u001b[38;5;28;01massert\u001b[39;00m (cleaned_wage[\u001b[38;5;124m'\u001b[39m\u001b[38;5;124mH_MEAN\u001b[39m\u001b[38;5;124m'\u001b[39m]\u001b[38;5;241m<\u001b[39m\u001b[38;5;241m=\u001b[39m \u001b[38;5;241m150\u001b[39m)\u001b[38;5;241m.\u001b[39mall()\n",
      "\u001b[1;31mAssertionError\u001b[0m: "
     ]
    }
   ],
   "source": [
    "assert (cleaned_wage['H_MEAN']<= 150).all()"
   ]
  },
  {
   "cell_type": "code",
   "execution_count": 92,
   "id": "993566a8-d894-451a-8157-f7d29124c490",
   "metadata": {},
   "outputs": [
    {
     "data": {
      "text/html": [
       "<div>\n",
       "<style scoped>\n",
       "    .dataframe tbody tr th:only-of-type {\n",
       "        vertical-align: middle;\n",
       "    }\n",
       "\n",
       "    .dataframe tbody tr th {\n",
       "        vertical-align: top;\n",
       "    }\n",
       "\n",
       "    .dataframe thead th {\n",
       "        text-align: right;\n",
       "    }\n",
       "</style>\n",
       "<table border=\"1\" class=\"dataframe\">\n",
       "  <thead>\n",
       "    <tr style=\"text-align: right;\">\n",
       "      <th></th>\n",
       "      <th>H_MEAN</th>\n",
       "    </tr>\n",
       "  </thead>\n",
       "  <tbody>\n",
       "    <tr>\n",
       "      <th>count</th>\n",
       "      <td>3209.000000</td>\n",
       "    </tr>\n",
       "    <tr>\n",
       "      <th>mean</th>\n",
       "      <td>34.892412</td>\n",
       "    </tr>\n",
       "    <tr>\n",
       "      <th>std</th>\n",
       "      <td>18.858344</td>\n",
       "    </tr>\n",
       "    <tr>\n",
       "      <th>min</th>\n",
       "      <td>14.140000</td>\n",
       "    </tr>\n",
       "    <tr>\n",
       "      <th>25%</th>\n",
       "      <td>21.220000</td>\n",
       "    </tr>\n",
       "    <tr>\n",
       "      <th>50%</th>\n",
       "      <td>29.100000</td>\n",
       "    </tr>\n",
       "    <tr>\n",
       "      <th>75%</th>\n",
       "      <td>43.740000</td>\n",
       "    </tr>\n",
       "    <tr>\n",
       "      <th>max</th>\n",
       "      <td>156.040000</td>\n",
       "    </tr>\n",
       "  </tbody>\n",
       "</table>\n",
       "</div>"
      ],
      "text/plain": [
       "            H_MEAN\n",
       "count  3209.000000\n",
       "mean     34.892412\n",
       "std      18.858344\n",
       "min      14.140000\n",
       "25%      21.220000\n",
       "50%      29.100000\n",
       "75%      43.740000\n",
       "max     156.040000"
      ]
     },
     "execution_count": 92,
     "metadata": {},
     "output_type": "execute_result"
    }
   ],
   "source": [
    "cleaned_wage.describe()"
   ]
  },
  {
   "cell_type": "markdown",
   "id": "86f18f42-017c-4ecc-9b8f-e524d9bf8deb",
   "metadata": {},
   "source": [
    "It failed because there is a value at 156"
   ]
  }
 ],
 "metadata": {
  "kernelspec": {
   "display_name": "Python 3 (ipykernel)",
   "language": "python",
   "name": "python3"
  },
  "language_info": {
   "codemirror_mode": {
    "name": "ipython",
    "version": 3
   },
   "file_extension": ".py",
   "mimetype": "text/x-python",
   "name": "python",
   "nbconvert_exporter": "python",
   "pygments_lexer": "ipython3",
   "version": "3.12.3"
  }
 },
 "nbformat": 4,
 "nbformat_minor": 5
}
