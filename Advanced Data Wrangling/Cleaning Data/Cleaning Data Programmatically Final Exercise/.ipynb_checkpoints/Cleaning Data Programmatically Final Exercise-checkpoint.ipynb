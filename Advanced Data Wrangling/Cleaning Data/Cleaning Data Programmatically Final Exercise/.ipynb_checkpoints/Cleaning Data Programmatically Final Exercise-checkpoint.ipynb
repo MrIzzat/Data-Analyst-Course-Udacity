{
 "cells": [
  {
   "cell_type": "markdown",
   "id": "364ebf4b-e8de-48c0-9ebb-a92782613dc1",
   "metadata": {},
   "source": [
    "# Import Libraries"
   ]
  },
  {
   "cell_type": "code",
   "execution_count": 2,
   "id": "b37387fb-ed4a-42c7-867d-d15f10d60483",
   "metadata": {},
   "outputs": [],
   "source": [
    "import pandas as pd\n",
    "import numpy as np"
   ]
  },
  {
   "cell_type": "markdown",
   "id": "ff5bef22-1095-48b6-aa5d-59fdf71d2271",
   "metadata": {},
   "source": [
    "# Load Dataset"
   ]
  },
  {
   "cell_type": "code",
   "execution_count": 3,
   "id": "ac5c77f4-7907-45fc-9707-2a907fed3488",
   "metadata": {},
   "outputs": [],
   "source": [
    "oews_data = pd.read_excel(\"./oes_research_2021_sec_55-56.xlsx\")\n",
    "cleaned_pums = pd.read_csv('./cleaned_pums_2021.csv')"
   ]
  },
  {
   "cell_type": "markdown",
   "id": "cb9e608f-1dc3-43b5-9173-9cde8b753d4d",
   "metadata": {},
   "source": [
    "# Inspecting the datasets"
   ]
  },
  {
   "cell_type": "code",
   "execution_count": 4,
   "id": "7fe416f7-3313-4681-92b1-5a690e02340b",
   "metadata": {},
   "outputs": [
    {
     "data": {
      "text/html": [
       "<div>\n",
       "<style scoped>\n",
       "    .dataframe tbody tr th:only-of-type {\n",
       "        vertical-align: middle;\n",
       "    }\n",
       "\n",
       "    .dataframe tbody tr th {\n",
       "        vertical-align: top;\n",
       "    }\n",
       "\n",
       "    .dataframe thead th {\n",
       "        text-align: right;\n",
       "    }\n",
       "</style>\n",
       "<table border=\"1\" class=\"dataframe\">\n",
       "  <thead>\n",
       "    <tr style=\"text-align: right;\">\n",
       "      <th></th>\n",
       "      <th>AREA</th>\n",
       "      <th>AREA_TITLE</th>\n",
       "      <th>NAICS</th>\n",
       "      <th>NAICS_TITLE</th>\n",
       "      <th>I_GROUP</th>\n",
       "      <th>OCC_CODE</th>\n",
       "      <th>OCC_TITLE</th>\n",
       "      <th>O_GROUP</th>\n",
       "      <th>TOT_EMP</th>\n",
       "      <th>EMP_PRSE</th>\n",
       "      <th>...</th>\n",
       "      <th>H_MEDIAN</th>\n",
       "      <th>H_PCT75</th>\n",
       "      <th>H_PCT90</th>\n",
       "      <th>A_PCT10</th>\n",
       "      <th>A_PCT25</th>\n",
       "      <th>A_MEDIAN</th>\n",
       "      <th>A_PCT75</th>\n",
       "      <th>A_PCT90</th>\n",
       "      <th>ANNUAL</th>\n",
       "      <th>HOURLY</th>\n",
       "    </tr>\n",
       "  </thead>\n",
       "  <tbody>\n",
       "    <tr>\n",
       "      <th>0</th>\n",
       "      <td>1</td>\n",
       "      <td>Alabama</td>\n",
       "      <td>55</td>\n",
       "      <td>Management of Companies and Enterprises</td>\n",
       "      <td>sector</td>\n",
       "      <td>00-0000</td>\n",
       "      <td>All Occupations</td>\n",
       "      <td>total</td>\n",
       "      <td>21920</td>\n",
       "      <td>0</td>\n",
       "      <td>...</td>\n",
       "      <td>35.6</td>\n",
       "      <td>56.94</td>\n",
       "      <td>79.49</td>\n",
       "      <td>35470</td>\n",
       "      <td>47040</td>\n",
       "      <td>74050</td>\n",
       "      <td>118440</td>\n",
       "      <td>165330</td>\n",
       "      <td>NaN</td>\n",
       "      <td>NaN</td>\n",
       "    </tr>\n",
       "    <tr>\n",
       "      <th>1</th>\n",
       "      <td>1</td>\n",
       "      <td>Alabama</td>\n",
       "      <td>55</td>\n",
       "      <td>Management of Companies and Enterprises</td>\n",
       "      <td>sector</td>\n",
       "      <td>11-0000</td>\n",
       "      <td>Management Occupations</td>\n",
       "      <td>major</td>\n",
       "      <td>4820</td>\n",
       "      <td>4.1</td>\n",
       "      <td>...</td>\n",
       "      <td>61.13</td>\n",
       "      <td>92.03</td>\n",
       "      <td>#</td>\n",
       "      <td>61600</td>\n",
       "      <td>94020</td>\n",
       "      <td>127140</td>\n",
       "      <td>191420</td>\n",
       "      <td>#</td>\n",
       "      <td>NaN</td>\n",
       "      <td>NaN</td>\n",
       "    </tr>\n",
       "    <tr>\n",
       "      <th>2</th>\n",
       "      <td>1</td>\n",
       "      <td>Alabama</td>\n",
       "      <td>55</td>\n",
       "      <td>Management of Companies and Enterprises</td>\n",
       "      <td>sector</td>\n",
       "      <td>11-1021</td>\n",
       "      <td>General and Operations Managers</td>\n",
       "      <td>detailed</td>\n",
       "      <td>1600</td>\n",
       "      <td>7</td>\n",
       "      <td>...</td>\n",
       "      <td>60.5</td>\n",
       "      <td>#</td>\n",
       "      <td>#</td>\n",
       "      <td>60010</td>\n",
       "      <td>78520</td>\n",
       "      <td>125850</td>\n",
       "      <td>#</td>\n",
       "      <td>#</td>\n",
       "      <td>NaN</td>\n",
       "      <td>NaN</td>\n",
       "    </tr>\n",
       "    <tr>\n",
       "      <th>3</th>\n",
       "      <td>1</td>\n",
       "      <td>Alabama</td>\n",
       "      <td>55</td>\n",
       "      <td>Management of Companies and Enterprises</td>\n",
       "      <td>sector</td>\n",
       "      <td>11-2021</td>\n",
       "      <td>Marketing Managers</td>\n",
       "      <td>detailed</td>\n",
       "      <td>140</td>\n",
       "      <td>13.6</td>\n",
       "      <td>...</td>\n",
       "      <td>61.13</td>\n",
       "      <td>99.23</td>\n",
       "      <td>#</td>\n",
       "      <td>65240</td>\n",
       "      <td>98680</td>\n",
       "      <td>127140</td>\n",
       "      <td>206410</td>\n",
       "      <td>#</td>\n",
       "      <td>NaN</td>\n",
       "      <td>NaN</td>\n",
       "    </tr>\n",
       "    <tr>\n",
       "      <th>4</th>\n",
       "      <td>1</td>\n",
       "      <td>Alabama</td>\n",
       "      <td>55</td>\n",
       "      <td>Management of Companies and Enterprises</td>\n",
       "      <td>sector</td>\n",
       "      <td>11-2022</td>\n",
       "      <td>Sales Managers</td>\n",
       "      <td>detailed</td>\n",
       "      <td>140</td>\n",
       "      <td>14.7</td>\n",
       "      <td>...</td>\n",
       "      <td>49.56</td>\n",
       "      <td>77.94</td>\n",
       "      <td>#</td>\n",
       "      <td>59390</td>\n",
       "      <td>79010</td>\n",
       "      <td>103080</td>\n",
       "      <td>162110</td>\n",
       "      <td>#</td>\n",
       "      <td>NaN</td>\n",
       "      <td>NaN</td>\n",
       "    </tr>\n",
       "  </tbody>\n",
       "</table>\n",
       "<p>5 rows × 26 columns</p>\n",
       "</div>"
      ],
      "text/plain": [
       "   AREA AREA_TITLE  NAICS                              NAICS_TITLE I_GROUP  \\\n",
       "0     1    Alabama     55  Management of Companies and Enterprises  sector   \n",
       "1     1    Alabama     55  Management of Companies and Enterprises  sector   \n",
       "2     1    Alabama     55  Management of Companies and Enterprises  sector   \n",
       "3     1    Alabama     55  Management of Companies and Enterprises  sector   \n",
       "4     1    Alabama     55  Management of Companies and Enterprises  sector   \n",
       "\n",
       "  OCC_CODE                        OCC_TITLE   O_GROUP TOT_EMP EMP_PRSE  ...  \\\n",
       "0  00-0000                  All Occupations     total   21920        0  ...   \n",
       "1  11-0000           Management Occupations     major    4820      4.1  ...   \n",
       "2  11-1021  General and Operations Managers  detailed    1600        7  ...   \n",
       "3  11-2021               Marketing Managers  detailed     140     13.6  ...   \n",
       "4  11-2022                   Sales Managers  detailed     140     14.7  ...   \n",
       "\n",
       "  H_MEDIAN H_PCT75 H_PCT90 A_PCT10 A_PCT25 A_MEDIAN A_PCT75 A_PCT90 ANNUAL  \\\n",
       "0     35.6   56.94   79.49   35470   47040    74050  118440  165330    NaN   \n",
       "1    61.13   92.03       #   61600   94020   127140  191420       #    NaN   \n",
       "2     60.5       #       #   60010   78520   125850       #       #    NaN   \n",
       "3    61.13   99.23       #   65240   98680   127140  206410       #    NaN   \n",
       "4    49.56   77.94       #   59390   79010   103080  162110       #    NaN   \n",
       "\n",
       "  HOURLY  \n",
       "0    NaN  \n",
       "1    NaN  \n",
       "2    NaN  \n",
       "3    NaN  \n",
       "4    NaN  \n",
       "\n",
       "[5 rows x 26 columns]"
      ]
     },
     "execution_count": 4,
     "metadata": {},
     "output_type": "execute_result"
    }
   ],
   "source": [
    "oews_data.head()"
   ]
  },
  {
   "cell_type": "code",
   "execution_count": 5,
   "id": "c8941462-cb39-4ab6-8755-6b1fafa80abf",
   "metadata": {},
   "outputs": [
    {
     "data": {
      "text/html": [
       "<div>\n",
       "<style scoped>\n",
       "    .dataframe tbody tr th:only-of-type {\n",
       "        vertical-align: middle;\n",
       "    }\n",
       "\n",
       "    .dataframe tbody tr th {\n",
       "        vertical-align: top;\n",
       "    }\n",
       "\n",
       "    .dataframe thead th {\n",
       "        text-align: right;\n",
       "    }\n",
       "</style>\n",
       "<table border=\"1\" class=\"dataframe\">\n",
       "  <thead>\n",
       "    <tr style=\"text-align: right;\">\n",
       "      <th></th>\n",
       "      <th>WRK</th>\n",
       "      <th>SEX</th>\n",
       "      <th>SOCP</th>\n",
       "    </tr>\n",
       "  </thead>\n",
       "  <tbody>\n",
       "    <tr>\n",
       "      <th>0</th>\n",
       "      <td>1</td>\n",
       "      <td>2</td>\n",
       "      <td>119151</td>\n",
       "    </tr>\n",
       "    <tr>\n",
       "      <th>1</th>\n",
       "      <td>2</td>\n",
       "      <td>1</td>\n",
       "      <td>119111</td>\n",
       "    </tr>\n",
       "    <tr>\n",
       "      <th>2</th>\n",
       "      <td>1</td>\n",
       "      <td>2</td>\n",
       "      <td>113121</td>\n",
       "    </tr>\n",
       "    <tr>\n",
       "      <th>3</th>\n",
       "      <td>1</td>\n",
       "      <td>1</td>\n",
       "      <td>1110XX</td>\n",
       "    </tr>\n",
       "    <tr>\n",
       "      <th>4</th>\n",
       "      <td>1</td>\n",
       "      <td>1</td>\n",
       "      <td>113051</td>\n",
       "    </tr>\n",
       "  </tbody>\n",
       "</table>\n",
       "</div>"
      ],
      "text/plain": [
       "   WRK  SEX    SOCP\n",
       "0    1    2  119151\n",
       "1    2    1  119111\n",
       "2    1    2  113121\n",
       "3    1    1  1110XX\n",
       "4    1    1  113051"
      ]
     },
     "execution_count": 5,
     "metadata": {},
     "output_type": "execute_result"
    }
   ],
   "source": [
    "cleaned_pums.head()"
   ]
  },
  {
   "cell_type": "markdown",
   "id": "a3455b5f-8e41-4700-a130-c1ab838f7ce7",
   "metadata": {},
   "source": [
    "# 1. Cleaning the Data Tidiness Issues"
   ]
  },
  {
   "cell_type": "markdown",
   "id": "c70fd23c-c864-4f63-b355-769f0ce941ee",
   "metadata": {},
   "source": [
    "## 1.1 Making a copy of the `OEWS` data"
   ]
  },
  {
   "cell_type": "code",
   "execution_count": 6,
   "id": "8c7859b5-a703-4d2c-82f0-e7489dc602a7",
   "metadata": {},
   "outputs": [],
   "source": [
    "cleaned_wage = oews_data.copy()"
   ]
  },
  {
   "cell_type": "markdown",
   "id": "510a2e32-ae64-490b-9f40-e4a910ba9131",
   "metadata": {},
   "source": [
    "## 1.2 Cleaning teh tidiness issues"
   ]
  },
  {
   "cell_type": "markdown",
   "id": "6df0edca-a695-4302-88d3-01ea07bc3ffd",
   "metadata": {},
   "source": [
    "For the `OEWS` dataset, the following columns should be kept for California:\n",
    "\n",
    "- `Area_Title`\r\n",
    "- `OCC_CODE`\r\n",
    "- `OCC_TITLE`\r\n",
    "- `H_MEAN`"
   ]
  },
  {
   "cell_type": "markdown",
   "id": "cc4c85ee-83fc-4c60-832a-4854371ee5fa",
   "metadata": {},
   "source": [
    "### Getting the data where the area is in California"
   ]
  },
  {
   "cell_type": "code",
   "execution_count": 8,
   "id": "33bfd186-4fce-4f41-94b6-2a0e465e4e94",
   "metadata": {},
   "outputs": [],
   "source": [
    "cleaned_wage = cleaned_wage.loc[cleaned_wage['AREA_TITLE'] == 'California']"
   ]
  },
  {
   "cell_type": "code",
   "execution_count": 9,
   "id": "022db7cd-92ae-4de1-a160-be46933b4a38",
   "metadata": {},
   "outputs": [
    {
     "data": {
      "text/html": [
       "<div>\n",
       "<style scoped>\n",
       "    .dataframe tbody tr th:only-of-type {\n",
       "        vertical-align: middle;\n",
       "    }\n",
       "\n",
       "    .dataframe tbody tr th {\n",
       "        vertical-align: top;\n",
       "    }\n",
       "\n",
       "    .dataframe thead th {\n",
       "        text-align: right;\n",
       "    }\n",
       "</style>\n",
       "<table border=\"1\" class=\"dataframe\">\n",
       "  <thead>\n",
       "    <tr style=\"text-align: right;\">\n",
       "      <th></th>\n",
       "      <th>AREA</th>\n",
       "      <th>AREA_TITLE</th>\n",
       "      <th>NAICS</th>\n",
       "      <th>NAICS_TITLE</th>\n",
       "      <th>I_GROUP</th>\n",
       "      <th>OCC_CODE</th>\n",
       "      <th>OCC_TITLE</th>\n",
       "      <th>O_GROUP</th>\n",
       "      <th>TOT_EMP</th>\n",
       "      <th>EMP_PRSE</th>\n",
       "      <th>...</th>\n",
       "      <th>H_MEDIAN</th>\n",
       "      <th>H_PCT75</th>\n",
       "      <th>H_PCT90</th>\n",
       "      <th>A_PCT10</th>\n",
       "      <th>A_PCT25</th>\n",
       "      <th>A_MEDIAN</th>\n",
       "      <th>A_PCT75</th>\n",
       "      <th>A_PCT90</th>\n",
       "      <th>ANNUAL</th>\n",
       "      <th>HOURLY</th>\n",
       "    </tr>\n",
       "  </thead>\n",
       "  <tbody>\n",
       "    <tr>\n",
       "      <th>377</th>\n",
       "      <td>6</td>\n",
       "      <td>California</td>\n",
       "      <td>55</td>\n",
       "      <td>Management of Companies and Enterprises</td>\n",
       "      <td>sector</td>\n",
       "      <td>00-0000</td>\n",
       "      <td>All Occupations</td>\n",
       "      <td>total</td>\n",
       "      <td>253120</td>\n",
       "      <td>0</td>\n",
       "      <td>...</td>\n",
       "      <td>39.94</td>\n",
       "      <td>62.56</td>\n",
       "      <td>92.38</td>\n",
       "      <td>38260</td>\n",
       "      <td>59640</td>\n",
       "      <td>83070</td>\n",
       "      <td>130120</td>\n",
       "      <td>192150</td>\n",
       "      <td>NaN</td>\n",
       "      <td>NaN</td>\n",
       "    </tr>\n",
       "    <tr>\n",
       "      <th>378</th>\n",
       "      <td>6</td>\n",
       "      <td>California</td>\n",
       "      <td>55</td>\n",
       "      <td>Management of Companies and Enterprises</td>\n",
       "      <td>sector</td>\n",
       "      <td>11-0000</td>\n",
       "      <td>Management Occupations</td>\n",
       "      <td>major</td>\n",
       "      <td>54180</td>\n",
       "      <td>2.3</td>\n",
       "      <td>...</td>\n",
       "      <td>77.52</td>\n",
       "      <td>99.57</td>\n",
       "      <td>#</td>\n",
       "      <td>95140</td>\n",
       "      <td>120800</td>\n",
       "      <td>161230</td>\n",
       "      <td>207110</td>\n",
       "      <td>#</td>\n",
       "      <td>NaN</td>\n",
       "      <td>NaN</td>\n",
       "    </tr>\n",
       "    <tr>\n",
       "      <th>379</th>\n",
       "      <td>6</td>\n",
       "      <td>California</td>\n",
       "      <td>55</td>\n",
       "      <td>Management of Companies and Enterprises</td>\n",
       "      <td>sector</td>\n",
       "      <td>11-1011</td>\n",
       "      <td>Chief Executives</td>\n",
       "      <td>detailed</td>\n",
       "      <td>2090</td>\n",
       "      <td>11.2</td>\n",
       "      <td>...</td>\n",
       "      <td>#</td>\n",
       "      <td>#</td>\n",
       "      <td>#</td>\n",
       "      <td>95610</td>\n",
       "      <td>163670</td>\n",
       "      <td>#</td>\n",
       "      <td>#</td>\n",
       "      <td>#</td>\n",
       "      <td>NaN</td>\n",
       "      <td>NaN</td>\n",
       "    </tr>\n",
       "    <tr>\n",
       "      <th>380</th>\n",
       "      <td>6</td>\n",
       "      <td>California</td>\n",
       "      <td>55</td>\n",
       "      <td>Management of Companies and Enterprises</td>\n",
       "      <td>sector</td>\n",
       "      <td>11-1021</td>\n",
       "      <td>General and Operations Managers</td>\n",
       "      <td>detailed</td>\n",
       "      <td>7090</td>\n",
       "      <td>5.8</td>\n",
       "      <td>...</td>\n",
       "      <td>80.69</td>\n",
       "      <td>#</td>\n",
       "      <td>#</td>\n",
       "      <td>83120</td>\n",
       "      <td>125110</td>\n",
       "      <td>167840</td>\n",
       "      <td>#</td>\n",
       "      <td>#</td>\n",
       "      <td>NaN</td>\n",
       "      <td>NaN</td>\n",
       "    </tr>\n",
       "    <tr>\n",
       "      <th>381</th>\n",
       "      <td>6</td>\n",
       "      <td>California</td>\n",
       "      <td>55</td>\n",
       "      <td>Management of Companies and Enterprises</td>\n",
       "      <td>sector</td>\n",
       "      <td>11-2011</td>\n",
       "      <td>Advertising and Promotions Managers</td>\n",
       "      <td>detailed</td>\n",
       "      <td>650</td>\n",
       "      <td>19</td>\n",
       "      <td>...</td>\n",
       "      <td>65.77</td>\n",
       "      <td>78.75</td>\n",
       "      <td>#</td>\n",
       "      <td>100340</td>\n",
       "      <td>120130</td>\n",
       "      <td>136790</td>\n",
       "      <td>163800</td>\n",
       "      <td>#</td>\n",
       "      <td>NaN</td>\n",
       "      <td>NaN</td>\n",
       "    </tr>\n",
       "  </tbody>\n",
       "</table>\n",
       "<p>5 rows × 26 columns</p>\n",
       "</div>"
      ],
      "text/plain": [
       "     AREA  AREA_TITLE  NAICS                              NAICS_TITLE I_GROUP  \\\n",
       "377     6  California     55  Management of Companies and Enterprises  sector   \n",
       "378     6  California     55  Management of Companies and Enterprises  sector   \n",
       "379     6  California     55  Management of Companies and Enterprises  sector   \n",
       "380     6  California     55  Management of Companies and Enterprises  sector   \n",
       "381     6  California     55  Management of Companies and Enterprises  sector   \n",
       "\n",
       "    OCC_CODE                            OCC_TITLE   O_GROUP TOT_EMP EMP_PRSE  \\\n",
       "377  00-0000                      All Occupations     total  253120        0   \n",
       "378  11-0000               Management Occupations     major   54180      2.3   \n",
       "379  11-1011                     Chief Executives  detailed    2090     11.2   \n",
       "380  11-1021      General and Operations Managers  detailed    7090      5.8   \n",
       "381  11-2011  Advertising and Promotions Managers  detailed     650       19   \n",
       "\n",
       "     ... H_MEDIAN H_PCT75 H_PCT90 A_PCT10 A_PCT25 A_MEDIAN A_PCT75 A_PCT90  \\\n",
       "377  ...    39.94   62.56   92.38   38260   59640    83070  130120  192150   \n",
       "378  ...    77.52   99.57       #   95140  120800   161230  207110       #   \n",
       "379  ...        #       #       #   95610  163670        #       #       #   \n",
       "380  ...    80.69       #       #   83120  125110   167840       #       #   \n",
       "381  ...    65.77   78.75       #  100340  120130   136790  163800       #   \n",
       "\n",
       "    ANNUAL HOURLY  \n",
       "377    NaN    NaN  \n",
       "378    NaN    NaN  \n",
       "379    NaN    NaN  \n",
       "380    NaN    NaN  \n",
       "381    NaN    NaN  \n",
       "\n",
       "[5 rows x 26 columns]"
      ]
     },
     "execution_count": 9,
     "metadata": {},
     "output_type": "execute_result"
    }
   ],
   "source": [
    "cleaned_wage.head()"
   ]
  },
  {
   "cell_type": "markdown",
   "id": "f27b0fe8-c576-4150-81b4-32630081139e",
   "metadata": {},
   "source": [
    "### Filtering the dataframe to keep only specific columns"
   ]
  },
  {
   "cell_type": "code",
   "execution_count": 10,
   "id": "c48107c4-4b72-4eb2-a6fa-1f2d3384d8ad",
   "metadata": {},
   "outputs": [],
   "source": [
    "cleaned_wage = cleaned_wage[['AREA_TITLE','OCC_CODE','OCC_TITLE','H_MEAN']]"
   ]
  },
  {
   "cell_type": "code",
   "execution_count": 11,
   "id": "62b8f305-f147-44fd-953d-8e46acad4123",
   "metadata": {},
   "outputs": [
    {
     "data": {
      "text/html": [
       "<div>\n",
       "<style scoped>\n",
       "    .dataframe tbody tr th:only-of-type {\n",
       "        vertical-align: middle;\n",
       "    }\n",
       "\n",
       "    .dataframe tbody tr th {\n",
       "        vertical-align: top;\n",
       "    }\n",
       "\n",
       "    .dataframe thead th {\n",
       "        text-align: right;\n",
       "    }\n",
       "</style>\n",
       "<table border=\"1\" class=\"dataframe\">\n",
       "  <thead>\n",
       "    <tr style=\"text-align: right;\">\n",
       "      <th></th>\n",
       "      <th>AREA_TITLE</th>\n",
       "      <th>OCC_CODE</th>\n",
       "      <th>OCC_TITLE</th>\n",
       "      <th>H_MEAN</th>\n",
       "    </tr>\n",
       "  </thead>\n",
       "  <tbody>\n",
       "    <tr>\n",
       "      <th>377</th>\n",
       "      <td>California</td>\n",
       "      <td>00-0000</td>\n",
       "      <td>All Occupations</td>\n",
       "      <td>50.16</td>\n",
       "    </tr>\n",
       "    <tr>\n",
       "      <th>378</th>\n",
       "      <td>California</td>\n",
       "      <td>11-0000</td>\n",
       "      <td>Management Occupations</td>\n",
       "      <td>82.61</td>\n",
       "    </tr>\n",
       "    <tr>\n",
       "      <th>379</th>\n",
       "      <td>California</td>\n",
       "      <td>11-1011</td>\n",
       "      <td>Chief Executives</td>\n",
       "      <td>129.7</td>\n",
       "    </tr>\n",
       "    <tr>\n",
       "      <th>380</th>\n",
       "      <td>California</td>\n",
       "      <td>11-1021</td>\n",
       "      <td>General and Operations Managers</td>\n",
       "      <td>87.11</td>\n",
       "    </tr>\n",
       "    <tr>\n",
       "      <th>381</th>\n",
       "      <td>California</td>\n",
       "      <td>11-2011</td>\n",
       "      <td>Advertising and Promotions Managers</td>\n",
       "      <td>74.67</td>\n",
       "    </tr>\n",
       "  </tbody>\n",
       "</table>\n",
       "</div>"
      ],
      "text/plain": [
       "     AREA_TITLE OCC_CODE                            OCC_TITLE H_MEAN\n",
       "377  California  00-0000                      All Occupations  50.16\n",
       "378  California  11-0000               Management Occupations  82.61\n",
       "379  California  11-1011                     Chief Executives  129.7\n",
       "380  California  11-1021      General and Operations Managers  87.11\n",
       "381  California  11-2011  Advertising and Promotions Managers  74.67"
      ]
     },
     "execution_count": 11,
     "metadata": {},
     "output_type": "execute_result"
    }
   ],
   "source": [
    "cleaned_wage.head()"
   ]
  },
  {
   "cell_type": "markdown",
   "id": "5ec5c365-beb0-4290-b737-ce67258c8fc1",
   "metadata": {},
   "source": [
    "### Describing the data"
   ]
  },
  {
   "cell_type": "code",
   "execution_count": 12,
   "id": "0091d317-3db2-4ea1-8e7d-85bef516f6ed",
   "metadata": {},
   "outputs": [
    {
     "name": "stdout",
     "output_type": "stream",
     "text": [
      "<class 'pandas.core.frame.DataFrame'>\n",
      "Index: 3223 entries, 377 to 70411\n",
      "Data columns (total 4 columns):\n",
      " #   Column      Non-Null Count  Dtype \n",
      "---  ------      --------------  ----- \n",
      " 0   AREA_TITLE  3223 non-null   object\n",
      " 1   OCC_CODE    3223 non-null   object\n",
      " 2   OCC_TITLE   3223 non-null   object\n",
      " 3   H_MEAN      3223 non-null   object\n",
      "dtypes: object(4)\n",
      "memory usage: 125.9+ KB\n"
     ]
    }
   ],
   "source": [
    "cleaned_wage.info()"
   ]
  },
  {
   "cell_type": "code",
   "execution_count": 13,
   "id": "8b52ce58-16e4-45a7-b0c2-494ac966511d",
   "metadata": {},
   "outputs": [
    {
     "data": {
      "text/html": [
       "<div>\n",
       "<style scoped>\n",
       "    .dataframe tbody tr th:only-of-type {\n",
       "        vertical-align: middle;\n",
       "    }\n",
       "\n",
       "    .dataframe tbody tr th {\n",
       "        vertical-align: top;\n",
       "    }\n",
       "\n",
       "    .dataframe thead th {\n",
       "        text-align: right;\n",
       "    }\n",
       "</style>\n",
       "<table border=\"1\" class=\"dataframe\">\n",
       "  <thead>\n",
       "    <tr style=\"text-align: right;\">\n",
       "      <th></th>\n",
       "      <th>AREA_TITLE</th>\n",
       "      <th>OCC_CODE</th>\n",
       "      <th>OCC_TITLE</th>\n",
       "      <th>H_MEAN</th>\n",
       "    </tr>\n",
       "  </thead>\n",
       "  <tbody>\n",
       "    <tr>\n",
       "      <th>count</th>\n",
       "      <td>3223</td>\n",
       "      <td>3223</td>\n",
       "      <td>3223</td>\n",
       "      <td>3223.00</td>\n",
       "    </tr>\n",
       "    <tr>\n",
       "      <th>unique</th>\n",
       "      <td>1</td>\n",
       "      <td>436</td>\n",
       "      <td>436</td>\n",
       "      <td>1715.00</td>\n",
       "    </tr>\n",
       "    <tr>\n",
       "      <th>top</th>\n",
       "      <td>California</td>\n",
       "      <td>00-0000</td>\n",
       "      <td>All Occupations</td>\n",
       "      <td>18.89</td>\n",
       "    </tr>\n",
       "    <tr>\n",
       "      <th>freq</th>\n",
       "      <td>3223</td>\n",
       "      <td>22</td>\n",
       "      <td>22</td>\n",
       "      <td>13.00</td>\n",
       "    </tr>\n",
       "  </tbody>\n",
       "</table>\n",
       "</div>"
      ],
      "text/plain": [
       "        AREA_TITLE OCC_CODE        OCC_TITLE   H_MEAN\n",
       "count         3223     3223             3223  3223.00\n",
       "unique           1      436              436  1715.00\n",
       "top     California  00-0000  All Occupations    18.89\n",
       "freq          3223       22               22    13.00"
      ]
     },
     "execution_count": 13,
     "metadata": {},
     "output_type": "execute_result"
    }
   ],
   "source": [
    "cleaned_wage.describe()"
   ]
  },
  {
   "cell_type": "markdown",
   "id": "28f34cc7-653f-4289-b753-deaeac00a6ca",
   "metadata": {},
   "source": [
    "## 1.3 Performing visual inspection on the dataset"
   ]
  },
  {
   "cell_type": "code",
   "execution_count": 14,
   "id": "c1f8aadc-38a2-43c8-a424-8315252ea04a",
   "metadata": {},
   "outputs": [
    {
     "data": {
      "text/html": [
       "<div>\n",
       "<style scoped>\n",
       "    .dataframe tbody tr th:only-of-type {\n",
       "        vertical-align: middle;\n",
       "    }\n",
       "\n",
       "    .dataframe tbody tr th {\n",
       "        vertical-align: top;\n",
       "    }\n",
       "\n",
       "    .dataframe thead th {\n",
       "        text-align: right;\n",
       "    }\n",
       "</style>\n",
       "<table border=\"1\" class=\"dataframe\">\n",
       "  <thead>\n",
       "    <tr style=\"text-align: right;\">\n",
       "      <th></th>\n",
       "      <th>AREA_TITLE</th>\n",
       "      <th>OCC_CODE</th>\n",
       "      <th>OCC_TITLE</th>\n",
       "      <th>H_MEAN</th>\n",
       "    </tr>\n",
       "  </thead>\n",
       "  <tbody>\n",
       "    <tr>\n",
       "      <th>377</th>\n",
       "      <td>California</td>\n",
       "      <td>00-0000</td>\n",
       "      <td>All Occupations</td>\n",
       "      <td>50.16</td>\n",
       "    </tr>\n",
       "    <tr>\n",
       "      <th>378</th>\n",
       "      <td>California</td>\n",
       "      <td>11-0000</td>\n",
       "      <td>Management Occupations</td>\n",
       "      <td>82.61</td>\n",
       "    </tr>\n",
       "    <tr>\n",
       "      <th>379</th>\n",
       "      <td>California</td>\n",
       "      <td>11-1011</td>\n",
       "      <td>Chief Executives</td>\n",
       "      <td>129.7</td>\n",
       "    </tr>\n",
       "    <tr>\n",
       "      <th>380</th>\n",
       "      <td>California</td>\n",
       "      <td>11-1021</td>\n",
       "      <td>General and Operations Managers</td>\n",
       "      <td>87.11</td>\n",
       "    </tr>\n",
       "    <tr>\n",
       "      <th>381</th>\n",
       "      <td>California</td>\n",
       "      <td>11-2011</td>\n",
       "      <td>Advertising and Promotions Managers</td>\n",
       "      <td>74.67</td>\n",
       "    </tr>\n",
       "  </tbody>\n",
       "</table>\n",
       "</div>"
      ],
      "text/plain": [
       "     AREA_TITLE OCC_CODE                            OCC_TITLE H_MEAN\n",
       "377  California  00-0000                      All Occupations  50.16\n",
       "378  California  11-0000               Management Occupations  82.61\n",
       "379  California  11-1011                     Chief Executives  129.7\n",
       "380  California  11-1021      General and Operations Managers  87.11\n",
       "381  California  11-2011  Advertising and Promotions Managers  74.67"
      ]
     },
     "execution_count": 14,
     "metadata": {},
     "output_type": "execute_result"
    }
   ],
   "source": [
    "cleaned_wage.head()"
   ]
  },
  {
   "cell_type": "markdown",
   "id": "7699cf63-8707-4186-92a6-3317ce6bd1a5",
   "metadata": {},
   "source": [
    "The indexes are out of order. They can be placed back in order using the `reset_index()` function. Using the `drop=True` parameter, it ignored the order of the original index and drops it all together."
   ]
  },
  {
   "cell_type": "code",
   "execution_count": 15,
   "id": "424af2b3-5958-4f1d-8a21-d6af89083b3e",
   "metadata": {},
   "outputs": [],
   "source": [
    "cleaned_wage = cleaned_wage.reset_index(drop=True)"
   ]
  },
  {
   "cell_type": "code",
   "execution_count": 16,
   "id": "d5338bdf-b339-4122-a405-075fe1cf6613",
   "metadata": {},
   "outputs": [
    {
     "data": {
      "text/html": [
       "<div>\n",
       "<style scoped>\n",
       "    .dataframe tbody tr th:only-of-type {\n",
       "        vertical-align: middle;\n",
       "    }\n",
       "\n",
       "    .dataframe tbody tr th {\n",
       "        vertical-align: top;\n",
       "    }\n",
       "\n",
       "    .dataframe thead th {\n",
       "        text-align: right;\n",
       "    }\n",
       "</style>\n",
       "<table border=\"1\" class=\"dataframe\">\n",
       "  <thead>\n",
       "    <tr style=\"text-align: right;\">\n",
       "      <th></th>\n",
       "      <th>AREA_TITLE</th>\n",
       "      <th>OCC_CODE</th>\n",
       "      <th>OCC_TITLE</th>\n",
       "      <th>H_MEAN</th>\n",
       "    </tr>\n",
       "  </thead>\n",
       "  <tbody>\n",
       "    <tr>\n",
       "      <th>0</th>\n",
       "      <td>California</td>\n",
       "      <td>00-0000</td>\n",
       "      <td>All Occupations</td>\n",
       "      <td>50.16</td>\n",
       "    </tr>\n",
       "    <tr>\n",
       "      <th>1</th>\n",
       "      <td>California</td>\n",
       "      <td>11-0000</td>\n",
       "      <td>Management Occupations</td>\n",
       "      <td>82.61</td>\n",
       "    </tr>\n",
       "    <tr>\n",
       "      <th>2</th>\n",
       "      <td>California</td>\n",
       "      <td>11-1011</td>\n",
       "      <td>Chief Executives</td>\n",
       "      <td>129.7</td>\n",
       "    </tr>\n",
       "    <tr>\n",
       "      <th>3</th>\n",
       "      <td>California</td>\n",
       "      <td>11-1021</td>\n",
       "      <td>General and Operations Managers</td>\n",
       "      <td>87.11</td>\n",
       "    </tr>\n",
       "    <tr>\n",
       "      <th>4</th>\n",
       "      <td>California</td>\n",
       "      <td>11-2011</td>\n",
       "      <td>Advertising and Promotions Managers</td>\n",
       "      <td>74.67</td>\n",
       "    </tr>\n",
       "  </tbody>\n",
       "</table>\n",
       "</div>"
      ],
      "text/plain": [
       "   AREA_TITLE OCC_CODE                            OCC_TITLE H_MEAN\n",
       "0  California  00-0000                      All Occupations  50.16\n",
       "1  California  11-0000               Management Occupations  82.61\n",
       "2  California  11-1011                     Chief Executives  129.7\n",
       "3  California  11-1021      General and Operations Managers  87.11\n",
       "4  California  11-2011  Advertising and Promotions Managers  74.67"
      ]
     },
     "execution_count": 16,
     "metadata": {},
     "output_type": "execute_result"
    }
   ],
   "source": [
    "cleaned_wage.head()"
   ]
  },
  {
   "cell_type": "markdown",
   "id": "28ddaf81-5b8f-49cb-8d6a-bdb7b9037bf5",
   "metadata": {},
   "source": [
    "# 2. Cleaning the Data Quality Issues"
   ]
  },
  {
   "cell_type": "markdown",
   "id": "8510a892-6d57-499b-aa1b-1b7201ebd7e8",
   "metadata": {},
   "source": [
    "## 2.1 Completeness"
   ]
  },
  {
   "cell_type": "markdown",
   "id": "ef37d2f1-188a-4f9c-8f07-72eb79533b73",
   "metadata": {},
   "source": [
    "There are some missing data in the `OEWS` dataset, causing the `H_MEAN` column to be an object insted of a float. The '*' represents a wage estimate that is not avialable. '#' represents a wage equal or greater than 10 dollars per hour or greater tha 280,000 dollars per year.\n",
    "\n",
    "These should be cleaned."
   ]
  },
  {
   "cell_type": "markdown",
   "id": "d78622d2-4a8e-4898-bbe8-35103969c848",
   "metadata": {},
   "source": [
    "### 2.1.1 Inspecting the data types"
   ]
  },
  {
   "cell_type": "code",
   "execution_count": 18,
   "id": "a9b82903-ab61-42a9-828a-7d33998b81f4",
   "metadata": {},
   "outputs": [
    {
     "data": {
      "text/plain": [
       "AREA_TITLE    object\n",
       "OCC_CODE      object\n",
       "OCC_TITLE     object\n",
       "H_MEAN        object\n",
       "dtype: object"
      ]
     },
     "execution_count": 18,
     "metadata": {},
     "output_type": "execute_result"
    }
   ],
   "source": [
    "cleaned_wage.dtypes"
   ]
  },
  {
   "cell_type": "markdown",
   "id": "ca56ee0d-df1c-4279-b49d-24b5348b4a72",
   "metadata": {},
   "source": [
    "### 2.1.2 Cleaning the missing values and ouliers"
   ]
  },
  {
   "cell_type": "markdown",
   "id": "5806dd9c-b773-4364-b059-715f833a8db4",
   "metadata": {},
   "source": [
    "'*' and '#' values should be replaced with NaN then removed. Finally, the proccess should be confirmed successful through an assertion."
   ]
  },
  {
   "cell_type": "markdown",
   "id": "4420646e-3a5f-4590-b99e-b46fa69fca2e",
   "metadata": {},
   "source": [
    "#### Replacing outliers and missing values with NaN"
   ]
  },
  {
   "cell_type": "code",
   "execution_count": 21,
   "id": "92ba1720-ece7-4399-a3bd-224c6601fbfe",
   "metadata": {},
   "outputs": [
    {
     "name": "stderr",
     "output_type": "stream",
     "text": [
      "C:\\Users\\MrIzzat\\AppData\\Local\\Temp\\ipykernel_28396\\1617752069.py:1: FutureWarning: ChainedAssignmentError: behaviour will change in pandas 3.0!\n",
      "You are setting values through chained assignment. Currently this works in certain cases, but when using Copy-on-Write (which will become the default behaviour in pandas 3.0) this will never work to update the original DataFrame or Series, because the intermediate object on which we are setting values will behave as a copy.\n",
      "A typical example is when you are setting values in a column of a DataFrame, like:\n",
      "\n",
      "df[\"col\"][row_indexer] = value\n",
      "\n",
      "Use `df.loc[row_indexer, \"col\"] = values` instead, to perform the assignment in a single step and ensure this keeps updating the original `df`.\n",
      "\n",
      "See the caveats in the documentation: https://pandas.pydata.org/pandas-docs/stable/user_guide/indexing.html#returning-a-view-versus-a-copy\n",
      "\n",
      "  cleaned_wage['H_MEAN'].loc[cleaned_wage['H_MEAN'].isin(['*'])] = np.nan\n"
     ]
    }
   ],
   "source": [
    "cleaned_wage['H_MEAN'].loc[cleaned_wage['H_MEAN'].isin(['*'])] = np.nan"
   ]
  },
  {
   "cell_type": "code",
   "execution_count": 22,
   "id": "b247c310-6723-479d-ac0c-b9520529b227",
   "metadata": {},
   "outputs": [
    {
     "name": "stderr",
     "output_type": "stream",
     "text": [
      "C:\\Users\\MrIzzat\\AppData\\Local\\Temp\\ipykernel_28396\\3522659392.py:1: FutureWarning: ChainedAssignmentError: behaviour will change in pandas 3.0!\n",
      "You are setting values through chained assignment. Currently this works in certain cases, but when using Copy-on-Write (which will become the default behaviour in pandas 3.0) this will never work to update the original DataFrame or Series, because the intermediate object on which we are setting values will behave as a copy.\n",
      "A typical example is when you are setting values in a column of a DataFrame, like:\n",
      "\n",
      "df[\"col\"][row_indexer] = value\n",
      "\n",
      "Use `df.loc[row_indexer, \"col\"] = values` instead, to perform the assignment in a single step and ensure this keeps updating the original `df`.\n",
      "\n",
      "See the caveats in the documentation: https://pandas.pydata.org/pandas-docs/stable/user_guide/indexing.html#returning-a-view-versus-a-copy\n",
      "\n",
      "  cleaned_wage['H_MEAN'].loc[cleaned_wage['H_MEAN'].isin(['#'])] = np.nan\n"
     ]
    }
   ],
   "source": [
    "cleaned_wage['H_MEAN'].loc[cleaned_wage['H_MEAN'].isin(['#'])] = np.nan"
   ]
  },
  {
   "cell_type": "markdown",
   "id": "f0a4a7e9-0a80-4b03-936c-016c8de9a2f3",
   "metadata": {},
   "source": [
    "#### Confirming the conversion of these values"
   ]
  },
  {
   "cell_type": "code",
   "execution_count": 24,
   "id": "5e205461-30aa-4eb8-9aee-79dd1037c2be",
   "metadata": {},
   "outputs": [],
   "source": [
    "assert cleaned_wage['H_MEAN'].loc[cleaned_wage['H_MEAN'].isin(['#','*'])].sum() == 0"
   ]
  },
  {
   "cell_type": "markdown",
   "id": "096bba71-8474-40b4-a2fd-8740c064ee9c",
   "metadata": {},
   "source": [
    "#### Dropping all NaN values"
   ]
  },
  {
   "cell_type": "code",
   "execution_count": 26,
   "id": "fd46609f-cb65-4610-bc71-e9cccdf40a21",
   "metadata": {},
   "outputs": [],
   "source": [
    "cleaned_wage = cleaned_wage.dropna()"
   ]
  },
  {
   "cell_type": "markdown",
   "id": "bdbcbbf6-27e6-4282-a68a-2ea99b225cb0",
   "metadata": {},
   "source": [
    "#### Confirming no more missing data"
   ]
  },
  {
   "cell_type": "code",
   "execution_count": 30,
   "id": "31147fb8-ab9c-4df8-b80c-9b755a213a65",
   "metadata": {},
   "outputs": [],
   "source": [
    "assert cleaned_wage.isna().sum().sum() == 0"
   ]
  },
  {
   "cell_type": "markdown",
   "id": "f9b29ac2-73f1-4182-9157-27c1e18a045d",
   "metadata": {},
   "source": [
    "#### Converting the `H_MEAN` Column to float"
   ]
  },
  {
   "cell_type": "code",
   "execution_count": 33,
   "id": "11fd41a3-0662-42fd-8dac-418f527b10ef",
   "metadata": {},
   "outputs": [],
   "source": [
    "cleaned_wage['H_MEAN'] = cleaned_wage['H_MEAN'].astype(float)"
   ]
  },
  {
   "cell_type": "markdown",
   "id": "3f8b26e5-0282-4747-9cd0-cf6db0a8041f",
   "metadata": {},
   "source": [
    "#### 2.1.3 Inspecting the cleaned data"
   ]
  },
  {
   "cell_type": "code",
   "execution_count": 34,
   "id": "7b8660ab-26bf-498e-9de0-a2bba944d355",
   "metadata": {},
   "outputs": [],
   "source": [
    "assert cleaned_wage['AREA_TITLE'].dtype == 'object'\n",
    "assert cleaned_wage['OCC_CODE'].dtype == 'object'\n",
    "assert cleaned_wage['OCC_TITLE'].dtype == 'object'\n",
    "assert cleaned_wage['H_MEAN'].dtype == 'float64'"
   ]
  },
  {
   "cell_type": "markdown",
   "id": "8c0c5146-67a9-49b1-818c-1c5b95edc772",
   "metadata": {},
   "source": [
    "## 2.2 Consistency"
   ]
  },
  {
   "cell_type": "markdown",
   "id": "2af7e21a-a3d4-46f3-b618-b0d812740490",
   "metadata": {},
   "source": [
    "The `SOCP` column in the `PUMS` dataset is supposed to be the exact same as the `OCC_CODE` column in the `OEWS` column. Yet they have different names, due to an issue with hyphens. This should be fixed"
   ]
  },
  {
   "cell_type": "markdown",
   "id": "20bfada5-7938-4651-ac54-1cd1c93824be",
   "metadata": {},
   "source": [
    "### 2.2.1 Adding the `OCC_CODE` column to the `PUMS` dataset"
   ]
  },
  {
   "cell_type": "markdown",
   "id": "db8928c3-93d0-4993-9d4d-35456fe3e219",
   "metadata": {},
   "source": [
    "It's just a copy of the `SOCP` column in the `PUMS` dataset"
   ]
  },
  {
   "cell_type": "code",
   "execution_count": 54,
   "id": "c3319214-bd3b-4ea2-9e5c-7b28406b2c19",
   "metadata": {},
   "outputs": [],
   "source": [
    "cleaned_pums['OCC_CODE'] = cleaned_pums['SOCP']"
   ]
  },
  {
   "cell_type": "markdown",
   "id": "ee5d0dbd-8135-4719-b731-d57f102b3237",
   "metadata": {},
   "source": [
    "### 2.2.2 Cleaning the `OCC_CODE` in the `OEWS` dataset"
   ]
  },
  {
   "cell_type": "markdown",
   "id": "4c690a38-8ea7-4d8a-8313-05a0f74ce882",
   "metadata": {},
   "source": [
    "The hypens in the `OCC_CODE` column should be removed"
   ]
  },
  {
   "cell_type": "code",
   "execution_count": 55,
   "id": "0e717c0d-bcc8-4ea6-978e-a305cfba77d4",
   "metadata": {},
   "outputs": [
    {
     "data": {
      "text/plain": [
       "0    000000\n",
       "1    110000\n",
       "2    111011\n",
       "3    111021\n",
       "4    112011\n",
       "Name: OCC_CODE, dtype: object"
      ]
     },
     "execution_count": 55,
     "metadata": {},
     "output_type": "execute_result"
    }
   ],
   "source": [
    "cleaned_wage['OCC_CODE'].head()"
   ]
  },
  {
   "cell_type": "code",
   "execution_count": 57,
   "id": "dcdb2f1e-1f46-41ab-a462-af20b071e9c3",
   "metadata": {},
   "outputs": [],
   "source": [
    "cleaned_wage['OCC_CODE'] = cleaned_wage['OCC_CODE'].str.replace('-','')"
   ]
  },
  {
   "cell_type": "code",
   "execution_count": 58,
   "id": "6ac801c5-2827-42c9-a12c-4f57e2af097e",
   "metadata": {},
   "outputs": [
    {
     "data": {
      "text/plain": [
       "0    000000\n",
       "1    110000\n",
       "2    111011\n",
       "3    111021\n",
       "4    112011\n",
       "Name: OCC_CODE, dtype: object"
      ]
     },
     "execution_count": 58,
     "metadata": {},
     "output_type": "execute_result"
    }
   ],
   "source": [
    "cleaned_wage['OCC_CODE'].head()"
   ]
  },
  {
   "cell_type": "markdown",
   "id": "6f2a5c7e-3831-4826-8698-1b8935a88835",
   "metadata": {},
   "source": [
    "### 2.2.3 Combining the datasets"
   ]
  },
  {
   "cell_type": "markdown",
   "id": "ba01a425-299a-4020-ad75-b134f714e96f",
   "metadata": {},
   "source": [
    "Now that the `OEWS` data is cleaned, it can be merged with the `PUMS` dataset.\n",
    "\n",
    "The unnecessary `AREA_TITLE` column can be dropped as well as any NaN values. The `SOCP` column should be dropped as well. Finally, the index should be reset.\n",
    "\n",
    "Duplicate values do not need to be removed because the only thing of value is if a certain number of individuals fall within the (OCC_TITLE/gender) group."
   ]
  },
  {
   "cell_type": "markdown",
   "id": "99b62317-7693-4eaf-93cc-93fc59c1a277",
   "metadata": {},
   "source": [
    "#### Merging the two datasets"
   ]
  },
  {
   "cell_type": "code",
   "execution_count": 59,
   "id": "4c2bcc2b-6b89-404b-b748-2b815bdaa3b6",
   "metadata": {},
   "outputs": [],
   "source": [
    "merged_df = pd.merge(cleaned_pums,cleaned_wage,on=['OCC_CODE'],how='right')"
   ]
  },
  {
   "cell_type": "code",
   "execution_count": 60,
   "id": "97a7d6e2-deea-4994-92b9-422661dd93eb",
   "metadata": {},
   "outputs": [
    {
     "data": {
      "text/html": [
       "<div>\n",
       "<style scoped>\n",
       "    .dataframe tbody tr th:only-of-type {\n",
       "        vertical-align: middle;\n",
       "    }\n",
       "\n",
       "    .dataframe tbody tr th {\n",
       "        vertical-align: top;\n",
       "    }\n",
       "\n",
       "    .dataframe thead th {\n",
       "        text-align: right;\n",
       "    }\n",
       "</style>\n",
       "<table border=\"1\" class=\"dataframe\">\n",
       "  <thead>\n",
       "    <tr style=\"text-align: right;\">\n",
       "      <th></th>\n",
       "      <th>WRK</th>\n",
       "      <th>SEX</th>\n",
       "      <th>SOCP</th>\n",
       "      <th>OCC_CODE</th>\n",
       "      <th>AREA_TITLE</th>\n",
       "      <th>OCC_TITLE</th>\n",
       "      <th>H_MEAN</th>\n",
       "    </tr>\n",
       "  </thead>\n",
       "  <tbody>\n",
       "    <tr>\n",
       "      <th>0</th>\n",
       "      <td>NaN</td>\n",
       "      <td>NaN</td>\n",
       "      <td>NaN</td>\n",
       "      <td>000000</td>\n",
       "      <td>California</td>\n",
       "      <td>All Occupations</td>\n",
       "      <td>50.16</td>\n",
       "    </tr>\n",
       "    <tr>\n",
       "      <th>1</th>\n",
       "      <td>NaN</td>\n",
       "      <td>NaN</td>\n",
       "      <td>NaN</td>\n",
       "      <td>110000</td>\n",
       "      <td>California</td>\n",
       "      <td>Management Occupations</td>\n",
       "      <td>82.61</td>\n",
       "    </tr>\n",
       "    <tr>\n",
       "      <th>2</th>\n",
       "      <td>NaN</td>\n",
       "      <td>NaN</td>\n",
       "      <td>NaN</td>\n",
       "      <td>111011</td>\n",
       "      <td>California</td>\n",
       "      <td>Chief Executives</td>\n",
       "      <td>129.70</td>\n",
       "    </tr>\n",
       "    <tr>\n",
       "      <th>3</th>\n",
       "      <td>1.0</td>\n",
       "      <td>1.0</td>\n",
       "      <td>111021</td>\n",
       "      <td>111021</td>\n",
       "      <td>California</td>\n",
       "      <td>General and Operations Managers</td>\n",
       "      <td>87.11</td>\n",
       "    </tr>\n",
       "    <tr>\n",
       "      <th>4</th>\n",
       "      <td>1.0</td>\n",
       "      <td>1.0</td>\n",
       "      <td>111021</td>\n",
       "      <td>111021</td>\n",
       "      <td>California</td>\n",
       "      <td>General and Operations Managers</td>\n",
       "      <td>87.11</td>\n",
       "    </tr>\n",
       "  </tbody>\n",
       "</table>\n",
       "</div>"
      ],
      "text/plain": [
       "   WRK  SEX    SOCP OCC_CODE  AREA_TITLE                        OCC_TITLE  \\\n",
       "0  NaN  NaN     NaN   000000  California                  All Occupations   \n",
       "1  NaN  NaN     NaN   110000  California           Management Occupations   \n",
       "2  NaN  NaN     NaN   111011  California                 Chief Executives   \n",
       "3  1.0  1.0  111021   111021  California  General and Operations Managers   \n",
       "4  1.0  1.0  111021   111021  California  General and Operations Managers   \n",
       "\n",
       "   H_MEAN  \n",
       "0   50.16  \n",
       "1   82.61  \n",
       "2  129.70  \n",
       "3   87.11  \n",
       "4   87.11  "
      ]
     },
     "execution_count": 60,
     "metadata": {},
     "output_type": "execute_result"
    }
   ],
   "source": [
    "merged_df.head()"
   ]
  },
  {
   "cell_type": "markdown",
   "id": "d79f3ebf-d3d7-450f-8ab2-4a6102c695a5",
   "metadata": {},
   "source": [
    "#### Dropping NaN values"
   ]
  },
  {
   "cell_type": "code",
   "execution_count": 62,
   "id": "83b4d88c-1f4d-44b1-990f-7f3228fca0df",
   "metadata": {},
   "outputs": [],
   "source": [
    "merged_df.dropna(inplace=True)"
   ]
  },
  {
   "cell_type": "code",
   "execution_count": 63,
   "id": "cb71b25c-4885-4234-8bb8-e9c35e6b98cb",
   "metadata": {},
   "outputs": [],
   "source": [
    "assert merged_df.isna().sum().sum() == 0"
   ]
  },
  {
   "cell_type": "markdown",
   "id": "5ceb7634-8d6b-49d5-8243-64692cb34b53",
   "metadata": {},
   "source": [
    "#### Dropping unnecessary columns `AREA_TITLE` and `SOCP`"
   ]
  },
  {
   "cell_type": "code",
   "execution_count": 64,
   "id": "f6209365-946e-4156-a23a-911204647465",
   "metadata": {},
   "outputs": [
    {
     "data": {
      "text/html": [
       "<div>\n",
       "<style scoped>\n",
       "    .dataframe tbody tr th:only-of-type {\n",
       "        vertical-align: middle;\n",
       "    }\n",
       "\n",
       "    .dataframe tbody tr th {\n",
       "        vertical-align: top;\n",
       "    }\n",
       "\n",
       "    .dataframe thead th {\n",
       "        text-align: right;\n",
       "    }\n",
       "</style>\n",
       "<table border=\"1\" class=\"dataframe\">\n",
       "  <thead>\n",
       "    <tr style=\"text-align: right;\">\n",
       "      <th></th>\n",
       "      <th>WRK</th>\n",
       "      <th>SEX</th>\n",
       "      <th>OCC_CODE</th>\n",
       "      <th>OCC_TITLE</th>\n",
       "      <th>H_MEAN</th>\n",
       "    </tr>\n",
       "  </thead>\n",
       "  <tbody>\n",
       "    <tr>\n",
       "      <th>3</th>\n",
       "      <td>1.0</td>\n",
       "      <td>1.0</td>\n",
       "      <td>111021</td>\n",
       "      <td>General and Operations Managers</td>\n",
       "      <td>87.11</td>\n",
       "    </tr>\n",
       "    <tr>\n",
       "      <th>4</th>\n",
       "      <td>1.0</td>\n",
       "      <td>1.0</td>\n",
       "      <td>111021</td>\n",
       "      <td>General and Operations Managers</td>\n",
       "      <td>87.11</td>\n",
       "    </tr>\n",
       "    <tr>\n",
       "      <th>5</th>\n",
       "      <td>1.0</td>\n",
       "      <td>2.0</td>\n",
       "      <td>111021</td>\n",
       "      <td>General and Operations Managers</td>\n",
       "      <td>87.11</td>\n",
       "    </tr>\n",
       "    <tr>\n",
       "      <th>6</th>\n",
       "      <td>1.0</td>\n",
       "      <td>2.0</td>\n",
       "      <td>111021</td>\n",
       "      <td>General and Operations Managers</td>\n",
       "      <td>87.11</td>\n",
       "    </tr>\n",
       "    <tr>\n",
       "      <th>7</th>\n",
       "      <td>1.0</td>\n",
       "      <td>1.0</td>\n",
       "      <td>111021</td>\n",
       "      <td>General and Operations Managers</td>\n",
       "      <td>87.11</td>\n",
       "    </tr>\n",
       "    <tr>\n",
       "      <th>...</th>\n",
       "      <td>...</td>\n",
       "      <td>...</td>\n",
       "      <td>...</td>\n",
       "      <td>...</td>\n",
       "      <td>...</td>\n",
       "    </tr>\n",
       "    <tr>\n",
       "      <th>151449</th>\n",
       "      <td>2.0</td>\n",
       "      <td>1.0</td>\n",
       "      <td>119021</td>\n",
       "      <td>Construction Managers</td>\n",
       "      <td>53.49</td>\n",
       "    </tr>\n",
       "    <tr>\n",
       "      <th>151450</th>\n",
       "      <td>1.0</td>\n",
       "      <td>1.0</td>\n",
       "      <td>119021</td>\n",
       "      <td>Construction Managers</td>\n",
       "      <td>53.49</td>\n",
       "    </tr>\n",
       "    <tr>\n",
       "      <th>151451</th>\n",
       "      <td>1.0</td>\n",
       "      <td>1.0</td>\n",
       "      <td>119021</td>\n",
       "      <td>Construction Managers</td>\n",
       "      <td>53.49</td>\n",
       "    </tr>\n",
       "    <tr>\n",
       "      <th>151452</th>\n",
       "      <td>1.0</td>\n",
       "      <td>1.0</td>\n",
       "      <td>119021</td>\n",
       "      <td>Construction Managers</td>\n",
       "      <td>53.49</td>\n",
       "    </tr>\n",
       "    <tr>\n",
       "      <th>151453</th>\n",
       "      <td>1.0</td>\n",
       "      <td>1.0</td>\n",
       "      <td>119021</td>\n",
       "      <td>Construction Managers</td>\n",
       "      <td>53.49</td>\n",
       "    </tr>\n",
       "  </tbody>\n",
       "</table>\n",
       "<p>148516 rows × 5 columns</p>\n",
       "</div>"
      ],
      "text/plain": [
       "        WRK  SEX OCC_CODE                        OCC_TITLE  H_MEAN\n",
       "3       1.0  1.0   111021  General and Operations Managers   87.11\n",
       "4       1.0  1.0   111021  General and Operations Managers   87.11\n",
       "5       1.0  2.0   111021  General and Operations Managers   87.11\n",
       "6       1.0  2.0   111021  General and Operations Managers   87.11\n",
       "7       1.0  1.0   111021  General and Operations Managers   87.11\n",
       "...     ...  ...      ...                              ...     ...\n",
       "151449  2.0  1.0   119021            Construction Managers   53.49\n",
       "151450  1.0  1.0   119021            Construction Managers   53.49\n",
       "151451  1.0  1.0   119021            Construction Managers   53.49\n",
       "151452  1.0  1.0   119021            Construction Managers   53.49\n",
       "151453  1.0  1.0   119021            Construction Managers   53.49\n",
       "\n",
       "[148516 rows x 5 columns]"
      ]
     },
     "execution_count": 64,
     "metadata": {},
     "output_type": "execute_result"
    }
   ],
   "source": [
    "merged_df.drop(['AREA_TITLE','SOCP'],axis=1)"
   ]
  },
  {
   "cell_type": "markdown",
   "id": "24566687-bb45-4189-aa0a-67e1c73fcdf2",
   "metadata": {},
   "source": [
    "#### Reseting the Index"
   ]
  },
  {
   "cell_type": "code",
   "execution_count": 67,
   "id": "45102110-f890-4f74-bb18-1cd3da5c434a",
   "metadata": {},
   "outputs": [],
   "source": [
    "merged_df = merged_df.reset_index(drop=True)"
   ]
  },
  {
   "cell_type": "code",
   "execution_count": 69,
   "id": "d8bc73ad-170d-40b1-88ac-6c0f20c8d690",
   "metadata": {},
   "outputs": [
    {
     "data": {
      "text/html": [
       "<div>\n",
       "<style scoped>\n",
       "    .dataframe tbody tr th:only-of-type {\n",
       "        vertical-align: middle;\n",
       "    }\n",
       "\n",
       "    .dataframe tbody tr th {\n",
       "        vertical-align: top;\n",
       "    }\n",
       "\n",
       "    .dataframe thead th {\n",
       "        text-align: right;\n",
       "    }\n",
       "</style>\n",
       "<table border=\"1\" class=\"dataframe\">\n",
       "  <thead>\n",
       "    <tr style=\"text-align: right;\">\n",
       "      <th></th>\n",
       "      <th>WRK</th>\n",
       "      <th>SEX</th>\n",
       "      <th>SOCP</th>\n",
       "      <th>OCC_CODE</th>\n",
       "      <th>AREA_TITLE</th>\n",
       "      <th>OCC_TITLE</th>\n",
       "      <th>H_MEAN</th>\n",
       "    </tr>\n",
       "  </thead>\n",
       "  <tbody>\n",
       "    <tr>\n",
       "      <th>0</th>\n",
       "      <td>1.0</td>\n",
       "      <td>1.0</td>\n",
       "      <td>111021</td>\n",
       "      <td>111021</td>\n",
       "      <td>California</td>\n",
       "      <td>General and Operations Managers</td>\n",
       "      <td>87.11</td>\n",
       "    </tr>\n",
       "    <tr>\n",
       "      <th>1</th>\n",
       "      <td>1.0</td>\n",
       "      <td>1.0</td>\n",
       "      <td>111021</td>\n",
       "      <td>111021</td>\n",
       "      <td>California</td>\n",
       "      <td>General and Operations Managers</td>\n",
       "      <td>87.11</td>\n",
       "    </tr>\n",
       "    <tr>\n",
       "      <th>2</th>\n",
       "      <td>1.0</td>\n",
       "      <td>2.0</td>\n",
       "      <td>111021</td>\n",
       "      <td>111021</td>\n",
       "      <td>California</td>\n",
       "      <td>General and Operations Managers</td>\n",
       "      <td>87.11</td>\n",
       "    </tr>\n",
       "    <tr>\n",
       "      <th>3</th>\n",
       "      <td>1.0</td>\n",
       "      <td>2.0</td>\n",
       "      <td>111021</td>\n",
       "      <td>111021</td>\n",
       "      <td>California</td>\n",
       "      <td>General and Operations Managers</td>\n",
       "      <td>87.11</td>\n",
       "    </tr>\n",
       "    <tr>\n",
       "      <th>4</th>\n",
       "      <td>1.0</td>\n",
       "      <td>1.0</td>\n",
       "      <td>111021</td>\n",
       "      <td>111021</td>\n",
       "      <td>California</td>\n",
       "      <td>General and Operations Managers</td>\n",
       "      <td>87.11</td>\n",
       "    </tr>\n",
       "  </tbody>\n",
       "</table>\n",
       "</div>"
      ],
      "text/plain": [
       "   WRK  SEX    SOCP OCC_CODE  AREA_TITLE                        OCC_TITLE  \\\n",
       "0  1.0  1.0  111021   111021  California  General and Operations Managers   \n",
       "1  1.0  1.0  111021   111021  California  General and Operations Managers   \n",
       "2  1.0  2.0  111021   111021  California  General and Operations Managers   \n",
       "3  1.0  2.0  111021   111021  California  General and Operations Managers   \n",
       "4  1.0  1.0  111021   111021  California  General and Operations Managers   \n",
       "\n",
       "   H_MEAN  \n",
       "0   87.11  \n",
       "1   87.11  \n",
       "2   87.11  \n",
       "3   87.11  \n",
       "4   87.11  "
      ]
     },
     "execution_count": 69,
     "metadata": {},
     "output_type": "execute_result"
    }
   ],
   "source": [
    "merged_df.head()"
   ]
  },
  {
   "cell_type": "markdown",
   "id": "f56ff5a6-23d3-4ba2-aabb-387b6366b9f8",
   "metadata": {},
   "source": [
    "# 3. Storing the data"
   ]
  },
  {
   "cell_type": "code",
   "execution_count": 70,
   "id": "8e365228-e467-4747-9c06-20912a0e905e",
   "metadata": {},
   "outputs": [],
   "source": [
    "merged_df.to_csv('./clean_pum_oews.csv')"
   ]
  },
  {
   "cell_type": "code",
   "execution_count": 71,
   "id": "080212b3-fad8-44a7-ae3b-c06a33bff778",
   "metadata": {},
   "outputs": [],
   "source": [
    "merged_df.to_pickle('./clean_pum_oews.pkl')"
   ]
  }
 ],
 "metadata": {
  "kernelspec": {
   "display_name": "Python 3 (ipykernel)",
   "language": "python",
   "name": "python3"
  },
  "language_info": {
   "codemirror_mode": {
    "name": "ipython",
    "version": 3
   },
   "file_extension": ".py",
   "mimetype": "text/x-python",
   "name": "python",
   "nbconvert_exporter": "python",
   "pygments_lexer": "ipython3",
   "version": "3.12.3"
  }
 },
 "nbformat": 4,
 "nbformat_minor": 5
}
