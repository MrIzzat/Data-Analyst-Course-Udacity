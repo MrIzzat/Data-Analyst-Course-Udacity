{
 "cells": [
  {
   "cell_type": "markdown",
   "id": "c9b1a39f-3c66-4fa1-8e03-cbc2761ccb48",
   "metadata": {},
   "source": [
    "# How are time series data cleaned"
   ]
  },
  {
   "cell_type": "markdown",
   "id": "241034c5-6acf-4ccc-94c6-23e67a304833",
   "metadata": {},
   "source": [
    "Time series data is data that collects information over regular time intervals, often used to analyze trends patterns and forcasting over time."
   ]
  },
  {
   "cell_type": "markdown",
   "id": "407427ef-8d87-422e-b87b-2b617ca47a3c",
   "metadata": {},
   "source": [
    "# Import Libraries"
   ]
  },
  {
   "cell_type": "code",
   "execution_count": 1,
   "id": "5564e927-2da5-45d5-aa4e-95d899419ddf",
   "metadata": {},
   "outputs": [],
   "source": [
    "import pandas as pd\n",
    "import numpy as np"
   ]
  },
  {
   "cell_type": "markdown",
   "id": "265be6aa-2569-4d3d-a720-627093d76ef4",
   "metadata": {},
   "source": [
    "# Load Dataset"
   ]
  },
  {
   "cell_type": "code",
   "execution_count": 2,
   "id": "ed6c6714-dab6-4ba5-a17b-7c0850c8276f",
   "metadata": {},
   "outputs": [],
   "source": [
    "df = pd.read_csv('time_series_data.csv')\n"
   ]
  },
  {
   "cell_type": "code",
   "execution_count": 3,
   "id": "d85d8bf0-b5d0-4483-9570-b217ffd2c82b",
   "metadata": {},
   "outputs": [
    {
     "data": {
      "text/html": [
       "<div>\n",
       "<style scoped>\n",
       "    .dataframe tbody tr th:only-of-type {\n",
       "        vertical-align: middle;\n",
       "    }\n",
       "\n",
       "    .dataframe tbody tr th {\n",
       "        vertical-align: top;\n",
       "    }\n",
       "\n",
       "    .dataframe thead th {\n",
       "        text-align: right;\n",
       "    }\n",
       "</style>\n",
       "<table border=\"1\" class=\"dataframe\">\n",
       "  <thead>\n",
       "    <tr style=\"text-align: right;\">\n",
       "      <th></th>\n",
       "      <th>Date</th>\n",
       "      <th>Volume (in millions)</th>\n",
       "    </tr>\n",
       "  </thead>\n",
       "  <tbody>\n",
       "    <tr>\n",
       "      <th>0</th>\n",
       "      <td>2018-01-01</td>\n",
       "      <td>184</td>\n",
       "    </tr>\n",
       "    <tr>\n",
       "      <th>1</th>\n",
       "      <td>2018-01-02</td>\n",
       "      <td>324</td>\n",
       "    </tr>\n",
       "    <tr>\n",
       "      <th>2</th>\n",
       "      <td>2018-01-03</td>\n",
       "      <td>551</td>\n",
       "    </tr>\n",
       "    <tr>\n",
       "      <th>3</th>\n",
       "      <td>2018-01-04</td>\n",
       "      <td>303</td>\n",
       "    </tr>\n",
       "    <tr>\n",
       "      <th>4</th>\n",
       "      <td>2018-01-05</td>\n",
       "      <td>449</td>\n",
       "    </tr>\n",
       "  </tbody>\n",
       "</table>\n",
       "</div>"
      ],
      "text/plain": [
       "         Date  Volume (in millions)\n",
       "0  2018-01-01                   184\n",
       "1  2018-01-02                   324\n",
       "2  2018-01-03                   551\n",
       "3  2018-01-04                   303\n",
       "4  2018-01-05                   449"
      ]
     },
     "execution_count": 3,
     "metadata": {},
     "output_type": "execute_result"
    }
   ],
   "source": [
    "df.head()"
   ]
  },
  {
   "cell_type": "markdown",
   "id": "6f93b6c9-1ae2-4bdc-80ca-584994d6e478",
   "metadata": {},
   "source": [
    "# Inspecting the data"
   ]
  },
  {
   "cell_type": "code",
   "execution_count": 4,
   "id": "3b786b19-3624-43d0-b476-520763b33701",
   "metadata": {},
   "outputs": [
    {
     "data": {
      "text/html": [
       "<div>\n",
       "<style scoped>\n",
       "    .dataframe tbody tr th:only-of-type {\n",
       "        vertical-align: middle;\n",
       "    }\n",
       "\n",
       "    .dataframe tbody tr th {\n",
       "        vertical-align: top;\n",
       "    }\n",
       "\n",
       "    .dataframe thead th {\n",
       "        text-align: right;\n",
       "    }\n",
       "</style>\n",
       "<table border=\"1\" class=\"dataframe\">\n",
       "  <thead>\n",
       "    <tr style=\"text-align: right;\">\n",
       "      <th></th>\n",
       "      <th>Volume (in millions)</th>\n",
       "    </tr>\n",
       "  </thead>\n",
       "  <tbody>\n",
       "    <tr>\n",
       "      <th>count</th>\n",
       "      <td>1156.000000</td>\n",
       "    </tr>\n",
       "    <tr>\n",
       "      <th>mean</th>\n",
       "      <td>300.557958</td>\n",
       "    </tr>\n",
       "    <tr>\n",
       "      <th>std</th>\n",
       "      <td>169.753698</td>\n",
       "    </tr>\n",
       "    <tr>\n",
       "      <th>min</th>\n",
       "      <td>10.000000</td>\n",
       "    </tr>\n",
       "    <tr>\n",
       "      <th>25%</th>\n",
       "      <td>151.000000</td>\n",
       "    </tr>\n",
       "    <tr>\n",
       "      <th>50%</th>\n",
       "      <td>300.000000</td>\n",
       "    </tr>\n",
       "    <tr>\n",
       "      <th>75%</th>\n",
       "      <td>445.000000</td>\n",
       "    </tr>\n",
       "    <tr>\n",
       "      <th>max</th>\n",
       "      <td>599.000000</td>\n",
       "    </tr>\n",
       "  </tbody>\n",
       "</table>\n",
       "</div>"
      ],
      "text/plain": [
       "       Volume (in millions)\n",
       "count           1156.000000\n",
       "mean             300.557958\n",
       "std              169.753698\n",
       "min               10.000000\n",
       "25%              151.000000\n",
       "50%              300.000000\n",
       "75%              445.000000\n",
       "max              599.000000"
      ]
     },
     "execution_count": 4,
     "metadata": {},
     "output_type": "execute_result"
    }
   ],
   "source": [
    "df.describe()"
   ]
  },
  {
   "cell_type": "code",
   "execution_count": 5,
   "id": "149afcbb-0c05-4866-803f-b1131cff11ce",
   "metadata": {},
   "outputs": [
    {
     "name": "stdout",
     "output_type": "stream",
     "text": [
      "<class 'pandas.core.frame.DataFrame'>\n",
      "RangeIndex: 1156 entries, 0 to 1155\n",
      "Data columns (total 2 columns):\n",
      " #   Column                Non-Null Count  Dtype \n",
      "---  ------                --------------  ----- \n",
      " 0   Date                  1156 non-null   object\n",
      " 1   Volume (in millions)  1156 non-null   int64 \n",
      "dtypes: int64(1), object(1)\n",
      "memory usage: 18.2+ KB\n"
     ]
    }
   ],
   "source": [
    "df.info()"
   ]
  },
  {
   "cell_type": "markdown",
   "id": "121b94c8-7ee6-4330-98c5-84a2c49030dd",
   "metadata": {},
   "source": [
    "# Plotting the data"
   ]
  },
  {
   "cell_type": "code",
   "execution_count": 7,
   "id": "ae85a640-732b-468d-b959-6feed355be54",
   "metadata": {},
   "outputs": [
    {
     "data": {
      "image/png": "[encoded data removed]",
      "text/plain": [
       "<Figure size 640x480 with 1 Axes>"
      ]
     },
     "metadata": {},
     "output_type": "display_data"
    }
   ],
   "source": [
    "df.plot(x='Date',y='Volume (in millions)');"
   ]
  },
  {
   "cell_type": "markdown",
   "id": "2d9df100-558e-4d30-9440-fff15cebce92",
   "metadata": {},
   "source": [
    "Not very clear"
   ]
  },
  {
   "cell_type": "markdown",
   "id": "7184b514-3d3f-4823-95f1-c6dd9f22be45",
   "metadata": {},
   "source": [
    "# Converting `Date` column into datatime objects"
   ]
  },
  {
   "cell_type": "code",
   "execution_count": 8,
   "id": "fb357bdc-8d06-44e2-acdb-69f815408ee5",
   "metadata": {},
   "outputs": [],
   "source": [
    "df['Date'] = pd.to_datetime(df['Date'])"
   ]
  },
  {
   "cell_type": "code",
   "execution_count": 9,
   "id": "b3d7f75d-ac55-4e0a-8a7d-86348093aaf9",
   "metadata": {},
   "outputs": [
    {
     "name": "stdout",
     "output_type": "stream",
     "text": [
      "<class 'pandas.core.frame.DataFrame'>\n",
      "RangeIndex: 1156 entries, 0 to 1155\n",
      "Data columns (total 2 columns):\n",
      " #   Column                Non-Null Count  Dtype         \n",
      "---  ------                --------------  -----         \n",
      " 0   Date                  1156 non-null   datetime64[ns]\n",
      " 1   Volume (in millions)  1156 non-null   int64         \n",
      "dtypes: datetime64[ns](1), int64(1)\n",
      "memory usage: 18.2 KB\n"
     ]
    }
   ],
   "source": [
    "df.info()"
   ]
  },
  {
   "cell_type": "markdown",
   "id": "06880300-c0ea-46a2-b876-735f765d0d1f",
   "metadata": {},
   "source": [
    "# Seeing how much time the dataset covers"
   ]
  },
  {
   "cell_type": "code",
   "execution_count": 10,
   "id": "6aa761e9-b229-47e8-9a92-549cf489f7e8",
   "metadata": {},
   "outputs": [
    {
     "data": {
      "text/plain": [
       "Timedelta('1155 days 00:00:00')"
      ]
     },
     "execution_count": 10,
     "metadata": {},
     "output_type": "execute_result"
    }
   ],
   "source": [
    "df['Date'].max() - df['Date'].min()"
   ]
  },
  {
   "cell_type": "markdown",
   "id": "2cc78533-8794-47f0-b876-a71623ae8a7c",
   "metadata": {},
   "source": [
    "# Creating a new column `Year`"
   ]
  },
  {
   "cell_type": "code",
   "execution_count": 11,
   "id": "a2afe5dc-4021-4f8c-b896-08e56a473c29",
   "metadata": {},
   "outputs": [],
   "source": [
    "df['Year'] = df['Date'].dt.year"
   ]
  },
  {
   "cell_type": "code",
   "execution_count": 12,
   "id": "ac1c5524-5ad2-44e9-8d3d-aeeb765f15ba",
   "metadata": {},
   "outputs": [
    {
     "data": {
      "text/html": [
       "<div>\n",
       "<style scoped>\n",
       "    .dataframe tbody tr th:only-of-type {\n",
       "        vertical-align: middle;\n",
       "    }\n",
       "\n",
       "    .dataframe tbody tr th {\n",
       "        vertical-align: top;\n",
       "    }\n",
       "\n",
       "    .dataframe thead th {\n",
       "        text-align: right;\n",
       "    }\n",
       "</style>\n",
       "<table border=\"1\" class=\"dataframe\">\n",
       "  <thead>\n",
       "    <tr style=\"text-align: right;\">\n",
       "      <th></th>\n",
       "      <th>Date</th>\n",
       "      <th>Volume (in millions)</th>\n",
       "      <th>Year</th>\n",
       "    </tr>\n",
       "  </thead>\n",
       "  <tbody>\n",
       "    <tr>\n",
       "      <th>0</th>\n",
       "      <td>2018-01-01</td>\n",
       "      <td>184</td>\n",
       "      <td>2018</td>\n",
       "    </tr>\n",
       "    <tr>\n",
       "      <th>1</th>\n",
       "      <td>2018-01-02</td>\n",
       "      <td>324</td>\n",
       "      <td>2018</td>\n",
       "    </tr>\n",
       "    <tr>\n",
       "      <th>2</th>\n",
       "      <td>2018-01-03</td>\n",
       "      <td>551</td>\n",
       "      <td>2018</td>\n",
       "    </tr>\n",
       "    <tr>\n",
       "      <th>3</th>\n",
       "      <td>2018-01-04</td>\n",
       "      <td>303</td>\n",
       "      <td>2018</td>\n",
       "    </tr>\n",
       "    <tr>\n",
       "      <th>4</th>\n",
       "      <td>2018-01-05</td>\n",
       "      <td>449</td>\n",
       "      <td>2018</td>\n",
       "    </tr>\n",
       "  </tbody>\n",
       "</table>\n",
       "</div>"
      ],
      "text/plain": [
       "        Date  Volume (in millions)  Year\n",
       "0 2018-01-01                   184  2018\n",
       "1 2018-01-02                   324  2018\n",
       "2 2018-01-03                   551  2018\n",
       "3 2018-01-04                   303  2018\n",
       "4 2018-01-05                   449  2018"
      ]
     },
     "execution_count": 12,
     "metadata": {},
     "output_type": "execute_result"
    }
   ],
   "source": [
    "df.head()"
   ]
  },
  {
   "cell_type": "markdown",
   "id": "ab16a8a8-511c-49be-8a4b-44619e9a2274",
   "metadata": {},
   "source": [
    "# Setting the `Date` column as the index"
   ]
  },
  {
   "cell_type": "markdown",
   "id": "d876f89b-ded8-4fb2-ae14-1ec2298515bf",
   "metadata": {},
   "source": [
    "By setting the `Date` column as the index, there will be more functionality that can be accessed"
   ]
  },
  {
   "cell_type": "code",
   "execution_count": 13,
   "id": "13ee348a-c3e2-4865-ab72-affd4e8231c8",
   "metadata": {},
   "outputs": [],
   "source": [
    "df = df.set_index('Date')"
   ]
  },
  {
   "cell_type": "code",
   "execution_count": 14,
   "id": "a729b4c1-0d69-4f21-805f-2e65fbfbfff4",
   "metadata": {},
   "outputs": [
    {
     "data": {
      "text/html": [
       "<div>\n",
       "<style scoped>\n",
       "    .dataframe tbody tr th:only-of-type {\n",
       "        vertical-align: middle;\n",
       "    }\n",
       "\n",
       "    .dataframe tbody tr th {\n",
       "        vertical-align: top;\n",
       "    }\n",
       "\n",
       "    .dataframe thead th {\n",
       "        text-align: right;\n",
       "    }\n",
       "</style>\n",
       "<table border=\"1\" class=\"dataframe\">\n",
       "  <thead>\n",
       "    <tr style=\"text-align: right;\">\n",
       "      <th></th>\n",
       "      <th>Volume (in millions)</th>\n",
       "      <th>Year</th>\n",
       "    </tr>\n",
       "    <tr>\n",
       "      <th>Date</th>\n",
       "      <th></th>\n",
       "      <th></th>\n",
       "    </tr>\n",
       "  </thead>\n",
       "  <tbody>\n",
       "    <tr>\n",
       "      <th>2018-01-01</th>\n",
       "      <td>184</td>\n",
       "      <td>2018</td>\n",
       "    </tr>\n",
       "    <tr>\n",
       "      <th>2018-01-02</th>\n",
       "      <td>324</td>\n",
       "      <td>2018</td>\n",
       "    </tr>\n",
       "    <tr>\n",
       "      <th>2018-01-03</th>\n",
       "      <td>551</td>\n",
       "      <td>2018</td>\n",
       "    </tr>\n",
       "    <tr>\n",
       "      <th>2018-01-04</th>\n",
       "      <td>303</td>\n",
       "      <td>2018</td>\n",
       "    </tr>\n",
       "    <tr>\n",
       "      <th>2018-01-05</th>\n",
       "      <td>449</td>\n",
       "      <td>2018</td>\n",
       "    </tr>\n",
       "  </tbody>\n",
       "</table>\n",
       "</div>"
      ],
      "text/plain": [
       "            Volume (in millions)  Year\n",
       "Date                                  \n",
       "2018-01-01                   184  2018\n",
       "2018-01-02                   324  2018\n",
       "2018-01-03                   551  2018\n",
       "2018-01-04                   303  2018\n",
       "2018-01-05                   449  2018"
      ]
     },
     "execution_count": 14,
     "metadata": {},
     "output_type": "execute_result"
    }
   ],
   "source": [
    "df.head()"
   ]
  },
  {
   "cell_type": "markdown",
   "id": "12f34f3c-99a4-4d90-926a-5993c1a61a78",
   "metadata": {},
   "source": [
    "# Getting some information by grouping by and aggregating the data"
   ]
  },
  {
   "cell_type": "markdown",
   "id": "7a79f83a-95e1-4d67-9f8e-b2237acc211e",
   "metadata": {},
   "source": [
    "The `resample()` function acts like the `groupby()` function but for time series data. It can be very useful when trying to groupby a year or a month and aggregating the results."
   ]
  },
  {
   "cell_type": "code",
   "execution_count": 17,
   "id": "b5ff1fdc-14d1-4236-ade1-a9793caad2f0",
   "metadata": {},
   "outputs": [
    {
     "data": {
      "text/plain": [
       "Date\n",
       "2018-12-31    299.041096\n",
       "2019-12-31    301.602740\n",
       "2020-12-31    297.169399\n",
       "2021-12-31    324.100000\n",
       "Freq: YE-DEC, Name: Volume (in millions), dtype: float64"
      ]
     },
     "execution_count": 17,
     "metadata": {},
     "output_type": "execute_result"
    }
   ],
   "source": [
    "df.resample('YE')['Volume (in millions)'].mean() #YE means to groupby year"
   ]
  },
  {
   "cell_type": "markdown",
   "id": "e8465bfb-1653-4696-81f6-5e4623656b24",
   "metadata": {},
   "source": [
    "## Plotting the information"
   ]
  },
  {
   "cell_type": "code",
   "execution_count": 19,
   "id": "5aa7fc32-d0e6-4082-a717-b012ec3ed94d",
   "metadata": {},
   "outputs": [
    {
     "data": {
      "image/png": "[encoded data removed]",
      "text/plain": [
       "<Figure size 640x480 with 1 Axes>"
      ]
     },
     "metadata": {},
     "output_type": "display_data"
    }
   ],
   "source": [
    "df.resample('YE')['Volume (in millions)'].mean().plot();"
   ]
  },
  {
   "cell_type": "markdown",
   "id": "cba8e1aa-33de-4673-9a4e-75f8b79ee52d",
   "metadata": {},
   "source": [
    "# Getting what day of the week the date falls on"
   ]
  },
  {
   "cell_type": "markdown",
   "id": "521b49c6-1090-4878-9a9a-d68c1a5274c6",
   "metadata": {},
   "source": [
    "Will be stored on a new column `day_of_week`"
   ]
  },
  {
   "cell_type": "code",
   "execution_count": 22,
   "id": "90ef7d81-ff45-4d93-94c2-cbc866eec6da",
   "metadata": {},
   "outputs": [],
   "source": [
    "df['day_of_week']= df.index.dayofweek"
   ]
  },
  {
   "cell_type": "code",
   "execution_count": 25,
   "id": "0f0970cf-fe3e-4498-9e1d-0daec570ad57",
   "metadata": {},
   "outputs": [
    {
     "data": {
      "text/html": [
       "<div>\n",
       "<style scoped>\n",
       "    .dataframe tbody tr th:only-of-type {\n",
       "        vertical-align: middle;\n",
       "    }\n",
       "\n",
       "    .dataframe tbody tr th {\n",
       "        vertical-align: top;\n",
       "    }\n",
       "\n",
       "    .dataframe thead th {\n",
       "        text-align: right;\n",
       "    }\n",
       "</style>\n",
       "<table border=\"1\" class=\"dataframe\">\n",
       "  <thead>\n",
       "    <tr style=\"text-align: right;\">\n",
       "      <th></th>\n",
       "      <th>Volume (in millions)</th>\n",
       "      <th>Year</th>\n",
       "      <th>day_of_week</th>\n",
       "    </tr>\n",
       "    <tr>\n",
       "      <th>Date</th>\n",
       "      <th></th>\n",
       "      <th></th>\n",
       "      <th></th>\n",
       "    </tr>\n",
       "  </thead>\n",
       "  <tbody>\n",
       "    <tr>\n",
       "      <th>2018-01-01</th>\n",
       "      <td>184</td>\n",
       "      <td>2018</td>\n",
       "      <td>0</td>\n",
       "    </tr>\n",
       "    <tr>\n",
       "      <th>2018-01-02</th>\n",
       "      <td>324</td>\n",
       "      <td>2018</td>\n",
       "      <td>1</td>\n",
       "    </tr>\n",
       "    <tr>\n",
       "      <th>2018-01-03</th>\n",
       "      <td>551</td>\n",
       "      <td>2018</td>\n",
       "      <td>2</td>\n",
       "    </tr>\n",
       "    <tr>\n",
       "      <th>2018-01-04</th>\n",
       "      <td>303</td>\n",
       "      <td>2018</td>\n",
       "      <td>3</td>\n",
       "    </tr>\n",
       "    <tr>\n",
       "      <th>2018-01-05</th>\n",
       "      <td>449</td>\n",
       "      <td>2018</td>\n",
       "      <td>4</td>\n",
       "    </tr>\n",
       "  </tbody>\n",
       "</table>\n",
       "</div>"
      ],
      "text/plain": [
       "            Volume (in millions)  Year  day_of_week\n",
       "Date                                               \n",
       "2018-01-01                   184  2018            0\n",
       "2018-01-02                   324  2018            1\n",
       "2018-01-03                   551  2018            2\n",
       "2018-01-04                   303  2018            3\n",
       "2018-01-05                   449  2018            4"
      ]
     },
     "execution_count": 25,
     "metadata": {},
     "output_type": "execute_result"
    }
   ],
   "source": [
    "df.head()"
   ]
  },
  {
   "cell_type": "markdown",
   "id": "60380cac-d140-4ba7-b2d7-8fcce9c1cfd5",
   "metadata": {},
   "source": [
    "# Getting all rows that where days on a monday"
   ]
  },
  {
   "cell_type": "code",
   "execution_count": 27,
   "id": "2d9f59ad-8006-44d4-aac8-3e4468b112e4",
   "metadata": {},
   "outputs": [
    {
     "data": {
      "text/html": [
       "<div>\n",
       "<style scoped>\n",
       "    .dataframe tbody tr th:only-of-type {\n",
       "        vertical-align: middle;\n",
       "    }\n",
       "\n",
       "    .dataframe tbody tr th {\n",
       "        vertical-align: top;\n",
       "    }\n",
       "\n",
       "    .dataframe thead th {\n",
       "        text-align: right;\n",
       "    }\n",
       "</style>\n",
       "<table border=\"1\" class=\"dataframe\">\n",
       "  <thead>\n",
       "    <tr style=\"text-align: right;\">\n",
       "      <th></th>\n",
       "      <th>Volume (in millions)</th>\n",
       "      <th>Year</th>\n",
       "      <th>day_of_week</th>\n",
       "    </tr>\n",
       "    <tr>\n",
       "      <th>Date</th>\n",
       "      <th></th>\n",
       "      <th></th>\n",
       "      <th></th>\n",
       "    </tr>\n",
       "  </thead>\n",
       "  <tbody>\n",
       "    <tr>\n",
       "      <th>2018-01-01</th>\n",
       "      <td>184</td>\n",
       "      <td>2018</td>\n",
       "      <td>0</td>\n",
       "    </tr>\n",
       "    <tr>\n",
       "      <th>2018-01-08</th>\n",
       "      <td>443</td>\n",
       "      <td>2018</td>\n",
       "      <td>0</td>\n",
       "    </tr>\n",
       "    <tr>\n",
       "      <th>2018-01-15</th>\n",
       "      <td>21</td>\n",
       "      <td>2018</td>\n",
       "      <td>0</td>\n",
       "    </tr>\n",
       "    <tr>\n",
       "      <th>2018-01-22</th>\n",
       "      <td>365</td>\n",
       "      <td>2018</td>\n",
       "      <td>0</td>\n",
       "    </tr>\n",
       "    <tr>\n",
       "      <th>2018-01-29</th>\n",
       "      <td>366</td>\n",
       "      <td>2018</td>\n",
       "      <td>0</td>\n",
       "    </tr>\n",
       "  </tbody>\n",
       "</table>\n",
       "</div>"
      ],
      "text/plain": [
       "            Volume (in millions)  Year  day_of_week\n",
       "Date                                               \n",
       "2018-01-01                   184  2018            0\n",
       "2018-01-08                   443  2018            0\n",
       "2018-01-15                    21  2018            0\n",
       "2018-01-22                   365  2018            0\n",
       "2018-01-29                   366  2018            0"
      ]
     },
     "execution_count": 27,
     "metadata": {},
     "output_type": "execute_result"
    }
   ],
   "source": [
    "mondays = df[(df['day_of_week'].isin([0]))]\n",
    "mondays.head()"
   ]
  },
  {
   "cell_type": "markdown",
   "id": "9ebe35a6-2809-4615-b8eb-08f310dc6665",
   "metadata": {},
   "source": [
    "# Calculating the mean volume for all mondays"
   ]
  },
  {
   "cell_type": "code",
   "execution_count": 28,
   "id": "a2d1fab2-abac-4060-95f0-e6e435035bdb",
   "metadata": {},
   "outputs": [
    {
     "data": {
      "text/plain": [
       "299.36746987951807"
      ]
     },
     "execution_count": 28,
     "metadata": {},
     "output_type": "execute_result"
    }
   ],
   "source": [
    "mondays['Volume (in millions)'].mean()"
   ]
  },
  {
   "cell_type": "markdown",
   "id": "85db4acf-3d8f-4416-8045-3e9ceeb1083b",
   "metadata": {},
   "source": [
    "# Converting the `Date` column to a specified format"
   ]
  },
  {
   "cell_type": "markdown",
   "id": "80cd5c77-33c9-4a58-b7b5-cc0e491a0a48",
   "metadata": {},
   "source": [
    "Going to convert it to month day, year"
   ]
  },
  {
   "cell_type": "code",
   "execution_count": 29,
   "id": "cae4b052-c9aa-4ef9-a045-8fada825e52c",
   "metadata": {},
   "outputs": [
    {
     "data": {
      "text/html": [
       "<div>\n",
       "<style scoped>\n",
       "    .dataframe tbody tr th:only-of-type {\n",
       "        vertical-align: middle;\n",
       "    }\n",
       "\n",
       "    .dataframe tbody tr th {\n",
       "        vertical-align: top;\n",
       "    }\n",
       "\n",
       "    .dataframe thead th {\n",
       "        text-align: right;\n",
       "    }\n",
       "</style>\n",
       "<table border=\"1\" class=\"dataframe\">\n",
       "  <thead>\n",
       "    <tr style=\"text-align: right;\">\n",
       "      <th></th>\n",
       "      <th>Volume (in millions)</th>\n",
       "      <th>Year</th>\n",
       "      <th>day_of_week</th>\n",
       "    </tr>\n",
       "    <tr>\n",
       "      <th>Date</th>\n",
       "      <th></th>\n",
       "      <th></th>\n",
       "      <th></th>\n",
       "    </tr>\n",
       "  </thead>\n",
       "  <tbody>\n",
       "    <tr>\n",
       "      <th>January 01, 2018</th>\n",
       "      <td>184</td>\n",
       "      <td>2018</td>\n",
       "      <td>0</td>\n",
       "    </tr>\n",
       "    <tr>\n",
       "      <th>January 02, 2018</th>\n",
       "      <td>324</td>\n",
       "      <td>2018</td>\n",
       "      <td>1</td>\n",
       "    </tr>\n",
       "    <tr>\n",
       "      <th>January 03, 2018</th>\n",
       "      <td>551</td>\n",
       "      <td>2018</td>\n",
       "      <td>2</td>\n",
       "    </tr>\n",
       "    <tr>\n",
       "      <th>January 04, 2018</th>\n",
       "      <td>303</td>\n",
       "      <td>2018</td>\n",
       "      <td>3</td>\n",
       "    </tr>\n",
       "    <tr>\n",
       "      <th>January 05, 2018</th>\n",
       "      <td>449</td>\n",
       "      <td>2018</td>\n",
       "      <td>4</td>\n",
       "    </tr>\n",
       "  </tbody>\n",
       "</table>\n",
       "</div>"
      ],
      "text/plain": [
       "                  Volume (in millions)  Year  day_of_week\n",
       "Date                                                     \n",
       "January 01, 2018                   184  2018            0\n",
       "January 02, 2018                   324  2018            1\n",
       "January 03, 2018                   551  2018            2\n",
       "January 04, 2018                   303  2018            3\n",
       "January 05, 2018                   449  2018            4"
      ]
     },
     "execution_count": 29,
     "metadata": {},
     "output_type": "execute_result"
    }
   ],
   "source": [
    "temp_df = df.copy()\n",
    "temp_df.index = df.index.strftime('%B %d, %Y')\n",
    "temp_df.head()"
   ]
  },
  {
   "cell_type": "markdown",
   "id": "7918630f-cd15-4b80-866b-66bb0dbaf477",
   "metadata": {},
   "source": [
    "If the `Date` column wasn't the index, then the `dt` accessor would have to have been used to change the format. It would work like this:\\\n",
    "        `df['Date'].dt.strftime('%B %d, %y')`"
   ]
  },
  {
   "cell_type": "markdown",
   "id": "7aa85321-49a0-4e48-b2cc-a0a4de2682da",
   "metadata": {},
   "source": [
    "# Dealing with missing data"
   ]
  },
  {
   "cell_type": "code",
   "execution_count": 31,
   "id": "5f69eb2b-8a39-4cec-b20c-5d7e40cbbe1d",
   "metadata": {},
   "outputs": [],
   "source": [
    "new_df = pd.read_csv('missing_time_series_data.csv',index_col='index')"
   ]
  },
  {
   "cell_type": "code",
   "execution_count": 32,
   "id": "08dcd206-5be6-43e6-8aa2-43ed2e98c428",
   "metadata": {},
   "outputs": [
    {
     "data": {
      "text/html": [
       "<div>\n",
       "<style scoped>\n",
       "    .dataframe tbody tr th:only-of-type {\n",
       "        vertical-align: middle;\n",
       "    }\n",
       "\n",
       "    .dataframe tbody tr th {\n",
       "        vertical-align: top;\n",
       "    }\n",
       "\n",
       "    .dataframe thead th {\n",
       "        text-align: right;\n",
       "    }\n",
       "</style>\n",
       "<table border=\"1\" class=\"dataframe\">\n",
       "  <thead>\n",
       "    <tr style=\"text-align: right;\">\n",
       "      <th></th>\n",
       "      <th>Date</th>\n",
       "      <th>Volume (in millions)</th>\n",
       "    </tr>\n",
       "    <tr>\n",
       "      <th>index</th>\n",
       "      <th></th>\n",
       "      <th></th>\n",
       "    </tr>\n",
       "  </thead>\n",
       "  <tbody>\n",
       "    <tr>\n",
       "      <th>0</th>\n",
       "      <td>2018-01-01</td>\n",
       "      <td>184.0</td>\n",
       "    </tr>\n",
       "    <tr>\n",
       "      <th>1</th>\n",
       "      <td>2018-01-02</td>\n",
       "      <td>324.0</td>\n",
       "    </tr>\n",
       "    <tr>\n",
       "      <th>2</th>\n",
       "      <td>2018-01-03</td>\n",
       "      <td>551.0</td>\n",
       "    </tr>\n",
       "    <tr>\n",
       "      <th>3</th>\n",
       "      <td>2018-01-04</td>\n",
       "      <td>303.0</td>\n",
       "    </tr>\n",
       "    <tr>\n",
       "      <th>4</th>\n",
       "      <td>NaN</td>\n",
       "      <td>NaN</td>\n",
       "    </tr>\n",
       "  </tbody>\n",
       "</table>\n",
       "</div>"
      ],
      "text/plain": [
       "             Date  Volume (in millions)\n",
       "index                                  \n",
       "0      2018-01-01                 184.0\n",
       "1      2018-01-02                 324.0\n",
       "2      2018-01-03                 551.0\n",
       "3      2018-01-04                 303.0\n",
       "4             NaN                   NaN"
      ]
     },
     "execution_count": 32,
     "metadata": {},
     "output_type": "execute_result"
    }
   ],
   "source": [
    "new_df.head()"
   ]
  },
  {
   "cell_type": "markdown",
   "id": "0250b921-5675-4a7c-8004-3cf175b67bc8",
   "metadata": {},
   "source": [
    "## Converting the `Date` column to a datetime object"
   ]
  },
  {
   "cell_type": "code",
   "execution_count": 33,
   "id": "4ef89c86-95e8-4c18-97c3-f7a4af56b3ad",
   "metadata": {},
   "outputs": [],
   "source": [
    "new_df['Date'] = pd.to_datetime(new_df['Date'])"
   ]
  },
  {
   "cell_type": "code",
   "execution_count": 36,
   "id": "0f2dcb50-eb95-4ead-a8a4-739d4f2abbf6",
   "metadata": {},
   "outputs": [
    {
     "name": "stdout",
     "output_type": "stream",
     "text": [
      "<class 'pandas.core.frame.DataFrame'>\n",
      "Index: 1156 entries, 0 to 1155\n",
      "Data columns (total 2 columns):\n",
      " #   Column                Non-Null Count  Dtype         \n",
      "---  ------                --------------  -----         \n",
      " 0   Date                  578 non-null    datetime64[ns]\n",
      " 1   Volume (in millions)  578 non-null    float64       \n",
      "dtypes: datetime64[ns](1), float64(1)\n",
      "memory usage: 27.1 KB\n"
     ]
    }
   ],
   "source": [
    "new_df.info()"
   ]
  },
  {
   "cell_type": "markdown",
   "id": "87c37e8a-11a5-4a81-ac7c-bbe603a05b8e",
   "metadata": {},
   "source": [
    "## Checking for missing data"
   ]
  },
  {
   "cell_type": "code",
   "execution_count": 37,
   "id": "053d163d-e25a-4342-b3e0-de72762fcbf6",
   "metadata": {},
   "outputs": [
    {
     "data": {
      "text/plain": [
       "Date                    578\n",
       "Volume (in millions)    578\n",
       "dtype: int64"
      ]
     },
     "execution_count": 37,
     "metadata": {},
     "output_type": "execute_result"
    }
   ],
   "source": [
    "new_df.isna().sum()"
   ]
  },
  {
   "cell_type": "markdown",
   "id": "ebe5dda3-316b-4537-8f89-306f42cfca9e",
   "metadata": {},
   "source": [
    "# Filling the missing data with the closest valid data in the same column"
   ]
  },
  {
   "cell_type": "markdown",
   "id": "c8ac72c5-4478-4446-bdfb-bb188d1e0ae7",
   "metadata": {},
   "source": [
    "Can be achieved by specifying the parameter `method='ffill'`. Though this is depereceated and it's now recommended to use the function `ffill()`"
   ]
  },
  {
   "cell_type": "code",
   "execution_count": 41,
   "id": "d15ab647-5deb-45c5-853f-8a6883baf80a",
   "metadata": {},
   "outputs": [],
   "source": [
    "new_df = new_df.ffill()"
   ]
  },
  {
   "cell_type": "code",
   "execution_count": 42,
   "id": "ac13b797-7f25-4390-9cd3-c4e8325b6875",
   "metadata": {},
   "outputs": [
    {
     "data": {
      "text/plain": [
       "Date                    0\n",
       "Volume (in millions)    0\n",
       "dtype: int64"
      ]
     },
     "execution_count": 42,
     "metadata": {},
     "output_type": "execute_result"
    }
   ],
   "source": [
    "new_df.isna().sum()"
   ]
  }
 ],
 "metadata": {
  "kernelspec": {
   "display_name": "Python 3 (ipykernel)",
   "language": "python",
   "name": "python3"
  },
  "language_info": {
   "codemirror_mode": {
    "name": "ipython",
    "version": 3
   },
   "file_extension": ".py",
   "mimetype": "text/x-python",
   "name": "python",
   "nbconvert_exporter": "python",
   "pygments_lexer": "ipython3",
   "version": "3.12.3"
  }
 },
 "nbformat": 4,
 "nbformat_minor": 5
}
