{
 "cells": [
  {
   "cell_type": "markdown",
   "id": "2bd22c88-683e-4cc0-8017-ad78be0d6a66",
   "metadata": {},
   "source": [
    "# Import Libraries"
   ]
  },
  {
   "cell_type": "code",
   "execution_count": 1,
   "id": "6d9086e0-27d7-47d1-9f4f-5e52442cfe01",
   "metadata": {},
   "outputs": [],
   "source": [
    "import pandas as pd\n",
    "import numpy as np"
   ]
  },
  {
   "cell_type": "markdown",
   "id": "7253157a-cc41-4155-a7aa-494a6a2e9587",
   "metadata": {},
   "source": [
    "# Load Datasets"
   ]
  },
  {
   "cell_type": "code",
   "execution_count": 4,
   "id": "d5429675-2c49-45c3-b297-fc407c6857ad",
   "metadata": {},
   "outputs": [],
   "source": [
    "test_scores = pd.read_csv('./test_scores.csv')"
   ]
  },
  {
   "cell_type": "markdown",
   "id": "1be5a4db-1141-4f56-b80f-be65da0e2e8b",
   "metadata": {},
   "source": [
    "## Creating a Copy of the original dataset"
   ]
  },
  {
   "cell_type": "code",
   "execution_count": 5,
   "id": "f91c27ba-da18-4f7c-b018-eb53b0eabf09",
   "metadata": {},
   "outputs": [],
   "source": [
    "df = test_scores.copy()"
   ]
  },
  {
   "cell_type": "code",
   "execution_count": 6,
   "id": "092a1a11-7945-416d-ab25-1aae54b9f5f4",
   "metadata": {},
   "outputs": [
    {
     "data": {
      "text/html": [
       "<div>\n",
       "<style scoped>\n",
       "    .dataframe tbody tr th:only-of-type {\n",
       "        vertical-align: middle;\n",
       "    }\n",
       "\n",
       "    .dataframe tbody tr th {\n",
       "        vertical-align: top;\n",
       "    }\n",
       "\n",
       "    .dataframe thead th {\n",
       "        text-align: right;\n",
       "    }\n",
       "</style>\n",
       "<table border=\"1\" class=\"dataframe\">\n",
       "  <thead>\n",
       "    <tr style=\"text-align: right;\">\n",
       "      <th></th>\n",
       "      <th>Name</th>\n",
       "      <th>Age</th>\n",
       "      <th>Test A Score</th>\n",
       "    </tr>\n",
       "  </thead>\n",
       "  <tbody>\n",
       "    <tr>\n",
       "      <th>0</th>\n",
       "      <td>Amy Linn</td>\n",
       "      <td>15</td>\n",
       "      <td>95</td>\n",
       "    </tr>\n",
       "    <tr>\n",
       "      <th>1</th>\n",
       "      <td>Marc Fletcher</td>\n",
       "      <td>15</td>\n",
       "      <td>50</td>\n",
       "    </tr>\n",
       "    <tr>\n",
       "      <th>2</th>\n",
       "      <td>Naima Barry</td>\n",
       "      <td>NaN</td>\n",
       "      <td>100</td>\n",
       "    </tr>\n",
       "    <tr>\n",
       "      <th>3</th>\n",
       "      <td>Kara Davis</td>\n",
       "      <td>15</td>\n",
       "      <td>NaN</td>\n",
       "    </tr>\n",
       "    <tr>\n",
       "      <th>4</th>\n",
       "      <td>Zeeshan Gibson</td>\n",
       "      <td>14</td>\n",
       "      <td>100</td>\n",
       "    </tr>\n",
       "  </tbody>\n",
       "</table>\n",
       "</div>"
      ],
      "text/plain": [
       "             Name  Age Test A Score\n",
       "0        Amy Linn   15           95\n",
       "1   Marc Fletcher   15           50\n",
       "2     Naima Barry  NaN          100\n",
       "3      Kara Davis   15          NaN\n",
       "4  Zeeshan Gibson   14          100"
      ]
     },
     "execution_count": 6,
     "metadata": {},
     "output_type": "execute_result"
    }
   ],
   "source": [
    "df.head()"
   ]
  },
  {
   "cell_type": "markdown",
   "id": "871a289f-edc3-4d7c-87e4-c77e68426c83",
   "metadata": {},
   "source": [
    "# Finding all duplicated rows based on the `Name` and `Age` Columns"
   ]
  },
  {
   "cell_type": "code",
   "execution_count": 7,
   "id": "457a6b26-e20a-4889-b8d2-afa40760d2f2",
   "metadata": {},
   "outputs": [
    {
     "data": {
      "text/plain": [
       "0     False\n",
       "1     False\n",
       "2     False\n",
       "3     False\n",
       "4     False\n",
       "5      True\n",
       "6     False\n",
       "7     False\n",
       "8     False\n",
       "9      True\n",
       "10     True\n",
       "11     True\n",
       "dtype: bool"
      ]
     },
     "execution_count": 7,
     "metadata": {},
     "output_type": "execute_result"
    }
   ],
   "source": [
    "if_duplicated = df.duplicated(['Name','Age'])\n",
    "if_duplicated"
   ]
  },
  {
   "cell_type": "markdown",
   "id": "ee082ce9-0e4f-43f1-b9a6-fe60c9b1b9b7",
   "metadata": {},
   "source": [
    "# Getting the duplicated Rows"
   ]
  },
  {
   "cell_type": "code",
   "execution_count": 8,
   "id": "f5c89145-11c8-4d87-9351-d18d048f5054",
   "metadata": {},
   "outputs": [
    {
     "data": {
      "text/html": [
       "<div>\n",
       "<style scoped>\n",
       "    .dataframe tbody tr th:only-of-type {\n",
       "        vertical-align: middle;\n",
       "    }\n",
       "\n",
       "    .dataframe tbody tr th {\n",
       "        vertical-align: top;\n",
       "    }\n",
       "\n",
       "    .dataframe thead th {\n",
       "        text-align: right;\n",
       "    }\n",
       "</style>\n",
       "<table border=\"1\" class=\"dataframe\">\n",
       "  <thead>\n",
       "    <tr style=\"text-align: right;\">\n",
       "      <th></th>\n",
       "      <th>Name</th>\n",
       "      <th>Age</th>\n",
       "      <th>Test A Score</th>\n",
       "    </tr>\n",
       "  </thead>\n",
       "  <tbody>\n",
       "    <tr>\n",
       "      <th>5</th>\n",
       "      <td>Amy Linn</td>\n",
       "      <td>15</td>\n",
       "      <td>85</td>\n",
       "    </tr>\n",
       "    <tr>\n",
       "      <th>9</th>\n",
       "      <td>Marc Fletcher</td>\n",
       "      <td>15</td>\n",
       "      <td>32</td>\n",
       "    </tr>\n",
       "    <tr>\n",
       "      <th>10</th>\n",
       "      <td>Kara Davis</td>\n",
       "      <td>15</td>\n",
       "      <td>79</td>\n",
       "    </tr>\n",
       "    <tr>\n",
       "      <th>11</th>\n",
       "      <td>Amy Linn</td>\n",
       "      <td>15</td>\n",
       "      <td>95</td>\n",
       "    </tr>\n",
       "  </tbody>\n",
       "</table>\n",
       "</div>"
      ],
      "text/plain": [
       "             Name Age Test A Score\n",
       "5        Amy Linn  15           85\n",
       "9   Marc Fletcher  15           32\n",
       "10     Kara Davis  15           79\n",
       "11       Amy Linn  15           95"
      ]
     },
     "execution_count": 8,
     "metadata": {},
     "output_type": "execute_result"
    }
   ],
   "source": [
    "duplicate_rows = df.loc[df.duplicated(['Name','Age'])]\n",
    "duplicate_rows"
   ]
  },
  {
   "cell_type": "markdown",
   "id": "04723804-e373-461d-aa87-ccbc781fea39",
   "metadata": {},
   "source": [
    "## Getting all rows of \"Amy Linn\""
   ]
  },
  {
   "cell_type": "code",
   "execution_count": 9,
   "id": "ce0fdd95-5f65-4ce9-ae26-67e2eb23c44e",
   "metadata": {},
   "outputs": [
    {
     "data": {
      "text/html": [
       "<div>\n",
       "<style scoped>\n",
       "    .dataframe tbody tr th:only-of-type {\n",
       "        vertical-align: middle;\n",
       "    }\n",
       "\n",
       "    .dataframe tbody tr th {\n",
       "        vertical-align: top;\n",
       "    }\n",
       "\n",
       "    .dataframe thead th {\n",
       "        text-align: right;\n",
       "    }\n",
       "</style>\n",
       "<table border=\"1\" class=\"dataframe\">\n",
       "  <thead>\n",
       "    <tr style=\"text-align: right;\">\n",
       "      <th></th>\n",
       "      <th>Name</th>\n",
       "      <th>Age</th>\n",
       "      <th>Test A Score</th>\n",
       "    </tr>\n",
       "  </thead>\n",
       "  <tbody>\n",
       "    <tr>\n",
       "      <th>0</th>\n",
       "      <td>Amy Linn</td>\n",
       "      <td>15</td>\n",
       "      <td>95</td>\n",
       "    </tr>\n",
       "    <tr>\n",
       "      <th>5</th>\n",
       "      <td>Amy Linn</td>\n",
       "      <td>15</td>\n",
       "      <td>85</td>\n",
       "    </tr>\n",
       "    <tr>\n",
       "      <th>11</th>\n",
       "      <td>Amy Linn</td>\n",
       "      <td>15</td>\n",
       "      <td>95</td>\n",
       "    </tr>\n",
       "  </tbody>\n",
       "</table>\n",
       "</div>"
      ],
      "text/plain": [
       "        Name Age Test A Score\n",
       "0   Amy Linn  15           95\n",
       "5   Amy Linn  15           85\n",
       "11  Amy Linn  15           95"
      ]
     },
     "execution_count": 9,
     "metadata": {},
     "output_type": "execute_result"
    }
   ],
   "source": [
    "Amy = df.loc[df['Name'] == \"Amy Linn\"]\n",
    "Amy"
   ]
  },
  {
   "cell_type": "markdown",
   "id": "c034453d-20bb-4552-9c3f-2aed497b367d",
   "metadata": {},
   "source": [
    "Using using `duplicated()`, it will only return the duplicates of a certain row, not all the rows assciated with the duplication."
   ]
  },
  {
   "cell_type": "markdown",
   "id": "56734b48-f2fe-4bac-aab4-320800aca20b",
   "metadata": {},
   "source": [
    "# Getting information about the duplicated rows"
   ]
  },
  {
   "cell_type": "markdown",
   "id": "c24969cf-d4da-4578-8314-d1b3a7417598",
   "metadata": {},
   "source": [
    "## Getting the number of duplicated rows"
   ]
  },
  {
   "cell_type": "code",
   "execution_count": 10,
   "id": "1b534df1-9bb0-43b0-a8d8-c679369e97ba",
   "metadata": {},
   "outputs": [
    {
     "data": {
      "text/plain": [
       "4"
      ]
     },
     "execution_count": 10,
     "metadata": {},
     "output_type": "execute_result"
    }
   ],
   "source": [
    "df.duplicated(['Name','Age']).sum()"
   ]
  },
  {
   "cell_type": "markdown",
   "id": "ab568824-fd38-4133-9b07-3c6891e9a5f6",
   "metadata": {},
   "source": [
    "## Looking for trends in the duplicated rows visually"
   ]
  },
  {
   "cell_type": "markdown",
   "id": "24cc54e0-4cdb-406b-bdec-f024d89ce406",
   "metadata": {},
   "source": [
    "Can ask, are duplicates only for students who are 15 years-old?"
   ]
  },
  {
   "cell_type": "code",
   "execution_count": 11,
   "id": "719debd2-10ac-42bc-a1fb-cb32c38fdb04",
   "metadata": {},
   "outputs": [
    {
     "data": {
      "text/html": [
       "<div>\n",
       "<style scoped>\n",
       "    .dataframe tbody tr th:only-of-type {\n",
       "        vertical-align: middle;\n",
       "    }\n",
       "\n",
       "    .dataframe tbody tr th {\n",
       "        vertical-align: top;\n",
       "    }\n",
       "\n",
       "    .dataframe thead th {\n",
       "        text-align: right;\n",
       "    }\n",
       "</style>\n",
       "<table border=\"1\" class=\"dataframe\">\n",
       "  <thead>\n",
       "    <tr style=\"text-align: right;\">\n",
       "      <th></th>\n",
       "      <th>Name</th>\n",
       "      <th>Age</th>\n",
       "      <th>Test A Score</th>\n",
       "    </tr>\n",
       "  </thead>\n",
       "  <tbody>\n",
       "    <tr>\n",
       "      <th>0</th>\n",
       "      <td>Amy Linn</td>\n",
       "      <td>15</td>\n",
       "      <td>95</td>\n",
       "    </tr>\n",
       "    <tr>\n",
       "      <th>1</th>\n",
       "      <td>Marc Fletcher</td>\n",
       "      <td>15</td>\n",
       "      <td>50</td>\n",
       "    </tr>\n",
       "    <tr>\n",
       "      <th>2</th>\n",
       "      <td>Naima Barry</td>\n",
       "      <td>NaN</td>\n",
       "      <td>100</td>\n",
       "    </tr>\n",
       "    <tr>\n",
       "      <th>3</th>\n",
       "      <td>Kara Davis</td>\n",
       "      <td>15</td>\n",
       "      <td>NaN</td>\n",
       "    </tr>\n",
       "    <tr>\n",
       "      <th>4</th>\n",
       "      <td>Zeeshan Gibson</td>\n",
       "      <td>14</td>\n",
       "      <td>100</td>\n",
       "    </tr>\n",
       "    <tr>\n",
       "      <th>5</th>\n",
       "      <td>Amy Linn</td>\n",
       "      <td>15</td>\n",
       "      <td>85</td>\n",
       "    </tr>\n",
       "    <tr>\n",
       "      <th>6</th>\n",
       "      <td>Dewey Cobb</td>\n",
       "      <td>Fourteen</td>\n",
       "      <td>Sixty six</td>\n",
       "    </tr>\n",
       "    <tr>\n",
       "      <th>7</th>\n",
       "      <td>Zeeshan Gibson</td>\n",
       "      <td>120</td>\n",
       "      <td>108</td>\n",
       "    </tr>\n",
       "    <tr>\n",
       "      <th>8</th>\n",
       "      <td>Lie�m Gibson</td>\n",
       "      <td>14</td>\n",
       "      <td>NaN</td>\n",
       "    </tr>\n",
       "    <tr>\n",
       "      <th>9</th>\n",
       "      <td>Marc Fletcher</td>\n",
       "      <td>15</td>\n",
       "      <td>32</td>\n",
       "    </tr>\n",
       "    <tr>\n",
       "      <th>10</th>\n",
       "      <td>Kara Davis</td>\n",
       "      <td>15</td>\n",
       "      <td>79</td>\n",
       "    </tr>\n",
       "    <tr>\n",
       "      <th>11</th>\n",
       "      <td>Amy Linn</td>\n",
       "      <td>15</td>\n",
       "      <td>95</td>\n",
       "    </tr>\n",
       "  </tbody>\n",
       "</table>\n",
       "</div>"
      ],
      "text/plain": [
       "              Name       Age Test A Score\n",
       "0         Amy Linn        15           95\n",
       "1    Marc Fletcher        15           50\n",
       "2      Naima Barry       NaN          100\n",
       "3       Kara Davis        15          NaN\n",
       "4   Zeeshan Gibson        14          100\n",
       "5         Amy Linn        15           85\n",
       "6       Dewey Cobb  Fourteen    Sixty six\n",
       "7   Zeeshan Gibson       120          108\n",
       "8     Lie�m Gibson        14          NaN\n",
       "9    Marc Fletcher        15           32\n",
       "10      Kara Davis        15           79\n",
       "11        Amy Linn        15           95"
      ]
     },
     "execution_count": 11,
     "metadata": {},
     "output_type": "execute_result"
    }
   ],
   "source": [
    "df"
   ]
  },
  {
   "cell_type": "markdown",
   "id": "8e072047-4bf5-43ae-8ae3-a5c45fac2dda",
   "metadata": {},
   "source": [
    "# Determining which duplicated row to remove"
   ]
  },
  {
   "cell_type": "markdown",
   "id": "38c1e504-efaa-42f4-8683-3763776cbda5",
   "metadata": {},
   "source": [
    "Sometimes, some duplicate rows each contain certain different values (based on the duplicate row searching criteria)"
   ]
  },
  {
   "cell_type": "code",
   "execution_count": 14,
   "id": "93ecc136-d07f-48aa-a7c1-d3d52ec83517",
   "metadata": {},
   "outputs": [
    {
     "data": {
      "text/html": [
       "<div>\n",
       "<style scoped>\n",
       "    .dataframe tbody tr th:only-of-type {\n",
       "        vertical-align: middle;\n",
       "    }\n",
       "\n",
       "    .dataframe tbody tr th {\n",
       "        vertical-align: top;\n",
       "    }\n",
       "\n",
       "    .dataframe thead th {\n",
       "        text-align: right;\n",
       "    }\n",
       "</style>\n",
       "<table border=\"1\" class=\"dataframe\">\n",
       "  <thead>\n",
       "    <tr style=\"text-align: right;\">\n",
       "      <th></th>\n",
       "      <th>Name</th>\n",
       "      <th>Age</th>\n",
       "      <th>Test A Score</th>\n",
       "    </tr>\n",
       "  </thead>\n",
       "  <tbody>\n",
       "    <tr>\n",
       "      <th>0</th>\n",
       "      <td>Amy Linn</td>\n",
       "      <td>15</td>\n",
       "      <td>95</td>\n",
       "    </tr>\n",
       "    <tr>\n",
       "      <th>5</th>\n",
       "      <td>Amy Linn</td>\n",
       "      <td>15</td>\n",
       "      <td>85</td>\n",
       "    </tr>\n",
       "    <tr>\n",
       "      <th>11</th>\n",
       "      <td>Amy Linn</td>\n",
       "      <td>15</td>\n",
       "      <td>95</td>\n",
       "    </tr>\n",
       "  </tbody>\n",
       "</table>\n",
       "</div>"
      ],
      "text/plain": [
       "        Name Age Test A Score\n",
       "0   Amy Linn  15           95\n",
       "5   Amy Linn  15           85\n",
       "11  Amy Linn  15           95"
      ]
     },
     "execution_count": 14,
     "metadata": {},
     "output_type": "execute_result"
    }
   ],
   "source": [
    "Amy = df.loc[df['Name'] == 'Amy Linn']\n",
    "Amy"
   ]
  },
  {
   "cell_type": "markdown",
   "id": "38b1d403-2c2c-460e-9753-14df0b3f07c6",
   "metadata": {},
   "source": [
    "To fix this:\n",
    "\n",
    "1. The original data providers can be contacted about the data accuracy\n",
    "2. Duplicate rows that are incorrect can be removed while the correct ones are kept"
   ]
  },
  {
   "cell_type": "markdown",
   "id": "f8fbee08-8c5a-4f59-9c31-65549a21dc65",
   "metadata": {},
   "source": [
    "## Loading dataset with multiple test scores"
   ]
  },
  {
   "cell_type": "markdown",
   "id": "6a21b6e6-c97c-455f-9376-3c126d3b1151",
   "metadata": {},
   "source": [
    "Some duplicate scores on `Test A` are incorrect but every test score on `Test B` are correct"
   ]
  },
  {
   "cell_type": "code",
   "execution_count": 16,
   "id": "844568f3-e5d3-4d4e-b57b-c871c3d4cc33",
   "metadata": {},
   "outputs": [
    {
     "data": {
      "text/html": [
       "<div>\n",
       "<style scoped>\n",
       "    .dataframe tbody tr th:only-of-type {\n",
       "        vertical-align: middle;\n",
       "    }\n",
       "\n",
       "    .dataframe tbody tr th {\n",
       "        vertical-align: top;\n",
       "    }\n",
       "\n",
       "    .dataframe thead th {\n",
       "        text-align: right;\n",
       "    }\n",
       "</style>\n",
       "<table border=\"1\" class=\"dataframe\">\n",
       "  <thead>\n",
       "    <tr style=\"text-align: right;\">\n",
       "      <th></th>\n",
       "      <th>Name</th>\n",
       "      <th>Age</th>\n",
       "      <th>Test A Score</th>\n",
       "      <th>Test B Score</th>\n",
       "    </tr>\n",
       "  </thead>\n",
       "  <tbody>\n",
       "    <tr>\n",
       "      <th>0</th>\n",
       "      <td>Amy Linn</td>\n",
       "      <td>15</td>\n",
       "      <td>95</td>\n",
       "      <td>34</td>\n",
       "    </tr>\n",
       "    <tr>\n",
       "      <th>1</th>\n",
       "      <td>Marc Fletcher</td>\n",
       "      <td>15</td>\n",
       "      <td>50</td>\n",
       "      <td>87</td>\n",
       "    </tr>\n",
       "    <tr>\n",
       "      <th>2</th>\n",
       "      <td>Naima Barry</td>\n",
       "      <td>NaN</td>\n",
       "      <td>100</td>\n",
       "      <td>100</td>\n",
       "    </tr>\n",
       "    <tr>\n",
       "      <th>3</th>\n",
       "      <td>Kara Davis</td>\n",
       "      <td>15</td>\n",
       "      <td>NaN</td>\n",
       "      <td>3</td>\n",
       "    </tr>\n",
       "    <tr>\n",
       "      <th>4</th>\n",
       "      <td>Zeeshan Gibson</td>\n",
       "      <td>14</td>\n",
       "      <td>100</td>\n",
       "      <td>20</td>\n",
       "    </tr>\n",
       "    <tr>\n",
       "      <th>5</th>\n",
       "      <td>Amy Linn</td>\n",
       "      <td>15</td>\n",
       "      <td>85</td>\n",
       "      <td>88</td>\n",
       "    </tr>\n",
       "    <tr>\n",
       "      <th>6</th>\n",
       "      <td>Dewey Cobb</td>\n",
       "      <td>Fourteen</td>\n",
       "      <td>Sixty six</td>\n",
       "      <td>Fifty three</td>\n",
       "    </tr>\n",
       "    <tr>\n",
       "      <th>7</th>\n",
       "      <td>Zeeshan Gibson</td>\n",
       "      <td>120</td>\n",
       "      <td>108</td>\n",
       "      <td>100</td>\n",
       "    </tr>\n",
       "    <tr>\n",
       "      <th>8</th>\n",
       "      <td>Lie�m Gibson</td>\n",
       "      <td>14</td>\n",
       "      <td>NaN</td>\n",
       "      <td>75</td>\n",
       "    </tr>\n",
       "    <tr>\n",
       "      <th>9</th>\n",
       "      <td>Marc Fletcher</td>\n",
       "      <td>15</td>\n",
       "      <td>32</td>\n",
       "      <td>54</td>\n",
       "    </tr>\n",
       "    <tr>\n",
       "      <th>10</th>\n",
       "      <td>Kara Davis</td>\n",
       "      <td>15</td>\n",
       "      <td>79</td>\n",
       "      <td>90</td>\n",
       "    </tr>\n",
       "  </tbody>\n",
       "</table>\n",
       "</div>"
      ],
      "text/plain": [
       "              Name       Age Test A Score Test B Score\n",
       "0         Amy Linn        15           95           34\n",
       "1    Marc Fletcher        15           50           87\n",
       "2      Naima Barry       NaN          100          100\n",
       "3       Kara Davis        15          NaN            3\n",
       "4   Zeeshan Gibson        14          100           20\n",
       "5         Amy Linn        15           85           88\n",
       "6       Dewey Cobb  Fourteen    Sixty six  Fifty three\n",
       "7   Zeeshan Gibson       120          108          100\n",
       "8     Lie�m Gibson        14          NaN           75\n",
       "9    Marc Fletcher        15           32           54\n",
       "10      Kara Davis        15           79           90"
      ]
     },
     "execution_count": 16,
     "metadata": {},
     "output_type": "execute_result"
    }
   ],
   "source": [
    "multi_test_scores = pd.read_csv('./multiple_test_scores.csv')\n",
    "multi_test_scores"
   ]
  },
  {
   "cell_type": "markdown",
   "id": "b9b40484-bdba-46a2-8863-6f5707e9a5a1",
   "metadata": {},
   "source": [
    "## Getting duplicate rows based on the `Age` and `Name` Columns"
   ]
  },
  {
   "cell_type": "code",
   "execution_count": 17,
   "id": "a8fef1b5-51f1-441e-a4a1-2d8b82e6c441",
   "metadata": {},
   "outputs": [
    {
     "data": {
      "text/html": [
       "<div>\n",
       "<style scoped>\n",
       "    .dataframe tbody tr th:only-of-type {\n",
       "        vertical-align: middle;\n",
       "    }\n",
       "\n",
       "    .dataframe tbody tr th {\n",
       "        vertical-align: top;\n",
       "    }\n",
       "\n",
       "    .dataframe thead th {\n",
       "        text-align: right;\n",
       "    }\n",
       "</style>\n",
       "<table border=\"1\" class=\"dataframe\">\n",
       "  <thead>\n",
       "    <tr style=\"text-align: right;\">\n",
       "      <th></th>\n",
       "      <th>Name</th>\n",
       "      <th>Age</th>\n",
       "      <th>Test A Score</th>\n",
       "      <th>Test B Score</th>\n",
       "    </tr>\n",
       "  </thead>\n",
       "  <tbody>\n",
       "    <tr>\n",
       "      <th>5</th>\n",
       "      <td>Amy Linn</td>\n",
       "      <td>15</td>\n",
       "      <td>85</td>\n",
       "      <td>88</td>\n",
       "    </tr>\n",
       "    <tr>\n",
       "      <th>9</th>\n",
       "      <td>Marc Fletcher</td>\n",
       "      <td>15</td>\n",
       "      <td>32</td>\n",
       "      <td>54</td>\n",
       "    </tr>\n",
       "    <tr>\n",
       "      <th>10</th>\n",
       "      <td>Kara Davis</td>\n",
       "      <td>15</td>\n",
       "      <td>79</td>\n",
       "      <td>90</td>\n",
       "    </tr>\n",
       "  </tbody>\n",
       "</table>\n",
       "</div>"
      ],
      "text/plain": [
       "             Name Age Test A Score Test B Score\n",
       "5        Amy Linn  15           85           88\n",
       "9   Marc Fletcher  15           32           54\n",
       "10     Kara Davis  15           79           90"
      ]
     },
     "execution_count": 17,
     "metadata": {},
     "output_type": "execute_result"
    }
   ],
   "source": [
    "multi_test_scores[multi_test_scores.duplicated(['Age','Name'])]"
   ]
  },
  {
   "cell_type": "markdown",
   "id": "f249c750-2472-407b-8a63-cdd95d805847",
   "metadata": {},
   "source": [
    "To fix this:\r\n",
    "1. \r\n",
    "The original data providers can be contacted about the data accura\n",
    "   \n",
    "   They could reply with:\n",
    "   \n",
    "      * Duplicate students' data in `Test A Score` is incorrect and incorrect rows should be removed\n",
    "      * Duplicate students' data in `Test B Score` is correct and should be keptc\n",
    "\n",
    "2. y\r\n",
    "Duplicate rows that are incorrect can be removed while the correct ones are k\n",
    "    \n",
    "    The incorrect duplicate values in `Test A Score` can be marked as NaNs. Or, a seperate table can be created for repeated values in `Test B Score`ept"
   ]
  },
  {
   "cell_type": "markdown",
   "id": "7aaa9294-912a-4130-a39f-0794dc217abe",
   "metadata": {},
   "source": [
    "## Fixing the duplicated rows"
   ]
  },
  {
   "cell_type": "markdown",
   "id": "afd44f85-7a54-4bde-96de-2deefc9b231d",
   "metadata": {},
   "source": [
    "### By using `drop_duplicates()`"
   ]
  },
  {
   "cell_type": "markdown",
   "id": "d01ef054-ee78-4c7d-af39-f2adec63d302",
   "metadata": {},
   "source": [
    "by default, `drop_duplicates()` keeps the first occurance of the duplicated data"
   ]
  },
  {
   "cell_type": "code",
   "execution_count": 21,
   "id": "c0854993-9d2c-4134-a5c6-d7171512edd2",
   "metadata": {},
   "outputs": [
    {
     "data": {
      "text/html": [
       "<div>\n",
       "<style scoped>\n",
       "    .dataframe tbody tr th:only-of-type {\n",
       "        vertical-align: middle;\n",
       "    }\n",
       "\n",
       "    .dataframe tbody tr th {\n",
       "        vertical-align: top;\n",
       "    }\n",
       "\n",
       "    .dataframe thead th {\n",
       "        text-align: right;\n",
       "    }\n",
       "</style>\n",
       "<table border=\"1\" class=\"dataframe\">\n",
       "  <thead>\n",
       "    <tr style=\"text-align: right;\">\n",
       "      <th></th>\n",
       "      <th>Name</th>\n",
       "      <th>Age</th>\n",
       "      <th>Test A Score</th>\n",
       "    </tr>\n",
       "  </thead>\n",
       "  <tbody>\n",
       "    <tr>\n",
       "      <th>0</th>\n",
       "      <td>Amy Linn</td>\n",
       "      <td>15</td>\n",
       "      <td>95</td>\n",
       "    </tr>\n",
       "    <tr>\n",
       "      <th>1</th>\n",
       "      <td>Marc Fletcher</td>\n",
       "      <td>15</td>\n",
       "      <td>50</td>\n",
       "    </tr>\n",
       "    <tr>\n",
       "      <th>2</th>\n",
       "      <td>Naima Barry</td>\n",
       "      <td>NaN</td>\n",
       "      <td>100</td>\n",
       "    </tr>\n",
       "    <tr>\n",
       "      <th>3</th>\n",
       "      <td>Kara Davis</td>\n",
       "      <td>15</td>\n",
       "      <td>NaN</td>\n",
       "    </tr>\n",
       "    <tr>\n",
       "      <th>4</th>\n",
       "      <td>Zeeshan Gibson</td>\n",
       "      <td>14</td>\n",
       "      <td>100</td>\n",
       "    </tr>\n",
       "    <tr>\n",
       "      <th>6</th>\n",
       "      <td>Dewey Cobb</td>\n",
       "      <td>Fourteen</td>\n",
       "      <td>Sixty six</td>\n",
       "    </tr>\n",
       "    <tr>\n",
       "      <th>7</th>\n",
       "      <td>Zeeshan Gibson</td>\n",
       "      <td>120</td>\n",
       "      <td>108</td>\n",
       "    </tr>\n",
       "    <tr>\n",
       "      <th>8</th>\n",
       "      <td>Lie�m Gibson</td>\n",
       "      <td>14</td>\n",
       "      <td>NaN</td>\n",
       "    </tr>\n",
       "  </tbody>\n",
       "</table>\n",
       "</div>"
      ],
      "text/plain": [
       "             Name       Age Test A Score\n",
       "0        Amy Linn        15           95\n",
       "1   Marc Fletcher        15           50\n",
       "2     Naima Barry       NaN          100\n",
       "3      Kara Davis        15          NaN\n",
       "4  Zeeshan Gibson        14          100\n",
       "6      Dewey Cobb  Fourteen    Sixty six\n",
       "7  Zeeshan Gibson       120          108\n",
       "8    Lie�m Gibson        14          NaN"
      ]
     },
     "execution_count": 21,
     "metadata": {},
     "output_type": "execute_result"
    }
   ],
   "source": [
    "removed_dup = df.drop_duplicates(subset=['Name','Age'])\n",
    "removed_dup"
   ]
  },
  {
   "cell_type": "markdown",
   "id": "3b2c25ee-48e9-4222-8a97-0d02ebf61d20",
   "metadata": {},
   "source": [
    "To specify the last instance should be kept, the following paramter should be added `keep='last'`"
   ]
  },
  {
   "cell_type": "code",
   "execution_count": 22,
   "id": "9deb6ac6-4c0b-4ae7-a7f9-0933ca48529f",
   "metadata": {},
   "outputs": [
    {
     "data": {
      "text/html": [
       "<div>\n",
       "<style scoped>\n",
       "    .dataframe tbody tr th:only-of-type {\n",
       "        vertical-align: middle;\n",
       "    }\n",
       "\n",
       "    .dataframe tbody tr th {\n",
       "        vertical-align: top;\n",
       "    }\n",
       "\n",
       "    .dataframe thead th {\n",
       "        text-align: right;\n",
       "    }\n",
       "</style>\n",
       "<table border=\"1\" class=\"dataframe\">\n",
       "  <thead>\n",
       "    <tr style=\"text-align: right;\">\n",
       "      <th></th>\n",
       "      <th>Name</th>\n",
       "      <th>Age</th>\n",
       "      <th>Test A Score</th>\n",
       "    </tr>\n",
       "  </thead>\n",
       "  <tbody>\n",
       "    <tr>\n",
       "      <th>2</th>\n",
       "      <td>Naima Barry</td>\n",
       "      <td>NaN</td>\n",
       "      <td>100</td>\n",
       "    </tr>\n",
       "    <tr>\n",
       "      <th>4</th>\n",
       "      <td>Zeeshan Gibson</td>\n",
       "      <td>14</td>\n",
       "      <td>100</td>\n",
       "    </tr>\n",
       "    <tr>\n",
       "      <th>6</th>\n",
       "      <td>Dewey Cobb</td>\n",
       "      <td>Fourteen</td>\n",
       "      <td>Sixty six</td>\n",
       "    </tr>\n",
       "    <tr>\n",
       "      <th>7</th>\n",
       "      <td>Zeeshan Gibson</td>\n",
       "      <td>120</td>\n",
       "      <td>108</td>\n",
       "    </tr>\n",
       "    <tr>\n",
       "      <th>8</th>\n",
       "      <td>Lie�m Gibson</td>\n",
       "      <td>14</td>\n",
       "      <td>NaN</td>\n",
       "    </tr>\n",
       "    <tr>\n",
       "      <th>9</th>\n",
       "      <td>Marc Fletcher</td>\n",
       "      <td>15</td>\n",
       "      <td>32</td>\n",
       "    </tr>\n",
       "    <tr>\n",
       "      <th>10</th>\n",
       "      <td>Kara Davis</td>\n",
       "      <td>15</td>\n",
       "      <td>79</td>\n",
       "    </tr>\n",
       "    <tr>\n",
       "      <th>11</th>\n",
       "      <td>Amy Linn</td>\n",
       "      <td>15</td>\n",
       "      <td>95</td>\n",
       "    </tr>\n",
       "  </tbody>\n",
       "</table>\n",
       "</div>"
      ],
      "text/plain": [
       "              Name       Age Test A Score\n",
       "2      Naima Barry       NaN          100\n",
       "4   Zeeshan Gibson        14          100\n",
       "6       Dewey Cobb  Fourteen    Sixty six\n",
       "7   Zeeshan Gibson       120          108\n",
       "8     Lie�m Gibson        14          NaN\n",
       "9    Marc Fletcher        15           32\n",
       "10      Kara Davis        15           79\n",
       "11        Amy Linn        15           95"
      ]
     },
     "execution_count": 22,
     "metadata": {},
     "output_type": "execute_result"
    }
   ],
   "source": [
    "df.drop_duplicates(subset=['Name','Age'],keep='last')"
   ]
  },
  {
   "cell_type": "markdown",
   "id": "aa2bdfab-85e1-4390-ae96-102c8abb1fd9",
   "metadata": {},
   "source": [
    "### Confirming all duplicates are removed"
   ]
  },
  {
   "cell_type": "code",
   "execution_count": 25,
   "id": "f66f67cf-f93b-4949-87fb-381e97d2e40a",
   "metadata": {},
   "outputs": [
    {
     "data": {
      "text/plain": [
       "0"
      ]
     },
     "execution_count": 25,
     "metadata": {},
     "output_type": "execute_result"
    }
   ],
   "source": [
    "removed_dup.duplicated(['Name','Age']).sum()"
   ]
  },
  {
   "cell_type": "markdown",
   "id": "236987b0-ded6-48d8-8246-c8d8864e8ce3",
   "metadata": {},
   "source": [
    "### Dropping rows that are neither the first or the last"
   ]
  },
  {
   "cell_type": "markdown",
   "id": "e8e293ed-5e1b-4542-a380-9104559ec49e",
   "metadata": {},
   "source": [
    "`drop_duplicates()` can't handle this operation, it must be done manually."
   ]
  },
  {
   "cell_type": "code",
   "execution_count": 26,
   "id": "4b53cfb3-8578-45bb-a397-f89e028b904d",
   "metadata": {},
   "outputs": [
    {
     "data": {
      "text/html": [
       "<div>\n",
       "<style scoped>\n",
       "    .dataframe tbody tr th:only-of-type {\n",
       "        vertical-align: middle;\n",
       "    }\n",
       "\n",
       "    .dataframe tbody tr th {\n",
       "        vertical-align: top;\n",
       "    }\n",
       "\n",
       "    .dataframe thead th {\n",
       "        text-align: right;\n",
       "    }\n",
       "</style>\n",
       "<table border=\"1\" class=\"dataframe\">\n",
       "  <thead>\n",
       "    <tr style=\"text-align: right;\">\n",
       "      <th></th>\n",
       "      <th>Name</th>\n",
       "      <th>Age</th>\n",
       "      <th>Test A Score</th>\n",
       "    </tr>\n",
       "  </thead>\n",
       "  <tbody>\n",
       "    <tr>\n",
       "      <th>0</th>\n",
       "      <td>Amy Linn</td>\n",
       "      <td>15</td>\n",
       "      <td>95</td>\n",
       "    </tr>\n",
       "    <tr>\n",
       "      <th>5</th>\n",
       "      <td>Amy Linn</td>\n",
       "      <td>15</td>\n",
       "      <td>85</td>\n",
       "    </tr>\n",
       "    <tr>\n",
       "      <th>11</th>\n",
       "      <td>Amy Linn</td>\n",
       "      <td>15</td>\n",
       "      <td>95</td>\n",
       "    </tr>\n",
       "  </tbody>\n",
       "</table>\n",
       "</div>"
      ],
      "text/plain": [
       "        Name Age Test A Score\n",
       "0   Amy Linn  15           95\n",
       "5   Amy Linn  15           85\n",
       "11  Amy Linn  15           95"
      ]
     },
     "execution_count": 26,
     "metadata": {},
     "output_type": "execute_result"
    }
   ],
   "source": [
    "Amy = df.loc[df['Name'] == \"Amy Linn\"]\n",
    "Amy"
   ]
  },
  {
   "cell_type": "code",
   "execution_count": 28,
   "id": "63ed6408-2777-4d25-b77e-26d7203a4510",
   "metadata": {},
   "outputs": [
    {
     "data": {
      "text/html": [
       "<div>\n",
       "<style scoped>\n",
       "    .dataframe tbody tr th:only-of-type {\n",
       "        vertical-align: middle;\n",
       "    }\n",
       "\n",
       "    .dataframe tbody tr th {\n",
       "        vertical-align: top;\n",
       "    }\n",
       "\n",
       "    .dataframe thead th {\n",
       "        text-align: right;\n",
       "    }\n",
       "</style>\n",
       "<table border=\"1\" class=\"dataframe\">\n",
       "  <thead>\n",
       "    <tr style=\"text-align: right;\">\n",
       "      <th></th>\n",
       "      <th>Name</th>\n",
       "      <th>Age</th>\n",
       "      <th>Test A Score</th>\n",
       "    </tr>\n",
       "  </thead>\n",
       "  <tbody>\n",
       "    <tr>\n",
       "      <th>0</th>\n",
       "      <td>Amy Linn</td>\n",
       "      <td>15</td>\n",
       "      <td>95</td>\n",
       "    </tr>\n",
       "    <tr>\n",
       "      <th>11</th>\n",
       "      <td>Amy Linn</td>\n",
       "      <td>15</td>\n",
       "      <td>95</td>\n",
       "    </tr>\n",
       "  </tbody>\n",
       "</table>\n",
       "</div>"
      ],
      "text/plain": [
       "        Name Age Test A Score\n",
       "0   Amy Linn  15           95\n",
       "11  Amy Linn  15           95"
      ]
     },
     "execution_count": 28,
     "metadata": {},
     "output_type": "execute_result"
    }
   ],
   "source": [
    "Amy.drop(index=[5])"
   ]
  },
  {
   "cell_type": "markdown",
   "id": "c8a73c9d-61d1-4322-972c-cfdcbb764e07",
   "metadata": {},
   "source": [
    "### Converting duplicate values to NaNs"
   ]
  },
  {
   "cell_type": "markdown",
   "id": "80196501-80cf-43c0-b99f-8902b8085895",
   "metadata": {},
   "source": [
    "Instead of dropping the duplicated values, they can be converted to NaNs and dealt with later."
   ]
  },
  {
   "cell_type": "code",
   "execution_count": 29,
   "id": "34f0caa2-0a05-425f-bfb4-87020cb8e60e",
   "metadata": {},
   "outputs": [
    {
     "data": {
      "text/plain": [
       "Index([5, 9, 10], dtype='int64')"
      ]
     },
     "execution_count": 29,
     "metadata": {},
     "output_type": "execute_result"
    }
   ],
   "source": [
    "dupe_index = multi_test_scores[multi_test_scores.duplicated(['Name','Age'])].index\n",
    "dupe_index"
   ]
  },
  {
   "cell_type": "markdown",
   "id": "7ced116b-40cb-4a81-a4e8-fb245fd8aa9a",
   "metadata": {},
   "source": [
    "#### Setting the duplicated index `Test A Score` to NaNs"
   ]
  },
  {
   "cell_type": "code",
   "execution_count": 31,
   "id": "ba88fd33-eac3-4d60-bb11-c3cd4b9ba3e0",
   "metadata": {},
   "outputs": [],
   "source": [
    "multi_test_scores.loc[dupe_index, 'Test A Score'] = np.nan"
   ]
  },
  {
   "cell_type": "code",
   "execution_count": 32,
   "id": "85cf1ab1-0e82-4d27-862c-c5eb7de7538f",
   "metadata": {},
   "outputs": [
    {
     "data": {
      "text/html": [
       "<div>\n",
       "<style scoped>\n",
       "    .dataframe tbody tr th:only-of-type {\n",
       "        vertical-align: middle;\n",
       "    }\n",
       "\n",
       "    .dataframe tbody tr th {\n",
       "        vertical-align: top;\n",
       "    }\n",
       "\n",
       "    .dataframe thead th {\n",
       "        text-align: right;\n",
       "    }\n",
       "</style>\n",
       "<table border=\"1\" class=\"dataframe\">\n",
       "  <thead>\n",
       "    <tr style=\"text-align: right;\">\n",
       "      <th></th>\n",
       "      <th>Name</th>\n",
       "      <th>Age</th>\n",
       "      <th>Test A Score</th>\n",
       "      <th>Test B Score</th>\n",
       "    </tr>\n",
       "  </thead>\n",
       "  <tbody>\n",
       "    <tr>\n",
       "      <th>0</th>\n",
       "      <td>Amy Linn</td>\n",
       "      <td>15</td>\n",
       "      <td>95</td>\n",
       "      <td>34</td>\n",
       "    </tr>\n",
       "    <tr>\n",
       "      <th>1</th>\n",
       "      <td>Marc Fletcher</td>\n",
       "      <td>15</td>\n",
       "      <td>50</td>\n",
       "      <td>87</td>\n",
       "    </tr>\n",
       "    <tr>\n",
       "      <th>2</th>\n",
       "      <td>Naima Barry</td>\n",
       "      <td>NaN</td>\n",
       "      <td>100</td>\n",
       "      <td>100</td>\n",
       "    </tr>\n",
       "    <tr>\n",
       "      <th>3</th>\n",
       "      <td>Kara Davis</td>\n",
       "      <td>15</td>\n",
       "      <td>NaN</td>\n",
       "      <td>3</td>\n",
       "    </tr>\n",
       "    <tr>\n",
       "      <th>4</th>\n",
       "      <td>Zeeshan Gibson</td>\n",
       "      <td>14</td>\n",
       "      <td>100</td>\n",
       "      <td>20</td>\n",
       "    </tr>\n",
       "    <tr>\n",
       "      <th>5</th>\n",
       "      <td>Amy Linn</td>\n",
       "      <td>15</td>\n",
       "      <td>NaN</td>\n",
       "      <td>88</td>\n",
       "    </tr>\n",
       "    <tr>\n",
       "      <th>6</th>\n",
       "      <td>Dewey Cobb</td>\n",
       "      <td>Fourteen</td>\n",
       "      <td>Sixty six</td>\n",
       "      <td>Fifty three</td>\n",
       "    </tr>\n",
       "    <tr>\n",
       "      <th>7</th>\n",
       "      <td>Zeeshan Gibson</td>\n",
       "      <td>120</td>\n",
       "      <td>108</td>\n",
       "      <td>100</td>\n",
       "    </tr>\n",
       "    <tr>\n",
       "      <th>8</th>\n",
       "      <td>Lie�m Gibson</td>\n",
       "      <td>14</td>\n",
       "      <td>NaN</td>\n",
       "      <td>75</td>\n",
       "    </tr>\n",
       "    <tr>\n",
       "      <th>9</th>\n",
       "      <td>Marc Fletcher</td>\n",
       "      <td>15</td>\n",
       "      <td>NaN</td>\n",
       "      <td>54</td>\n",
       "    </tr>\n",
       "    <tr>\n",
       "      <th>10</th>\n",
       "      <td>Kara Davis</td>\n",
       "      <td>15</td>\n",
       "      <td>NaN</td>\n",
       "      <td>90</td>\n",
       "    </tr>\n",
       "  </tbody>\n",
       "</table>\n",
       "</div>"
      ],
      "text/plain": [
       "              Name       Age Test A Score Test B Score\n",
       "0         Amy Linn        15           95           34\n",
       "1    Marc Fletcher        15           50           87\n",
       "2      Naima Barry       NaN          100          100\n",
       "3       Kara Davis        15          NaN            3\n",
       "4   Zeeshan Gibson        14          100           20\n",
       "5         Amy Linn        15          NaN           88\n",
       "6       Dewey Cobb  Fourteen    Sixty six  Fifty three\n",
       "7   Zeeshan Gibson       120          108          100\n",
       "8     Lie�m Gibson        14          NaN           75\n",
       "9    Marc Fletcher        15          NaN           54\n",
       "10      Kara Davis        15          NaN           90"
      ]
     },
     "execution_count": 32,
     "metadata": {},
     "output_type": "execute_result"
    }
   ],
   "source": [
    "multi_test_scores"
   ]
  }
 ],
 "metadata": {
  "kernelspec": {
   "display_name": "Python 3 (ipykernel)",
   "language": "python",
   "name": "python3"
  },
  "language_info": {
   "codemirror_mode": {
    "name": "ipython",
    "version": 3
   },
   "file_extension": ".py",
   "mimetype": "text/x-python",
   "name": "python",
   "nbconvert_exporter": "python",
   "pygments_lexer": "ipython3",
   "version": "3.12.3"
  }
 },
 "nbformat": 4,
 "nbformat_minor": 5
}
