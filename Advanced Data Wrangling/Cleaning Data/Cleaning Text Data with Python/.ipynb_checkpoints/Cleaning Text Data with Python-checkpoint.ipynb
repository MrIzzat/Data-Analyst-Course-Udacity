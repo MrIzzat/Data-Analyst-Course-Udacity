{
 "cells": [
  {
   "cell_type": "markdown",
   "id": "1d40f7b5-f1f4-49ab-845f-81062640a8fc",
   "metadata": {},
   "source": [
    "# The Cleaning Text Data Process"
   ]
  },
  {
   "cell_type": "markdown",
   "id": "cda185cc-63ee-4789-9824-697d793ea80b",
   "metadata": {},
   "source": [
    "The first step is **normalization**, it converts messy data into a neat standard, which it can do by removing stop words like 'the' and 'a' as well as converting sentences to lowercase. Additional steps like stemming (converting words to their original form like going and gone to go) can also be applied during normalization. The next step is **tokenization**, which divides words into individual tokens in the dataset. The last step is **vectorization** (like word embedding), where each token is converted into a machine readable, useful for training machine learning models.\n",
    "\n",
    "\n",
    "![\"Text Data Cleaning Process\"](./Cleaning%20Text%20Data%20Process.png)"
   ]
  },
  {
   "cell_type": "markdown",
   "id": "45e05131-6dd1-49d7-8960-bed87970e6e8",
   "metadata": {},
   "source": [
    "# Import Libraries"
   ]
  },
  {
   "cell_type": "code",
   "execution_count": 19,
   "id": "81c1be13-79da-4810-9693-704b5e34da62",
   "metadata": {},
   "outputs": [
    {
     "name": "stderr",
     "output_type": "stream",
     "text": [
      "[nltk_data] Downloading package punkt to\n",
      "[nltk_data]     C:\\Users\\MrIzzat\\AppData\\Roaming\\nltk_data...\n",
      "[nltk_data]   Package punkt is already up-to-date!\n"
     ]
    }
   ],
   "source": [
    "import pandas as pd\n",
    "import nltk #Tokenization Library\n",
    "nltk.download('punkt') #To fix a bug\n",
    "\n",
    "from sklearn.feature_extraction.text import CountVectorizer"
   ]
  },
  {
   "cell_type": "markdown",
   "id": "5c742ec6-849c-46e9-8e70-c0789a0bc530",
   "metadata": {},
   "source": [
    "# Load Dataset"
   ]
  },
  {
   "cell_type": "code",
   "execution_count": 13,
   "id": "ebf47f9b-a931-46a6-b264-0b74927b1ea3",
   "metadata": {},
   "outputs": [],
   "source": [
    "text_data = pd.read_csv('./text_data.csv')"
   ]
  },
  {
   "cell_type": "markdown",
   "id": "afce352e-4d52-453b-888c-526d434d3790",
   "metadata": {},
   "source": [
    "# Normalizing the data"
   ]
  },
  {
   "cell_type": "markdown",
   "id": "ef9e2650-c5c3-4a1b-ac72-a424d30b9fbf",
   "metadata": {},
   "source": [
    "During this normalization, any unnecessary puncation is removed. Then, all the letters are converted to lower case."
   ]
  },
  {
   "cell_type": "code",
   "execution_count": 14,
   "id": "e0957f05-3170-48ec-9c85-28dbf5dfb42a",
   "metadata": {},
   "outputs": [
    {
     "data": {
      "text/html": [
       "<div>\n",
       "<style scoped>\n",
       "    .dataframe tbody tr th:only-of-type {\n",
       "        vertical-align: middle;\n",
       "    }\n",
       "\n",
       "    .dataframe tbody tr th {\n",
       "        vertical-align: top;\n",
       "    }\n",
       "\n",
       "    .dataframe thead th {\n",
       "        text-align: right;\n",
       "    }\n",
       "</style>\n",
       "<table border=\"1\" class=\"dataframe\">\n",
       "  <thead>\n",
       "    <tr style=\"text-align: right;\">\n",
       "      <th></th>\n",
       "      <th>sentiment</th>\n",
       "      <th>post</th>\n",
       "    </tr>\n",
       "  </thead>\n",
       "  <tbody>\n",
       "    <tr>\n",
       "      <th>0</th>\n",
       "      <td>positive</td>\n",
       "      <td>\"I love technology, especially data science!\"</td>\n",
       "    </tr>\n",
       "    <tr>\n",
       "      <th>1</th>\n",
       "      <td>neutral</td>\n",
       "      <td>\"Data science is a part of newer technologies\"</td>\n",
       "    </tr>\n",
       "    <tr>\n",
       "      <th>2</th>\n",
       "      <td>negative</td>\n",
       "      <td>\"Technology is a hindrance to our development\"</td>\n",
       "    </tr>\n",
       "  </tbody>\n",
       "</table>\n",
       "</div>"
      ],
      "text/plain": [
       "  sentiment                                            post\n",
       "0  positive   \"I love technology, especially data science!\"\n",
       "1   neutral  \"Data science is a part of newer technologies\"\n",
       "2  negative  \"Technology is a hindrance to our development\""
      ]
     },
     "execution_count": 14,
     "metadata": {},
     "output_type": "execute_result"
    }
   ],
   "source": [
    "text_data.head()"
   ]
  },
  {
   "cell_type": "markdown",
   "id": "189a5ae4-a982-4c10-aafd-2d65cd51b838",
   "metadata": {},
   "source": [
    "## Converting all the letters to lowercase "
   ]
  },
  {
   "cell_type": "code",
   "execution_count": 15,
   "id": "ad91181d-340d-4ea6-aa6b-3eeb76d64b2e",
   "metadata": {},
   "outputs": [
    {
     "data": {
      "text/plain": [
       "0     \"i love technology, especially data science!\"\n",
       "1    \"data science is a part of newer technologies\"\n",
       "2    \"technology is a hindrance to our development\"\n",
       "Name: post, dtype: object"
      ]
     },
     "execution_count": 15,
     "metadata": {},
     "output_type": "execute_result"
    }
   ],
   "source": [
    "text_data['post'] = text_data['post'].str.capitalize()\n",
    "text_data['post']"
   ]
  },
  {
   "cell_type": "markdown",
   "id": "7f5a02e7-379a-4262-af95-67d495513af7",
   "metadata": {},
   "source": [
    "## Removing all puncation from the text"
   ]
  },
  {
   "cell_type": "code",
   "execution_count": 16,
   "id": "694664e8-93c3-47df-a211-a25efdebc0c3",
   "metadata": {},
   "outputs": [
    {
     "data": {
      "text/plain": [
       "0     \"i love technology, especially data science!\"\n",
       "1    \"data science is a part of newer technologies\"\n",
       "2    \"technology is a hindrance to our development\"\n",
       "Name: post, dtype: object"
      ]
     },
     "execution_count": 16,
     "metadata": {},
     "output_type": "execute_result"
    }
   ],
   "source": [
    "text_data['post'] = text_data['post'].str.replace(r'[^\\w\\s]','')\n",
    "text_data['post']"
   ]
  },
  {
   "cell_type": "markdown",
   "id": "0001aa40-1163-426c-a848-cc49510b5cb3",
   "metadata": {},
   "source": [
    "## Finding the topic of each sentence and placing it into it's own seperate row"
   ]
  },
  {
   "cell_type": "code",
   "execution_count": 17,
   "id": "3103ca91-0812-4ae5-9ef0-751abdb6114d",
   "metadata": {},
   "outputs": [
    {
     "data": {
      "text/html": [
       "<div>\n",
       "<style scoped>\n",
       "    .dataframe tbody tr th:only-of-type {\n",
       "        vertical-align: middle;\n",
       "    }\n",
       "\n",
       "    .dataframe tbody tr th {\n",
       "        vertical-align: top;\n",
       "    }\n",
       "\n",
       "    .dataframe thead th {\n",
       "        text-align: right;\n",
       "    }\n",
       "</style>\n",
       "<table border=\"1\" class=\"dataframe\">\n",
       "  <thead>\n",
       "    <tr style=\"text-align: right;\">\n",
       "      <th></th>\n",
       "      <th>sentiment</th>\n",
       "      <th>post</th>\n",
       "      <th>Topic</th>\n",
       "    </tr>\n",
       "  </thead>\n",
       "  <tbody>\n",
       "    <tr>\n",
       "      <th>0</th>\n",
       "      <td>positive</td>\n",
       "      <td>\"i love technology, especially data science!\"</td>\n",
       "      <td>data science</td>\n",
       "    </tr>\n",
       "    <tr>\n",
       "      <th>1</th>\n",
       "      <td>neutral</td>\n",
       "      <td>\"data science is a part of newer technologies\"</td>\n",
       "      <td>data science</td>\n",
       "    </tr>\n",
       "    <tr>\n",
       "      <th>2</th>\n",
       "      <td>negative</td>\n",
       "      <td>\"technology is a hindrance to our development\"</td>\n",
       "      <td>NaN</td>\n",
       "    </tr>\n",
       "  </tbody>\n",
       "</table>\n",
       "</div>"
      ],
      "text/plain": [
       "  sentiment                                            post         Topic\n",
       "0  positive   \"i love technology, especially data science!\"  data science\n",
       "1   neutral  \"data science is a part of newer technologies\"  data science\n",
       "2  negative  \"technology is a hindrance to our development\"           NaN"
      ]
     },
     "execution_count": 17,
     "metadata": {},
     "output_type": "execute_result"
    }
   ],
   "source": [
    "text_data.loc[text_data['post'].str.contains('data science'),'Topic'] = 'data science'\n",
    "text_data.head()"
   ]
  },
  {
   "cell_type": "markdown",
   "id": "1de1bdf3-d103-4c24-95ef-dd93f1ce3ce8",
   "metadata": {},
   "source": [
    "During normalization, extra things can be done to the text such as removing unnecessary stop words like \"The\", \"a\" etc. as well as stemming."
   ]
  },
  {
   "cell_type": "markdown",
   "id": "f90def4c-97c1-4aef-96d3-8bdd51230225",
   "metadata": {},
   "source": [
    "# Tokenizing the Data"
   ]
  },
  {
   "cell_type": "markdown",
   "id": "c569e5fe-e214-4ee3-bd75-5ad3fbb6b3fc",
   "metadata": {},
   "source": [
    "During this step, each word will be stored seperately in a list. The list is placed into it's own column called `tokens`."
   ]
  },
  {
   "cell_type": "code",
   "execution_count": 18,
   "id": "0b54901e-4551-4711-abb4-91da7717c754",
   "metadata": {},
   "outputs": [
    {
     "data": {
      "text/html": [
       "<div>\n",
       "<style scoped>\n",
       "    .dataframe tbody tr th:only-of-type {\n",
       "        vertical-align: middle;\n",
       "    }\n",
       "\n",
       "    .dataframe tbody tr th {\n",
       "        vertical-align: top;\n",
       "    }\n",
       "\n",
       "    .dataframe thead th {\n",
       "        text-align: right;\n",
       "    }\n",
       "</style>\n",
       "<table border=\"1\" class=\"dataframe\">\n",
       "  <thead>\n",
       "    <tr style=\"text-align: right;\">\n",
       "      <th></th>\n",
       "      <th>sentiment</th>\n",
       "      <th>post</th>\n",
       "      <th>Topic</th>\n",
       "      <th>tokens</th>\n",
       "    </tr>\n",
       "  </thead>\n",
       "  <tbody>\n",
       "    <tr>\n",
       "      <th>0</th>\n",
       "      <td>positive</td>\n",
       "      <td>\"i love technology, especially data science!\"</td>\n",
       "      <td>data science</td>\n",
       "      <td>[``, i, love, technology, ,, especially, data,...</td>\n",
       "    </tr>\n",
       "    <tr>\n",
       "      <th>1</th>\n",
       "      <td>neutral</td>\n",
       "      <td>\"data science is a part of newer technologies\"</td>\n",
       "      <td>data science</td>\n",
       "      <td>[``, data, science, is, a, part, of, newer, te...</td>\n",
       "    </tr>\n",
       "    <tr>\n",
       "      <th>2</th>\n",
       "      <td>negative</td>\n",
       "      <td>\"technology is a hindrance to our development\"</td>\n",
       "      <td>NaN</td>\n",
       "      <td>[``, technology, is, a, hindrance, to, our, de...</td>\n",
       "    </tr>\n",
       "  </tbody>\n",
       "</table>\n",
       "</div>"
      ],
      "text/plain": [
       "  sentiment                                            post         Topic  \\\n",
       "0  positive   \"i love technology, especially data science!\"  data science   \n",
       "1   neutral  \"data science is a part of newer technologies\"  data science   \n",
       "2  negative  \"technology is a hindrance to our development\"           NaN   \n",
       "\n",
       "                                              tokens  \n",
       "0  [``, i, love, technology, ,, especially, data,...  \n",
       "1  [``, data, science, is, a, part, of, newer, te...  \n",
       "2  [``, technology, is, a, hindrance, to, our, de...  "
      ]
     },
     "execution_count": 18,
     "metadata": {},
     "output_type": "execute_result"
    }
   ],
   "source": [
    "text_data['tokens'] = text_data['post'].apply(nltk.word_tokenize)\n",
    "text_data"
   ]
  },
  {
   "cell_type": "markdown",
   "id": "c6eed160-5aa7-4dbb-851e-ae27da768513",
   "metadata": {},
   "source": [
    "# Vectorizing the Data"
   ]
  },
  {
   "cell_type": "markdown",
   "id": "9fec75ff-76d1-49a5-aa0c-53079830d2f5",
   "metadata": {},
   "source": [
    "During this step, each token is converted to a certain numeric value, using the `CountVectorizer()` function from the sklearn library"
   ]
  },
  {
   "cell_type": "markdown",
   "id": "50ee82dc-64d2-4538-813f-f9778f8cc0a0",
   "metadata": {},
   "source": [
    "## Creating a vectorizer"
   ]
  },
  {
   "cell_type": "code",
   "execution_count": 24,
   "id": "44b172b7-eb63-4bb7-91ce-eac09f8f809d",
   "metadata": {},
   "outputs": [
    {
     "data": {
      "text/plain": [
       "array([[1, 0, 1, 0, 0, 1, 0, 0, 0, 0, 1, 0, 1, 0],\n",
       "       [1, 0, 0, 0, 1, 0, 1, 1, 0, 1, 1, 1, 0, 0],\n",
       "       [0, 1, 0, 1, 1, 0, 0, 0, 1, 0, 0, 0, 1, 1]], dtype=int64)"
      ]
     },
     "execution_count": 24,
     "metadata": {},
     "output_type": "execute_result"
    }
   ],
   "source": [
    "vectorizer = CountVectorizer()\n",
    "\n",
    "words_matrix = vectorizer.fit_transform(text_data['post'].values)\n",
    "words_matrix.toarray()"
   ]
  },
  {
   "cell_type": "markdown",
   "id": "50b919b8-2f5b-4273-98c6-c05c003e8933",
   "metadata": {},
   "source": [
    "## Getting the number of times each word appears per sentence"
   ]
  },
  {
   "cell_type": "code",
   "execution_count": 22,
   "id": "9cab614e-4806-45df-8bb3-2235dedf1477",
   "metadata": {},
   "outputs": [
    {
     "data": {
      "text/html": [
       "<div>\n",
       "<style scoped>\n",
       "    .dataframe tbody tr th:only-of-type {\n",
       "        vertical-align: middle;\n",
       "    }\n",
       "\n",
       "    .dataframe tbody tr th {\n",
       "        vertical-align: top;\n",
       "    }\n",
       "\n",
       "    .dataframe thead th {\n",
       "        text-align: right;\n",
       "    }\n",
       "</style>\n",
       "<table border=\"1\" class=\"dataframe\">\n",
       "  <thead>\n",
       "    <tr style=\"text-align: right;\">\n",
       "      <th></th>\n",
       "      <th>data</th>\n",
       "      <th>development</th>\n",
       "      <th>especially</th>\n",
       "      <th>hindrance</th>\n",
       "      <th>is</th>\n",
       "      <th>love</th>\n",
       "      <th>newer</th>\n",
       "      <th>of</th>\n",
       "      <th>our</th>\n",
       "      <th>part</th>\n",
       "      <th>science</th>\n",
       "      <th>technologies</th>\n",
       "      <th>technology</th>\n",
       "      <th>to</th>\n",
       "    </tr>\n",
       "  </thead>\n",
       "  <tbody>\n",
       "    <tr>\n",
       "      <th>0</th>\n",
       "      <td>1</td>\n",
       "      <td>0</td>\n",
       "      <td>1</td>\n",
       "      <td>0</td>\n",
       "      <td>0</td>\n",
       "      <td>1</td>\n",
       "      <td>0</td>\n",
       "      <td>0</td>\n",
       "      <td>0</td>\n",
       "      <td>0</td>\n",
       "      <td>1</td>\n",
       "      <td>0</td>\n",
       "      <td>1</td>\n",
       "      <td>0</td>\n",
       "    </tr>\n",
       "    <tr>\n",
       "      <th>1</th>\n",
       "      <td>1</td>\n",
       "      <td>0</td>\n",
       "      <td>0</td>\n",
       "      <td>0</td>\n",
       "      <td>1</td>\n",
       "      <td>0</td>\n",
       "      <td>1</td>\n",
       "      <td>1</td>\n",
       "      <td>0</td>\n",
       "      <td>1</td>\n",
       "      <td>1</td>\n",
       "      <td>1</td>\n",
       "      <td>0</td>\n",
       "      <td>0</td>\n",
       "    </tr>\n",
       "    <tr>\n",
       "      <th>2</th>\n",
       "      <td>0</td>\n",
       "      <td>1</td>\n",
       "      <td>0</td>\n",
       "      <td>1</td>\n",
       "      <td>1</td>\n",
       "      <td>0</td>\n",
       "      <td>0</td>\n",
       "      <td>0</td>\n",
       "      <td>1</td>\n",
       "      <td>0</td>\n",
       "      <td>0</td>\n",
       "      <td>0</td>\n",
       "      <td>1</td>\n",
       "      <td>1</td>\n",
       "    </tr>\n",
       "  </tbody>\n",
       "</table>\n",
       "</div>"
      ],
      "text/plain": [
       "   data  development  especially  hindrance  is  love  newer  of  our  part  \\\n",
       "0     1            0           1          0   0     1      0   0    0     0   \n",
       "1     1            0           0          0   1     0      1   1    0     1   \n",
       "2     0            1           0          1   1     0      0   0    1     0   \n",
       "\n",
       "   science  technologies  technology  to  \n",
       "0        1             0           1   0  \n",
       "1        1             1           0   0  \n",
       "2        0             0           1   1  "
      ]
     },
     "execution_count": 22,
     "metadata": {},
     "output_type": "execute_result"
    }
   ],
   "source": [
    "counts = pd.DataFrame(words_matrix.toarray(),\n",
    "                     columns=vectorizer.get_feature_names_out())\n",
    "counts"
   ]
  },
  {
   "cell_type": "markdown",
   "id": "87ed357f-9ea0-43b8-b604-e03b9936c91c",
   "metadata": {},
   "source": [
    "## Viewing the vector to word dictionary"
   ]
  },
  {
   "cell_type": "code",
   "execution_count": 23,
   "id": "6feff256-b0bf-4cf5-9ec1-64207afde47d",
   "metadata": {},
   "outputs": [
    {
     "name": "stdout",
     "output_type": "stream",
     "text": [
      "{'love': 5, 'technology': 12, 'especially': 2, 'data': 0, 'science': 10, 'is': 4, 'part': 9, 'of': 7, 'newer': 6, 'technologies': 11, 'hindrance': 3, 'to': 13, 'our': 8, 'development': 1}\n"
     ]
    }
   ],
   "source": [
    "print(vectorizer.vocabulary_)"
   ]
  }
 ],
 "metadata": {
  "kernelspec": {
   "display_name": "Python 3 (ipykernel)",
   "language": "python",
   "name": "python3"
  },
  "language_info": {
   "codemirror_mode": {
    "name": "ipython",
    "version": 3
   },
   "file_extension": ".py",
   "mimetype": "text/x-python",
   "name": "python",
   "nbconvert_exporter": "python",
   "pygments_lexer": "ipython3",
   "version": "3.12.3"
  }
 },
 "nbformat": 4,
 "nbformat_minor": 5
}
