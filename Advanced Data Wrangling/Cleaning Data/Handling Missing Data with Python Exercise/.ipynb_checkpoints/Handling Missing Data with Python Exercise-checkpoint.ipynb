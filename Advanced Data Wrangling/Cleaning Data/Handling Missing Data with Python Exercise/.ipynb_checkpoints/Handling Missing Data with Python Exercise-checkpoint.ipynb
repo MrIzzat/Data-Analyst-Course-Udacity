{
 "cells": [
  {
   "cell_type": "markdown",
   "id": "ed5ef7d2-6ec6-4127-af17-8ac3b7ab9632",
   "metadata": {},
   "source": [
    "# Import Libraries"
   ]
  },
  {
   "cell_type": "code",
   "execution_count": 1,
   "id": "527b62fb-7436-4fd4-99ab-d037d47a55ac",
   "metadata": {},
   "outputs": [],
   "source": [
    "import pandas as pd\n",
    "import numpy as np"
   ]
  },
  {
   "cell_type": "markdown",
   "id": "199cbe0e-0653-43a6-84c4-d65a6de63d3c",
   "metadata": {},
   "source": [
    "# Load Dataset"
   ]
  },
  {
   "cell_type": "code",
   "execution_count": 3,
   "id": "e4e168df-546e-4c26-9414-01a694a9d06a",
   "metadata": {},
   "outputs": [],
   "source": [
    "df = pd.read_excel('./oes_research_2021_sec_55-56.xlsx')"
   ]
  },
  {
   "cell_type": "code",
   "execution_count": 4,
   "id": "5b3fe80b-e4f0-4274-b0e7-439d5cb37cc9",
   "metadata": {},
   "outputs": [
    {
     "data": {
      "text/html": [
       "<div>\n",
       "<style scoped>\n",
       "    .dataframe tbody tr th:only-of-type {\n",
       "        vertical-align: middle;\n",
       "    }\n",
       "\n",
       "    .dataframe tbody tr th {\n",
       "        vertical-align: top;\n",
       "    }\n",
       "\n",
       "    .dataframe thead th {\n",
       "        text-align: right;\n",
       "    }\n",
       "</style>\n",
       "<table border=\"1\" class=\"dataframe\">\n",
       "  <thead>\n",
       "    <tr style=\"text-align: right;\">\n",
       "      <th></th>\n",
       "      <th>AREA</th>\n",
       "      <th>AREA_TITLE</th>\n",
       "      <th>NAICS</th>\n",
       "      <th>NAICS_TITLE</th>\n",
       "      <th>I_GROUP</th>\n",
       "      <th>OCC_CODE</th>\n",
       "      <th>OCC_TITLE</th>\n",
       "      <th>O_GROUP</th>\n",
       "      <th>TOT_EMP</th>\n",
       "      <th>EMP_PRSE</th>\n",
       "      <th>...</th>\n",
       "      <th>H_MEDIAN</th>\n",
       "      <th>H_PCT75</th>\n",
       "      <th>H_PCT90</th>\n",
       "      <th>A_PCT10</th>\n",
       "      <th>A_PCT25</th>\n",
       "      <th>A_MEDIAN</th>\n",
       "      <th>A_PCT75</th>\n",
       "      <th>A_PCT90</th>\n",
       "      <th>ANNUAL</th>\n",
       "      <th>HOURLY</th>\n",
       "    </tr>\n",
       "  </thead>\n",
       "  <tbody>\n",
       "    <tr>\n",
       "      <th>0</th>\n",
       "      <td>1</td>\n",
       "      <td>Alabama</td>\n",
       "      <td>55</td>\n",
       "      <td>Management of Companies and Enterprises</td>\n",
       "      <td>sector</td>\n",
       "      <td>00-0000</td>\n",
       "      <td>All Occupations</td>\n",
       "      <td>total</td>\n",
       "      <td>21920</td>\n",
       "      <td>0</td>\n",
       "      <td>...</td>\n",
       "      <td>35.6</td>\n",
       "      <td>56.94</td>\n",
       "      <td>79.49</td>\n",
       "      <td>35470</td>\n",
       "      <td>47040</td>\n",
       "      <td>74050</td>\n",
       "      <td>118440</td>\n",
       "      <td>165330</td>\n",
       "      <td>NaN</td>\n",
       "      <td>NaN</td>\n",
       "    </tr>\n",
       "    <tr>\n",
       "      <th>1</th>\n",
       "      <td>1</td>\n",
       "      <td>Alabama</td>\n",
       "      <td>55</td>\n",
       "      <td>Management of Companies and Enterprises</td>\n",
       "      <td>sector</td>\n",
       "      <td>11-0000</td>\n",
       "      <td>Management Occupations</td>\n",
       "      <td>major</td>\n",
       "      <td>4820</td>\n",
       "      <td>4.1</td>\n",
       "      <td>...</td>\n",
       "      <td>61.13</td>\n",
       "      <td>92.03</td>\n",
       "      <td>#</td>\n",
       "      <td>61600</td>\n",
       "      <td>94020</td>\n",
       "      <td>127140</td>\n",
       "      <td>191420</td>\n",
       "      <td>#</td>\n",
       "      <td>NaN</td>\n",
       "      <td>NaN</td>\n",
       "    </tr>\n",
       "    <tr>\n",
       "      <th>2</th>\n",
       "      <td>1</td>\n",
       "      <td>Alabama</td>\n",
       "      <td>55</td>\n",
       "      <td>Management of Companies and Enterprises</td>\n",
       "      <td>sector</td>\n",
       "      <td>11-1021</td>\n",
       "      <td>General and Operations Managers</td>\n",
       "      <td>detailed</td>\n",
       "      <td>1600</td>\n",
       "      <td>7</td>\n",
       "      <td>...</td>\n",
       "      <td>60.5</td>\n",
       "      <td>#</td>\n",
       "      <td>#</td>\n",
       "      <td>60010</td>\n",
       "      <td>78520</td>\n",
       "      <td>125850</td>\n",
       "      <td>#</td>\n",
       "      <td>#</td>\n",
       "      <td>NaN</td>\n",
       "      <td>NaN</td>\n",
       "    </tr>\n",
       "    <tr>\n",
       "      <th>3</th>\n",
       "      <td>1</td>\n",
       "      <td>Alabama</td>\n",
       "      <td>55</td>\n",
       "      <td>Management of Companies and Enterprises</td>\n",
       "      <td>sector</td>\n",
       "      <td>11-2021</td>\n",
       "      <td>Marketing Managers</td>\n",
       "      <td>detailed</td>\n",
       "      <td>140</td>\n",
       "      <td>13.6</td>\n",
       "      <td>...</td>\n",
       "      <td>61.13</td>\n",
       "      <td>99.23</td>\n",
       "      <td>#</td>\n",
       "      <td>65240</td>\n",
       "      <td>98680</td>\n",
       "      <td>127140</td>\n",
       "      <td>206410</td>\n",
       "      <td>#</td>\n",
       "      <td>NaN</td>\n",
       "      <td>NaN</td>\n",
       "    </tr>\n",
       "    <tr>\n",
       "      <th>4</th>\n",
       "      <td>1</td>\n",
       "      <td>Alabama</td>\n",
       "      <td>55</td>\n",
       "      <td>Management of Companies and Enterprises</td>\n",
       "      <td>sector</td>\n",
       "      <td>11-2022</td>\n",
       "      <td>Sales Managers</td>\n",
       "      <td>detailed</td>\n",
       "      <td>140</td>\n",
       "      <td>14.7</td>\n",
       "      <td>...</td>\n",
       "      <td>49.56</td>\n",
       "      <td>77.94</td>\n",
       "      <td>#</td>\n",
       "      <td>59390</td>\n",
       "      <td>79010</td>\n",
       "      <td>103080</td>\n",
       "      <td>162110</td>\n",
       "      <td>#</td>\n",
       "      <td>NaN</td>\n",
       "      <td>NaN</td>\n",
       "    </tr>\n",
       "  </tbody>\n",
       "</table>\n",
       "<p>5 rows × 26 columns</p>\n",
       "</div>"
      ],
      "text/plain": [
       "   AREA AREA_TITLE  NAICS                              NAICS_TITLE I_GROUP  \\\n",
       "0     1    Alabama     55  Management of Companies and Enterprises  sector   \n",
       "1     1    Alabama     55  Management of Companies and Enterprises  sector   \n",
       "2     1    Alabama     55  Management of Companies and Enterprises  sector   \n",
       "3     1    Alabama     55  Management of Companies and Enterprises  sector   \n",
       "4     1    Alabama     55  Management of Companies and Enterprises  sector   \n",
       "\n",
       "  OCC_CODE                        OCC_TITLE   O_GROUP TOT_EMP EMP_PRSE  ...  \\\n",
       "0  00-0000                  All Occupations     total   21920        0  ...   \n",
       "1  11-0000           Management Occupations     major    4820      4.1  ...   \n",
       "2  11-1021  General and Operations Managers  detailed    1600        7  ...   \n",
       "3  11-2021               Marketing Managers  detailed     140     13.6  ...   \n",
       "4  11-2022                   Sales Managers  detailed     140     14.7  ...   \n",
       "\n",
       "  H_MEDIAN H_PCT75 H_PCT90 A_PCT10 A_PCT25 A_MEDIAN A_PCT75 A_PCT90 ANNUAL  \\\n",
       "0     35.6   56.94   79.49   35470   47040    74050  118440  165330    NaN   \n",
       "1    61.13   92.03       #   61600   94020   127140  191420       #    NaN   \n",
       "2     60.5       #       #   60010   78520   125850       #       #    NaN   \n",
       "3    61.13   99.23       #   65240   98680   127140  206410       #    NaN   \n",
       "4    49.56   77.94       #   59390   79010   103080  162110       #    NaN   \n",
       "\n",
       "  HOURLY  \n",
       "0    NaN  \n",
       "1    NaN  \n",
       "2    NaN  \n",
       "3    NaN  \n",
       "4    NaN  \n",
       "\n",
       "[5 rows x 26 columns]"
      ]
     },
     "execution_count": 4,
     "metadata": {},
     "output_type": "execute_result"
    }
   ],
   "source": [
    "df.head()"
   ]
  },
  {
   "cell_type": "markdown",
   "id": "e3d52b0b-1cd9-46ae-8777-d16f9db3b674",
   "metadata": {},
   "source": [
    "# Handling Missing Data"
   ]
  },
  {
   "cell_type": "markdown",
   "id": "8e85ec43-bc3f-4a84-bc82-ac5acb265a80",
   "metadata": {},
   "source": [
    "## Creating the subset of the dataset to work with"
   ]
  },
  {
   "cell_type": "code",
   "execution_count": 6,
   "id": "d8b2de96-efdf-48c5-a15a-d681d4c3167a",
   "metadata": {},
   "outputs": [],
   "source": [
    "df_sub = df[['AREA_TITLE','OCC_CODE','OCC_TITLE','H_MEAN']]"
   ]
  },
  {
   "cell_type": "markdown",
   "id": "cb21a099-e9eb-4db2-97ca-4114485fb118",
   "metadata": {},
   "source": [
    "## 1.1 Checking the Rows"
   ]
  },
  {
   "cell_type": "markdown",
   "id": "a7d54674-8264-4008-a5e0-b3fe4191880c",
   "metadata": {},
   "source": [
    "Checking the rows that contain `*` or `#` in the `H_MEAN` column"
   ]
  },
  {
   "cell_type": "code",
   "execution_count": 7,
   "id": "86f1f41e-c64b-444f-9903-9aee65b536fa",
   "metadata": {},
   "outputs": [
    {
     "data": {
      "text/html": [
       "<div>\n",
       "<style scoped>\n",
       "    .dataframe tbody tr th:only-of-type {\n",
       "        vertical-align: middle;\n",
       "    }\n",
       "\n",
       "    .dataframe tbody tr th {\n",
       "        vertical-align: top;\n",
       "    }\n",
       "\n",
       "    .dataframe thead th {\n",
       "        text-align: right;\n",
       "    }\n",
       "</style>\n",
       "<table border=\"1\" class=\"dataframe\">\n",
       "  <thead>\n",
       "    <tr style=\"text-align: right;\">\n",
       "      <th></th>\n",
       "      <th>AREA_TITLE</th>\n",
       "      <th>OCC_CODE</th>\n",
       "      <th>OCC_TITLE</th>\n",
       "      <th>H_MEAN</th>\n",
       "    </tr>\n",
       "  </thead>\n",
       "  <tbody>\n",
       "    <tr>\n",
       "      <th>15</th>\n",
       "      <td>Alabama</td>\n",
       "      <td>11-9141</td>\n",
       "      <td>Property, Real Estate, and Community Associati...</td>\n",
       "      <td>*</td>\n",
       "    </tr>\n",
       "    <tr>\n",
       "      <th>31</th>\n",
       "      <td>Alabama</td>\n",
       "      <td>13-2052</td>\n",
       "      <td>Personal Financial Advisors</td>\n",
       "      <td>*</td>\n",
       "    </tr>\n",
       "    <tr>\n",
       "      <th>51</th>\n",
       "      <td>Alabama</td>\n",
       "      <td>17-3011</td>\n",
       "      <td>Architectural and Civil Drafters</td>\n",
       "      <td>*</td>\n",
       "    </tr>\n",
       "    <tr>\n",
       "      <th>298</th>\n",
       "      <td>Arkansas</td>\n",
       "      <td>11-9141</td>\n",
       "      <td>Property, Real Estate, and Community Associati...</td>\n",
       "      <td>*</td>\n",
       "    </tr>\n",
       "    <tr>\n",
       "      <th>301</th>\n",
       "      <td>Arkansas</td>\n",
       "      <td>13-1031</td>\n",
       "      <td>Claims Adjusters, Examiners, and Investigators</td>\n",
       "      <td>*</td>\n",
       "    </tr>\n",
       "    <tr>\n",
       "      <th>...</th>\n",
       "      <td>...</td>\n",
       "      <td>...</td>\n",
       "      <td>...</td>\n",
       "      <td>...</td>\n",
       "    </tr>\n",
       "    <tr>\n",
       "      <th>71019</th>\n",
       "      <td>New Mexico</td>\n",
       "      <td>13-0000</td>\n",
       "      <td>Business and Financial Operations Occupations</td>\n",
       "      <td>*</td>\n",
       "    </tr>\n",
       "    <tr>\n",
       "      <th>71103</th>\n",
       "      <td>North Dakota</td>\n",
       "      <td>47-4071</td>\n",
       "      <td>Septic Tank Servicers and Sewer Pipe Cleaners</td>\n",
       "      <td>*</td>\n",
       "    </tr>\n",
       "    <tr>\n",
       "      <th>71264</th>\n",
       "      <td>Tennessee</td>\n",
       "      <td>11-9021</td>\n",
       "      <td>Construction Managers</td>\n",
       "      <td>*</td>\n",
       "    </tr>\n",
       "    <tr>\n",
       "      <th>71293</th>\n",
       "      <td>Tennessee</td>\n",
       "      <td>53-7062</td>\n",
       "      <td>Laborers and Freight, Stock, and Material Move...</td>\n",
       "      <td>*</td>\n",
       "    </tr>\n",
       "    <tr>\n",
       "      <th>71465</th>\n",
       "      <td>West Virginia</td>\n",
       "      <td>47-1011</td>\n",
       "      <td>First-Line Supervisors of Construction Trades ...</td>\n",
       "      <td>*</td>\n",
       "    </tr>\n",
       "  </tbody>\n",
       "</table>\n",
       "<p>562 rows × 4 columns</p>\n",
       "</div>"
      ],
      "text/plain": [
       "          AREA_TITLE OCC_CODE  \\\n",
       "15           Alabama  11-9141   \n",
       "31           Alabama  13-2052   \n",
       "51           Alabama  17-3011   \n",
       "298         Arkansas  11-9141   \n",
       "301         Arkansas  13-1031   \n",
       "...              ...      ...   \n",
       "71019     New Mexico  13-0000   \n",
       "71103   North Dakota  47-4071   \n",
       "71264      Tennessee  11-9021   \n",
       "71293      Tennessee  53-7062   \n",
       "71465  West Virginia  47-1011   \n",
       "\n",
       "                                               OCC_TITLE H_MEAN  \n",
       "15     Property, Real Estate, and Community Associati...      *  \n",
       "31                           Personal Financial Advisors      *  \n",
       "51                      Architectural and Civil Drafters      *  \n",
       "298    Property, Real Estate, and Community Associati...      *  \n",
       "301       Claims Adjusters, Examiners, and Investigators      *  \n",
       "...                                                  ...    ...  \n",
       "71019      Business and Financial Operations Occupations      *  \n",
       "71103      Septic Tank Servicers and Sewer Pipe Cleaners      *  \n",
       "71264                              Construction Managers      *  \n",
       "71293  Laborers and Freight, Stock, and Material Move...      *  \n",
       "71465  First-Line Supervisors of Construction Trades ...      *  \n",
       "\n",
       "[562 rows x 4 columns]"
      ]
     },
     "execution_count": 7,
     "metadata": {},
     "output_type": "execute_result"
    }
   ],
   "source": [
    "df_sub.loc[df_sub['H_MEAN'].isin(['*','#'])]"
   ]
  },
  {
   "cell_type": "markdown",
   "id": "5d5672e1-2d11-47cd-9bd4-318997a70ad4",
   "metadata": {},
   "source": [
    "## 1.2 Handling the Missing Data"
   ]
  },
  {
   "cell_type": "markdown",
   "id": "e46119f1-48f5-4fe1-8bf0-87c04ecfd107",
   "metadata": {},
   "source": [
    "The missing data can be removed or can be imputed"
   ]
  },
  {
   "cell_type": "markdown",
   "id": "c6e2a4ab-9ce5-4f03-93a0-b6acf225e242",
   "metadata": {},
   "source": [
    "### Setting missing data to NaN"
   ]
  },
  {
   "cell_type": "markdown",
   "id": "a442101f-976c-45d9-a31d-a4b8c1146f4f",
   "metadata": {},
   "source": [
    "Removes warnings"
   ]
  },
  {
   "cell_type": "code",
   "execution_count": 29,
   "id": "3f921bd2-2083-43ef-8819-a5c6a08626cb",
   "metadata": {},
   "outputs": [],
   "source": [
    "pd.options.mode.chained_assignment = None \n",
    "pd.set_option(\"future.no_silent_downcasting\", True)"
   ]
  },
  {
   "cell_type": "code",
   "execution_count": 12,
   "id": "c5905923-0fbb-402a-a611-217a40d136bf",
   "metadata": {},
   "outputs": [],
   "source": [
    "missing_wages = df_sub.copy()\n",
    "\n",
    "missing_wages['H_MEAN'] = missing_wages['H_MEAN'].replace({'#':np.nan,'*':np.nan})"
   ]
  },
  {
   "cell_type": "code",
   "execution_count": 13,
   "id": "7082032a-e34a-4994-8cd5-136e532f242a",
   "metadata": {},
   "outputs": [
    {
     "data": {
      "text/html": [
       "<div>\n",
       "<style scoped>\n",
       "    .dataframe tbody tr th:only-of-type {\n",
       "        vertical-align: middle;\n",
       "    }\n",
       "\n",
       "    .dataframe tbody tr th {\n",
       "        vertical-align: top;\n",
       "    }\n",
       "\n",
       "    .dataframe thead th {\n",
       "        text-align: right;\n",
       "    }\n",
       "</style>\n",
       "<table border=\"1\" class=\"dataframe\">\n",
       "  <thead>\n",
       "    <tr style=\"text-align: right;\">\n",
       "      <th></th>\n",
       "      <th>AREA_TITLE</th>\n",
       "      <th>OCC_CODE</th>\n",
       "      <th>OCC_TITLE</th>\n",
       "      <th>H_MEAN</th>\n",
       "    </tr>\n",
       "  </thead>\n",
       "  <tbody>\n",
       "    <tr>\n",
       "      <th>count</th>\n",
       "      <td>71508</td>\n",
       "      <td>71508</td>\n",
       "      <td>71508</td>\n",
       "      <td>70946.00</td>\n",
       "    </tr>\n",
       "    <tr>\n",
       "      <th>unique</th>\n",
       "      <td>54</td>\n",
       "      <td>596</td>\n",
       "      <td>596</td>\n",
       "      <td>6816.00</td>\n",
       "    </tr>\n",
       "    <tr>\n",
       "      <th>top</th>\n",
       "      <td>California</td>\n",
       "      <td>00-0000</td>\n",
       "      <td>All Occupations</td>\n",
       "      <td>20.65</td>\n",
       "    </tr>\n",
       "    <tr>\n",
       "      <th>freq</th>\n",
       "      <td>3223</td>\n",
       "      <td>1161</td>\n",
       "      <td>1161</td>\n",
       "      <td>57.00</td>\n",
       "    </tr>\n",
       "  </tbody>\n",
       "</table>\n",
       "</div>"
      ],
      "text/plain": [
       "        AREA_TITLE OCC_CODE        OCC_TITLE    H_MEAN\n",
       "count        71508    71508            71508  70946.00\n",
       "unique          54      596              596   6816.00\n",
       "top     California  00-0000  All Occupations     20.65\n",
       "freq          3223     1161             1161     57.00"
      ]
     },
     "execution_count": 13,
     "metadata": {},
     "output_type": "execute_result"
    }
   ],
   "source": [
    "missing_wages.describe()"
   ]
  },
  {
   "cell_type": "markdown",
   "id": "220e961e-5701-4c49-9031-aa9ee27fb1f6",
   "metadata": {},
   "source": [
    "### 1.2.1 Removing the NaN Rows"
   ]
  },
  {
   "cell_type": "markdown",
   "id": "314b8967-f096-4573-ba38-3f27f93b1f73",
   "metadata": {},
   "source": [
    "Creating a copy"
   ]
  },
  {
   "cell_type": "code",
   "execution_count": 17,
   "id": "ffbd554b-a6ac-4c44-b317-ee008593ec24",
   "metadata": {},
   "outputs": [],
   "source": [
    "drop_nan = missing_wages.copy()"
   ]
  },
  {
   "cell_type": "markdown",
   "id": "b6ed49d0-48e3-44b0-a007-b1165768f9ba",
   "metadata": {},
   "source": [
    "Dropping any rows that contain NaN values"
   ]
  },
  {
   "cell_type": "code",
   "execution_count": 18,
   "id": "4dcacf8b-cd9a-4a57-b159-af6903235a40",
   "metadata": {},
   "outputs": [],
   "source": [
    "drop_nan.dropna(inplace=True)"
   ]
  },
  {
   "cell_type": "markdown",
   "id": "14426de2-b056-4715-8082-363f00d82867",
   "metadata": {},
   "source": [
    "Seeing the summary statistics after dropping NaN values"
   ]
  },
  {
   "cell_type": "code",
   "execution_count": 20,
   "id": "2197339a-94c1-4fd5-9902-2e5648e18841",
   "metadata": {},
   "outputs": [
    {
     "data": {
      "text/html": [
       "<div>\n",
       "<style scoped>\n",
       "    .dataframe tbody tr th:only-of-type {\n",
       "        vertical-align: middle;\n",
       "    }\n",
       "\n",
       "    .dataframe tbody tr th {\n",
       "        vertical-align: top;\n",
       "    }\n",
       "\n",
       "    .dataframe thead th {\n",
       "        text-align: right;\n",
       "    }\n",
       "</style>\n",
       "<table border=\"1\" class=\"dataframe\">\n",
       "  <thead>\n",
       "    <tr style=\"text-align: right;\">\n",
       "      <th></th>\n",
       "      <th>AREA_TITLE</th>\n",
       "      <th>OCC_CODE</th>\n",
       "      <th>OCC_TITLE</th>\n",
       "      <th>H_MEAN</th>\n",
       "    </tr>\n",
       "  </thead>\n",
       "  <tbody>\n",
       "    <tr>\n",
       "      <th>count</th>\n",
       "      <td>70946</td>\n",
       "      <td>70946</td>\n",
       "      <td>70946</td>\n",
       "      <td>70946.00</td>\n",
       "    </tr>\n",
       "    <tr>\n",
       "      <th>unique</th>\n",
       "      <td>54</td>\n",
       "      <td>589</td>\n",
       "      <td>589</td>\n",
       "      <td>6816.00</td>\n",
       "    </tr>\n",
       "    <tr>\n",
       "      <th>top</th>\n",
       "      <td>California</td>\n",
       "      <td>00-0000</td>\n",
       "      <td>All Occupations</td>\n",
       "      <td>20.65</td>\n",
       "    </tr>\n",
       "    <tr>\n",
       "      <th>freq</th>\n",
       "      <td>3209</td>\n",
       "      <td>1161</td>\n",
       "      <td>1161</td>\n",
       "      <td>57.00</td>\n",
       "    </tr>\n",
       "  </tbody>\n",
       "</table>\n",
       "</div>"
      ],
      "text/plain": [
       "        AREA_TITLE OCC_CODE        OCC_TITLE    H_MEAN\n",
       "count        70946    70946            70946  70946.00\n",
       "unique          54      589              589   6816.00\n",
       "top     California  00-0000  All Occupations     20.65\n",
       "freq          3209     1161             1161     57.00"
      ]
     },
     "execution_count": 20,
     "metadata": {},
     "output_type": "execute_result"
    }
   ],
   "source": [
    "drop_nan.describe()"
   ]
  },
  {
   "cell_type": "markdown",
   "id": "675fdf06-9546-4699-8de8-ea29122ec727",
   "metadata": {},
   "source": [
    "Seeing the number of duplicate rows in the dataframe after dropping missing values"
   ]
  },
  {
   "cell_type": "code",
   "execution_count": 21,
   "id": "e2454c2c-63f7-4e3a-94df-63e7af07ed59",
   "metadata": {},
   "outputs": [
    {
     "data": {
      "text/plain": [
       "24390"
      ]
     },
     "execution_count": 21,
     "metadata": {},
     "output_type": "execute_result"
    }
   ],
   "source": [
    "drop_nan.duplicated().sum()"
   ]
  },
  {
   "cell_type": "markdown",
   "id": "cb942c32-6438-4faf-9f68-acb9b11f3ec5",
   "metadata": {},
   "source": [
    "### 1.2.2 Imputing rows with NA values"
   ]
  },
  {
   "cell_type": "markdown",
   "id": "fc5169a5-dee3-4892-a3b0-8ed4e3c7ce9a",
   "metadata": {},
   "source": [
    "#### Creating a copy"
   ]
  },
  {
   "cell_type": "code",
   "execution_count": 102,
   "id": "f78d82ae-7e0b-472b-a61c-d639a1b76ec3",
   "metadata": {},
   "outputs": [],
   "source": [
    "impute_nan = missing_wages.copy()"
   ]
  },
  {
   "cell_type": "markdown",
   "id": "cae66b1f-5325-445a-986d-a101e80c4b79",
   "metadata": {},
   "source": [
    "#### Imputing the missing values"
   ]
  },
  {
   "cell_type": "markdown",
   "id": "1d60a010-c6d0-4b03-98f0-f3e68735dea3",
   "metadata": {},
   "source": [
    "Using the normal way of `fillna()` won't work in this circumstance because `fillna()` is being applied on a copy of a dataframe. The two following approaches can resovle the issue."
   ]
  },
  {
   "cell_type": "code",
   "execution_count": 106,
   "id": "53de5b75-8fcb-42fa-a2e1-9bf1d1930d08",
   "metadata": {},
   "outputs": [],
   "source": [
    "impute_nan.fillna({'H_MEAN':impute_nan['H_MEAN'].mean()},inplace=True)"
   ]
  },
  {
   "cell_type": "code",
   "execution_count": 107,
   "id": "20a83bef-5653-4874-b9e7-13b24514f7e4",
   "metadata": {},
   "outputs": [],
   "source": [
    "impute_nan['H_MEAN'] = impute_nan['H_MEAN'].fillna(impute_nan['H_MEAN'].mean())"
   ]
  },
  {
   "cell_type": "code",
   "execution_count": 108,
   "id": "754f4d46-72e5-4202-b33e-4e3d59cba062",
   "metadata": {},
   "outputs": [
    {
     "data": {
      "text/plain": [
       "AREA_TITLE    0\n",
       "OCC_CODE      0\n",
       "OCC_TITLE     0\n",
       "H_MEAN        0\n",
       "dtype: int64"
      ]
     },
     "execution_count": 108,
     "metadata": {},
     "output_type": "execute_result"
    }
   ],
   "source": [
    "impute_nan.isna().sum()"
   ]
  },
  {
   "cell_type": "code",
   "execution_count": 112,
   "id": "922218d8-784d-49f3-bb6d-40b57f5798e3",
   "metadata": {},
   "outputs": [
    {
     "data": {
      "text/html": [
       "<div>\n",
       "<style scoped>\n",
       "    .dataframe tbody tr th:only-of-type {\n",
       "        vertical-align: middle;\n",
       "    }\n",
       "\n",
       "    .dataframe tbody tr th {\n",
       "        vertical-align: top;\n",
       "    }\n",
       "\n",
       "    .dataframe thead th {\n",
       "        text-align: right;\n",
       "    }\n",
       "</style>\n",
       "<table border=\"1\" class=\"dataframe\">\n",
       "  <thead>\n",
       "    <tr style=\"text-align: right;\">\n",
       "      <th></th>\n",
       "      <th>AREA_TITLE</th>\n",
       "      <th>OCC_CODE</th>\n",
       "      <th>OCC_TITLE</th>\n",
       "      <th>H_MEAN</th>\n",
       "    </tr>\n",
       "  </thead>\n",
       "  <tbody>\n",
       "    <tr>\n",
       "      <th>count</th>\n",
       "      <td>71508</td>\n",
       "      <td>71508</td>\n",
       "      <td>71508</td>\n",
       "      <td>71508.000000</td>\n",
       "    </tr>\n",
       "    <tr>\n",
       "      <th>unique</th>\n",
       "      <td>54</td>\n",
       "      <td>596</td>\n",
       "      <td>596</td>\n",
       "      <td>6817.000000</td>\n",
       "    </tr>\n",
       "    <tr>\n",
       "      <th>top</th>\n",
       "      <td>California</td>\n",
       "      <td>00-0000</td>\n",
       "      <td>All Occupations</td>\n",
       "      <td>30.538687</td>\n",
       "    </tr>\n",
       "    <tr>\n",
       "      <th>freq</th>\n",
       "      <td>3223</td>\n",
       "      <td>1161</td>\n",
       "      <td>1161</td>\n",
       "      <td>562.000000</td>\n",
       "    </tr>\n",
       "  </tbody>\n",
       "</table>\n",
       "</div>"
      ],
      "text/plain": [
       "        AREA_TITLE OCC_CODE        OCC_TITLE        H_MEAN\n",
       "count        71508    71508            71508  71508.000000\n",
       "unique          54      596              596   6817.000000\n",
       "top     California  00-0000  All Occupations     30.538687\n",
       "freq          3223     1161             1161    562.000000"
      ]
     },
     "execution_count": 112,
     "metadata": {},
     "output_type": "execute_result"
    }
   ],
   "source": [
    "impute_nan.describe()"
   ]
  },
  {
   "cell_type": "markdown",
   "id": "59091aea-20c0-41f3-8465-071ab325cc00",
   "metadata": {},
   "source": [
    "#### Seeing the duplicated rows after imputing"
   ]
  },
  {
   "cell_type": "code",
   "execution_count": 110,
   "id": "8dcbf65b-bc2d-43e2-b029-97a716b748ce",
   "metadata": {},
   "outputs": [
    {
     "data": {
      "text/plain": [
       "24670"
      ]
     },
     "execution_count": 110,
     "metadata": {},
     "output_type": "execute_result"
    }
   ],
   "source": [
    "impute_nan.duplicated().sum()"
   ]
  },
  {
   "cell_type": "markdown",
   "id": "19d9debc-66b1-4a77-a05a-ce951040321d",
   "metadata": {},
   "source": [
    "# 1.3: Answering some questions"
   ]
  },
  {
   "cell_type": "markdown",
   "id": "2b72e3f8-0a28-4ce0-bf7f-ff59f8e0678b",
   "metadata": {},
   "source": [
    "**1.3.1** Which strategy results in the least changes from the results of the `describe()` function and why?\n",
    "\n",
    "Removing missing rows yields the least changes in the results from the `describe()` function as `describe()` by default skips missing values, treating them as if they were removed. While imputing keeps the values of the other columns within that rows, thus skewing the results slightly.\n",
    "\n",
    "**1.3.2** In the context of uniqueness as a data quality attribute, which strategy results in an increase in the number of duplicated rows?\n",
    "\n",
    "Removing rows that contain missing data reduces the number of duplicated rows. A reason why this is the case is some rows with missing data are duplicates. Another reason could be that duplicated data could contain more missing data by default."
   ]
  }
 ],
 "metadata": {
  "kernelspec": {
   "display_name": "Python 3 (ipykernel)",
   "language": "python",
   "name": "python3"
  },
  "language_info": {
   "codemirror_mode": {
    "name": "ipython",
    "version": 3
   },
   "file_extension": ".py",
   "mimetype": "text/x-python",
   "name": "python",
   "nbconvert_exporter": "python",
   "pygments_lexer": "ipython3",
   "version": "3.12.3"
  }
 },
 "nbformat": 4,
 "nbformat_minor": 5
}
