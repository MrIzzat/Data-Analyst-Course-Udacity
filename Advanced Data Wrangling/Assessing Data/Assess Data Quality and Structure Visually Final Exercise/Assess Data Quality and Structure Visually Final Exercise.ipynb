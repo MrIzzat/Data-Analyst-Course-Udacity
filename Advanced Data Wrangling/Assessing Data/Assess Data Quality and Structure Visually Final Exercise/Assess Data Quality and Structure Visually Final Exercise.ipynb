{
 "cells": [
  {
   "cell_type": "markdown",
   "id": "86284a9e-d6e4-4852-9b34-191d898d6ae7",
   "metadata": {},
   "source": [
    "# Import Libraries"
   ]
  },
  {
   "cell_type": "code",
   "execution_count": 1,
   "id": "511c2a8b-7516-4d53-ae47-9b5cbbaf1b22",
   "metadata": {},
   "outputs": [],
   "source": [
    "import pandas as pd"
   ]
  },
  {
   "cell_type": "markdown",
   "id": "7c689a91-5d80-4af8-8277-3a8d4a991f89",
   "metadata": {},
   "source": [
    "# Load Datasets"
   ]
  },
  {
   "cell_type": "code",
   "execution_count": 4,
   "id": "993b0790-8d94-43a4-9c4b-c006ca61c74a",
   "metadata": {},
   "outputs": [],
   "source": [
    "patients = pd.read_csv('patients.csv')\n",
    "treatments = pd.read_csv('treatments.csv')"
   ]
  },
  {
   "cell_type": "markdown",
   "id": "15a8f7b1-a403-4c07-a64e-12bc7af1a2f1",
   "metadata": {},
   "source": [
    "# 1. Identifying Data Quality Issues in the Patients Data"
   ]
  },
  {
   "cell_type": "markdown",
   "id": "58297aba-8103-4029-a9a2-f08845bcf90d",
   "metadata": {},
   "source": [
    "The data in the patients data from is the following:\n",
    "\n",
    "- **patient_id**: the unique identifier for each patient\r\n",
    "- **assigned_sex**: the assigned sex of each patient at birth (male or female)\r\n",
    "- **given_name**: the given name (i.e. first name) of each patient\r\n",
    "- **surname**: the surname (i.e. last name) of each patient\r\n",
    "- **address**: the main address for each patient\r\n",
    "- **city**: the corresponding city for the main address of each patient\r\n",
    "- **state**: the corresponding state for the main address of each patient\r\n",
    "- **zip_code**: the corresponding zip code for the main address of each patient\r\n",
    "- **country**: the corresponding country for the main address of each patient (all United states for this clinical trial)\r\n",
    "- **contact**: phone number and email information for each patient\r\n",
    "- **birthdate**: the date of birth of each patient (month/day/year).\r\n",
    "> The [inclusion criteria](https://en.wikipedia.org/wiki/Inclusion_and_exclusion_criteria) for this clinical trial is  age >= 18 *(there is no maximum age because diabetes is a [growing problem](http://www.diabetes.co.uk/diabetes-and-the-elderly.html) among the elderly population)*\r\n",
    "- **weight**: the weight of each patient in pounds (lbs)\r\n",
    "- **height**: the height of each patient in inches (in)\r\n",
    "- **bmi**: the Body Mass Index (BMI) of each patient. \r\n",
    "> BMI is a simple calculation using a person's height and weight. The formula is BMI = kg/m<sup>2</sup> where kg is a person's weight in kilograms and m<sup>2</sup> is their height in metres squared. A BMI of 25.0 or more is overweight, while the healthy range is 18.5 to 24.9. *The [inclusion criteria](https://en.wikipedia.org/wiki/Inclusion_and_exclusion_criteria) for this clinical trial is 16 >= BMI >= 38.*"
   ]
  },
  {
   "cell_type": "markdown",
   "id": "ff9e56db-06e1-4074-a588-bf7afeb84088",
   "metadata": {},
   "source": [
    "## 1.1 Displaying the dataset"
   ]
  },
  {
   "cell_type": "markdown",
   "id": "4dd984ea-4bb1-4ffe-beea-e643b615ae8e",
   "metadata": {},
   "source": [
    "Looking for **accuracy** amd **validity** issues in the patients data farme."
   ]
  },
  {
   "cell_type": "code",
   "execution_count": 6,
   "id": "92d09ba8-1384-4cca-8779-ca885aee1762",
   "metadata": {},
   "outputs": [
    {
     "data": {
      "text/html": [
       "<div>\n",
       "<style scoped>\n",
       "    .dataframe tbody tr th:only-of-type {\n",
       "        vertical-align: middle;\n",
       "    }\n",
       "\n",
       "    .dataframe tbody tr th {\n",
       "        vertical-align: top;\n",
       "    }\n",
       "\n",
       "    .dataframe thead th {\n",
       "        text-align: right;\n",
       "    }\n",
       "</style>\n",
       "<table border=\"1\" class=\"dataframe\">\n",
       "  <thead>\n",
       "    <tr style=\"text-align: right;\">\n",
       "      <th></th>\n",
       "      <th>patient_id</th>\n",
       "      <th>assigned_sex</th>\n",
       "      <th>given_name</th>\n",
       "      <th>surname</th>\n",
       "      <th>address</th>\n",
       "      <th>city</th>\n",
       "      <th>state</th>\n",
       "      <th>zip_code</th>\n",
       "      <th>country</th>\n",
       "      <th>contact</th>\n",
       "      <th>birthdate</th>\n",
       "      <th>weight</th>\n",
       "      <th>height</th>\n",
       "      <th>bmi</th>\n",
       "    </tr>\n",
       "  </thead>\n",
       "  <tbody>\n",
       "    <tr>\n",
       "      <th>0</th>\n",
       "      <td>1</td>\n",
       "      <td>female</td>\n",
       "      <td>Zoe</td>\n",
       "      <td>Wellish</td>\n",
       "      <td>576 Brown Bear Drive</td>\n",
       "      <td>Rancho California</td>\n",
       "      <td>California</td>\n",
       "      <td>92390.0</td>\n",
       "      <td>United States</td>\n",
       "      <td>951-719-9170ZoeWellish@superrito.com</td>\n",
       "      <td>7/10/1976</td>\n",
       "      <td>121.7</td>\n",
       "      <td>66</td>\n",
       "      <td>19.6</td>\n",
       "    </tr>\n",
       "    <tr>\n",
       "      <th>1</th>\n",
       "      <td>2</td>\n",
       "      <td>female</td>\n",
       "      <td>Pamela</td>\n",
       "      <td>Hill</td>\n",
       "      <td>2370 University Hill Road</td>\n",
       "      <td>Armstrong</td>\n",
       "      <td>Illinois</td>\n",
       "      <td>61812.0</td>\n",
       "      <td>United States</td>\n",
       "      <td>PamelaSHill@cuvox.de+1 (217) 569-3204</td>\n",
       "      <td>4/3/1967</td>\n",
       "      <td>118.8</td>\n",
       "      <td>66</td>\n",
       "      <td>19.2</td>\n",
       "    </tr>\n",
       "    <tr>\n",
       "      <th>2</th>\n",
       "      <td>3</td>\n",
       "      <td>male</td>\n",
       "      <td>Jae</td>\n",
       "      <td>Debord</td>\n",
       "      <td>1493 Poling Farm Road</td>\n",
       "      <td>York</td>\n",
       "      <td>Nebraska</td>\n",
       "      <td>68467.0</td>\n",
       "      <td>United States</td>\n",
       "      <td>402-363-6804JaeMDebord@gustr.com</td>\n",
       "      <td>2/19/1980</td>\n",
       "      <td>177.8</td>\n",
       "      <td>71</td>\n",
       "      <td>24.8</td>\n",
       "    </tr>\n",
       "    <tr>\n",
       "      <th>3</th>\n",
       "      <td>4</td>\n",
       "      <td>male</td>\n",
       "      <td>Liêm</td>\n",
       "      <td>Phan</td>\n",
       "      <td>2335 Webster Street</td>\n",
       "      <td>Woodbridge</td>\n",
       "      <td>NJ</td>\n",
       "      <td>7095.0</td>\n",
       "      <td>United States</td>\n",
       "      <td>PhanBaLiem@jourrapide.com+1 (732) 636-8246</td>\n",
       "      <td>7/26/1951</td>\n",
       "      <td>220.9</td>\n",
       "      <td>70</td>\n",
       "      <td>31.7</td>\n",
       "    </tr>\n",
       "    <tr>\n",
       "      <th>4</th>\n",
       "      <td>5</td>\n",
       "      <td>male</td>\n",
       "      <td>Tim</td>\n",
       "      <td>Neudorf</td>\n",
       "      <td>1428 Turkey Pen Lane</td>\n",
       "      <td>Dothan</td>\n",
       "      <td>AL</td>\n",
       "      <td>36303.0</td>\n",
       "      <td>United States</td>\n",
       "      <td>334-515-7487TimNeudorf@cuvox.de</td>\n",
       "      <td>2/18/1928</td>\n",
       "      <td>192.3</td>\n",
       "      <td>27</td>\n",
       "      <td>26.1</td>\n",
       "    </tr>\n",
       "    <tr>\n",
       "      <th>5</th>\n",
       "      <td>6</td>\n",
       "      <td>male</td>\n",
       "      <td>Rafael</td>\n",
       "      <td>Costa</td>\n",
       "      <td>1140 Willis Avenue</td>\n",
       "      <td>Daytona Beach</td>\n",
       "      <td>Florida</td>\n",
       "      <td>32114.0</td>\n",
       "      <td>United States</td>\n",
       "      <td>386-334-5237RafaelCardosoCosta@gustr.com</td>\n",
       "      <td>8/31/1931</td>\n",
       "      <td>183.9</td>\n",
       "      <td>70</td>\n",
       "      <td>26.4</td>\n",
       "    </tr>\n",
       "    <tr>\n",
       "      <th>6</th>\n",
       "      <td>7</td>\n",
       "      <td>female</td>\n",
       "      <td>Mary</td>\n",
       "      <td>Adams</td>\n",
       "      <td>3145 Sheila Lane</td>\n",
       "      <td>Burbank</td>\n",
       "      <td>NV</td>\n",
       "      <td>84728.0</td>\n",
       "      <td>United States</td>\n",
       "      <td>775-533-5933MaryBAdams@einrot.com</td>\n",
       "      <td>11/19/1969</td>\n",
       "      <td>146.3</td>\n",
       "      <td>65</td>\n",
       "      <td>24.3</td>\n",
       "    </tr>\n",
       "    <tr>\n",
       "      <th>7</th>\n",
       "      <td>8</td>\n",
       "      <td>female</td>\n",
       "      <td>Xiuxiu</td>\n",
       "      <td>Chang</td>\n",
       "      <td>2687 Black Oak Hollow Road</td>\n",
       "      <td>Morgan Hill</td>\n",
       "      <td>CA</td>\n",
       "      <td>95037.0</td>\n",
       "      <td>United States</td>\n",
       "      <td>XiuxiuChang@einrot.com1 408 778 3236</td>\n",
       "      <td>8/13/1958</td>\n",
       "      <td>158.0</td>\n",
       "      <td>60</td>\n",
       "      <td>30.9</td>\n",
       "    </tr>\n",
       "    <tr>\n",
       "      <th>8</th>\n",
       "      <td>9</td>\n",
       "      <td>male</td>\n",
       "      <td>Dsvid</td>\n",
       "      <td>Gustafsson</td>\n",
       "      <td>1790 Nutter Street</td>\n",
       "      <td>Kansas City</td>\n",
       "      <td>MO</td>\n",
       "      <td>64105.0</td>\n",
       "      <td>United States</td>\n",
       "      <td>816-265-9578DavidGustafsson@armyspy.com</td>\n",
       "      <td>3/6/1937</td>\n",
       "      <td>163.9</td>\n",
       "      <td>66</td>\n",
       "      <td>26.5</td>\n",
       "    </tr>\n",
       "    <tr>\n",
       "      <th>9</th>\n",
       "      <td>10</td>\n",
       "      <td>female</td>\n",
       "      <td>Sophie</td>\n",
       "      <td>Cabrera</td>\n",
       "      <td>3303 Anmoore Road</td>\n",
       "      <td>New York</td>\n",
       "      <td>New York</td>\n",
       "      <td>10011.0</td>\n",
       "      <td>United States</td>\n",
       "      <td>SophieCabreraIbarra@teleworm.us1 718 795 9124</td>\n",
       "      <td>12/3/1930</td>\n",
       "      <td>194.7</td>\n",
       "      <td>64</td>\n",
       "      <td>33.4</td>\n",
       "    </tr>\n",
       "  </tbody>\n",
       "</table>\n",
       "</div>"
      ],
      "text/plain": [
       "   patient_id assigned_sex given_name     surname                     address  \\\n",
       "0           1       female        Zoe     Wellish        576 Brown Bear Drive   \n",
       "1           2       female     Pamela        Hill   2370 University Hill Road   \n",
       "2           3         male        Jae      Debord       1493 Poling Farm Road   \n",
       "3           4         male       Liêm        Phan         2335 Webster Street   \n",
       "4           5         male        Tim     Neudorf        1428 Turkey Pen Lane   \n",
       "5           6         male     Rafael       Costa          1140 Willis Avenue   \n",
       "6           7       female       Mary       Adams            3145 Sheila Lane   \n",
       "7           8       female     Xiuxiu       Chang  2687 Black Oak Hollow Road   \n",
       "8           9         male      Dsvid  Gustafsson          1790 Nutter Street   \n",
       "9          10       female     Sophie     Cabrera           3303 Anmoore Road   \n",
       "\n",
       "                city       state  zip_code        country  \\\n",
       "0  Rancho California  California   92390.0  United States   \n",
       "1          Armstrong    Illinois   61812.0  United States   \n",
       "2               York    Nebraska   68467.0  United States   \n",
       "3         Woodbridge          NJ    7095.0  United States   \n",
       "4             Dothan          AL   36303.0  United States   \n",
       "5      Daytona Beach     Florida   32114.0  United States   \n",
       "6            Burbank          NV   84728.0  United States   \n",
       "7        Morgan Hill          CA   95037.0  United States   \n",
       "8        Kansas City          MO   64105.0  United States   \n",
       "9           New York    New York   10011.0  United States   \n",
       "\n",
       "                                         contact   birthdate  weight  height  \\\n",
       "0           951-719-9170ZoeWellish@superrito.com   7/10/1976   121.7      66   \n",
       "1          PamelaSHill@cuvox.de+1 (217) 569-3204    4/3/1967   118.8      66   \n",
       "2               402-363-6804JaeMDebord@gustr.com   2/19/1980   177.8      71   \n",
       "3     PhanBaLiem@jourrapide.com+1 (732) 636-8246   7/26/1951   220.9      70   \n",
       "4                334-515-7487TimNeudorf@cuvox.de   2/18/1928   192.3      27   \n",
       "5       386-334-5237RafaelCardosoCosta@gustr.com   8/31/1931   183.9      70   \n",
       "6              775-533-5933MaryBAdams@einrot.com  11/19/1969   146.3      65   \n",
       "7           XiuxiuChang@einrot.com1 408 778 3236   8/13/1958   158.0      60   \n",
       "8        816-265-9578DavidGustafsson@armyspy.com    3/6/1937   163.9      66   \n",
       "9  SophieCabreraIbarra@teleworm.us1 718 795 9124   12/3/1930   194.7      64   \n",
       "\n",
       "    bmi  \n",
       "0  19.6  \n",
       "1  19.2  \n",
       "2  24.8  \n",
       "3  31.7  \n",
       "4  26.1  \n",
       "5  26.4  \n",
       "6  24.3  \n",
       "7  30.9  \n",
       "8  26.5  \n",
       "9  33.4  "
      ]
     },
     "execution_count": 6,
     "metadata": {},
     "output_type": "execute_result"
    }
   ],
   "source": [
    "patients.head(10)"
   ]
  },
  {
   "cell_type": "code",
   "execution_count": 11,
   "id": "ae59f4db-c8cf-4147-b7f6-5dacc7d0836f",
   "metadata": {},
   "outputs": [
    {
     "data": {
      "text/plain": [
       "210     48.8\n",
       "459    102.1\n",
       "335    102.7\n",
       "74     103.2\n",
       "317    106.0\n",
       "       ...  \n",
       "144    244.9\n",
       "61     244.9\n",
       "283    245.5\n",
       "118    254.5\n",
       "485    255.9\n",
       "Name: weight, Length: 503, dtype: float64"
      ]
     },
     "execution_count": 11,
     "metadata": {},
     "output_type": "execute_result"
    }
   ],
   "source": [
    "patients['weight'].sort_values()"
   ]
  },
  {
   "cell_type": "code",
   "execution_count": 13,
   "id": "c3216968-e787-4f10-954c-2f226f879dab",
   "metadata": {},
   "outputs": [
    {
     "data": {
      "text/plain": [
       "4      27\n",
       "423    59\n",
       "335    59\n",
       "290    59\n",
       "132    59\n",
       "       ..\n",
       "88     76\n",
       "121    76\n",
       "487    77\n",
       "238    78\n",
       "418    79\n",
       "Name: height, Length: 503, dtype: int64"
      ]
     },
     "execution_count": 13,
     "metadata": {},
     "output_type": "execute_result"
    }
   ],
   "source": [
    "patients['height'].sort_values()"
   ]
  },
  {
   "cell_type": "code",
   "execution_count": 14,
   "id": "ab43b7a3-ec24-439e-bb67-db4b0f12a7f2",
   "metadata": {},
   "outputs": [
    {
     "data": {
      "text/plain": [
       "patient_id                                    5\n",
       "assigned_sex                               male\n",
       "given_name                                  Tim\n",
       "surname                                 Neudorf\n",
       "address                    1428 Turkey Pen Lane\n",
       "city                                     Dothan\n",
       "state                                        AL\n",
       "zip_code                                36303.0\n",
       "country                           United States\n",
       "contact         334-515-7487TimNeudorf@cuvox.de\n",
       "birthdate                             2/18/1928\n",
       "weight                                    192.3\n",
       "height                                       27\n",
       "bmi                                        26.1\n",
       "Name: 4, dtype: object"
      ]
     },
     "execution_count": 14,
     "metadata": {},
     "output_type": "execute_result"
    }
   ],
   "source": [
    "patients.iloc[4]"
   ]
  },
  {
   "cell_type": "code",
   "execution_count": 18,
   "id": "d9c30dd1-b91e-4c97-8bd2-0cc933da1d1b",
   "metadata": {},
   "outputs": [
    {
     "name": "stdout",
     "output_type": "stream",
     "text": [
      "<class 'pandas.core.frame.DataFrame'>\n",
      "RangeIndex: 503 entries, 0 to 502\n",
      "Data columns (total 14 columns):\n",
      " #   Column        Non-Null Count  Dtype  \n",
      "---  ------        --------------  -----  \n",
      " 0   patient_id    503 non-null    int64  \n",
      " 1   assigned_sex  503 non-null    object \n",
      " 2   given_name    503 non-null    object \n",
      " 3   surname       503 non-null    object \n",
      " 4   address       491 non-null    object \n",
      " 5   city          491 non-null    object \n",
      " 6   state         491 non-null    object \n",
      " 7   zip_code      491 non-null    float64\n",
      " 8   country       491 non-null    object \n",
      " 9   contact       491 non-null    object \n",
      " 10  birthdate     503 non-null    object \n",
      " 11  weight        503 non-null    float64\n",
      " 12  height        503 non-null    int64  \n",
      " 13  bmi           503 non-null    float64\n",
      "dtypes: float64(3), int64(2), object(9)\n",
      "memory usage: 55.1+ KB\n"
     ]
    }
   ],
   "source": [
    "patients.info()"
   ]
  },
  {
   "cell_type": "markdown",
   "id": "30f4bb7e-ba14-4e97-b519-1541add0a608",
   "metadata": {},
   "source": [
    "## 1.2 Identifying the issues"
   ]
  },
  {
   "cell_type": "markdown",
   "id": "72708231-058f-4e0a-b957-8cd350267d93",
   "metadata": {},
   "source": [
    "1. `index` and `patient_id` are repetative, *validity issue*\n",
    "2. `contact` column contains both the phone number and email of the patient, in no specific pattern either *validity issue*\n",
    "3.  In the `weights` column, there is an accuracy issue with the lowest weight being 48.8 pounds, which is most likely supposed to be in kilos *accuracy issue*\n",
    "4.  The `zip_code` column does not need to be a float, it's fine as an integer *validity issue*\n",
    "5.  The `height` column contains an entry of 27 inches, which at first glance may indicate a toddler yet their birthdate is 1928, suggesting an issue with the entry, **accuracy issue**"
   ]
  },
  {
   "cell_type": "markdown",
   "id": "380f67d9-d583-448a-b290-d658eb08d022",
   "metadata": {},
   "source": [
    "# 2. Identifying Data Quality and Structural Issues in the Treatments Data"
   ]
  },
  {
   "cell_type": "markdown",
   "id": "8cdc8ad6-38e0-4d3d-95a5-a1808ef09741",
   "metadata": {},
   "source": [
    "Some information about the treatments data:\n",
    "\n",
    "350 patients participated in this clinical trial. None of the patients were using **Novodra** (a popular injectable insulin) or **Auralin** (the oral insulin being researched) as their primary source of insulin before.  All were experiencing elevated HbA1c levels.\n",
    "> HbA1c stands for Hemoglobin A1c. The [HbA1c test](https://depts.washington.edu/uwcoe/healthtopics/diabetes.html) measures what the average blood sugar has been over the past three months. It is thus a powerful way to get an overall sense of how well diabetes has been controlled. Everyone with diabetes should have this test 2 to 4 times per year. Measured in %.\n",
    "\n",
    "All 350 patients were treated with Novodra to establish a baseline HbA1c level and insulin dose. After four weeks:\n",
    "- 175 patients switched to Auralin for 24 weeks\n",
    "- 175 patients continued using Novodra for 24 weeks\n",
    "\n",
    "`treatments` columns:\n",
    "- **given_name**: the given name of each patient in the Master Patient Index that took part in the clinical trial\n",
    "- **surname**: the surname of each patient in the Master Patient Index that took part in the clinical trial\n",
    "- **auralin**: the baseline median daily dose of insulin from the week prior to switching to Auralin (the number before the dash `-`) *and* the ending median daily dose of insulin at the end of the 24 weeks of treatment measured over the 24th week of treatment (the number after the dash `-`). Both are measured in units (shortform 'u'), which is the [international unit](https://en.wikipedia.org/wiki/International_unit) of measurement and the standard measurement for insulin.\n",
    "- **novodra**: same as above, except for patients that continued treatment with Novodra\n",
    "- **hba1c_start**: the patient's HbA1c level at the beginning of the first week of treatment.\n",
    "\n",
    "- **hba1c_end**: the patient's HbA1c level at the end of the last week of treatment.\n",
    "- **hba1c_change**: the change in the patient's HbA1c level from the start of treatment to the end, i.e., `hba1c_start - hba1c_end`."
   ]
  },
  {
   "cell_type": "markdown",
   "id": "a580a635-84b2-40cf-98c4-511f8887b7ef",
   "metadata": {},
   "source": [
    "## 2.1 Displaying Data"
   ]
  },
  {
   "cell_type": "markdown",
   "id": "c8294594-06c8-4bb9-932b-ed9aaa3abaa9",
   "metadata": {},
   "source": [
    "Trying to identify instances of **completeness and consistency** errors in the datset"
   ]
  },
  {
   "cell_type": "code",
   "execution_count": 16,
   "id": "4b0f9066-4c06-4ae9-b1d2-6cd3ea8fb5f5",
   "metadata": {},
   "outputs": [
    {
     "data": {
      "text/html": [
       "<div>\n",
       "<style scoped>\n",
       "    .dataframe tbody tr th:only-of-type {\n",
       "        vertical-align: middle;\n",
       "    }\n",
       "\n",
       "    .dataframe tbody tr th {\n",
       "        vertical-align: top;\n",
       "    }\n",
       "\n",
       "    .dataframe thead th {\n",
       "        text-align: right;\n",
       "    }\n",
       "</style>\n",
       "<table border=\"1\" class=\"dataframe\">\n",
       "  <thead>\n",
       "    <tr style=\"text-align: right;\">\n",
       "      <th></th>\n",
       "      <th>given_name</th>\n",
       "      <th>surname</th>\n",
       "      <th>auralin</th>\n",
       "      <th>novodra</th>\n",
       "      <th>hba1c_start</th>\n",
       "      <th>hba1c_end</th>\n",
       "      <th>hba1c_change</th>\n",
       "    </tr>\n",
       "  </thead>\n",
       "  <tbody>\n",
       "    <tr>\n",
       "      <th>0</th>\n",
       "      <td>veronika</td>\n",
       "      <td>jindrová</td>\n",
       "      <td>41u - 48u</td>\n",
       "      <td>-</td>\n",
       "      <td>7.63</td>\n",
       "      <td>7.20</td>\n",
       "      <td>NaN</td>\n",
       "    </tr>\n",
       "    <tr>\n",
       "      <th>1</th>\n",
       "      <td>elliot</td>\n",
       "      <td>richardson</td>\n",
       "      <td>-</td>\n",
       "      <td>40u - 45u</td>\n",
       "      <td>7.56</td>\n",
       "      <td>7.09</td>\n",
       "      <td>0.97</td>\n",
       "    </tr>\n",
       "    <tr>\n",
       "      <th>2</th>\n",
       "      <td>yukitaka</td>\n",
       "      <td>takenaka</td>\n",
       "      <td>-</td>\n",
       "      <td>39u - 36u</td>\n",
       "      <td>7.68</td>\n",
       "      <td>7.25</td>\n",
       "      <td>NaN</td>\n",
       "    </tr>\n",
       "    <tr>\n",
       "      <th>3</th>\n",
       "      <td>skye</td>\n",
       "      <td>gormanston</td>\n",
       "      <td>33u - 36u</td>\n",
       "      <td>-</td>\n",
       "      <td>7.97</td>\n",
       "      <td>7.62</td>\n",
       "      <td>0.35</td>\n",
       "    </tr>\n",
       "    <tr>\n",
       "      <th>4</th>\n",
       "      <td>alissa</td>\n",
       "      <td>montez</td>\n",
       "      <td>-</td>\n",
       "      <td>33u - 29u</td>\n",
       "      <td>7.78</td>\n",
       "      <td>7.46</td>\n",
       "      <td>0.32</td>\n",
       "    </tr>\n",
       "    <tr>\n",
       "      <th>5</th>\n",
       "      <td>jasmine</td>\n",
       "      <td>sykes</td>\n",
       "      <td>-</td>\n",
       "      <td>42u - 44u</td>\n",
       "      <td>7.56</td>\n",
       "      <td>7.18</td>\n",
       "      <td>0.38</td>\n",
       "    </tr>\n",
       "    <tr>\n",
       "      <th>6</th>\n",
       "      <td>sophia</td>\n",
       "      <td>haugen</td>\n",
       "      <td>37u - 42u</td>\n",
       "      <td>-</td>\n",
       "      <td>7.65</td>\n",
       "      <td>7.27</td>\n",
       "      <td>0.38</td>\n",
       "    </tr>\n",
       "    <tr>\n",
       "      <th>7</th>\n",
       "      <td>eddie</td>\n",
       "      <td>archer</td>\n",
       "      <td>31u - 38u</td>\n",
       "      <td>-</td>\n",
       "      <td>7.89</td>\n",
       "      <td>7.55</td>\n",
       "      <td>0.34</td>\n",
       "    </tr>\n",
       "    <tr>\n",
       "      <th>8</th>\n",
       "      <td>saber</td>\n",
       "      <td>ménard</td>\n",
       "      <td>-</td>\n",
       "      <td>54u - 54u</td>\n",
       "      <td>8.08</td>\n",
       "      <td>7.70</td>\n",
       "      <td>NaN</td>\n",
       "    </tr>\n",
       "    <tr>\n",
       "      <th>9</th>\n",
       "      <td>asia</td>\n",
       "      <td>woźniak</td>\n",
       "      <td>30u - 36u</td>\n",
       "      <td>-</td>\n",
       "      <td>7.76</td>\n",
       "      <td>7.37</td>\n",
       "      <td>NaN</td>\n",
       "    </tr>\n",
       "  </tbody>\n",
       "</table>\n",
       "</div>"
      ],
      "text/plain": [
       "  given_name     surname    auralin    novodra  hba1c_start  hba1c_end  \\\n",
       "0   veronika    jindrová  41u - 48u          -         7.63       7.20   \n",
       "1     elliot  richardson          -  40u - 45u         7.56       7.09   \n",
       "2   yukitaka    takenaka          -  39u - 36u         7.68       7.25   \n",
       "3       skye  gormanston  33u - 36u          -         7.97       7.62   \n",
       "4     alissa      montez          -  33u - 29u         7.78       7.46   \n",
       "5    jasmine       sykes          -  42u - 44u         7.56       7.18   \n",
       "6     sophia      haugen  37u - 42u          -         7.65       7.27   \n",
       "7      eddie      archer  31u - 38u          -         7.89       7.55   \n",
       "8      saber      ménard          -  54u - 54u         8.08       7.70   \n",
       "9       asia     woźniak  30u - 36u          -         7.76       7.37   \n",
       "\n",
       "   hba1c_change  \n",
       "0           NaN  \n",
       "1          0.97  \n",
       "2           NaN  \n",
       "3          0.35  \n",
       "4          0.32  \n",
       "5          0.38  \n",
       "6          0.38  \n",
       "7          0.34  \n",
       "8           NaN  \n",
       "9           NaN  "
      ]
     },
     "execution_count": 16,
     "metadata": {},
     "output_type": "execute_result"
    }
   ],
   "source": [
    "treatments.head(10)"
   ]
  },
  {
   "cell_type": "code",
   "execution_count": 17,
   "id": "1a938351-839e-4235-96a6-7afc7daa6195",
   "metadata": {},
   "outputs": [
    {
     "name": "stdout",
     "output_type": "stream",
     "text": [
      "<class 'pandas.core.frame.DataFrame'>\n",
      "RangeIndex: 280 entries, 0 to 279\n",
      "Data columns (total 7 columns):\n",
      " #   Column        Non-Null Count  Dtype  \n",
      "---  ------        --------------  -----  \n",
      " 0   given_name    280 non-null    object \n",
      " 1   surname       280 non-null    object \n",
      " 2   auralin       280 non-null    object \n",
      " 3   novodra       280 non-null    object \n",
      " 4   hba1c_start   280 non-null    float64\n",
      " 5   hba1c_end     280 non-null    float64\n",
      " 6   hba1c_change  171 non-null    float64\n",
      "dtypes: float64(3), object(4)\n",
      "memory usage: 15.4+ KB\n"
     ]
    }
   ],
   "source": [
    "treatments.info()"
   ]
  },
  {
   "cell_type": "markdown",
   "id": "61fa6298-8617-4ba8-b5af-1352354788cb",
   "metadata": {},
   "source": [
    "## 2.2 Identifying the Issues"
   ]
  },
  {
   "cell_type": "markdown",
   "id": "4f7d31aa-1e54-4e79-98ea-f40940c98349",
   "metadata": {},
   "source": [
    "1. There are some missing information in the `hba1c_change` column, 171 non-null values compared to 280 non-null values in the other columns, *completeness issue*\n",
    "2. The `given_name` and `sur_name` columns have the names written in lowercase in the `treatments` dataset while they're capitilized in the `patients` dataset *consistency issue* \n",
    "3. There are at most 280 entries in the `treatments` dataset while there are around 500 entries in the `patients` dataset, where are the rest? *completeness issue*"
   ]
  },
  {
   "cell_type": "markdown",
   "id": "4783b376-b887-47eb-89ce-e321ca3424c2",
   "metadata": {},
   "source": [
    "## 2.3 Data Structural issues"
   ]
  },
  {
   "cell_type": "markdown",
   "id": "67c64222-c87e-446b-ac60-c5fe34d4f4e5",
   "metadata": {},
   "source": [
    "The structure of the `auralin` and `novodra` does not contain a valid structure as it contains multiple values of a variable in the column, which is the start and end dosage as well as the type of medicine used, they should be split into three columns, start dosage, end dosage and type of treatment."
   ]
  }
 ],
 "metadata": {
  "kernelspec": {
   "display_name": "Python 3 (ipykernel)",
   "language": "python",
   "name": "python3"
  },
  "language_info": {
   "codemirror_mode": {
    "name": "ipython",
    "version": 3
   },
   "file_extension": ".py",
   "mimetype": "text/x-python",
   "name": "python",
   "nbconvert_exporter": "python",
   "pygments_lexer": "ipython3",
   "version": "3.12.3"
  }
 },
 "nbformat": 4,
 "nbformat_minor": 5
}
