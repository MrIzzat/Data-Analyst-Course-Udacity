{
 "cells": [
  {
   "cell_type": "markdown",
   "id": "15b5883e-801b-4c1f-b707-2499624e00da",
   "metadata": {},
   "source": [
    "# Import Libraries"
   ]
  },
  {
   "cell_type": "code",
   "execution_count": 1,
   "id": "52e10945-5042-4def-8754-d9a5fa7e87d5",
   "metadata": {},
   "outputs": [],
   "source": [
    "import pandas as pd"
   ]
  },
  {
   "cell_type": "markdown",
   "id": "c1495b9c-e1e4-43ee-b532-10bdb3a76326",
   "metadata": {},
   "source": [
    "# Load Datasets"
   ]
  },
  {
   "cell_type": "code",
   "execution_count": 3,
   "id": "444529de-afab-4964-a5a4-30925c79f2a7",
   "metadata": {},
   "outputs": [],
   "source": [
    "patients = pd.read_csv('patients.csv')\n",
    "treatments = pd.read_csv('treatments.csv')"
   ]
  },
  {
   "cell_type": "markdown",
   "id": "593ef646-e5e2-4937-b825-7a3a4fdc11d0",
   "metadata": {},
   "source": [
    "# Data Quality issues with the treatments tables"
   ]
  },
  {
   "cell_type": "code",
   "execution_count": 5,
   "id": "4f9c86b4-cfe0-457e-a05e-a525a72d002a",
   "metadata": {},
   "outputs": [
    {
     "data": {
      "text/html": [
       "<div>\n",
       "<style scoped>\n",
       "    .dataframe tbody tr th:only-of-type {\n",
       "        vertical-align: middle;\n",
       "    }\n",
       "\n",
       "    .dataframe tbody tr th {\n",
       "        vertical-align: top;\n",
       "    }\n",
       "\n",
       "    .dataframe thead th {\n",
       "        text-align: right;\n",
       "    }\n",
       "</style>\n",
       "<table border=\"1\" class=\"dataframe\">\n",
       "  <thead>\n",
       "    <tr style=\"text-align: right;\">\n",
       "      <th></th>\n",
       "      <th>given_name</th>\n",
       "      <th>surname</th>\n",
       "      <th>auralin</th>\n",
       "      <th>novodra</th>\n",
       "      <th>hba1c_start</th>\n",
       "      <th>hba1c_end</th>\n",
       "      <th>hba1c_change</th>\n",
       "    </tr>\n",
       "  </thead>\n",
       "  <tbody>\n",
       "    <tr>\n",
       "      <th>0</th>\n",
       "      <td>veronika</td>\n",
       "      <td>jindrová</td>\n",
       "      <td>41u - 48u</td>\n",
       "      <td>-</td>\n",
       "      <td>7.63</td>\n",
       "      <td>7.20</td>\n",
       "      <td>NaN</td>\n",
       "    </tr>\n",
       "    <tr>\n",
       "      <th>1</th>\n",
       "      <td>elliot</td>\n",
       "      <td>richardson</td>\n",
       "      <td>-</td>\n",
       "      <td>40u - 45u</td>\n",
       "      <td>7.56</td>\n",
       "      <td>7.09</td>\n",
       "      <td>0.97</td>\n",
       "    </tr>\n",
       "    <tr>\n",
       "      <th>2</th>\n",
       "      <td>yukitaka</td>\n",
       "      <td>takenaka</td>\n",
       "      <td>-</td>\n",
       "      <td>39u - 36u</td>\n",
       "      <td>7.68</td>\n",
       "      <td>7.25</td>\n",
       "      <td>NaN</td>\n",
       "    </tr>\n",
       "    <tr>\n",
       "      <th>3</th>\n",
       "      <td>skye</td>\n",
       "      <td>gormanston</td>\n",
       "      <td>33u - 36u</td>\n",
       "      <td>-</td>\n",
       "      <td>7.97</td>\n",
       "      <td>7.62</td>\n",
       "      <td>0.35</td>\n",
       "    </tr>\n",
       "  </tbody>\n",
       "</table>\n",
       "</div>"
      ],
      "text/plain": [
       "  given_name     surname    auralin    novodra  hba1c_start  hba1c_end  \\\n",
       "0   veronika    jindrová  41u - 48u          -         7.63       7.20   \n",
       "1     elliot  richardson          -  40u - 45u         7.56       7.09   \n",
       "2   yukitaka    takenaka          -  39u - 36u         7.68       7.25   \n",
       "3       skye  gormanston  33u - 36u          -         7.97       7.62   \n",
       "\n",
       "   hba1c_change  \n",
       "0           NaN  \n",
       "1          0.97  \n",
       "2           NaN  \n",
       "3          0.35  "
      ]
     },
     "execution_count": 5,
     "metadata": {},
     "output_type": "execute_result"
    }
   ],
   "source": [
    "treatments.head(4)"
   ]
  },
  {
   "cell_type": "markdown",
   "id": "8a46900d-1f75-41d3-a7a5-a6f29c9b8589",
   "metadata": {},
   "source": [
    "It can be seen that there are some missing values in the `hba1c_change` column as NaN. There are also some missing values in both the `auralin` and `novodra`column but listed as '-', which will not be detected by `isna()`."
   ]
  },
  {
   "cell_type": "code",
   "execution_count": 6,
   "id": "0bd13e24-3182-47b0-9bd3-753b93df66a9",
   "metadata": {},
   "outputs": [
    {
     "data": {
      "text/html": [
       "<div>\n",
       "<style scoped>\n",
       "    .dataframe tbody tr th:only-of-type {\n",
       "        vertical-align: middle;\n",
       "    }\n",
       "\n",
       "    .dataframe tbody tr th {\n",
       "        vertical-align: top;\n",
       "    }\n",
       "\n",
       "    .dataframe thead th {\n",
       "        text-align: right;\n",
       "    }\n",
       "</style>\n",
       "<table border=\"1\" class=\"dataframe\">\n",
       "  <thead>\n",
       "    <tr style=\"text-align: right;\">\n",
       "      <th></th>\n",
       "      <th>given_name</th>\n",
       "      <th>surname</th>\n",
       "      <th>auralin</th>\n",
       "      <th>novodra</th>\n",
       "      <th>hba1c_start</th>\n",
       "      <th>hba1c_end</th>\n",
       "      <th>hba1c_change</th>\n",
       "    </tr>\n",
       "  </thead>\n",
       "  <tbody>\n",
       "    <tr>\n",
       "      <th>276</th>\n",
       "      <td>john</td>\n",
       "      <td>teichelmann</td>\n",
       "      <td>-</td>\n",
       "      <td>49u - 49u</td>\n",
       "      <td>7.90</td>\n",
       "      <td>7.58</td>\n",
       "      <td>NaN</td>\n",
       "    </tr>\n",
       "    <tr>\n",
       "      <th>277</th>\n",
       "      <td>mathea</td>\n",
       "      <td>lillebø</td>\n",
       "      <td>23u - 36u</td>\n",
       "      <td>-</td>\n",
       "      <td>9.04</td>\n",
       "      <td>8.67</td>\n",
       "      <td>0.37</td>\n",
       "    </tr>\n",
       "    <tr>\n",
       "      <th>278</th>\n",
       "      <td>vallie</td>\n",
       "      <td>prince</td>\n",
       "      <td>31u - 38u</td>\n",
       "      <td>-</td>\n",
       "      <td>7.64</td>\n",
       "      <td>7.28</td>\n",
       "      <td>0.36</td>\n",
       "    </tr>\n",
       "    <tr>\n",
       "      <th>279</th>\n",
       "      <td>samúel</td>\n",
       "      <td>guðbrandsson</td>\n",
       "      <td>53u - 56u</td>\n",
       "      <td>-</td>\n",
       "      <td>8.00</td>\n",
       "      <td>7.64</td>\n",
       "      <td>0.36</td>\n",
       "    </tr>\n",
       "  </tbody>\n",
       "</table>\n",
       "</div>"
      ],
      "text/plain": [
       "    given_name       surname    auralin    novodra  hba1c_start  hba1c_end  \\\n",
       "276       john   teichelmann          -  49u - 49u         7.90       7.58   \n",
       "277     mathea       lillebø  23u - 36u          -         9.04       8.67   \n",
       "278     vallie        prince  31u - 38u          -         7.64       7.28   \n",
       "279     samúel  guðbrandsson  53u - 56u          -         8.00       7.64   \n",
       "\n",
       "     hba1c_change  \n",
       "276           NaN  \n",
       "277          0.37  \n",
       "278          0.36  \n",
       "279          0.36  "
      ]
     },
     "execution_count": 6,
     "metadata": {},
     "output_type": "execute_result"
    }
   ],
   "source": [
    "treatments.tail(4)"
   ]
  },
  {
   "cell_type": "markdown",
   "id": "c582f9dd-7d71-496f-83a9-44fb9c3813c3",
   "metadata": {},
   "source": [
    "## Viewing random entries of the dataframe "
   ]
  },
  {
   "cell_type": "markdown",
   "id": "cc4e28a8-b6b8-456d-890a-9e8c88259f33",
   "metadata": {},
   "source": [
    "Using `.sample()`, random entries in teh dataframe are chosen"
   ]
  },
  {
   "cell_type": "code",
   "execution_count": 11,
   "id": "9e21f275-df76-40fb-9e24-6e1fefc5210e",
   "metadata": {},
   "outputs": [
    {
     "data": {
      "text/html": [
       "<div>\n",
       "<style scoped>\n",
       "    .dataframe tbody tr th:only-of-type {\n",
       "        vertical-align: middle;\n",
       "    }\n",
       "\n",
       "    .dataframe tbody tr th {\n",
       "        vertical-align: top;\n",
       "    }\n",
       "\n",
       "    .dataframe thead th {\n",
       "        text-align: right;\n",
       "    }\n",
       "</style>\n",
       "<table border=\"1\" class=\"dataframe\">\n",
       "  <thead>\n",
       "    <tr style=\"text-align: right;\">\n",
       "      <th></th>\n",
       "      <th>given_name</th>\n",
       "      <th>surname</th>\n",
       "      <th>auralin</th>\n",
       "      <th>novodra</th>\n",
       "      <th>hba1c_start</th>\n",
       "      <th>hba1c_end</th>\n",
       "      <th>hba1c_change</th>\n",
       "    </tr>\n",
       "  </thead>\n",
       "  <tbody>\n",
       "    <tr>\n",
       "      <th>18</th>\n",
       "      <td>addolorata</td>\n",
       "      <td>lombardi</td>\n",
       "      <td>-</td>\n",
       "      <td>49u - 46u</td>\n",
       "      <td>7.75</td>\n",
       "      <td>7.33</td>\n",
       "      <td>NaN</td>\n",
       "    </tr>\n",
       "  </tbody>\n",
       "</table>\n",
       "</div>"
      ],
      "text/plain": [
       "    given_name   surname auralin    novodra  hba1c_start  hba1c_end  \\\n",
       "18  addolorata  lombardi       -  49u - 46u         7.75       7.33   \n",
       "\n",
       "    hba1c_change  \n",
       "18           NaN  "
      ]
     },
     "execution_count": 11,
     "metadata": {},
     "output_type": "execute_result"
    }
   ],
   "source": [
    "treatments.sample()"
   ]
  },
  {
   "cell_type": "markdown",
   "id": "feada02b-32a5-4ed5-aa05-64dc8d30dc61",
   "metadata": {},
   "source": [
    "Viewing multiple random entries"
   ]
  },
  {
   "cell_type": "code",
   "execution_count": 21,
   "id": "37365f0a-911f-45e9-8820-3c13c9f9f4c6",
   "metadata": {},
   "outputs": [
    {
     "data": {
      "text/html": [
       "<div>\n",
       "<style scoped>\n",
       "    .dataframe tbody tr th:only-of-type {\n",
       "        vertical-align: middle;\n",
       "    }\n",
       "\n",
       "    .dataframe tbody tr th {\n",
       "        vertical-align: top;\n",
       "    }\n",
       "\n",
       "    .dataframe thead th {\n",
       "        text-align: right;\n",
       "    }\n",
       "</style>\n",
       "<table border=\"1\" class=\"dataframe\">\n",
       "  <thead>\n",
       "    <tr style=\"text-align: right;\">\n",
       "      <th></th>\n",
       "      <th>given_name</th>\n",
       "      <th>surname</th>\n",
       "      <th>auralin</th>\n",
       "      <th>novodra</th>\n",
       "      <th>hba1c_start</th>\n",
       "      <th>hba1c_end</th>\n",
       "      <th>hba1c_change</th>\n",
       "    </tr>\n",
       "  </thead>\n",
       "  <tbody>\n",
       "    <tr>\n",
       "      <th>41</th>\n",
       "      <td>mahmud</td>\n",
       "      <td>kadyrov</td>\n",
       "      <td>-</td>\n",
       "      <td>44u - 43u</td>\n",
       "      <td>7.53</td>\n",
       "      <td>7.11</td>\n",
       "      <td>0.92</td>\n",
       "    </tr>\n",
       "    <tr>\n",
       "      <th>147</th>\n",
       "      <td>krisztián</td>\n",
       "      <td>bakos</td>\n",
       "      <td>-</td>\n",
       "      <td>60u - 60u</td>\n",
       "      <td>7.75</td>\n",
       "      <td>7.29</td>\n",
       "      <td>0.96</td>\n",
       "    </tr>\n",
       "    <tr>\n",
       "      <th>143</th>\n",
       "      <td>nora</td>\n",
       "      <td>nyborg</td>\n",
       "      <td>55u - 59u</td>\n",
       "      <td>-</td>\n",
       "      <td>7.83</td>\n",
       "      <td>7.48</td>\n",
       "      <td>0.35</td>\n",
       "    </tr>\n",
       "    <tr>\n",
       "      <th>82</th>\n",
       "      <td>maya</td>\n",
       "      <td>isaksson</td>\n",
       "      <td>33u - 41u</td>\n",
       "      <td>-</td>\n",
       "      <td>7.66</td>\n",
       "      <td>7.17</td>\n",
       "      <td>NaN</td>\n",
       "    </tr>\n",
       "    <tr>\n",
       "      <th>249</th>\n",
       "      <td>kang</td>\n",
       "      <td>mai</td>\n",
       "      <td>-</td>\n",
       "      <td>39u - 36u</td>\n",
       "      <td>7.78</td>\n",
       "      <td>7.45</td>\n",
       "      <td>0.33</td>\n",
       "    </tr>\n",
       "  </tbody>\n",
       "</table>\n",
       "</div>"
      ],
      "text/plain": [
       "    given_name   surname    auralin    novodra  hba1c_start  hba1c_end  \\\n",
       "41      mahmud   kadyrov          -  44u - 43u         7.53       7.11   \n",
       "147  krisztián     bakos          -  60u - 60u         7.75       7.29   \n",
       "143       nora    nyborg  55u - 59u          -         7.83       7.48   \n",
       "82        maya  isaksson  33u - 41u          -         7.66       7.17   \n",
       "249       kang       mai          -  39u - 36u         7.78       7.45   \n",
       "\n",
       "     hba1c_change  \n",
       "41           0.92  \n",
       "147          0.96  \n",
       "143          0.35  \n",
       "82            NaN  \n",
       "249          0.33  "
      ]
     },
     "execution_count": 21,
     "metadata": {},
     "output_type": "execute_result"
    }
   ],
   "source": [
    "treatments.sample(5)"
   ]
  },
  {
   "cell_type": "markdown",
   "id": "f3bd0e12-04cc-4f45-9e9b-daed8b34137a",
   "metadata": {},
   "source": [
    "To view the same random samples every time, the `random_state` parameter in the `sample()` function should be set to a number"
   ]
  },
  {
   "cell_type": "code",
   "execution_count": 17,
   "id": "2d04963f-2e4e-42a7-8081-e0b8abafdf65",
   "metadata": {},
   "outputs": [
    {
     "data": {
      "text/html": [
       "<div>\n",
       "<style scoped>\n",
       "    .dataframe tbody tr th:only-of-type {\n",
       "        vertical-align: middle;\n",
       "    }\n",
       "\n",
       "    .dataframe tbody tr th {\n",
       "        vertical-align: top;\n",
       "    }\n",
       "\n",
       "    .dataframe thead th {\n",
       "        text-align: right;\n",
       "    }\n",
       "</style>\n",
       "<table border=\"1\" class=\"dataframe\">\n",
       "  <thead>\n",
       "    <tr style=\"text-align: right;\">\n",
       "      <th></th>\n",
       "      <th>given_name</th>\n",
       "      <th>surname</th>\n",
       "      <th>auralin</th>\n",
       "      <th>novodra</th>\n",
       "      <th>hba1c_start</th>\n",
       "      <th>hba1c_end</th>\n",
       "      <th>hba1c_change</th>\n",
       "    </tr>\n",
       "  </thead>\n",
       "  <tbody>\n",
       "    <tr>\n",
       "      <th>157</th>\n",
       "      <td>asuna</td>\n",
       "      <td>morita</td>\n",
       "      <td>-</td>\n",
       "      <td>35u - 39u</td>\n",
       "      <td>7.58</td>\n",
       "      <td>7.25</td>\n",
       "      <td>0.33</td>\n",
       "    </tr>\n",
       "    <tr>\n",
       "      <th>7</th>\n",
       "      <td>eddie</td>\n",
       "      <td>archer</td>\n",
       "      <td>31u - 38u</td>\n",
       "      <td>-</td>\n",
       "      <td>7.89</td>\n",
       "      <td>7.55</td>\n",
       "      <td>0.34</td>\n",
       "    </tr>\n",
       "    <tr>\n",
       "      <th>99</th>\n",
       "      <td>abel</td>\n",
       "      <td>yonatan</td>\n",
       "      <td>-</td>\n",
       "      <td>38u - 39u</td>\n",
       "      <td>7.88</td>\n",
       "      <td>7.50</td>\n",
       "      <td>NaN</td>\n",
       "    </tr>\n",
       "    <tr>\n",
       "      <th>13</th>\n",
       "      <td>gregor</td>\n",
       "      <td>bole</td>\n",
       "      <td>-</td>\n",
       "      <td>47u - 45u</td>\n",
       "      <td>7.61</td>\n",
       "      <td>7.16</td>\n",
       "      <td>0.95</td>\n",
       "    </tr>\n",
       "    <tr>\n",
       "      <th>112</th>\n",
       "      <td>olof</td>\n",
       "      <td>holm</td>\n",
       "      <td>39u - 52u</td>\n",
       "      <td>-</td>\n",
       "      <td>7.85</td>\n",
       "      <td>7.43</td>\n",
       "      <td>NaN</td>\n",
       "    </tr>\n",
       "  </tbody>\n",
       "</table>\n",
       "</div>"
      ],
      "text/plain": [
       "    given_name  surname    auralin    novodra  hba1c_start  hba1c_end  \\\n",
       "157      asuna   morita          -  35u - 39u         7.58       7.25   \n",
       "7        eddie   archer  31u - 38u          -         7.89       7.55   \n",
       "99        abel  yonatan          -  38u - 39u         7.88       7.50   \n",
       "13      gregor     bole          -  47u - 45u         7.61       7.16   \n",
       "112       olof     holm  39u - 52u          -         7.85       7.43   \n",
       "\n",
       "     hba1c_change  \n",
       "157          0.33  \n",
       "7            0.34  \n",
       "99            NaN  \n",
       "13           0.95  \n",
       "112           NaN  "
      ]
     },
     "execution_count": 17,
     "metadata": {},
     "output_type": "execute_result"
    }
   ],
   "source": [
    "treatments.sample(5,random_state=2)"
   ]
  },
  {
   "cell_type": "markdown",
   "id": "d2203e61-1748-4460-a56b-f057f2c1abdf",
   "metadata": {},
   "source": [
    "## 1. Completeness"
   ]
  },
  {
   "cell_type": "markdown",
   "id": "0175bde8-42af-4a42-8878-2d9051163c3c",
   "metadata": {},
   "source": [
    "Completeness can be tested through the `.info()` method (to view missing data), though another step must be taken as well"
   ]
  },
  {
   "cell_type": "code",
   "execution_count": 22,
   "id": "8e39a43b-44c8-4ac1-8924-7f3ac21b7405",
   "metadata": {},
   "outputs": [
    {
     "name": "stdout",
     "output_type": "stream",
     "text": [
      "<class 'pandas.core.frame.DataFrame'>\n",
      "RangeIndex: 280 entries, 0 to 279\n",
      "Data columns (total 7 columns):\n",
      " #   Column        Non-Null Count  Dtype  \n",
      "---  ------        --------------  -----  \n",
      " 0   given_name    280 non-null    object \n",
      " 1   surname       280 non-null    object \n",
      " 2   auralin       280 non-null    object \n",
      " 3   novodra       280 non-null    object \n",
      " 4   hba1c_start   280 non-null    float64\n",
      " 5   hba1c_end     280 non-null    float64\n",
      " 6   hba1c_change  171 non-null    float64\n",
      "dtypes: float64(3), object(4)\n",
      "memory usage: 15.4+ KB\n"
     ]
    }
   ],
   "source": [
    "treatments.info()"
   ]
  },
  {
   "cell_type": "markdown",
   "id": "6ba6cfb0-9cc3-4129-a206-b96e99ac7b84",
   "metadata": {},
   "source": [
    "It can be seen that there are 171 values in the `hba1c_change` column when there is supposed to be 280, indicating there are over 100 values missing."
   ]
  },
  {
   "cell_type": "code",
   "execution_count": 23,
   "id": "474dd54c-acc3-4855-abab-24bdb6985fb9",
   "metadata": {},
   "outputs": [
    {
     "data": {
      "text/html": [
       "<div>\n",
       "<style scoped>\n",
       "    .dataframe tbody tr th:only-of-type {\n",
       "        vertical-align: middle;\n",
       "    }\n",
       "\n",
       "    .dataframe tbody tr th {\n",
       "        vertical-align: top;\n",
       "    }\n",
       "\n",
       "    .dataframe thead th {\n",
       "        text-align: right;\n",
       "    }\n",
       "</style>\n",
       "<table border=\"1\" class=\"dataframe\">\n",
       "  <thead>\n",
       "    <tr style=\"text-align: right;\">\n",
       "      <th></th>\n",
       "      <th>given_name</th>\n",
       "      <th>surname</th>\n",
       "      <th>auralin</th>\n",
       "      <th>novodra</th>\n",
       "      <th>hba1c_start</th>\n",
       "      <th>hba1c_end</th>\n",
       "      <th>hba1c_change</th>\n",
       "    </tr>\n",
       "  </thead>\n",
       "  <tbody>\n",
       "    <tr>\n",
       "      <th>0</th>\n",
       "      <td>veronika</td>\n",
       "      <td>jindrová</td>\n",
       "      <td>41u - 48u</td>\n",
       "      <td>-</td>\n",
       "      <td>7.63</td>\n",
       "      <td>7.2</td>\n",
       "      <td>NaN</td>\n",
       "    </tr>\n",
       "  </tbody>\n",
       "</table>\n",
       "</div>"
      ],
      "text/plain": [
       "  given_name   surname    auralin novodra  hba1c_start  hba1c_end  \\\n",
       "0   veronika  jindrová  41u - 48u       -         7.63        7.2   \n",
       "\n",
       "   hba1c_change  \n",
       "0           NaN  "
      ]
     },
     "execution_count": 23,
     "metadata": {},
     "output_type": "execute_result"
    }
   ],
   "source": [
    "treatments.head(1)"
   ]
  },
  {
   "cell_type": "markdown",
   "id": "db8bee04-9ad7-4ae7-b4ea-91ea185df0d6",
   "metadata": {},
   "source": [
    "There are also some missing values in the dataset labelled as '-'"
   ]
  },
  {
   "cell_type": "markdown",
   "id": "2856f0ee-e9b9-40b9-9630-06d23eb34531",
   "metadata": {},
   "source": [
    "## 2. Validity"
   ]
  },
  {
   "cell_type": "markdown",
   "id": "4076cf3f-edab-492c-b1dc-881dc1b4b86d",
   "metadata": {},
   "source": [
    "The datatypes can be seen using the `.dtypes` attribute."
   ]
  },
  {
   "cell_type": "code",
   "execution_count": 24,
   "id": "12c56050-4969-4d11-ae5c-17f63b08c5ab",
   "metadata": {},
   "outputs": [
    {
     "data": {
      "text/plain": [
       "given_name       object\n",
       "surname          object\n",
       "auralin          object\n",
       "novodra          object\n",
       "hba1c_start     float64\n",
       "hba1c_end       float64\n",
       "hba1c_change    float64\n",
       "dtype: object"
      ]
     },
     "execution_count": 24,
     "metadata": {},
     "output_type": "execute_result"
    }
   ],
   "source": [
    "treatments.dtypes"
   ]
  },
  {
   "cell_type": "code",
   "execution_count": 25,
   "id": "e9e31c96-3909-4f0e-b430-5ff38a7ea923",
   "metadata": {},
   "outputs": [
    {
     "data": {
      "text/plain": [
       "0      41u - 48u\n",
       "1              -\n",
       "2              -\n",
       "3      33u - 36u\n",
       "4              -\n",
       "         ...    \n",
       "275    45u - 51u\n",
       "276            -\n",
       "277    23u - 36u\n",
       "278    31u - 38u\n",
       "279    53u - 56u\n",
       "Name: auralin, Length: 280, dtype: object"
      ]
     },
     "execution_count": 25,
     "metadata": {},
     "output_type": "execute_result"
    }
   ],
   "source": [
    "treatments['auralin']"
   ]
  },
  {
   "cell_type": "markdown",
   "id": "ab4225fb-6bd2-4f36-bc79-1ea3591a2e33",
   "metadata": {},
   "source": [
    "The datatype of the `auralin` and `novodra` columns are an object (string). Since they are used to represent numbers, they should optimially be integers or floats to make it easier to access the information"
   ]
  },
  {
   "cell_type": "markdown",
   "id": "c17486ca-c78a-47c4-9d3d-452f5164edea",
   "metadata": {},
   "source": [
    "## 3. Accuracy"
   ]
  },
  {
   "cell_type": "markdown",
   "id": "ab9b3d84-a9c7-416f-9deb-1d6ee5a7ebcf",
   "metadata": {},
   "source": [
    "The `.describe()` method can be used to check for outliers (to see if anything is out of range) as well as see if the values are calculated correctly"
   ]
  },
  {
   "cell_type": "code",
   "execution_count": 26,
   "id": "9ee960bb-f226-4313-8a5a-0d8a97f718ee",
   "metadata": {},
   "outputs": [
    {
     "data": {
      "text/html": [
       "<div>\n",
       "<style scoped>\n",
       "    .dataframe tbody tr th:only-of-type {\n",
       "        vertical-align: middle;\n",
       "    }\n",
       "\n",
       "    .dataframe tbody tr th {\n",
       "        vertical-align: top;\n",
       "    }\n",
       "\n",
       "    .dataframe thead th {\n",
       "        text-align: right;\n",
       "    }\n",
       "</style>\n",
       "<table border=\"1\" class=\"dataframe\">\n",
       "  <thead>\n",
       "    <tr style=\"text-align: right;\">\n",
       "      <th></th>\n",
       "      <th>hba1c_start</th>\n",
       "      <th>hba1c_end</th>\n",
       "      <th>hba1c_change</th>\n",
       "    </tr>\n",
       "  </thead>\n",
       "  <tbody>\n",
       "    <tr>\n",
       "      <th>count</th>\n",
       "      <td>280.000000</td>\n",
       "      <td>280.000000</td>\n",
       "      <td>171.000000</td>\n",
       "    </tr>\n",
       "    <tr>\n",
       "      <th>mean</th>\n",
       "      <td>7.985929</td>\n",
       "      <td>7.589286</td>\n",
       "      <td>0.546023</td>\n",
       "    </tr>\n",
       "    <tr>\n",
       "      <th>std</th>\n",
       "      <td>0.568638</td>\n",
       "      <td>0.569672</td>\n",
       "      <td>0.279555</td>\n",
       "    </tr>\n",
       "    <tr>\n",
       "      <th>min</th>\n",
       "      <td>7.500000</td>\n",
       "      <td>7.010000</td>\n",
       "      <td>0.200000</td>\n",
       "    </tr>\n",
       "    <tr>\n",
       "      <th>25%</th>\n",
       "      <td>7.660000</td>\n",
       "      <td>7.270000</td>\n",
       "      <td>0.340000</td>\n",
       "    </tr>\n",
       "    <tr>\n",
       "      <th>50%</th>\n",
       "      <td>7.800000</td>\n",
       "      <td>7.420000</td>\n",
       "      <td>0.380000</td>\n",
       "    </tr>\n",
       "    <tr>\n",
       "      <th>75%</th>\n",
       "      <td>7.970000</td>\n",
       "      <td>7.570000</td>\n",
       "      <td>0.920000</td>\n",
       "    </tr>\n",
       "    <tr>\n",
       "      <th>max</th>\n",
       "      <td>9.950000</td>\n",
       "      <td>9.580000</td>\n",
       "      <td>0.990000</td>\n",
       "    </tr>\n",
       "  </tbody>\n",
       "</table>\n",
       "</div>"
      ],
      "text/plain": [
       "       hba1c_start   hba1c_end  hba1c_change\n",
       "count   280.000000  280.000000    171.000000\n",
       "mean      7.985929    7.589286      0.546023\n",
       "std       0.568638    0.569672      0.279555\n",
       "min       7.500000    7.010000      0.200000\n",
       "25%       7.660000    7.270000      0.340000\n",
       "50%       7.800000    7.420000      0.380000\n",
       "75%       7.970000    7.570000      0.920000\n",
       "max       9.950000    9.580000      0.990000"
      ]
     },
     "execution_count": 26,
     "metadata": {},
     "output_type": "execute_result"
    }
   ],
   "source": [
    "treatments.describe()"
   ]
  },
  {
   "cell_type": "markdown",
   "id": "64dfa872-0993-4bc1-b001-b3b926955480",
   "metadata": {},
   "source": [
    "The most that the `hba1c_change` should be is around 0.5, which indicates that there is an issue with accuracy. The issue arrises from the following entry:"
   ]
  },
  {
   "cell_type": "code",
   "execution_count": 41,
   "id": "a2d09de4-42ba-405a-9de3-3dbb46838264",
   "metadata": {},
   "outputs": [
    {
     "data": {
      "text/plain": [
       "given_name            laura\n",
       "surname         ehrlichmann\n",
       "auralin                   -\n",
       "novodra           43u - 40u\n",
       "hba1c_start            7.95\n",
       "hba1c_end              7.46\n",
       "hba1c_change           0.99\n",
       "Name: 32, dtype: object"
      ]
     },
     "execution_count": 41,
     "metadata": {},
     "output_type": "execute_result"
    }
   ],
   "source": [
    "treatments.iloc[treatments['hba1c_change'].idxmax()]"
   ]
  },
  {
   "cell_type": "markdown",
   "id": "c4e29df4-10a6-4aa0-8d5b-64c2279d09f9",
   "metadata": {},
   "source": [
    "As it can be seen, the change was calculated incorrectly as 7.95-7.46 != 0.99. Instead it's supposed to be 0.49, which means that's another problem with the accuracy."
   ]
  },
  {
   "cell_type": "markdown",
   "id": "c1693bbe-bc57-4341-8649-fc693c748512",
   "metadata": {},
   "source": [
    "## 4. Validity"
   ]
  },
  {
   "cell_type": "markdown",
   "id": "c43c0e72-f026-429c-b3cb-bcb640c64eb0",
   "metadata": {},
   "source": [
    "As mentioned previously, there are some missing data that have a value of '-' instead of NaN. These values have an issue with their validity as mising values should be represented as NaN."
   ]
  },
  {
   "cell_type": "code",
   "execution_count": 42,
   "id": "fd85dedf-5059-43fb-bdf1-2658c66d9d59",
   "metadata": {},
   "outputs": [
    {
     "data": {
      "text/plain": [
       "0"
      ]
     },
     "execution_count": 42,
     "metadata": {},
     "output_type": "execute_result"
    }
   ],
   "source": [
    "sum(treatments.auralin.isnull())"
   ]
  },
  {
   "cell_type": "code",
   "execution_count": 43,
   "id": "1962fd9c-295b-4904-b7d5-97c1e8d1c887",
   "metadata": {},
   "outputs": [
    {
     "data": {
      "text/plain": [
       "0"
      ]
     },
     "execution_count": 43,
     "metadata": {},
     "output_type": "execute_result"
    }
   ],
   "source": [
    "sum(treatments.novodra.isnull())"
   ]
  },
  {
   "cell_type": "code",
   "execution_count": 45,
   "id": "d87a76fb-4af8-43d1-8494-5430fa2b650a",
   "metadata": {},
   "outputs": [
    {
     "data": {
      "text/plain": [
       "(143, 137)"
      ]
     },
     "execution_count": 45,
     "metadata": {},
     "output_type": "execute_result"
    }
   ],
   "source": [
    "len(treatments[treatments['auralin']=='-']),len(treatments[treatments['novodra']=='-'])"
   ]
  },
  {
   "cell_type": "markdown",
   "id": "8f4c80fc-4b37-4860-b670-7cd5b8a3448b",
   "metadata": {},
   "source": [
    "# Data Quality issues with the patients table"
   ]
  },
  {
   "cell_type": "markdown",
   "id": "ef0dac86-54ae-49aa-8cd0-8d5d1569874a",
   "metadata": {},
   "source": [
    "## 5. Consistency"
   ]
  },
  {
   "cell_type": "code",
   "execution_count": 46,
   "id": "dce8f4f5-245a-46f9-9f88-da59edca2a77",
   "metadata": {},
   "outputs": [
    {
     "data": {
      "text/html": [
       "<div>\n",
       "<style scoped>\n",
       "    .dataframe tbody tr th:only-of-type {\n",
       "        vertical-align: middle;\n",
       "    }\n",
       "\n",
       "    .dataframe tbody tr th {\n",
       "        vertical-align: top;\n",
       "    }\n",
       "\n",
       "    .dataframe thead th {\n",
       "        text-align: right;\n",
       "    }\n",
       "</style>\n",
       "<table border=\"1\" class=\"dataframe\">\n",
       "  <thead>\n",
       "    <tr style=\"text-align: right;\">\n",
       "      <th></th>\n",
       "      <th>patient_id</th>\n",
       "      <th>zip_code</th>\n",
       "      <th>weight</th>\n",
       "      <th>height</th>\n",
       "      <th>bmi</th>\n",
       "    </tr>\n",
       "  </thead>\n",
       "  <tbody>\n",
       "    <tr>\n",
       "      <th>count</th>\n",
       "      <td>503.000000</td>\n",
       "      <td>491.000000</td>\n",
       "      <td>503.000000</td>\n",
       "      <td>503.000000</td>\n",
       "      <td>503.000000</td>\n",
       "    </tr>\n",
       "    <tr>\n",
       "      <th>mean</th>\n",
       "      <td>252.000000</td>\n",
       "      <td>49084.118126</td>\n",
       "      <td>173.434990</td>\n",
       "      <td>66.634195</td>\n",
       "      <td>27.483897</td>\n",
       "    </tr>\n",
       "    <tr>\n",
       "      <th>std</th>\n",
       "      <td>145.347859</td>\n",
       "      <td>30265.807442</td>\n",
       "      <td>33.916741</td>\n",
       "      <td>4.411297</td>\n",
       "      <td>5.276438</td>\n",
       "    </tr>\n",
       "    <tr>\n",
       "      <th>min</th>\n",
       "      <td>1.000000</td>\n",
       "      <td>1002.000000</td>\n",
       "      <td>48.800000</td>\n",
       "      <td>27.000000</td>\n",
       "      <td>17.100000</td>\n",
       "    </tr>\n",
       "    <tr>\n",
       "      <th>25%</th>\n",
       "      <td>126.500000</td>\n",
       "      <td>21920.500000</td>\n",
       "      <td>149.300000</td>\n",
       "      <td>63.000000</td>\n",
       "      <td>23.300000</td>\n",
       "    </tr>\n",
       "    <tr>\n",
       "      <th>50%</th>\n",
       "      <td>252.000000</td>\n",
       "      <td>48057.000000</td>\n",
       "      <td>175.300000</td>\n",
       "      <td>67.000000</td>\n",
       "      <td>27.200000</td>\n",
       "    </tr>\n",
       "    <tr>\n",
       "      <th>75%</th>\n",
       "      <td>377.500000</td>\n",
       "      <td>75679.000000</td>\n",
       "      <td>199.500000</td>\n",
       "      <td>70.000000</td>\n",
       "      <td>31.750000</td>\n",
       "    </tr>\n",
       "    <tr>\n",
       "      <th>max</th>\n",
       "      <td>503.000000</td>\n",
       "      <td>99701.000000</td>\n",
       "      <td>255.900000</td>\n",
       "      <td>79.000000</td>\n",
       "      <td>37.700000</td>\n",
       "    </tr>\n",
       "  </tbody>\n",
       "</table>\n",
       "</div>"
      ],
      "text/plain": [
       "       patient_id      zip_code      weight      height         bmi\n",
       "count  503.000000    491.000000  503.000000  503.000000  503.000000\n",
       "mean   252.000000  49084.118126  173.434990   66.634195   27.483897\n",
       "std    145.347859  30265.807442   33.916741    4.411297    5.276438\n",
       "min      1.000000   1002.000000   48.800000   27.000000   17.100000\n",
       "25%    126.500000  21920.500000  149.300000   63.000000   23.300000\n",
       "50%    252.000000  48057.000000  175.300000   67.000000   27.200000\n",
       "75%    377.500000  75679.000000  199.500000   70.000000   31.750000\n",
       "max    503.000000  99701.000000  255.900000   79.000000   37.700000"
      ]
     },
     "execution_count": 46,
     "metadata": {},
     "output_type": "execute_result"
    }
   ],
   "source": [
    "patients.describe()"
   ]
  },
  {
   "cell_type": "markdown",
   "id": "951b102a-27cc-4765-904b-e8e7c7ae4ff1",
   "metadata": {},
   "source": [
    "As it can be seen in the previous table, there is a minimum value at the weight being 48.8 pounds. Logically, it isn't plausible for someone to be 48 pounds, especially when the average weight is 173 pounds. To confirm this, the `sort_values()` method can be used to see all of the values of the weights."
   ]
  },
  {
   "cell_type": "code",
   "execution_count": 48,
   "id": "3ef03b6f-ba6a-4224-b19f-3bd7bf820398",
   "metadata": {},
   "outputs": [
    {
     "data": {
      "text/plain": [
       "210     48.8\n",
       "459    102.1\n",
       "335    102.7\n",
       "74     103.2\n",
       "317    106.0\n",
       "       ...  \n",
       "144    244.9\n",
       "61     244.9\n",
       "283    245.5\n",
       "118    254.5\n",
       "485    255.9\n",
       "Name: weight, Length: 503, dtype: float64"
      ]
     },
     "execution_count": 48,
     "metadata": {},
     "output_type": "execute_result"
    }
   ],
   "source": [
    "patients.weight.sort_values()"
   ]
  },
  {
   "cell_type": "markdown",
   "id": "d254fb30-1ba2-4873-97e8-a8d4409b976e",
   "metadata": {},
   "source": [
    "The issue might be that the weight was recorded in kilograms. To confirm this, the weight can be calculated through the use of the BMI and the height."
   ]
  },
  {
   "cell_type": "code",
   "execution_count": 49,
   "id": "e412f7c8-c004-4803-9a14-aa09b694028d",
   "metadata": {},
   "outputs": [
    {
     "data": {
      "text/html": [
       "<div>\n",
       "<style scoped>\n",
       "    .dataframe tbody tr th:only-of-type {\n",
       "        vertical-align: middle;\n",
       "    }\n",
       "\n",
       "    .dataframe tbody tr th {\n",
       "        vertical-align: top;\n",
       "    }\n",
       "\n",
       "    .dataframe thead th {\n",
       "        text-align: right;\n",
       "    }\n",
       "</style>\n",
       "<table border=\"1\" class=\"dataframe\">\n",
       "  <thead>\n",
       "    <tr style=\"text-align: right;\">\n",
       "      <th></th>\n",
       "      <th>patient_id</th>\n",
       "      <th>assigned_sex</th>\n",
       "      <th>given_name</th>\n",
       "      <th>surname</th>\n",
       "      <th>address</th>\n",
       "      <th>city</th>\n",
       "      <th>state</th>\n",
       "      <th>zip_code</th>\n",
       "      <th>country</th>\n",
       "      <th>contact</th>\n",
       "      <th>birthdate</th>\n",
       "      <th>weight</th>\n",
       "      <th>height</th>\n",
       "      <th>bmi</th>\n",
       "    </tr>\n",
       "  </thead>\n",
       "  <tbody>\n",
       "    <tr>\n",
       "      <th>210</th>\n",
       "      <td>211</td>\n",
       "      <td>female</td>\n",
       "      <td>Camilla</td>\n",
       "      <td>Zaitseva</td>\n",
       "      <td>4689 Briarhill Lane</td>\n",
       "      <td>Wooster</td>\n",
       "      <td>OH</td>\n",
       "      <td>44691.0</td>\n",
       "      <td>United States</td>\n",
       "      <td>330-202-2145CamillaZaitseva@superrito.com</td>\n",
       "      <td>11/26/1938</td>\n",
       "      <td>48.8</td>\n",
       "      <td>63</td>\n",
       "      <td>19.1</td>\n",
       "    </tr>\n",
       "  </tbody>\n",
       "</table>\n",
       "</div>"
      ],
      "text/plain": [
       "     patient_id assigned_sex given_name   surname              address  \\\n",
       "210         211       female    Camilla  Zaitseva  4689 Briarhill Lane   \n",
       "\n",
       "        city state  zip_code        country  \\\n",
       "210  Wooster    OH   44691.0  United States   \n",
       "\n",
       "                                       contact   birthdate  weight  height  \\\n",
       "210  330-202-2145CamillaZaitseva@superrito.com  11/26/1938    48.8      63   \n",
       "\n",
       "      bmi  \n",
       "210  19.1  "
      ]
     },
     "execution_count": 49,
     "metadata": {},
     "output_type": "execute_result"
    }
   ],
   "source": [
    "patients[patients.weight.min()==patients.weight]"
   ]
  },
  {
   "cell_type": "code",
   "execution_count": 54,
   "id": "76da5780-ee62-4c24-afdc-9d8f0300746b",
   "metadata": {},
   "outputs": [
    {
     "data": {
      "text/plain": [
       "210    107.834851\n",
       "dtype: float64"
      ]
     },
     "execution_count": 54,
     "metadata": {},
     "output_type": "execute_result"
    }
   ],
   "source": [
    "weight = (patients[patients.weight.min()==patients.weight].height*patients[patients.weight.min()==patients.weight].height*patients[patients.weight.min()==patients.weight].bmi)/703\n",
    "\n",
    "weight"
   ]
  },
  {
   "cell_type": "markdown",
   "id": "c4e3b1b9-f5cd-4d0e-af09-aaf31881e910",
   "metadata": {},
   "source": [
    "Another way to cnofirm this is to take the weight and convert it to pounds, then calculate the BMI, if it's the exact same as the one in the dataset, then it'll be confirmed that the weight should be in pounds"
   ]
  },
  {
   "cell_type": "code",
   "execution_count": 55,
   "id": "290f94dd-e941-473a-8b74-05e6daecb242",
   "metadata": {},
   "outputs": [
    {
     "data": {
      "text/plain": [
       "210    19.055827\n",
       "dtype: float64"
      ]
     },
     "execution_count": 55,
     "metadata": {},
     "output_type": "execute_result"
    }
   ],
   "source": [
    "weight_lbs = patients[patients.weight.min()==patients.weight].weight*2.20462\n",
    "\n",
    "height_in = patients[patients.weight.min()==patients.weight].height\n",
    "\n",
    "bmi_check = 703 * weight_lbs/ (height_in**2)\n",
    "bmi_check"
   ]
  },
  {
   "cell_type": "code",
   "execution_count": 56,
   "id": "0f25ab01-d2a2-44c5-8c72-fb74edaa5888",
   "metadata": {},
   "outputs": [
    {
     "data": {
      "text/plain": [
       "210    19.1\n",
       "Name: bmi, dtype: float64"
      ]
     },
     "execution_count": 56,
     "metadata": {},
     "output_type": "execute_result"
    }
   ],
   "source": [
    "patients[patients.weight.min()==patients.weight].bmi"
   ]
  },
  {
   "cell_type": "markdown",
   "id": "e55b504a-a282-4b66-bec3-b117fbd0470b",
   "metadata": {},
   "source": [
    "Rounded up, the values are equal"
   ]
  },
  {
   "cell_type": "markdown",
   "id": "c5911afb-9ea5-437c-8503-4fcf840509de",
   "metadata": {},
   "source": [
    "## 6. Uniqueness + Validity"
   ]
  },
  {
   "cell_type": "markdown",
   "id": "2645448b-3d61-46f6-8932-c3c9f668643b",
   "metadata": {},
   "source": [
    "The uniqueness of a column and be found by using the `value_counts()` method. Any value that has more than one count can be considered to have duplicates"
   ]
  },
  {
   "cell_type": "code",
   "execution_count": 57,
   "id": "5e0823a6-d8fd-419d-9b11-301bfe03e54f",
   "metadata": {},
   "outputs": [
    {
     "data": {
      "text/plain": [
       "surname\n",
       "Doe            6\n",
       "Jakobsen       3\n",
       "Taylor         3\n",
       "Ogochukwu      2\n",
       "Tucker         2\n",
       "              ..\n",
       "Casárez        1\n",
       "Mata           1\n",
       "Pospíšil       1\n",
       "Rukavina       1\n",
       "Onyekaozulu    1\n",
       "Name: count, Length: 466, dtype: int64"
      ]
     },
     "execution_count": 57,
     "metadata": {},
     "output_type": "execute_result"
    }
   ],
   "source": [
    "patients.surname.value_counts()"
   ]
  },
  {
   "cell_type": "code",
   "execution_count": 58,
   "id": "d5ff742e-861a-46ee-a5f4-c42e3ea39be4",
   "metadata": {},
   "outputs": [
    {
     "data": {
      "text/plain": [
       "address\n",
       "123 Main Street             6\n",
       "2778 North Avenue           2\n",
       "2476 Fulton Street          2\n",
       "648 Old Dear Lane           2\n",
       "3094 Oral Lake Road         1\n",
       "                           ..\n",
       "1066 Goosetown Drive        1\n",
       "4291 Patton Lane            1\n",
       "4643 Reeves Street          1\n",
       "174 Lost Creek Road         1\n",
       "3652 Boone Crockett Lane    1\n",
       "Name: count, Length: 483, dtype: int64"
      ]
     },
     "execution_count": 58,
     "metadata": {},
     "output_type": "execute_result"
    }
   ],
   "source": [
    "patients.address.value_counts()"
   ]
  },
  {
   "cell_type": "markdown",
   "id": "7fcc7699-bc3f-4662-8a2f-1e5a5dd65b20",
   "metadata": {},
   "source": [
    "Alternatively, the `.duplicated()` method can be used to see any duplicated rows. The `subset` parameter can help specifly which columns to look into exactly to find the duplicates"
   ]
  },
  {
   "cell_type": "code",
   "execution_count": 59,
   "id": "6af6abdc-ecae-43f4-a4b9-0f7f0ab03d5d",
   "metadata": {},
   "outputs": [
    {
     "data": {
      "text/html": [
       "<div>\n",
       "<style scoped>\n",
       "    .dataframe tbody tr th:only-of-type {\n",
       "        vertical-align: middle;\n",
       "    }\n",
       "\n",
       "    .dataframe tbody tr th {\n",
       "        vertical-align: top;\n",
       "    }\n",
       "\n",
       "    .dataframe thead th {\n",
       "        text-align: right;\n",
       "    }\n",
       "</style>\n",
       "<table border=\"1\" class=\"dataframe\">\n",
       "  <thead>\n",
       "    <tr style=\"text-align: right;\">\n",
       "      <th></th>\n",
       "      <th>patient_id</th>\n",
       "      <th>assigned_sex</th>\n",
       "      <th>given_name</th>\n",
       "      <th>surname</th>\n",
       "      <th>address</th>\n",
       "      <th>city</th>\n",
       "      <th>state</th>\n",
       "      <th>zip_code</th>\n",
       "      <th>country</th>\n",
       "      <th>contact</th>\n",
       "      <th>birthdate</th>\n",
       "      <th>weight</th>\n",
       "      <th>height</th>\n",
       "      <th>bmi</th>\n",
       "    </tr>\n",
       "  </thead>\n",
       "  <tbody>\n",
       "    <tr>\n",
       "      <th>29</th>\n",
       "      <td>30</td>\n",
       "      <td>male</td>\n",
       "      <td>Jake</td>\n",
       "      <td>Jakobsen</td>\n",
       "      <td>648 Old Dear Lane</td>\n",
       "      <td>Port Jervis</td>\n",
       "      <td>New York</td>\n",
       "      <td>12771.0</td>\n",
       "      <td>United States</td>\n",
       "      <td>JakobCJakobsen@einrot.com+1 (845) 858-7707</td>\n",
       "      <td>8/1/1985</td>\n",
       "      <td>155.8</td>\n",
       "      <td>67</td>\n",
       "      <td>24.4</td>\n",
       "    </tr>\n",
       "    <tr>\n",
       "      <th>229</th>\n",
       "      <td>230</td>\n",
       "      <td>male</td>\n",
       "      <td>John</td>\n",
       "      <td>Doe</td>\n",
       "      <td>123 Main Street</td>\n",
       "      <td>New York</td>\n",
       "      <td>NY</td>\n",
       "      <td>12345.0</td>\n",
       "      <td>United States</td>\n",
       "      <td>johndoe@email.com1234567890</td>\n",
       "      <td>1/1/1975</td>\n",
       "      <td>180.0</td>\n",
       "      <td>72</td>\n",
       "      <td>24.4</td>\n",
       "    </tr>\n",
       "    <tr>\n",
       "      <th>237</th>\n",
       "      <td>238</td>\n",
       "      <td>male</td>\n",
       "      <td>John</td>\n",
       "      <td>Doe</td>\n",
       "      <td>123 Main Street</td>\n",
       "      <td>New York</td>\n",
       "      <td>NY</td>\n",
       "      <td>12345.0</td>\n",
       "      <td>United States</td>\n",
       "      <td>johndoe@email.com1234567890</td>\n",
       "      <td>1/1/1975</td>\n",
       "      <td>180.0</td>\n",
       "      <td>72</td>\n",
       "      <td>24.4</td>\n",
       "    </tr>\n",
       "    <tr>\n",
       "      <th>244</th>\n",
       "      <td>245</td>\n",
       "      <td>male</td>\n",
       "      <td>John</td>\n",
       "      <td>Doe</td>\n",
       "      <td>123 Main Street</td>\n",
       "      <td>New York</td>\n",
       "      <td>NY</td>\n",
       "      <td>12345.0</td>\n",
       "      <td>United States</td>\n",
       "      <td>johndoe@email.com1234567890</td>\n",
       "      <td>1/1/1975</td>\n",
       "      <td>180.0</td>\n",
       "      <td>72</td>\n",
       "      <td>24.4</td>\n",
       "    </tr>\n",
       "    <tr>\n",
       "      <th>251</th>\n",
       "      <td>252</td>\n",
       "      <td>male</td>\n",
       "      <td>John</td>\n",
       "      <td>Doe</td>\n",
       "      <td>123 Main Street</td>\n",
       "      <td>New York</td>\n",
       "      <td>NY</td>\n",
       "      <td>12345.0</td>\n",
       "      <td>United States</td>\n",
       "      <td>johndoe@email.com1234567890</td>\n",
       "      <td>1/1/1975</td>\n",
       "      <td>180.0</td>\n",
       "      <td>72</td>\n",
       "      <td>24.4</td>\n",
       "    </tr>\n",
       "    <tr>\n",
       "      <th>277</th>\n",
       "      <td>278</td>\n",
       "      <td>male</td>\n",
       "      <td>John</td>\n",
       "      <td>Doe</td>\n",
       "      <td>123 Main Street</td>\n",
       "      <td>New York</td>\n",
       "      <td>NY</td>\n",
       "      <td>12345.0</td>\n",
       "      <td>United States</td>\n",
       "      <td>johndoe@email.com1234567890</td>\n",
       "      <td>1/1/1975</td>\n",
       "      <td>180.0</td>\n",
       "      <td>72</td>\n",
       "      <td>24.4</td>\n",
       "    </tr>\n",
       "    <tr>\n",
       "      <th>282</th>\n",
       "      <td>283</td>\n",
       "      <td>female</td>\n",
       "      <td>Sandy</td>\n",
       "      <td>Taylor</td>\n",
       "      <td>2476 Fulton Street</td>\n",
       "      <td>Rainelle</td>\n",
       "      <td>WV</td>\n",
       "      <td>25962.0</td>\n",
       "      <td>United States</td>\n",
       "      <td>304-438-2648SandraCTaylor@dayrep.com</td>\n",
       "      <td>10/23/1960</td>\n",
       "      <td>206.1</td>\n",
       "      <td>64</td>\n",
       "      <td>35.4</td>\n",
       "    </tr>\n",
       "    <tr>\n",
       "      <th>502</th>\n",
       "      <td>503</td>\n",
       "      <td>male</td>\n",
       "      <td>Pat</td>\n",
       "      <td>Gersten</td>\n",
       "      <td>2778 North Avenue</td>\n",
       "      <td>Burr</td>\n",
       "      <td>Nebraska</td>\n",
       "      <td>68324.0</td>\n",
       "      <td>United States</td>\n",
       "      <td>PatrickGersten@rhyta.com402-848-4923</td>\n",
       "      <td>5/3/1954</td>\n",
       "      <td>138.2</td>\n",
       "      <td>71</td>\n",
       "      <td>19.3</td>\n",
       "    </tr>\n",
       "  </tbody>\n",
       "</table>\n",
       "</div>"
      ],
      "text/plain": [
       "     patient_id assigned_sex given_name   surname             address  \\\n",
       "29           30         male       Jake  Jakobsen   648 Old Dear Lane   \n",
       "229         230         male       John       Doe     123 Main Street   \n",
       "237         238         male       John       Doe     123 Main Street   \n",
       "244         245         male       John       Doe     123 Main Street   \n",
       "251         252         male       John       Doe     123 Main Street   \n",
       "277         278         male       John       Doe     123 Main Street   \n",
       "282         283       female      Sandy    Taylor  2476 Fulton Street   \n",
       "502         503         male        Pat   Gersten   2778 North Avenue   \n",
       "\n",
       "            city     state  zip_code        country  \\\n",
       "29   Port Jervis  New York   12771.0  United States   \n",
       "229     New York        NY   12345.0  United States   \n",
       "237     New York        NY   12345.0  United States   \n",
       "244     New York        NY   12345.0  United States   \n",
       "251     New York        NY   12345.0  United States   \n",
       "277     New York        NY   12345.0  United States   \n",
       "282     Rainelle        WV   25962.0  United States   \n",
       "502         Burr  Nebraska   68324.0  United States   \n",
       "\n",
       "                                        contact   birthdate  weight  height  \\\n",
       "29   JakobCJakobsen@einrot.com+1 (845) 858-7707    8/1/1985   155.8      67   \n",
       "229                 johndoe@email.com1234567890    1/1/1975   180.0      72   \n",
       "237                 johndoe@email.com1234567890    1/1/1975   180.0      72   \n",
       "244                 johndoe@email.com1234567890    1/1/1975   180.0      72   \n",
       "251                 johndoe@email.com1234567890    1/1/1975   180.0      72   \n",
       "277                 johndoe@email.com1234567890    1/1/1975   180.0      72   \n",
       "282        304-438-2648SandraCTaylor@dayrep.com  10/23/1960   206.1      64   \n",
       "502        PatrickGersten@rhyta.com402-848-4923    5/3/1954   138.2      71   \n",
       "\n",
       "      bmi  \n",
       "29   24.4  \n",
       "229  24.4  \n",
       "237  24.4  \n",
       "244  24.4  \n",
       "251  24.4  \n",
       "277  24.4  \n",
       "282  35.4  \n",
       "502  19.3  "
      ]
     },
     "execution_count": 59,
     "metadata": {},
     "output_type": "execute_result"
    }
   ],
   "source": [
    "patients[patients.duplicated(subset=['surname','address'])]"
   ]
  },
  {
   "cell_type": "markdown",
   "id": "cac8fee0-2741-4916-b1b6-087089fb0482",
   "metadata": {},
   "source": [
    "It can be seen that there are multiple John Doe's that live at 123 Main Street New York, New York at the ZIP code 1234 with the email johndoe@email.com"
   ]
  }
 ],
 "metadata": {
  "kernelspec": {
   "display_name": "Python 3 (ipykernel)",
   "language": "python",
   "name": "python3"
  },
  "language_info": {
   "codemirror_mode": {
    "name": "ipython",
    "version": 3
   },
   "file_extension": ".py",
   "mimetype": "text/x-python",
   "name": "python",
   "nbconvert_exporter": "python",
   "pygments_lexer": "ipython3",
   "version": "3.12.3"
  }
 },
 "nbformat": 4,
 "nbformat_minor": 5
}
