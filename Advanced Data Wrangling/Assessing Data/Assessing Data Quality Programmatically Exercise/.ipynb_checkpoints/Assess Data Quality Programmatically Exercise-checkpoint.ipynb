{
 "cells": [
  {
   "cell_type": "markdown",
   "id": "728627d3-8069-4bd0-bbe4-153eeda82e99",
   "metadata": {},
   "source": [
    "# The goal\n",
    "\n",
    "To assess the 2 files for completeness and consistency"
   ]
  },
  {
   "cell_type": "markdown",
   "id": "1d9d1d79-be0a-409f-ba98-bf0fa8df193b",
   "metadata": {},
   "source": [
    "# Import Libraries"
   ]
  },
  {
   "cell_type": "code",
   "execution_count": 6,
   "id": "83cc5042-92eb-4832-b88d-d09ac19de7be",
   "metadata": {},
   "outputs": [],
   "source": [
    "import pandas as pd\n",
    "import numpy as np"
   ]
  },
  {
   "cell_type": "markdown",
   "id": "a1d032fa-60d6-4727-ba43-b5d1c7439c57",
   "metadata": {},
   "source": [
    "# Load Datasets"
   ]
  },
  {
   "cell_type": "code",
   "execution_count": 7,
   "id": "332e3117-a478-4649-a481-884ba4eb1b1a",
   "metadata": {},
   "outputs": [],
   "source": [
    "oews = pd.read_excel('oes_research_2021_sec_55-56.xlsx')\n",
    "cleaned_pums =  pd.read_csv('cleaned_pums_2021.csv')"
   ]
  },
  {
   "cell_type": "code",
   "execution_count": 8,
   "id": "131502d0-1772-4c5e-9531-be42e52224d6",
   "metadata": {},
   "outputs": [
    {
     "data": {
      "text/html": [
       "<div>\n",
       "<style scoped>\n",
       "    .dataframe tbody tr th:only-of-type {\n",
       "        vertical-align: middle;\n",
       "    }\n",
       "\n",
       "    .dataframe tbody tr th {\n",
       "        vertical-align: top;\n",
       "    }\n",
       "\n",
       "    .dataframe thead th {\n",
       "        text-align: right;\n",
       "    }\n",
       "</style>\n",
       "<table border=\"1\" class=\"dataframe\">\n",
       "  <thead>\n",
       "    <tr style=\"text-align: right;\">\n",
       "      <th></th>\n",
       "      <th>AREA</th>\n",
       "      <th>AREA_TITLE</th>\n",
       "      <th>NAICS</th>\n",
       "      <th>NAICS_TITLE</th>\n",
       "      <th>I_GROUP</th>\n",
       "      <th>OCC_CODE</th>\n",
       "      <th>OCC_TITLE</th>\n",
       "      <th>O_GROUP</th>\n",
       "      <th>TOT_EMP</th>\n",
       "      <th>EMP_PRSE</th>\n",
       "      <th>...</th>\n",
       "      <th>H_MEDIAN</th>\n",
       "      <th>H_PCT75</th>\n",
       "      <th>H_PCT90</th>\n",
       "      <th>A_PCT10</th>\n",
       "      <th>A_PCT25</th>\n",
       "      <th>A_MEDIAN</th>\n",
       "      <th>A_PCT75</th>\n",
       "      <th>A_PCT90</th>\n",
       "      <th>ANNUAL</th>\n",
       "      <th>HOURLY</th>\n",
       "    </tr>\n",
       "  </thead>\n",
       "  <tbody>\n",
       "    <tr>\n",
       "      <th>0</th>\n",
       "      <td>1</td>\n",
       "      <td>Alabama</td>\n",
       "      <td>55</td>\n",
       "      <td>Management of Companies and Enterprises</td>\n",
       "      <td>sector</td>\n",
       "      <td>00-0000</td>\n",
       "      <td>All Occupations</td>\n",
       "      <td>total</td>\n",
       "      <td>21920</td>\n",
       "      <td>0</td>\n",
       "      <td>...</td>\n",
       "      <td>35.6</td>\n",
       "      <td>56.94</td>\n",
       "      <td>79.49</td>\n",
       "      <td>35470</td>\n",
       "      <td>47040</td>\n",
       "      <td>74050</td>\n",
       "      <td>118440</td>\n",
       "      <td>165330</td>\n",
       "      <td>NaN</td>\n",
       "      <td>NaN</td>\n",
       "    </tr>\n",
       "    <tr>\n",
       "      <th>1</th>\n",
       "      <td>1</td>\n",
       "      <td>Alabama</td>\n",
       "      <td>55</td>\n",
       "      <td>Management of Companies and Enterprises</td>\n",
       "      <td>sector</td>\n",
       "      <td>11-0000</td>\n",
       "      <td>Management Occupations</td>\n",
       "      <td>major</td>\n",
       "      <td>4820</td>\n",
       "      <td>4.1</td>\n",
       "      <td>...</td>\n",
       "      <td>61.13</td>\n",
       "      <td>92.03</td>\n",
       "      <td>#</td>\n",
       "      <td>61600</td>\n",
       "      <td>94020</td>\n",
       "      <td>127140</td>\n",
       "      <td>191420</td>\n",
       "      <td>#</td>\n",
       "      <td>NaN</td>\n",
       "      <td>NaN</td>\n",
       "    </tr>\n",
       "    <tr>\n",
       "      <th>2</th>\n",
       "      <td>1</td>\n",
       "      <td>Alabama</td>\n",
       "      <td>55</td>\n",
       "      <td>Management of Companies and Enterprises</td>\n",
       "      <td>sector</td>\n",
       "      <td>11-1021</td>\n",
       "      <td>General and Operations Managers</td>\n",
       "      <td>detailed</td>\n",
       "      <td>1600</td>\n",
       "      <td>7</td>\n",
       "      <td>...</td>\n",
       "      <td>60.5</td>\n",
       "      <td>#</td>\n",
       "      <td>#</td>\n",
       "      <td>60010</td>\n",
       "      <td>78520</td>\n",
       "      <td>125850</td>\n",
       "      <td>#</td>\n",
       "      <td>#</td>\n",
       "      <td>NaN</td>\n",
       "      <td>NaN</td>\n",
       "    </tr>\n",
       "    <tr>\n",
       "      <th>3</th>\n",
       "      <td>1</td>\n",
       "      <td>Alabama</td>\n",
       "      <td>55</td>\n",
       "      <td>Management of Companies and Enterprises</td>\n",
       "      <td>sector</td>\n",
       "      <td>11-2021</td>\n",
       "      <td>Marketing Managers</td>\n",
       "      <td>detailed</td>\n",
       "      <td>140</td>\n",
       "      <td>13.6</td>\n",
       "      <td>...</td>\n",
       "      <td>61.13</td>\n",
       "      <td>99.23</td>\n",
       "      <td>#</td>\n",
       "      <td>65240</td>\n",
       "      <td>98680</td>\n",
       "      <td>127140</td>\n",
       "      <td>206410</td>\n",
       "      <td>#</td>\n",
       "      <td>NaN</td>\n",
       "      <td>NaN</td>\n",
       "    </tr>\n",
       "  </tbody>\n",
       "</table>\n",
       "<p>4 rows × 26 columns</p>\n",
       "</div>"
      ],
      "text/plain": [
       "   AREA AREA_TITLE  NAICS                              NAICS_TITLE I_GROUP  \\\n",
       "0     1    Alabama     55  Management of Companies and Enterprises  sector   \n",
       "1     1    Alabama     55  Management of Companies and Enterprises  sector   \n",
       "2     1    Alabama     55  Management of Companies and Enterprises  sector   \n",
       "3     1    Alabama     55  Management of Companies and Enterprises  sector   \n",
       "\n",
       "  OCC_CODE                        OCC_TITLE   O_GROUP TOT_EMP EMP_PRSE  ...  \\\n",
       "0  00-0000                  All Occupations     total   21920        0  ...   \n",
       "1  11-0000           Management Occupations     major    4820      4.1  ...   \n",
       "2  11-1021  General and Operations Managers  detailed    1600        7  ...   \n",
       "3  11-2021               Marketing Managers  detailed     140     13.6  ...   \n",
       "\n",
       "  H_MEDIAN H_PCT75 H_PCT90 A_PCT10 A_PCT25 A_MEDIAN A_PCT75 A_PCT90 ANNUAL  \\\n",
       "0     35.6   56.94   79.49   35470   47040    74050  118440  165330    NaN   \n",
       "1    61.13   92.03       #   61600   94020   127140  191420       #    NaN   \n",
       "2     60.5       #       #   60010   78520   125850       #       #    NaN   \n",
       "3    61.13   99.23       #   65240   98680   127140  206410       #    NaN   \n",
       "\n",
       "  HOURLY  \n",
       "0    NaN  \n",
       "1    NaN  \n",
       "2    NaN  \n",
       "3    NaN  \n",
       "\n",
       "[4 rows x 26 columns]"
      ]
     },
     "execution_count": 8,
     "metadata": {},
     "output_type": "execute_result"
    }
   ],
   "source": [
    "oews.head(4)"
   ]
  },
  {
   "cell_type": "code",
   "execution_count": 9,
   "id": "84a43162-be2e-42e0-9ed6-0e750fb26720",
   "metadata": {},
   "outputs": [
    {
     "data": {
      "text/html": [
       "<div>\n",
       "<style scoped>\n",
       "    .dataframe tbody tr th:only-of-type {\n",
       "        vertical-align: middle;\n",
       "    }\n",
       "\n",
       "    .dataframe tbody tr th {\n",
       "        vertical-align: top;\n",
       "    }\n",
       "\n",
       "    .dataframe thead th {\n",
       "        text-align: right;\n",
       "    }\n",
       "</style>\n",
       "<table border=\"1\" class=\"dataframe\">\n",
       "  <thead>\n",
       "    <tr style=\"text-align: right;\">\n",
       "      <th></th>\n",
       "      <th>WRK</th>\n",
       "      <th>SEX</th>\n",
       "      <th>SOCP</th>\n",
       "    </tr>\n",
       "  </thead>\n",
       "  <tbody>\n",
       "    <tr>\n",
       "      <th>0</th>\n",
       "      <td>1</td>\n",
       "      <td>2</td>\n",
       "      <td>119151</td>\n",
       "    </tr>\n",
       "    <tr>\n",
       "      <th>1</th>\n",
       "      <td>2</td>\n",
       "      <td>1</td>\n",
       "      <td>119111</td>\n",
       "    </tr>\n",
       "    <tr>\n",
       "      <th>2</th>\n",
       "      <td>1</td>\n",
       "      <td>2</td>\n",
       "      <td>113121</td>\n",
       "    </tr>\n",
       "    <tr>\n",
       "      <th>3</th>\n",
       "      <td>1</td>\n",
       "      <td>1</td>\n",
       "      <td>1110XX</td>\n",
       "    </tr>\n",
       "  </tbody>\n",
       "</table>\n",
       "</div>"
      ],
      "text/plain": [
       "   WRK  SEX    SOCP\n",
       "0    1    2  119151\n",
       "1    2    1  119111\n",
       "2    1    2  113121\n",
       "3    1    1  1110XX"
      ]
     },
     "execution_count": 9,
     "metadata": {},
     "output_type": "execute_result"
    }
   ],
   "source": [
    "cleaned_pums.head(4)"
   ]
  },
  {
   "cell_type": "markdown",
   "id": "dd276fd1-02ad-4421-9311-9f2ad59ee671",
   "metadata": {},
   "source": [
    "# 1. Insepct the Completeness"
   ]
  },
  {
   "cell_type": "markdown",
   "id": "f0384012-6af5-46cc-bfae-e7c534c7736e",
   "metadata": {},
   "source": [
    "Looking for any missing or incomplete values"
   ]
  },
  {
   "cell_type": "markdown",
   "id": "7ad81ba6-dc27-4534-836b-4dc1bfd9c17f",
   "metadata": {},
   "source": [
    "## 1.1 Creating a subset of the dataset"
   ]
  },
  {
   "cell_type": "markdown",
   "id": "57247c58-e729-4d80-aea2-c3ae2652f4a0",
   "metadata": {},
   "source": [
    "The goal here is to create a subset of the dataset only containing the `AREA_TITLE`, `OCC_CODE`, `OCC_TILE` and `H_MEAN`."
   ]
  },
  {
   "cell_type": "code",
   "execution_count": 16,
   "id": "8a44aa33-905d-4cb5-beef-7356db1f8a3e",
   "metadata": {},
   "outputs": [
    {
     "data": {
      "text/html": [
       "<div>\n",
       "<style scoped>\n",
       "    .dataframe tbody tr th:only-of-type {\n",
       "        vertical-align: middle;\n",
       "    }\n",
       "\n",
       "    .dataframe tbody tr th {\n",
       "        vertical-align: top;\n",
       "    }\n",
       "\n",
       "    .dataframe thead th {\n",
       "        text-align: right;\n",
       "    }\n",
       "</style>\n",
       "<table border=\"1\" class=\"dataframe\">\n",
       "  <thead>\n",
       "    <tr style=\"text-align: right;\">\n",
       "      <th></th>\n",
       "      <th>AREA_TITLE</th>\n",
       "      <th>OCC_CODE</th>\n",
       "      <th>OCC_TITLE</th>\n",
       "      <th>H_MEAN</th>\n",
       "    </tr>\n",
       "  </thead>\n",
       "  <tbody>\n",
       "    <tr>\n",
       "      <th>0</th>\n",
       "      <td>Alabama</td>\n",
       "      <td>00-0000</td>\n",
       "      <td>All Occupations</td>\n",
       "      <td>42.88</td>\n",
       "    </tr>\n",
       "    <tr>\n",
       "      <th>1</th>\n",
       "      <td>Alabama</td>\n",
       "      <td>11-0000</td>\n",
       "      <td>Management Occupations</td>\n",
       "      <td>70.9</td>\n",
       "    </tr>\n",
       "    <tr>\n",
       "      <th>2</th>\n",
       "      <td>Alabama</td>\n",
       "      <td>11-1021</td>\n",
       "      <td>General and Operations Managers</td>\n",
       "      <td>72.76</td>\n",
       "    </tr>\n",
       "    <tr>\n",
       "      <th>3</th>\n",
       "      <td>Alabama</td>\n",
       "      <td>11-2021</td>\n",
       "      <td>Marketing Managers</td>\n",
       "      <td>69.97</td>\n",
       "    </tr>\n",
       "    <tr>\n",
       "      <th>4</th>\n",
       "      <td>Alabama</td>\n",
       "      <td>11-2022</td>\n",
       "      <td>Sales Managers</td>\n",
       "      <td>62.97</td>\n",
       "    </tr>\n",
       "    <tr>\n",
       "      <th>...</th>\n",
       "      <td>...</td>\n",
       "      <td>...</td>\n",
       "      <td>...</td>\n",
       "      <td>...</td>\n",
       "    </tr>\n",
       "    <tr>\n",
       "      <th>71503</th>\n",
       "      <td>Puerto Rico</td>\n",
       "      <td>53-0000</td>\n",
       "      <td>Transportation and Material Moving Occupations</td>\n",
       "      <td>11.15</td>\n",
       "    </tr>\n",
       "    <tr>\n",
       "      <th>71504</th>\n",
       "      <td>Puerto Rico</td>\n",
       "      <td>53-1047</td>\n",
       "      <td>First-Line Supervisors of Transportation and M...</td>\n",
       "      <td>18.02</td>\n",
       "    </tr>\n",
       "    <tr>\n",
       "      <th>71505</th>\n",
       "      <td>Puerto Rico</td>\n",
       "      <td>53-3032</td>\n",
       "      <td>Heavy and Tractor-Trailer Truck Drivers</td>\n",
       "      <td>11.08</td>\n",
       "    </tr>\n",
       "    <tr>\n",
       "      <th>71506</th>\n",
       "      <td>Puerto Rico</td>\n",
       "      <td>53-7081</td>\n",
       "      <td>Refuse and Recyclable Material Collectors</td>\n",
       "      <td>10.06</td>\n",
       "    </tr>\n",
       "    <tr>\n",
       "      <th>71507</th>\n",
       "      <td>Virgin Islands</td>\n",
       "      <td>00-0000</td>\n",
       "      <td>All Occupations</td>\n",
       "      <td>30.01</td>\n",
       "    </tr>\n",
       "  </tbody>\n",
       "</table>\n",
       "<p>71508 rows × 4 columns</p>\n",
       "</div>"
      ],
      "text/plain": [
       "           AREA_TITLE OCC_CODE  \\\n",
       "0             Alabama  00-0000   \n",
       "1             Alabama  11-0000   \n",
       "2             Alabama  11-1021   \n",
       "3             Alabama  11-2021   \n",
       "4             Alabama  11-2022   \n",
       "...               ...      ...   \n",
       "71503     Puerto Rico  53-0000   \n",
       "71504     Puerto Rico  53-1047   \n",
       "71505     Puerto Rico  53-3032   \n",
       "71506     Puerto Rico  53-7081   \n",
       "71507  Virgin Islands  00-0000   \n",
       "\n",
       "                                               OCC_TITLE H_MEAN  \n",
       "0                                        All Occupations  42.88  \n",
       "1                                 Management Occupations   70.9  \n",
       "2                        General and Operations Managers  72.76  \n",
       "3                                     Marketing Managers  69.97  \n",
       "4                                         Sales Managers  62.97  \n",
       "...                                                  ...    ...  \n",
       "71503     Transportation and Material Moving Occupations  11.15  \n",
       "71504  First-Line Supervisors of Transportation and M...  18.02  \n",
       "71505            Heavy and Tractor-Trailer Truck Drivers  11.08  \n",
       "71506          Refuse and Recyclable Material Collectors  10.06  \n",
       "71507                                    All Occupations  30.01  \n",
       "\n",
       "[71508 rows x 4 columns]"
      ]
     },
     "execution_count": 16,
     "metadata": {},
     "output_type": "execute_result"
    }
   ],
   "source": [
    "oews_subset = oews[['AREA_TITLE','OCC_CODE','OCC_TITLE','H_MEAN']]\n",
    "\n",
    "oews_subset"
   ]
  },
  {
   "cell_type": "code",
   "execution_count": 19,
   "id": "49b7222a-1bcd-4f03-93c9-7cf02ead7201",
   "metadata": {},
   "outputs": [
    {
     "data": {
      "text/plain": [
       "0"
      ]
     },
     "execution_count": 19,
     "metadata": {},
     "output_type": "execute_result"
    }
   ],
   "source": [
    "oews_subset.isna().sum()"
   ]
  },
  {
   "cell_type": "markdown",
   "id": "3e7c3189-2610-41de-b622-72845af09b65",
   "metadata": {},
   "source": [
    "No duplicates"
   ]
  },
  {
   "cell_type": "markdown",
   "id": "d3fc52b4-28f1-4a07-b611-0656807929c8",
   "metadata": {},
   "source": [
    "## 1.2 Checking summary statistics"
   ]
  },
  {
   "cell_type": "markdown",
   "id": "75e1395b-cd62-49a0-be2f-8df28a7bf916",
   "metadata": {},
   "source": [
    "The summary statistics can be checked using the `.describe` and the `.info()` functions. The most important column to look at here is the `H_MEAN` column"
   ]
  },
  {
   "cell_type": "code",
   "execution_count": 20,
   "id": "46e0e381-b36a-4226-81b8-01121d4cdcb5",
   "metadata": {},
   "outputs": [
    {
     "name": "stdout",
     "output_type": "stream",
     "text": [
      "<class 'pandas.core.frame.DataFrame'>\n",
      "RangeIndex: 71508 entries, 0 to 71507\n",
      "Data columns (total 4 columns):\n",
      " #   Column      Non-Null Count  Dtype \n",
      "---  ------      --------------  ----- \n",
      " 0   AREA_TITLE  71508 non-null  object\n",
      " 1   OCC_CODE    71508 non-null  object\n",
      " 2   OCC_TITLE   71508 non-null  object\n",
      " 3   H_MEAN      71508 non-null  object\n",
      "dtypes: object(4)\n",
      "memory usage: 2.2+ MB\n"
     ]
    }
   ],
   "source": [
    "oews_subset.info()"
   ]
  },
  {
   "cell_type": "code",
   "execution_count": 22,
   "id": "3bf8ae27-ea68-49cd-9595-b1f47d45408d",
   "metadata": {},
   "outputs": [
    {
     "data": {
      "text/plain": [
       "count     71508\n",
       "unique     6818\n",
       "top           *\n",
       "freq        536\n",
       "Name: H_MEAN, dtype: object"
      ]
     },
     "execution_count": 22,
     "metadata": {},
     "output_type": "execute_result"
    }
   ],
   "source": [
    "oews_subset['H_MEAN'].describe()"
   ]
  },
  {
   "cell_type": "markdown",
   "id": "141391fb-2e8d-4f5b-9f5b-7f5874fbe6c0",
   "metadata": {},
   "source": [
    "The missing values in the `H_MEAN` column are represented by the '*' character."
   ]
  },
  {
   "cell_type": "markdown",
   "id": "df2bc5bd-650c-41d6-95b2-23a509ce7f25",
   "metadata": {},
   "source": [
    "## 1.3 Looking into the dtype of the dataset"
   ]
  },
  {
   "cell_type": "markdown",
   "id": "abe2ef9a-26ae-402e-9af6-d3dcb7424e3f",
   "metadata": {},
   "source": [
    "Due to the usage of '\\*' to represent missing values, the engire column was set to the object data type. Instead, the column should be a float (float64 to be exact). the '\\*' character should be set to the 'np.NaN' value."
   ]
  },
  {
   "cell_type": "code",
   "execution_count": 23,
   "id": "87fe4de8-0b93-4855-ab5e-b5af716cdd88",
   "metadata": {},
   "outputs": [],
   "source": [
    "pd.options.mode.chained_assignment = None #to remove warning"
   ]
  },
  {
   "cell_type": "markdown",
   "id": "00595591-8d16-4a3f-817a-1146dbc2f59e",
   "metadata": {},
   "source": [
    "Replace every '*' character with np.NaN, otherwise keep the value as it is. During cnnverting ot a float, it was found that there is also a '#' character used, that was also treated as a missing value and replaced with np.NaN."
   ]
  },
  {
   "cell_type": "code",
   "execution_count": 32,
   "id": "2cbdbbdc-1aff-42f4-95fe-32833fdb9970",
   "metadata": {},
   "outputs": [],
   "source": [
    "oews_subset['H_MEAN'] = oews_subset['H_MEAN'].apply(lambda x: np.NaN if x==\"*\" or x==\"#\" else x)"
   ]
  },
  {
   "cell_type": "code",
   "execution_count": 34,
   "id": "0ac91325-d213-496b-8145-fa3dc9fefe4c",
   "metadata": {},
   "outputs": [
    {
     "data": {
      "text/plain": [
       "0        42.88\n",
       "1        70.90\n",
       "2        72.76\n",
       "3        69.97\n",
       "4        62.97\n",
       "         ...  \n",
       "71503    11.15\n",
       "71504    18.02\n",
       "71505    11.08\n",
       "71506    10.06\n",
       "71507    30.01\n",
       "Name: H_MEAN, Length: 71508, dtype: float64"
      ]
     },
     "execution_count": 34,
     "metadata": {},
     "output_type": "execute_result"
    }
   ],
   "source": [
    "pd.to_numeric(oews_subset['H_MEAN'])"
   ]
  },
  {
   "cell_type": "markdown",
   "id": "842eaf25-4476-4d3d-aaa6-e8c308e25db7",
   "metadata": {},
   "source": [
    "## 1.4 Checking the number of missing values again"
   ]
  },
  {
   "cell_type": "code",
   "execution_count": 37,
   "id": "6cdd339c-22ee-4a53-b9a6-482b7895d371",
   "metadata": {},
   "outputs": [
    {
     "data": {
      "text/plain": [
       "AREA_TITLE      0\n",
       "OCC_CODE        0\n",
       "OCC_TITLE       0\n",
       "H_MEAN        562\n",
       "dtype: int64"
      ]
     },
     "execution_count": 37,
     "metadata": {},
     "output_type": "execute_result"
    }
   ],
   "source": [
    "oews_subset.isna().sum()"
   ]
  },
  {
   "cell_type": "markdown",
   "id": "7af44682-ad7d-40fb-a7e6-4ae02b5e7a57",
   "metadata": {},
   "source": [
    "Now there is a lot of missing entries, 562 to be exact."
   ]
  },
  {
   "cell_type": "markdown",
   "id": "f9171cf6-4266-4d4c-88b3-467b5f49646e",
   "metadata": {},
   "source": [
    "# 2. Inspecting the consistency"
   ]
  },
  {
   "cell_type": "markdown",
   "id": "a428503c-db0e-4188-bdbf-6b84f737775b",
   "metadata": {},
   "source": [
    "The consistency will be checked for the `AREA_TITLE` and `OCC_CODE`/`SOCP` columns between the OEWS subset and the PUMS data."
   ]
  },
  {
   "cell_type": "markdown",
   "id": "598a5f85-109f-4e7c-94fb-671c4888aba3",
   "metadata": {},
   "source": [
    "## 2.1 Is the area consistent between the two datasets?"
   ]
  },
  {
   "cell_type": "code",
   "execution_count": 41,
   "id": "097ab89a-32b1-41d9-b07a-cb0f4ed0945a",
   "metadata": {},
   "outputs": [
    {
     "data": {
      "text/html": [
       "<div>\n",
       "<style scoped>\n",
       "    .dataframe tbody tr th:only-of-type {\n",
       "        vertical-align: middle;\n",
       "    }\n",
       "\n",
       "    .dataframe tbody tr th {\n",
       "        vertical-align: top;\n",
       "    }\n",
       "\n",
       "    .dataframe thead th {\n",
       "        text-align: right;\n",
       "    }\n",
       "</style>\n",
       "<table border=\"1\" class=\"dataframe\">\n",
       "  <thead>\n",
       "    <tr style=\"text-align: right;\">\n",
       "      <th></th>\n",
       "      <th>AREA_TITLE</th>\n",
       "      <th>OCC_CODE</th>\n",
       "      <th>OCC_TITLE</th>\n",
       "      <th>H_MEAN</th>\n",
       "    </tr>\n",
       "  </thead>\n",
       "  <tbody>\n",
       "    <tr>\n",
       "      <th>0</th>\n",
       "      <td>Alabama</td>\n",
       "      <td>00-0000</td>\n",
       "      <td>All Occupations</td>\n",
       "      <td>42.88</td>\n",
       "    </tr>\n",
       "    <tr>\n",
       "      <th>1</th>\n",
       "      <td>Alabama</td>\n",
       "      <td>11-0000</td>\n",
       "      <td>Management Occupations</td>\n",
       "      <td>70.90</td>\n",
       "    </tr>\n",
       "    <tr>\n",
       "      <th>2</th>\n",
       "      <td>Alabama</td>\n",
       "      <td>11-1021</td>\n",
       "      <td>General and Operations Managers</td>\n",
       "      <td>72.76</td>\n",
       "    </tr>\n",
       "    <tr>\n",
       "      <th>3</th>\n",
       "      <td>Alabama</td>\n",
       "      <td>11-2021</td>\n",
       "      <td>Marketing Managers</td>\n",
       "      <td>69.97</td>\n",
       "    </tr>\n",
       "    <tr>\n",
       "      <th>4</th>\n",
       "      <td>Alabama</td>\n",
       "      <td>11-2022</td>\n",
       "      <td>Sales Managers</td>\n",
       "      <td>62.97</td>\n",
       "    </tr>\n",
       "  </tbody>\n",
       "</table>\n",
       "</div>"
      ],
      "text/plain": [
       "  AREA_TITLE OCC_CODE                        OCC_TITLE  H_MEAN\n",
       "0    Alabama  00-0000                  All Occupations   42.88\n",
       "1    Alabama  11-0000           Management Occupations   70.90\n",
       "2    Alabama  11-1021  General and Operations Managers   72.76\n",
       "3    Alabama  11-2021               Marketing Managers   69.97\n",
       "4    Alabama  11-2022                   Sales Managers   62.97"
      ]
     },
     "execution_count": 41,
     "metadata": {},
     "output_type": "execute_result"
    }
   ],
   "source": [
    "oews_subset.head()"
   ]
  },
  {
   "cell_type": "code",
   "execution_count": 40,
   "id": "f68d0e7a-ac49-405e-b6cb-2bb58a16c531",
   "metadata": {},
   "outputs": [
    {
     "data": {
      "text/html": [
       "<div>\n",
       "<style scoped>\n",
       "    .dataframe tbody tr th:only-of-type {\n",
       "        vertical-align: middle;\n",
       "    }\n",
       "\n",
       "    .dataframe tbody tr th {\n",
       "        vertical-align: top;\n",
       "    }\n",
       "\n",
       "    .dataframe thead th {\n",
       "        text-align: right;\n",
       "    }\n",
       "</style>\n",
       "<table border=\"1\" class=\"dataframe\">\n",
       "  <thead>\n",
       "    <tr style=\"text-align: right;\">\n",
       "      <th></th>\n",
       "      <th>WRK</th>\n",
       "      <th>SEX</th>\n",
       "      <th>SOCP</th>\n",
       "    </tr>\n",
       "  </thead>\n",
       "  <tbody>\n",
       "    <tr>\n",
       "      <th>0</th>\n",
       "      <td>1</td>\n",
       "      <td>2</td>\n",
       "      <td>119151</td>\n",
       "    </tr>\n",
       "    <tr>\n",
       "      <th>1</th>\n",
       "      <td>2</td>\n",
       "      <td>1</td>\n",
       "      <td>119111</td>\n",
       "    </tr>\n",
       "    <tr>\n",
       "      <th>2</th>\n",
       "      <td>1</td>\n",
       "      <td>2</td>\n",
       "      <td>113121</td>\n",
       "    </tr>\n",
       "    <tr>\n",
       "      <th>3</th>\n",
       "      <td>1</td>\n",
       "      <td>1</td>\n",
       "      <td>1110XX</td>\n",
       "    </tr>\n",
       "    <tr>\n",
       "      <th>4</th>\n",
       "      <td>1</td>\n",
       "      <td>1</td>\n",
       "      <td>113051</td>\n",
       "    </tr>\n",
       "  </tbody>\n",
       "</table>\n",
       "</div>"
      ],
      "text/plain": [
       "   WRK  SEX    SOCP\n",
       "0    1    2  119151\n",
       "1    2    1  119111\n",
       "2    1    2  113121\n",
       "3    1    1  1110XX\n",
       "4    1    1  113051"
      ]
     },
     "execution_count": 40,
     "metadata": {},
     "output_type": "execute_result"
    }
   ],
   "source": [
    "cleaned_pums.head()"
   ]
  },
  {
   "cell_type": "code",
   "execution_count": 42,
   "id": "eed3cc0a-35a6-4993-afc0-a034a73f3b7c",
   "metadata": {},
   "outputs": [
    {
     "name": "stdout",
     "output_type": "stream",
     "text": [
      "<class 'pandas.core.frame.DataFrame'>\n",
      "RangeIndex: 71508 entries, 0 to 71507\n",
      "Data columns (total 4 columns):\n",
      " #   Column      Non-Null Count  Dtype  \n",
      "---  ------      --------------  -----  \n",
      " 0   AREA_TITLE  71508 non-null  object \n",
      " 1   OCC_CODE    71508 non-null  object \n",
      " 2   OCC_TITLE   71508 non-null  object \n",
      " 3   H_MEAN      70946 non-null  float64\n",
      "dtypes: float64(1), object(3)\n",
      "memory usage: 2.2+ MB\n"
     ]
    }
   ],
   "source": [
    "oews_subset.info()"
   ]
  },
  {
   "cell_type": "code",
   "execution_count": 43,
   "id": "40f1a9d5-90fa-4ea2-b2fa-afbc1902929f",
   "metadata": {},
   "outputs": [
    {
     "data": {
      "text/html": [
       "<div>\n",
       "<style scoped>\n",
       "    .dataframe tbody tr th:only-of-type {\n",
       "        vertical-align: middle;\n",
       "    }\n",
       "\n",
       "    .dataframe tbody tr th {\n",
       "        vertical-align: top;\n",
       "    }\n",
       "\n",
       "    .dataframe thead th {\n",
       "        text-align: right;\n",
       "    }\n",
       "</style>\n",
       "<table border=\"1\" class=\"dataframe\">\n",
       "  <thead>\n",
       "    <tr style=\"text-align: right;\">\n",
       "      <th></th>\n",
       "      <th>H_MEAN</th>\n",
       "    </tr>\n",
       "  </thead>\n",
       "  <tbody>\n",
       "    <tr>\n",
       "      <th>count</th>\n",
       "      <td>70946.000000</td>\n",
       "    </tr>\n",
       "    <tr>\n",
       "      <th>mean</th>\n",
       "      <td>30.538687</td>\n",
       "    </tr>\n",
       "    <tr>\n",
       "      <th>std</th>\n",
       "      <td>17.569752</td>\n",
       "    </tr>\n",
       "    <tr>\n",
       "      <th>min</th>\n",
       "      <td>8.180000</td>\n",
       "    </tr>\n",
       "    <tr>\n",
       "      <th>25%</th>\n",
       "      <td>18.010000</td>\n",
       "    </tr>\n",
       "    <tr>\n",
       "      <th>50%</th>\n",
       "      <td>24.770000</td>\n",
       "    </tr>\n",
       "    <tr>\n",
       "      <th>75%</th>\n",
       "      <td>38.430000</td>\n",
       "    </tr>\n",
       "    <tr>\n",
       "      <th>max</th>\n",
       "      <td>172.360000</td>\n",
       "    </tr>\n",
       "  </tbody>\n",
       "</table>\n",
       "</div>"
      ],
      "text/plain": [
       "             H_MEAN\n",
       "count  70946.000000\n",
       "mean      30.538687\n",
       "std       17.569752\n",
       "min        8.180000\n",
       "25%       18.010000\n",
       "50%       24.770000\n",
       "75%       38.430000\n",
       "max      172.360000"
      ]
     },
     "execution_count": 43,
     "metadata": {},
     "output_type": "execute_result"
    }
   ],
   "source": [
    "oews_subset.describe()"
   ]
  },
  {
   "cell_type": "code",
   "execution_count": 44,
   "id": "97411761-2333-4e75-a6cf-52d735db2842",
   "metadata": {},
   "outputs": [
    {
     "name": "stdout",
     "output_type": "stream",
     "text": [
      "<class 'pandas.core.frame.DataFrame'>\n",
      "RangeIndex: 22353 entries, 0 to 22352\n",
      "Data columns (total 3 columns):\n",
      " #   Column  Non-Null Count  Dtype \n",
      "---  ------  --------------  ----- \n",
      " 0   WRK     22353 non-null  int64 \n",
      " 1   SEX     22353 non-null  int64 \n",
      " 2   SOCP    22353 non-null  object\n",
      "dtypes: int64(2), object(1)\n",
      "memory usage: 524.0+ KB\n"
     ]
    }
   ],
   "source": [
    "cleaned_pums.info()"
   ]
  },
  {
   "cell_type": "code",
   "execution_count": 45,
   "id": "c0c32ce6-0cda-413d-9930-6106cc8e093b",
   "metadata": {},
   "outputs": [
    {
     "data": {
      "text/html": [
       "<div>\n",
       "<style scoped>\n",
       "    .dataframe tbody tr th:only-of-type {\n",
       "        vertical-align: middle;\n",
       "    }\n",
       "\n",
       "    .dataframe tbody tr th {\n",
       "        vertical-align: top;\n",
       "    }\n",
       "\n",
       "    .dataframe thead th {\n",
       "        text-align: right;\n",
       "    }\n",
       "</style>\n",
       "<table border=\"1\" class=\"dataframe\">\n",
       "  <thead>\n",
       "    <tr style=\"text-align: right;\">\n",
       "      <th></th>\n",
       "      <th>WRK</th>\n",
       "      <th>SEX</th>\n",
       "    </tr>\n",
       "  </thead>\n",
       "  <tbody>\n",
       "    <tr>\n",
       "      <th>count</th>\n",
       "      <td>22353.000000</td>\n",
       "      <td>22353.000000</td>\n",
       "    </tr>\n",
       "    <tr>\n",
       "      <th>mean</th>\n",
       "      <td>1.169015</td>\n",
       "      <td>1.439538</td>\n",
       "    </tr>\n",
       "    <tr>\n",
       "      <th>std</th>\n",
       "      <td>0.374774</td>\n",
       "      <td>0.496342</td>\n",
       "    </tr>\n",
       "    <tr>\n",
       "      <th>min</th>\n",
       "      <td>1.000000</td>\n",
       "      <td>1.000000</td>\n",
       "    </tr>\n",
       "    <tr>\n",
       "      <th>25%</th>\n",
       "      <td>1.000000</td>\n",
       "      <td>1.000000</td>\n",
       "    </tr>\n",
       "    <tr>\n",
       "      <th>50%</th>\n",
       "      <td>1.000000</td>\n",
       "      <td>1.000000</td>\n",
       "    </tr>\n",
       "    <tr>\n",
       "      <th>75%</th>\n",
       "      <td>1.000000</td>\n",
       "      <td>2.000000</td>\n",
       "    </tr>\n",
       "    <tr>\n",
       "      <th>max</th>\n",
       "      <td>2.000000</td>\n",
       "      <td>2.000000</td>\n",
       "    </tr>\n",
       "  </tbody>\n",
       "</table>\n",
       "</div>"
      ],
      "text/plain": [
       "                WRK           SEX\n",
       "count  22353.000000  22353.000000\n",
       "mean       1.169015      1.439538\n",
       "std        0.374774      0.496342\n",
       "min        1.000000      1.000000\n",
       "25%        1.000000      1.000000\n",
       "50%        1.000000      1.000000\n",
       "75%        1.000000      2.000000\n",
       "max        2.000000      2.000000"
      ]
     },
     "execution_count": 45,
     "metadata": {},
     "output_type": "execute_result"
    }
   ],
   "source": [
    "cleaned_pums.describe()"
   ]
  },
  {
   "cell_type": "markdown",
   "id": "da72d28b-8a11-41fc-b600-a271df14dfa9",
   "metadata": {},
   "source": [
    "The areas are not consitent between the two datasets"
   ]
  },
  {
   "cell_type": "markdown",
   "id": "e58a8f1a-3f7a-4d7b-9d3e-cccc1f5637c5",
   "metadata": {},
   "source": [
    "## 2.2 Are the occupation codes consistent?"
   ]
  },
  {
   "cell_type": "markdown",
   "id": "e21dfcf7-7fa6-4243-a7d0-0fdbfb7deded",
   "metadata": {},
   "source": [
    "Checking if the occupation codes between the two datasaets (`OCC_CODE` and `SOCP` columns). using .sample() function to see random sampls in the datrasets"
   ]
  },
  {
   "cell_type": "code",
   "execution_count": 47,
   "id": "3eacdc2f-2b40-48e9-9205-6aa7d32d0234",
   "metadata": {},
   "outputs": [
    {
     "data": {
      "text/plain": [
       "14544    11-2021\n",
       "43139    47-2031\n",
       "32086    43-4161\n",
       "43465    53-3032\n",
       "24233    53-7051\n",
       "Name: OCC_CODE, dtype: object"
      ]
     },
     "execution_count": 47,
     "metadata": {},
     "output_type": "execute_result"
    }
   ],
   "source": [
    "oews_subset['OCC_CODE'].sample(5)"
   ]
  },
  {
   "cell_type": "code",
   "execution_count": 48,
   "id": "d72072b6-4e1d-41a2-8a39-b5f31f544fe1",
   "metadata": {},
   "outputs": [
    {
     "data": {
      "text/plain": [
       "14604    1191XX\n",
       "18073    119051\n",
       "10044    119141\n",
       "13744    119041\n",
       "12678    113131\n",
       "Name: SOCP, dtype: object"
      ]
     },
     "execution_count": 48,
     "metadata": {},
     "output_type": "execute_result"
    }
   ],
   "source": [
    "cleaned_pums['SOCP'].sample(5)"
   ]
  },
  {
   "cell_type": "markdown",
   "id": "83bde918-569a-46d4-a691-ddd884e52888",
   "metadata": {},
   "source": [
    "The difference between the two datasets is that the OEWS dataset contains a '-' in its `OCC_CODE` column while the PUMS dataset does not."
   ]
  }
 ],
 "metadata": {
  "kernelspec": {
   "display_name": "Python 3 (ipykernel)",
   "language": "python",
   "name": "python3"
  },
  "language_info": {
   "codemirror_mode": {
    "name": "ipython",
    "version": 3
   },
   "file_extension": ".py",
   "mimetype": "text/x-python",
   "name": "python",
   "nbconvert_exporter": "python",
   "pygments_lexer": "ipython3",
   "version": "3.12.3"
  }
 },
 "nbformat": 4,
 "nbformat_minor": 5
}
