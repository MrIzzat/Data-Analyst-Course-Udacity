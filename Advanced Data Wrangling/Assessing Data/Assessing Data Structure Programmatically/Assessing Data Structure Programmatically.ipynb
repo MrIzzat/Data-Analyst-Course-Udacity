{
 "cells": [
  {
   "cell_type": "markdown",
   "id": "aa15bfdd-ec64-4609-ad42-d912acb051a7",
   "metadata": {},
   "source": [
    "# Import Libaries"
   ]
  },
  {
   "cell_type": "code",
   "execution_count": 1,
   "id": "d5b8e05f-e497-4374-9fd5-56b70b1717de",
   "metadata": {},
   "outputs": [],
   "source": [
    "import pandas as pd"
   ]
  },
  {
   "cell_type": "markdown",
   "id": "06d749fa-ca0e-4b01-910d-55dc1274c0fc",
   "metadata": {},
   "source": [
    "# Load Dataset"
   ]
  },
  {
   "cell_type": "code",
   "execution_count": 2,
   "id": "fd846bc8-3e90-4601-b0dc-c9cc903750e6",
   "metadata": {},
   "outputs": [],
   "source": [
    "patients = pd.read_csv(\"patients.csv\")\n",
    "treatments = pd.read_csv(\"treatments.csv\")\n",
    "adverse_reactions = pd.read_csv(\"adverse_reactions.csv\")"
   ]
  },
  {
   "cell_type": "markdown",
   "id": "fda3b5cf-41b6-40b6-9869-50bfd9135dae",
   "metadata": {},
   "source": [
    "# Helpful techniques for visual and programmatic assessment"
   ]
  },
  {
   "cell_type": "markdown",
   "id": "a3a0cd75-22a9-4007-98c4-536cb6fdfba6",
   "metadata": {},
   "source": [
    "## Using `.head()`"
   ]
  },
  {
   "cell_type": "markdown",
   "id": "e7dd4300-e6fd-4537-b173-b99de234f8db",
   "metadata": {},
   "source": [
    "To visually inspect the adverse reaction table, the `.head()` function can be used"
   ]
  },
  {
   "cell_type": "code",
   "execution_count": 4,
   "id": "4b81e050-5e3b-4341-8db3-4d36e1f19826",
   "metadata": {},
   "outputs": [
    {
     "data": {
      "text/html": [
       "<div>\n",
       "<style scoped>\n",
       "    .dataframe tbody tr th:only-of-type {\n",
       "        vertical-align: middle;\n",
       "    }\n",
       "\n",
       "    .dataframe tbody tr th {\n",
       "        vertical-align: top;\n",
       "    }\n",
       "\n",
       "    .dataframe thead th {\n",
       "        text-align: right;\n",
       "    }\n",
       "</style>\n",
       "<table border=\"1\" class=\"dataframe\">\n",
       "  <thead>\n",
       "    <tr style=\"text-align: right;\">\n",
       "      <th></th>\n",
       "      <th>given_name</th>\n",
       "      <th>surname</th>\n",
       "      <th>adverse_reaction</th>\n",
       "    </tr>\n",
       "  </thead>\n",
       "  <tbody>\n",
       "    <tr>\n",
       "      <th>0</th>\n",
       "      <td>berta</td>\n",
       "      <td>napolitani</td>\n",
       "      <td>injection site discomfort</td>\n",
       "    </tr>\n",
       "    <tr>\n",
       "      <th>1</th>\n",
       "      <td>lena</td>\n",
       "      <td>baer</td>\n",
       "      <td>hypoglycemia</td>\n",
       "    </tr>\n",
       "    <tr>\n",
       "      <th>2</th>\n",
       "      <td>joseph</td>\n",
       "      <td>day</td>\n",
       "      <td>hypoglycemia</td>\n",
       "    </tr>\n",
       "    <tr>\n",
       "      <th>3</th>\n",
       "      <td>flavia</td>\n",
       "      <td>fiorentino</td>\n",
       "      <td>cough</td>\n",
       "    </tr>\n",
       "    <tr>\n",
       "      <th>4</th>\n",
       "      <td>manouck</td>\n",
       "      <td>wubbels</td>\n",
       "      <td>throat irritation</td>\n",
       "    </tr>\n",
       "  </tbody>\n",
       "</table>\n",
       "</div>"
      ],
      "text/plain": [
       "  given_name     surname           adverse_reaction\n",
       "0      berta  napolitani  injection site discomfort\n",
       "1       lena        baer               hypoglycemia\n",
       "2     joseph         day               hypoglycemia\n",
       "3     flavia  fiorentino                      cough\n",
       "4    manouck     wubbels          throat irritation"
      ]
     },
     "execution_count": 4,
     "metadata": {},
     "output_type": "execute_result"
    }
   ],
   "source": [
    "adverse_reactions.head()"
   ]
  },
  {
   "cell_type": "markdown",
   "id": "731d725b-333b-4d44-8f3a-0aa35a5ad16a",
   "metadata": {},
   "source": [
    "The same method can be applied for both the `treatments` and `patients` dataframes"
   ]
  },
  {
   "cell_type": "code",
   "execution_count": 5,
   "id": "c73f2131-8004-4a60-b46e-26c052e5319c",
   "metadata": {},
   "outputs": [
    {
     "data": {
      "text/html": [
       "<div>\n",
       "<style scoped>\n",
       "    .dataframe tbody tr th:only-of-type {\n",
       "        vertical-align: middle;\n",
       "    }\n",
       "\n",
       "    .dataframe tbody tr th {\n",
       "        vertical-align: top;\n",
       "    }\n",
       "\n",
       "    .dataframe thead th {\n",
       "        text-align: right;\n",
       "    }\n",
       "</style>\n",
       "<table border=\"1\" class=\"dataframe\">\n",
       "  <thead>\n",
       "    <tr style=\"text-align: right;\">\n",
       "      <th></th>\n",
       "      <th>given_name</th>\n",
       "      <th>surname</th>\n",
       "      <th>auralin</th>\n",
       "      <th>novodra</th>\n",
       "      <th>hba1c_start</th>\n",
       "      <th>hba1c_end</th>\n",
       "      <th>hba1c_change</th>\n",
       "    </tr>\n",
       "  </thead>\n",
       "  <tbody>\n",
       "    <tr>\n",
       "      <th>0</th>\n",
       "      <td>veronika</td>\n",
       "      <td>jindrová</td>\n",
       "      <td>41u - 48u</td>\n",
       "      <td>-</td>\n",
       "      <td>7.63</td>\n",
       "      <td>7.20</td>\n",
       "      <td>NaN</td>\n",
       "    </tr>\n",
       "    <tr>\n",
       "      <th>1</th>\n",
       "      <td>elliot</td>\n",
       "      <td>richardson</td>\n",
       "      <td>-</td>\n",
       "      <td>40u - 45u</td>\n",
       "      <td>7.56</td>\n",
       "      <td>7.09</td>\n",
       "      <td>0.97</td>\n",
       "    </tr>\n",
       "    <tr>\n",
       "      <th>2</th>\n",
       "      <td>yukitaka</td>\n",
       "      <td>takenaka</td>\n",
       "      <td>-</td>\n",
       "      <td>39u - 36u</td>\n",
       "      <td>7.68</td>\n",
       "      <td>7.25</td>\n",
       "      <td>NaN</td>\n",
       "    </tr>\n",
       "    <tr>\n",
       "      <th>3</th>\n",
       "      <td>skye</td>\n",
       "      <td>gormanston</td>\n",
       "      <td>33u - 36u</td>\n",
       "      <td>-</td>\n",
       "      <td>7.97</td>\n",
       "      <td>7.62</td>\n",
       "      <td>0.35</td>\n",
       "    </tr>\n",
       "    <tr>\n",
       "      <th>4</th>\n",
       "      <td>alissa</td>\n",
       "      <td>montez</td>\n",
       "      <td>-</td>\n",
       "      <td>33u - 29u</td>\n",
       "      <td>7.78</td>\n",
       "      <td>7.46</td>\n",
       "      <td>0.32</td>\n",
       "    </tr>\n",
       "  </tbody>\n",
       "</table>\n",
       "</div>"
      ],
      "text/plain": [
       "  given_name     surname    auralin    novodra  hba1c_start  hba1c_end  \\\n",
       "0   veronika    jindrová  41u - 48u          -         7.63       7.20   \n",
       "1     elliot  richardson          -  40u - 45u         7.56       7.09   \n",
       "2   yukitaka    takenaka          -  39u - 36u         7.68       7.25   \n",
       "3       skye  gormanston  33u - 36u          -         7.97       7.62   \n",
       "4     alissa      montez          -  33u - 29u         7.78       7.46   \n",
       "\n",
       "   hba1c_change  \n",
       "0           NaN  \n",
       "1          0.97  \n",
       "2           NaN  \n",
       "3          0.35  \n",
       "4          0.32  "
      ]
     },
     "execution_count": 5,
     "metadata": {},
     "output_type": "execute_result"
    }
   ],
   "source": [
    "treatments.head()"
   ]
  },
  {
   "cell_type": "code",
   "execution_count": 7,
   "id": "7ae82794-f7f8-4126-acdd-f7d977fe1189",
   "metadata": {},
   "outputs": [
    {
     "data": {
      "text/html": [
       "<div>\n",
       "<style scoped>\n",
       "    .dataframe tbody tr th:only-of-type {\n",
       "        vertical-align: middle;\n",
       "    }\n",
       "\n",
       "    .dataframe tbody tr th {\n",
       "        vertical-align: top;\n",
       "    }\n",
       "\n",
       "    .dataframe thead th {\n",
       "        text-align: right;\n",
       "    }\n",
       "</style>\n",
       "<table border=\"1\" class=\"dataframe\">\n",
       "  <thead>\n",
       "    <tr style=\"text-align: right;\">\n",
       "      <th></th>\n",
       "      <th>patient_id</th>\n",
       "      <th>assigned_sex</th>\n",
       "      <th>given_name</th>\n",
       "      <th>surname</th>\n",
       "      <th>address</th>\n",
       "      <th>city</th>\n",
       "      <th>state</th>\n",
       "      <th>zip_code</th>\n",
       "      <th>country</th>\n",
       "      <th>contact</th>\n",
       "      <th>birthdate</th>\n",
       "      <th>weight</th>\n",
       "      <th>height</th>\n",
       "      <th>bmi</th>\n",
       "    </tr>\n",
       "  </thead>\n",
       "  <tbody>\n",
       "    <tr>\n",
       "      <th>0</th>\n",
       "      <td>1</td>\n",
       "      <td>female</td>\n",
       "      <td>Zoe</td>\n",
       "      <td>Wellish</td>\n",
       "      <td>576 Brown Bear Drive</td>\n",
       "      <td>Rancho California</td>\n",
       "      <td>California</td>\n",
       "      <td>92390.0</td>\n",
       "      <td>United States</td>\n",
       "      <td>951-719-9170ZoeWellish@superrito.com</td>\n",
       "      <td>7/10/1976</td>\n",
       "      <td>121.7</td>\n",
       "      <td>66</td>\n",
       "      <td>19.6</td>\n",
       "    </tr>\n",
       "    <tr>\n",
       "      <th>1</th>\n",
       "      <td>2</td>\n",
       "      <td>female</td>\n",
       "      <td>Pamela</td>\n",
       "      <td>Hill</td>\n",
       "      <td>2370 University Hill Road</td>\n",
       "      <td>Armstrong</td>\n",
       "      <td>Illinois</td>\n",
       "      <td>61812.0</td>\n",
       "      <td>United States</td>\n",
       "      <td>PamelaSHill@cuvox.de+1 (217) 569-3204</td>\n",
       "      <td>4/3/1967</td>\n",
       "      <td>118.8</td>\n",
       "      <td>66</td>\n",
       "      <td>19.2</td>\n",
       "    </tr>\n",
       "    <tr>\n",
       "      <th>2</th>\n",
       "      <td>3</td>\n",
       "      <td>male</td>\n",
       "      <td>Jae</td>\n",
       "      <td>Debord</td>\n",
       "      <td>1493 Poling Farm Road</td>\n",
       "      <td>York</td>\n",
       "      <td>Nebraska</td>\n",
       "      <td>68467.0</td>\n",
       "      <td>United States</td>\n",
       "      <td>402-363-6804JaeMDebord@gustr.com</td>\n",
       "      <td>2/19/1980</td>\n",
       "      <td>177.8</td>\n",
       "      <td>71</td>\n",
       "      <td>24.8</td>\n",
       "    </tr>\n",
       "    <tr>\n",
       "      <th>3</th>\n",
       "      <td>4</td>\n",
       "      <td>male</td>\n",
       "      <td>Liêm</td>\n",
       "      <td>Phan</td>\n",
       "      <td>2335 Webster Street</td>\n",
       "      <td>Woodbridge</td>\n",
       "      <td>NJ</td>\n",
       "      <td>7095.0</td>\n",
       "      <td>United States</td>\n",
       "      <td>PhanBaLiem@jourrapide.com+1 (732) 636-8246</td>\n",
       "      <td>7/26/1951</td>\n",
       "      <td>220.9</td>\n",
       "      <td>70</td>\n",
       "      <td>31.7</td>\n",
       "    </tr>\n",
       "    <tr>\n",
       "      <th>4</th>\n",
       "      <td>5</td>\n",
       "      <td>male</td>\n",
       "      <td>Tim</td>\n",
       "      <td>Neudorf</td>\n",
       "      <td>1428 Turkey Pen Lane</td>\n",
       "      <td>Dothan</td>\n",
       "      <td>AL</td>\n",
       "      <td>36303.0</td>\n",
       "      <td>United States</td>\n",
       "      <td>334-515-7487TimNeudorf@cuvox.de</td>\n",
       "      <td>2/18/1928</td>\n",
       "      <td>192.3</td>\n",
       "      <td>27</td>\n",
       "      <td>26.1</td>\n",
       "    </tr>\n",
       "  </tbody>\n",
       "</table>\n",
       "</div>"
      ],
      "text/plain": [
       "   patient_id assigned_sex given_name  surname                    address  \\\n",
       "0           1       female        Zoe  Wellish       576 Brown Bear Drive   \n",
       "1           2       female     Pamela     Hill  2370 University Hill Road   \n",
       "2           3         male        Jae   Debord      1493 Poling Farm Road   \n",
       "3           4         male       Liêm     Phan        2335 Webster Street   \n",
       "4           5         male        Tim  Neudorf       1428 Turkey Pen Lane   \n",
       "\n",
       "                city       state  zip_code        country  \\\n",
       "0  Rancho California  California   92390.0  United States   \n",
       "1          Armstrong    Illinois   61812.0  United States   \n",
       "2               York    Nebraska   68467.0  United States   \n",
       "3         Woodbridge          NJ    7095.0  United States   \n",
       "4             Dothan          AL   36303.0  United States   \n",
       "\n",
       "                                      contact  birthdate  weight  height   bmi  \n",
       "0        951-719-9170ZoeWellish@superrito.com  7/10/1976   121.7      66  19.6  \n",
       "1       PamelaSHill@cuvox.de+1 (217) 569-3204   4/3/1967   118.8      66  19.2  \n",
       "2            402-363-6804JaeMDebord@gustr.com  2/19/1980   177.8      71  24.8  \n",
       "3  PhanBaLiem@jourrapide.com+1 (732) 636-8246  7/26/1951   220.9      70  31.7  \n",
       "4             334-515-7487TimNeudorf@cuvox.de  2/18/1928   192.3      27  26.1  "
      ]
     },
     "execution_count": 7,
     "metadata": {},
     "output_type": "execute_result"
    }
   ],
   "source": [
    "patients.head()"
   ]
  },
  {
   "cell_type": "markdown",
   "id": "3cc3c95f-d0ee-4856-a3ab-dd0b8718968e",
   "metadata": {},
   "source": [
    "## Using `.info()`"
   ]
  },
  {
   "cell_type": "markdown",
   "id": "225678a0-45df-4554-a231-185a00897bcd",
   "metadata": {},
   "source": [
    "The `.info()` function can be used to view columns and some information about them in the `treatments` dataframe."
   ]
  },
  {
   "cell_type": "code",
   "execution_count": 8,
   "id": "1d5dc656-9e72-4559-bc7e-31e495492bde",
   "metadata": {},
   "outputs": [
    {
     "name": "stdout",
     "output_type": "stream",
     "text": [
      "<class 'pandas.core.frame.DataFrame'>\n",
      "RangeIndex: 280 entries, 0 to 279\n",
      "Data columns (total 7 columns):\n",
      " #   Column        Non-Null Count  Dtype  \n",
      "---  ------        --------------  -----  \n",
      " 0   given_name    280 non-null    object \n",
      " 1   surname       280 non-null    object \n",
      " 2   auralin       280 non-null    object \n",
      " 3   novodra       280 non-null    object \n",
      " 4   hba1c_start   280 non-null    float64\n",
      " 5   hba1c_end     280 non-null    float64\n",
      " 6   hba1c_change  171 non-null    float64\n",
      "dtypes: float64(3), object(4)\n",
      "memory usage: 15.4+ KB\n"
     ]
    }
   ],
   "source": [
    "treatments.info()"
   ]
  },
  {
   "cell_type": "markdown",
   "id": "0574586f-d6b5-4782-b68e-24771e2687e4",
   "metadata": {},
   "source": [
    "The same thing can be done on the `adverse_reaction` dataframe"
   ]
  },
  {
   "cell_type": "code",
   "execution_count": 9,
   "id": "9bb54692-5a01-41f5-8e9a-ce26ed37ff0c",
   "metadata": {},
   "outputs": [
    {
     "name": "stdout",
     "output_type": "stream",
     "text": [
      "<class 'pandas.core.frame.DataFrame'>\n",
      "RangeIndex: 34 entries, 0 to 33\n",
      "Data columns (total 3 columns):\n",
      " #   Column            Non-Null Count  Dtype \n",
      "---  ------            --------------  ----- \n",
      " 0   given_name        34 non-null     object\n",
      " 1   surname           34 non-null     object\n",
      " 2   adverse_reaction  34 non-null     object\n",
      "dtypes: object(3)\n",
      "memory usage: 948.0+ bytes\n"
     ]
    }
   ],
   "source": [
    "adverse_reactions.info()"
   ]
  },
  {
   "cell_type": "markdown",
   "id": "5b8ed95f-a4f3-4a04-be15-0b5b12dfd1a8",
   "metadata": {},
   "source": [
    "## Using `.shape`"
   ]
  },
  {
   "cell_type": "markdown",
   "id": "b42f8236-2ab4-4dd1-b760-dd2388aba3d5",
   "metadata": {},
   "source": [
    "The `.shape` attribute is useful for getting the dimensionality of a dataframe"
   ]
  },
  {
   "cell_type": "code",
   "execution_count": 10,
   "id": "579f2aea-d8c1-4ff0-8275-b91ac2ab9ce6",
   "metadata": {},
   "outputs": [
    {
     "data": {
      "text/plain": [
       "(34, 3)"
      ]
     },
     "execution_count": 10,
     "metadata": {},
     "output_type": "execute_result"
    }
   ],
   "source": [
    "adverse_reactions.shape"
   ]
  },
  {
   "cell_type": "code",
   "execution_count": 11,
   "id": "1e04397a-d38d-4289-907c-026837c46963",
   "metadata": {},
   "outputs": [
    {
     "data": {
      "text/plain": [
       "(280, 7)"
      ]
     },
     "execution_count": 11,
     "metadata": {},
     "output_type": "execute_result"
    }
   ],
   "source": [
    "treatments.shape"
   ]
  },
  {
   "cell_type": "code",
   "execution_count": 13,
   "id": "c8fb3153-505b-40b7-bfe8-b9b5b2ca0969",
   "metadata": {},
   "outputs": [
    {
     "data": {
      "text/plain": [
       "(503, 14)"
      ]
     },
     "execution_count": 13,
     "metadata": {},
     "output_type": "execute_result"
    }
   ],
   "source": [
    "patients.shape"
   ]
  },
  {
   "cell_type": "markdown",
   "id": "0fdfd7d0-51c7-4df5-8ed4-f305e7ed8dea",
   "metadata": {},
   "source": [
    "Which basically produces (rows,columns)"
   ]
  },
  {
   "cell_type": "markdown",
   "id": "7e95ba49-82c0-468d-84e2-e6aaab5c6ecf",
   "metadata": {},
   "source": [
    "## Using `.columns`"
   ]
  },
  {
   "cell_type": "markdown",
   "id": "a24b8878-1bf7-4a5a-8544-94e2c6fdb46e",
   "metadata": {},
   "source": [
    "The `.columns` attribute is great for viewing all of the labels of the columns"
   ]
  },
  {
   "cell_type": "code",
   "execution_count": 14,
   "id": "afa4372c-d775-432f-82bf-fd442a717cb7",
   "metadata": {},
   "outputs": [
    {
     "data": {
      "text/plain": [
       "Index(['given_name', 'surname', 'adverse_reaction'], dtype='object')"
      ]
     },
     "execution_count": 14,
     "metadata": {},
     "output_type": "execute_result"
    }
   ],
   "source": [
    "adverse_reactions.columns"
   ]
  },
  {
   "cell_type": "code",
   "execution_count": 15,
   "id": "0d129e9a-7c6a-4db1-9094-0e049c360291",
   "metadata": {},
   "outputs": [
    {
     "data": {
      "text/plain": [
       "Index(['given_name', 'surname', 'auralin', 'novodra', 'hba1c_start',\n",
       "       'hba1c_end', 'hba1c_change'],\n",
       "      dtype='object')"
      ]
     },
     "execution_count": 15,
     "metadata": {},
     "output_type": "execute_result"
    }
   ],
   "source": [
    "treatments.columns"
   ]
  },
  {
   "cell_type": "markdown",
   "id": "dff6701f-37bc-43fd-9966-fdc449256ad6",
   "metadata": {},
   "source": [
    "## Using `.index`"
   ]
  },
  {
   "cell_type": "markdown",
   "id": "345f96ca-aefc-48fa-8e11-f4fefb8b797f",
   "metadata": {},
   "source": [
    "The `.index` attribute is great for viewing teh indexes of the data"
   ]
  },
  {
   "cell_type": "code",
   "execution_count": 16,
   "id": "693d1d7f-a998-42b6-8039-7bcc13165f6a",
   "metadata": {},
   "outputs": [
    {
     "data": {
      "text/plain": [
       "RangeIndex(start=0, stop=34, step=1)"
      ]
     },
     "execution_count": 16,
     "metadata": {},
     "output_type": "execute_result"
    }
   ],
   "source": [
    "adverse_reactions.index"
   ]
  },
  {
   "cell_type": "markdown",
   "id": "7e145492-91b2-4dee-a3e0-ad479d875f04",
   "metadata": {},
   "source": [
    "# Assessing a single observational unit being stored in multiple tables"
   ]
  },
  {
   "cell_type": "markdown",
   "id": "bc8744f9-56a3-40b1-8a01-797c642f91a6",
   "metadata": {},
   "source": [
    "Viewing the columns on the `treatments` dataframe and the `adverse_reactions` dataframe shows that they contain the same columns, `given_name` and `sur_name`."
   ]
  },
  {
   "cell_type": "code",
   "execution_count": 17,
   "id": "a7a98be6-4540-4fcd-a1ff-feb98bbc7d3f",
   "metadata": {},
   "outputs": [
    {
     "data": {
      "text/plain": [
       "Index(['given_name', 'surname', 'auralin', 'novodra', 'hba1c_start',\n",
       "       'hba1c_end', 'hba1c_change'],\n",
       "      dtype='object')"
      ]
     },
     "execution_count": 17,
     "metadata": {},
     "output_type": "execute_result"
    }
   ],
   "source": [
    "treatments.columns"
   ]
  },
  {
   "cell_type": "code",
   "execution_count": 19,
   "id": "c1b05493-f2a6-442a-a3bd-1b2f187a897f",
   "metadata": {},
   "outputs": [
    {
     "data": {
      "text/plain": [
       "Index(['given_name', 'surname', 'adverse_reaction'], dtype='object')"
      ]
     },
     "execution_count": 19,
     "metadata": {},
     "output_type": "execute_result"
    }
   ],
   "source": [
    "adverse_reactions.columns"
   ]
  },
  {
   "cell_type": "markdown",
   "id": "3973cd31-affe-48f0-9e67-3d2dd7afa4df",
   "metadata": {},
   "source": [
    "During cleaning, these two dataframes can be merged based on the common columns."
   ]
  },
  {
   "cell_type": "markdown",
   "id": "e55991cf-b89d-4728-b7de-b90e75fc623a",
   "metadata": {},
   "source": [
    "# Variables stored in both rows and columns"
   ]
  },
  {
   "cell_type": "markdown",
   "id": "2071c785-25e6-4f79-8a96-41c55b3aef09",
   "metadata": {},
   "source": [
    "In the `auralin` and `novodra` columns, it can be found that no patient has taken both of these medicines at the same time. The following code block should return nothing, indicating that the previous assessmentis correct."
   ]
  },
  {
   "cell_type": "code",
   "execution_count": 21,
   "id": "feb74e1a-070b-4293-81a7-4fd3f123fa60",
   "metadata": {},
   "outputs": [
    {
     "data": {
      "text/html": [
       "<div>\n",
       "<style scoped>\n",
       "    .dataframe tbody tr th:only-of-type {\n",
       "        vertical-align: middle;\n",
       "    }\n",
       "\n",
       "    .dataframe tbody tr th {\n",
       "        vertical-align: top;\n",
       "    }\n",
       "\n",
       "    .dataframe thead th {\n",
       "        text-align: right;\n",
       "    }\n",
       "</style>\n",
       "<table border=\"1\" class=\"dataframe\">\n",
       "  <thead>\n",
       "    <tr style=\"text-align: right;\">\n",
       "      <th></th>\n",
       "      <th>given_name</th>\n",
       "      <th>surname</th>\n",
       "      <th>auralin</th>\n",
       "      <th>novodra</th>\n",
       "      <th>hba1c_start</th>\n",
       "      <th>hba1c_end</th>\n",
       "      <th>hba1c_change</th>\n",
       "    </tr>\n",
       "  </thead>\n",
       "  <tbody>\n",
       "  </tbody>\n",
       "</table>\n",
       "</div>"
      ],
      "text/plain": [
       "Empty DataFrame\n",
       "Columns: [given_name, surname, auralin, novodra, hba1c_start, hba1c_end, hba1c_change]\n",
       "Index: []"
      ]
     },
     "execution_count": 21,
     "metadata": {},
     "output_type": "execute_result"
    }
   ],
   "source": [
    "treatments[((treatments['auralin'] != '-') &  (treatments['novodra'] !='-'))]"
   ]
  },
  {
   "cell_type": "markdown",
   "id": "b1b53f3f-f76e-42da-90c3-465b55aecf0e",
   "metadata": {},
   "source": [
    "Having '-' representing the patient not taking a medicine and the start and dosages put in the same columns is inefficient. When cleaning the data, three columns will be used: `start_dosage`, 'end_dosage' and `medicine_type` (auralin/novodra)"
   ]
  },
  {
   "cell_type": "markdown",
   "id": "114f1952-4cff-4df3-9819-26cd0e0d5a61",
   "metadata": {},
   "source": [
    "# Multiple variables stored in a single column"
   ]
  },
  {
   "cell_type": "markdown",
   "id": "71fd7af4-183a-4280-be2f-da3f6a4083c8",
   "metadata": {},
   "source": [
    "In the `contact` column in the `patients` dataframe, it contains both the phone number and the email of every patient in a single column. Sometimes the phone number is first and other times it is last. This will be tricky to clean solely with string manipulation."
   ]
  },
  {
   "cell_type": "code",
   "execution_count": 22,
   "id": "a755dc78-edd1-408c-bdfa-003b5b389a75",
   "metadata": {},
   "outputs": [
    {
     "data": {
      "text/plain": [
       "contact\n",
       "johndoe@email.com1234567890                        6\n",
       "PatrickGersten@rhyta.com402-848-4923               2\n",
       "304-438-2648SandraCTaylor@dayrep.com               2\n",
       "JakobCJakobsen@einrot.com+1 (845) 858-7707         2\n",
       "PavelFilipek@rhyta.com1 952 431 5166               1\n",
       "                                                  ..\n",
       "CoralieAllaire@armyspy.com+1 (828) 586-5050        1\n",
       "ChibuzoOkoli@einrot.com+1 (918) 971-5864           1\n",
       "EllenRLuman@einrot.com920-849-0384                 1\n",
       "LeVietThong@gustr.com+1 (612) 208-2965             1\n",
       "ChidaluOnyekaozulu@jourrapide.com1 360 443 2060    1\n",
       "Name: count, Length: 483, dtype: int64"
      ]
     },
     "execution_count": 22,
     "metadata": {},
     "output_type": "execute_result"
    }
   ],
   "source": [
    "patients['contact'].value_counts()"
   ]
  }
 ],
 "metadata": {
  "kernelspec": {
   "display_name": "Python 3 (ipykernel)",
   "language": "python",
   "name": "python3"
  },
  "language_info": {
   "codemirror_mode": {
    "name": "ipython",
    "version": 3
   },
   "file_extension": ".py",
   "mimetype": "text/x-python",
   "name": "python",
   "nbconvert_exporter": "python",
   "pygments_lexer": "ipython3",
   "version": "3.12.3"
  }
 },
 "nbformat": 4,
 "nbformat_minor": 5
}
