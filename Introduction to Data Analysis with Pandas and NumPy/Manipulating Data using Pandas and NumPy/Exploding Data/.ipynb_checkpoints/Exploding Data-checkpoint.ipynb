{
 "cells": [
  {
   "cell_type": "markdown",
   "id": "c5a00ddf-0bb5-4ea0-b6b5-f4a00a5865b1",
   "metadata": {},
   "source": [
    "# What is exploding data?"
   ]
  },
  {
   "cell_type": "markdown",
   "id": "a3e9b7d0-8e27-4425-a71c-5fc6e3eee09b",
   "metadata": {},
   "source": [
    "Data exploding is when there is a list of values, where each value in the list needs to be places in a seperate row, in the same column. This can be achieved using the explode method `df.explode()`.\n",
    "\n",
    "To do this with with columns (every value becomes a column), a new dataframe must be created with the columns being specified by the list of values. This cna be achived like this: `pd.DataFrame(df['column'].values.list())`"
   ]
  },
  {
   "cell_type": "markdown",
   "id": "d48f947e-d071-4a8c-9c31-8101de05a30e",
   "metadata": {},
   "source": [
    "# Import Libraries"
   ]
  },
  {
   "cell_type": "code",
   "execution_count": 2,
   "id": "962f10ff-1178-44c3-b8f4-6b6833d5eac5",
   "metadata": {},
   "outputs": [],
   "source": [
    "import pandas as pd\n",
    "import numpy as np"
   ]
  },
  {
   "cell_type": "markdown",
   "id": "9eba0aeb-eb9a-4233-a4e0-6e40dc91a188",
   "metadata": {},
   "source": [
    "# Create a random array"
   ]
  },
  {
   "cell_type": "code",
   "execution_count": 3,
   "id": "9c5e6005-8c94-4821-93b2-4f7308ff40b4",
   "metadata": {},
   "outputs": [
    {
     "data": {
      "text/plain": [
       "array([[0.9 , 0.23, 0.38, 0.98, 0.7 ],\n",
       "       [0.42, 0.11, 0.37, 0.21, 0.99],\n",
       "       [0.35, 0.75, 0.67, 0.52, 0.79],\n",
       "       [0.28, 0.93, 0.28, 0.06, 0.59],\n",
       "       [0.16, 0.26, 0.01, 0.76, 0.99],\n",
       "       [0.7 , 0.72, 0.14, 0.04, 0.78],\n",
       "       [0.71, 0.66, 0.01, 0.64, 0.08],\n",
       "       [0.63, 0.58, 0.66, 0.81, 0.11],\n",
       "       [0.89, 0.78, 0.5 , 0.11, 0.68],\n",
       "       [0.73, 0.44, 0.65, 0.34, 0.86],\n",
       "       [0.24, 0.59, 0.2 , 0.35, 0.58],\n",
       "       [0.84, 0.12, 0.01, 0.91, 0.2 ],\n",
       "       [0.99, 0.97, 0.84, 0.87, 0.84],\n",
       "       [0.06, 0.44, 0.62, 0.63, 0.63],\n",
       "       [0.12, 0.09, 0.51, 0.39, 0.75],\n",
       "       [0.78, 0.31, 0.84, 0.42, 0.18],\n",
       "       [0.72, 0.96, 0.99, 0.19, 0.87],\n",
       "       [0.43, 0.96, 0.08, 0.65, 0.37],\n",
       "       [0.38, 0.8 , 0.13, 0.42, 0.06],\n",
       "       [0.87, 0.61, 0.19, 0.31, 0.74],\n",
       "       [0.51, 1.  , 0.66, 0.62, 0.79],\n",
       "       [0.94, 0.58, 0.76, 0.4 , 0.41],\n",
       "       [0.73, 0.31, 0.64, 0.07, 0.24],\n",
       "       [0.22, 0.79, 0.52, 0.63, 0.98],\n",
       "       [0.59, 0.81, 0.19, 0.49, 0.18]])"
      ]
     },
     "execution_count": 3,
     "metadata": {},
     "output_type": "execute_result"
    }
   ],
   "source": [
    "array = np.random.rand(25,5).round(decimals=2)\n",
    "array"
   ]
  },
  {
   "cell_type": "markdown",
   "id": "8e600ecc-c8b1-4f66-a2ba-58d70a40848a",
   "metadata": {},
   "source": [
    "# Exploding a list of values into rows"
   ]
  },
  {
   "cell_type": "code",
   "execution_count": 8,
   "id": "d760c617-887d-4617-ac8e-36fbf87d8201",
   "metadata": {},
   "outputs": [
    {
     "name": "stdout",
     "output_type": "stream",
     "text": [
      "<class 'pandas.core.frame.DataFrame'>\n",
      "RangeIndex: 25 entries, 0 to 24\n",
      "Data columns (total 1 columns):\n",
      " #   Column       Non-Null Count  Dtype \n",
      "---  ------       --------------  ----- \n",
      " 0   list_values  25 non-null     object\n",
      "dtypes: object(1)\n",
      "memory usage: 332.0+ bytes\n"
     ]
    }
   ],
   "source": [
    "df = pd.DataFrame({\"list_values\":array.tolist()}) #Creates 25 rows where each row contains a list stored as a list\n",
    "df.info()"
   ]
  },
  {
   "cell_type": "markdown",
   "id": "185508ed-21e4-4038-a0e0-77baf4b0eaa2",
   "metadata": {},
   "source": [
    "## Seing the type of value stored"
   ]
  },
  {
   "cell_type": "code",
   "execution_count": 20,
   "id": "3b21badb-ba64-45a1-a401-3a6ca2143c25",
   "metadata": {},
   "outputs": [
    {
     "name": "stderr",
     "output_type": "stream",
     "text": [
      "C:\\Users\\MrIzzat\\AppData\\Local\\Temp\\ipykernel_6728\\176430664.py:1: FutureWarning: Series.__getitem__ treating keys as positions is deprecated. In a future version, integer keys will always be treated as labels (consistent with DataFrame behavior). To access a value by position, use `ser.iloc[pos]`\n",
      "  type(df.iloc[0][0])\n"
     ]
    },
    {
     "data": {
      "text/plain": [
       "list"
      ]
     },
     "execution_count": 20,
     "metadata": {},
     "output_type": "execute_result"
    }
   ],
   "source": [
    "type(df.iloc[0][0])"
   ]
  },
  {
   "cell_type": "markdown",
   "id": "5ba664ca-c77e-4417-9591-cc52c86d264c",
   "metadata": {},
   "source": [
    "## Exploding the list stored by separating the list"
   ]
  },
  {
   "cell_type": "markdown",
   "id": "2dff4d36-28e2-401a-aed1-a0569ded3878",
   "metadata": {},
   "source": [
    "Duplicates the index value for each index"
   ]
  },
  {
   "cell_type": "code",
   "execution_count": 21,
   "id": "de4c51e3-7996-4fff-919f-2e9f1fe181ee",
   "metadata": {},
   "outputs": [
    {
     "data": {
      "text/html": [
       "<div>\n",
       "<style scoped>\n",
       "    .dataframe tbody tr th:only-of-type {\n",
       "        vertical-align: middle;\n",
       "    }\n",
       "\n",
       "    .dataframe tbody tr th {\n",
       "        vertical-align: top;\n",
       "    }\n",
       "\n",
       "    .dataframe thead th {\n",
       "        text-align: right;\n",
       "    }\n",
       "</style>\n",
       "<table border=\"1\" class=\"dataframe\">\n",
       "  <thead>\n",
       "    <tr style=\"text-align: right;\">\n",
       "      <th></th>\n",
       "      <th>list_values</th>\n",
       "    </tr>\n",
       "  </thead>\n",
       "  <tbody>\n",
       "    <tr>\n",
       "      <th>0</th>\n",
       "      <td>0.9</td>\n",
       "    </tr>\n",
       "    <tr>\n",
       "      <th>0</th>\n",
       "      <td>0.23</td>\n",
       "    </tr>\n",
       "    <tr>\n",
       "      <th>0</th>\n",
       "      <td>0.38</td>\n",
       "    </tr>\n",
       "    <tr>\n",
       "      <th>0</th>\n",
       "      <td>0.98</td>\n",
       "    </tr>\n",
       "    <tr>\n",
       "      <th>0</th>\n",
       "      <td>0.7</td>\n",
       "    </tr>\n",
       "    <tr>\n",
       "      <th>...</th>\n",
       "      <td>...</td>\n",
       "    </tr>\n",
       "    <tr>\n",
       "      <th>24</th>\n",
       "      <td>0.59</td>\n",
       "    </tr>\n",
       "    <tr>\n",
       "      <th>24</th>\n",
       "      <td>0.81</td>\n",
       "    </tr>\n",
       "    <tr>\n",
       "      <th>24</th>\n",
       "      <td>0.19</td>\n",
       "    </tr>\n",
       "    <tr>\n",
       "      <th>24</th>\n",
       "      <td>0.49</td>\n",
       "    </tr>\n",
       "    <tr>\n",
       "      <th>24</th>\n",
       "      <td>0.18</td>\n",
       "    </tr>\n",
       "  </tbody>\n",
       "</table>\n",
       "<p>125 rows × 1 columns</p>\n",
       "</div>"
      ],
      "text/plain": [
       "   list_values\n",
       "0          0.9\n",
       "0         0.23\n",
       "0         0.38\n",
       "0         0.98\n",
       "0          0.7\n",
       "..         ...\n",
       "24        0.59\n",
       "24        0.81\n",
       "24        0.19\n",
       "24        0.49\n",
       "24        0.18\n",
       "\n",
       "[125 rows x 1 columns]"
      ]
     },
     "execution_count": 21,
     "metadata": {},
     "output_type": "execute_result"
    }
   ],
   "source": [
    "df.explode(column=\"list_values\")"
   ]
  },
  {
   "cell_type": "markdown",
   "id": "4cc69e73-f4fc-4e89-bdec-1b9060589662",
   "metadata": {},
   "source": [
    "# Explode the list of values into columns"
   ]
  },
  {
   "cell_type": "markdown",
   "id": "4a9f855c-46f7-43b0-ad9d-0b7dfea38c1d",
   "metadata": {},
   "source": [
    "Where the column names become the index of the value of the inner list"
   ]
  },
  {
   "cell_type": "code",
   "execution_count": 26,
   "id": "5bd71dff-f2ac-4924-a33c-2bbf02d25851",
   "metadata": {},
   "outputs": [
    {
     "data": {
      "text/html": [
       "<div>\n",
       "<style scoped>\n",
       "    .dataframe tbody tr th:only-of-type {\n",
       "        vertical-align: middle;\n",
       "    }\n",
       "\n",
       "    .dataframe tbody tr th {\n",
       "        vertical-align: top;\n",
       "    }\n",
       "\n",
       "    .dataframe thead th {\n",
       "        text-align: right;\n",
       "    }\n",
       "</style>\n",
       "<table border=\"1\" class=\"dataframe\">\n",
       "  <thead>\n",
       "    <tr style=\"text-align: right;\">\n",
       "      <th></th>\n",
       "      <th>0</th>\n",
       "      <th>1</th>\n",
       "      <th>2</th>\n",
       "      <th>3</th>\n",
       "      <th>4</th>\n",
       "    </tr>\n",
       "  </thead>\n",
       "  <tbody>\n",
       "    <tr>\n",
       "      <th>0</th>\n",
       "      <td>0.90</td>\n",
       "      <td>0.23</td>\n",
       "      <td>0.38</td>\n",
       "      <td>0.98</td>\n",
       "      <td>0.70</td>\n",
       "    </tr>\n",
       "    <tr>\n",
       "      <th>1</th>\n",
       "      <td>0.42</td>\n",
       "      <td>0.11</td>\n",
       "      <td>0.37</td>\n",
       "      <td>0.21</td>\n",
       "      <td>0.99</td>\n",
       "    </tr>\n",
       "    <tr>\n",
       "      <th>2</th>\n",
       "      <td>0.35</td>\n",
       "      <td>0.75</td>\n",
       "      <td>0.67</td>\n",
       "      <td>0.52</td>\n",
       "      <td>0.79</td>\n",
       "    </tr>\n",
       "    <tr>\n",
       "      <th>3</th>\n",
       "      <td>0.28</td>\n",
       "      <td>0.93</td>\n",
       "      <td>0.28</td>\n",
       "      <td>0.06</td>\n",
       "      <td>0.59</td>\n",
       "    </tr>\n",
       "    <tr>\n",
       "      <th>4</th>\n",
       "      <td>0.16</td>\n",
       "      <td>0.26</td>\n",
       "      <td>0.01</td>\n",
       "      <td>0.76</td>\n",
       "      <td>0.99</td>\n",
       "    </tr>\n",
       "  </tbody>\n",
       "</table>\n",
       "</div>"
      ],
      "text/plain": [
       "      0     1     2     3     4\n",
       "0  0.90  0.23  0.38  0.98  0.70\n",
       "1  0.42  0.11  0.37  0.21  0.99\n",
       "2  0.35  0.75  0.67  0.52  0.79\n",
       "3  0.28  0.93  0.28  0.06  0.59\n",
       "4  0.16  0.26  0.01  0.76  0.99"
      ]
     },
     "execution_count": 26,
     "metadata": {},
     "output_type": "execute_result"
    }
   ],
   "source": [
    "pd.DataFrame(df.list_values.values.tolist()).head()"
   ]
  },
  {
   "cell_type": "markdown",
   "id": "92da512e-8710-4fa6-b30c-ccd3e7fb5cbe",
   "metadata": {},
   "source": [
    "# Exploding a string represenation of a list into columns "
   ]
  },
  {
   "cell_type": "markdown",
   "id": "061ba8f7-68ae-41d1-bc0d-35b189822ee6",
   "metadata": {},
   "source": [
    "Each list is a list of values for each row as a string."
   ]
  },
  {
   "cell_type": "code",
   "execution_count": 24,
   "id": "1302dac0-656f-48e7-978e-2be2ed86bf97",
   "metadata": {},
   "outputs": [
    {
     "data": {
      "text/html": [
       "<div>\n",
       "<style scoped>\n",
       "    .dataframe tbody tr th:only-of-type {\n",
       "        vertical-align: middle;\n",
       "    }\n",
       "\n",
       "    .dataframe tbody tr th {\n",
       "        vertical-align: top;\n",
       "    }\n",
       "\n",
       "    .dataframe thead th {\n",
       "        text-align: right;\n",
       "    }\n",
       "</style>\n",
       "<table border=\"1\" class=\"dataframe\">\n",
       "  <thead>\n",
       "    <tr style=\"text-align: right;\">\n",
       "      <th></th>\n",
       "      <th>list_values</th>\n",
       "    </tr>\n",
       "  </thead>\n",
       "  <tbody>\n",
       "    <tr>\n",
       "      <th>0</th>\n",
       "      <td>[0.9, 0.23, 0.38, 0.98, 0.7]</td>\n",
       "    </tr>\n",
       "    <tr>\n",
       "      <th>1</th>\n",
       "      <td>[0.42, 0.11, 0.37, 0.21, 0.99]</td>\n",
       "    </tr>\n",
       "    <tr>\n",
       "      <th>2</th>\n",
       "      <td>[0.35, 0.75, 0.67, 0.52, 0.79]</td>\n",
       "    </tr>\n",
       "    <tr>\n",
       "      <th>3</th>\n",
       "      <td>[0.28, 0.93, 0.28, 0.06, 0.59]</td>\n",
       "    </tr>\n",
       "    <tr>\n",
       "      <th>4</th>\n",
       "      <td>[0.16, 0.26, 0.01, 0.76, 0.99]</td>\n",
       "    </tr>\n",
       "    <tr>\n",
       "      <th>5</th>\n",
       "      <td>[0.7, 0.72, 0.14, 0.04, 0.78]</td>\n",
       "    </tr>\n",
       "    <tr>\n",
       "      <th>6</th>\n",
       "      <td>[0.71, 0.66, 0.01, 0.64, 0.08]</td>\n",
       "    </tr>\n",
       "    <tr>\n",
       "      <th>7</th>\n",
       "      <td>[0.63, 0.58, 0.66, 0.81, 0.11]</td>\n",
       "    </tr>\n",
       "    <tr>\n",
       "      <th>8</th>\n",
       "      <td>[0.89, 0.78, 0.5, 0.11, 0.68]</td>\n",
       "    </tr>\n",
       "    <tr>\n",
       "      <th>9</th>\n",
       "      <td>[0.73, 0.44, 0.65, 0.34, 0.86]</td>\n",
       "    </tr>\n",
       "    <tr>\n",
       "      <th>10</th>\n",
       "      <td>[0.24, 0.59, 0.2, 0.35, 0.58]</td>\n",
       "    </tr>\n",
       "    <tr>\n",
       "      <th>11</th>\n",
       "      <td>[0.84, 0.12, 0.01, 0.91, 0.2]</td>\n",
       "    </tr>\n",
       "    <tr>\n",
       "      <th>12</th>\n",
       "      <td>[0.99, 0.97, 0.84, 0.87, 0.84]</td>\n",
       "    </tr>\n",
       "    <tr>\n",
       "      <th>13</th>\n",
       "      <td>[0.06, 0.44, 0.62, 0.63, 0.63]</td>\n",
       "    </tr>\n",
       "    <tr>\n",
       "      <th>14</th>\n",
       "      <td>[0.12, 0.09, 0.51, 0.39, 0.75]</td>\n",
       "    </tr>\n",
       "    <tr>\n",
       "      <th>15</th>\n",
       "      <td>[0.78, 0.31, 0.84, 0.42, 0.18]</td>\n",
       "    </tr>\n",
       "    <tr>\n",
       "      <th>16</th>\n",
       "      <td>[0.72, 0.96, 0.99, 0.19, 0.87]</td>\n",
       "    </tr>\n",
       "    <tr>\n",
       "      <th>17</th>\n",
       "      <td>[0.43, 0.96, 0.08, 0.65, 0.37]</td>\n",
       "    </tr>\n",
       "    <tr>\n",
       "      <th>18</th>\n",
       "      <td>[0.38, 0.8, 0.13, 0.42, 0.06]</td>\n",
       "    </tr>\n",
       "    <tr>\n",
       "      <th>19</th>\n",
       "      <td>[0.87, 0.61, 0.19, 0.31, 0.74]</td>\n",
       "    </tr>\n",
       "    <tr>\n",
       "      <th>20</th>\n",
       "      <td>[0.51, 1.0, 0.66, 0.62, 0.79]</td>\n",
       "    </tr>\n",
       "    <tr>\n",
       "      <th>21</th>\n",
       "      <td>[0.94, 0.58, 0.76, 0.4, 0.41]</td>\n",
       "    </tr>\n",
       "    <tr>\n",
       "      <th>22</th>\n",
       "      <td>[0.73, 0.31, 0.64, 0.07, 0.24]</td>\n",
       "    </tr>\n",
       "    <tr>\n",
       "      <th>23</th>\n",
       "      <td>[0.22, 0.79, 0.52, 0.63, 0.98]</td>\n",
       "    </tr>\n",
       "    <tr>\n",
       "      <th>24</th>\n",
       "      <td>[0.59, 0.81, 0.19, 0.49, 0.18]</td>\n",
       "    </tr>\n",
       "  </tbody>\n",
       "</table>\n",
       "</div>"
      ],
      "text/plain": [
       "                       list_values\n",
       "0     [0.9, 0.23, 0.38, 0.98, 0.7]\n",
       "1   [0.42, 0.11, 0.37, 0.21, 0.99]\n",
       "2   [0.35, 0.75, 0.67, 0.52, 0.79]\n",
       "3   [0.28, 0.93, 0.28, 0.06, 0.59]\n",
       "4   [0.16, 0.26, 0.01, 0.76, 0.99]\n",
       "5    [0.7, 0.72, 0.14, 0.04, 0.78]\n",
       "6   [0.71, 0.66, 0.01, 0.64, 0.08]\n",
       "7   [0.63, 0.58, 0.66, 0.81, 0.11]\n",
       "8    [0.89, 0.78, 0.5, 0.11, 0.68]\n",
       "9   [0.73, 0.44, 0.65, 0.34, 0.86]\n",
       "10   [0.24, 0.59, 0.2, 0.35, 0.58]\n",
       "11   [0.84, 0.12, 0.01, 0.91, 0.2]\n",
       "12  [0.99, 0.97, 0.84, 0.87, 0.84]\n",
       "13  [0.06, 0.44, 0.62, 0.63, 0.63]\n",
       "14  [0.12, 0.09, 0.51, 0.39, 0.75]\n",
       "15  [0.78, 0.31, 0.84, 0.42, 0.18]\n",
       "16  [0.72, 0.96, 0.99, 0.19, 0.87]\n",
       "17  [0.43, 0.96, 0.08, 0.65, 0.37]\n",
       "18   [0.38, 0.8, 0.13, 0.42, 0.06]\n",
       "19  [0.87, 0.61, 0.19, 0.31, 0.74]\n",
       "20   [0.51, 1.0, 0.66, 0.62, 0.79]\n",
       "21   [0.94, 0.58, 0.76, 0.4, 0.41]\n",
       "22  [0.73, 0.31, 0.64, 0.07, 0.24]\n",
       "23  [0.22, 0.79, 0.52, 0.63, 0.98]\n",
       "24  [0.59, 0.81, 0.19, 0.49, 0.18]"
      ]
     },
     "execution_count": 24,
     "metadata": {},
     "output_type": "execute_result"
    }
   ],
   "source": [
    "df_str = pd.DataFrame({\"list_values\":[str(a) for a in array.tolist()]})\n",
    "df_str"
   ]
  },
  {
   "cell_type": "code",
   "execution_count": 30,
   "id": "97132ab3-cfe0-422e-a300-84c808a16b83",
   "metadata": {},
   "outputs": [
    {
     "name": "stderr",
     "output_type": "stream",
     "text": [
      "C:\\Users\\MrIzzat\\AppData\\Local\\Temp\\ipykernel_6728\\2897115496.py:1: FutureWarning: Series.__getitem__ treating keys as positions is deprecated. In a future version, integer keys will always be treated as labels (consistent with DataFrame behavior). To access a value by position, use `ser.iloc[pos]`\n",
      "  type(df_str.iloc[0][0]) #Each value is a string\n"
     ]
    },
    {
     "data": {
      "text/plain": [
       "str"
      ]
     },
     "execution_count": 30,
     "metadata": {},
     "output_type": "execute_result"
    }
   ],
   "source": [
    "type(df_str.iloc[0][0]) #Each value is a string"
   ]
  },
  {
   "cell_type": "markdown",
   "id": "5ad03a0e-14fa-46be-b9c2-464bc7f5c4b8",
   "metadata": {},
   "source": [
    "## Exploding the list of strings into column names"
   ]
  },
  {
   "cell_type": "markdown",
   "id": "0b8186b0-a325-487a-8fd8-b30a44195a0f",
   "metadata": {},
   "source": [
    "Trying to convert the string list of values to columns will not work. It will assume the entire string is in the first index of a list"
   ]
  },
  {
   "cell_type": "code",
   "execution_count": 34,
   "id": "499cf0aa-820e-40f2-a824-e760ef0a43f2",
   "metadata": {},
   "outputs": [
    {
     "data": {
      "text/html": [
       "<div>\n",
       "<style scoped>\n",
       "    .dataframe tbody tr th:only-of-type {\n",
       "        vertical-align: middle;\n",
       "    }\n",
       "\n",
       "    .dataframe tbody tr th {\n",
       "        vertical-align: top;\n",
       "    }\n",
       "\n",
       "    .dataframe thead th {\n",
       "        text-align: right;\n",
       "    }\n",
       "</style>\n",
       "<table border=\"1\" class=\"dataframe\">\n",
       "  <thead>\n",
       "    <tr style=\"text-align: right;\">\n",
       "      <th></th>\n",
       "      <th>0</th>\n",
       "    </tr>\n",
       "  </thead>\n",
       "  <tbody>\n",
       "    <tr>\n",
       "      <th>0</th>\n",
       "      <td>[0.9, 0.23, 0.38, 0.98, 0.7]</td>\n",
       "    </tr>\n",
       "    <tr>\n",
       "      <th>1</th>\n",
       "      <td>[0.42, 0.11, 0.37, 0.21, 0.99]</td>\n",
       "    </tr>\n",
       "    <tr>\n",
       "      <th>2</th>\n",
       "      <td>[0.35, 0.75, 0.67, 0.52, 0.79]</td>\n",
       "    </tr>\n",
       "    <tr>\n",
       "      <th>3</th>\n",
       "      <td>[0.28, 0.93, 0.28, 0.06, 0.59]</td>\n",
       "    </tr>\n",
       "    <tr>\n",
       "      <th>4</th>\n",
       "      <td>[0.16, 0.26, 0.01, 0.76, 0.99]</td>\n",
       "    </tr>\n",
       "  </tbody>\n",
       "</table>\n",
       "</div>"
      ],
      "text/plain": [
       "                                0\n",
       "0    [0.9, 0.23, 0.38, 0.98, 0.7]\n",
       "1  [0.42, 0.11, 0.37, 0.21, 0.99]\n",
       "2  [0.35, 0.75, 0.67, 0.52, 0.79]\n",
       "3  [0.28, 0.93, 0.28, 0.06, 0.59]\n",
       "4  [0.16, 0.26, 0.01, 0.76, 0.99]"
      ]
     },
     "execution_count": 34,
     "metadata": {},
     "output_type": "execute_result"
    }
   ],
   "source": [
    "pd.DataFrame(df_str.list_values.values.tolist()).head()"
   ]
  },
  {
   "cell_type": "markdown",
   "id": "5054374d-c357-49fc-a62b-59ba6d8f1dd0",
   "metadata": {},
   "source": [
    "A way to fix this is to evaluate each string as a list then go on as normal. `eval()` parses a list as a string as a python expression and turns it back into a string."
   ]
  },
  {
   "cell_type": "code",
   "execution_count": 36,
   "id": "09c54424-ef26-4041-9d0a-1891c2ab54c4",
   "metadata": {},
   "outputs": [
    {
     "data": {
      "text/html": [
       "<div>\n",
       "<style scoped>\n",
       "    .dataframe tbody tr th:only-of-type {\n",
       "        vertical-align: middle;\n",
       "    }\n",
       "\n",
       "    .dataframe tbody tr th {\n",
       "        vertical-align: top;\n",
       "    }\n",
       "\n",
       "    .dataframe thead th {\n",
       "        text-align: right;\n",
       "    }\n",
       "</style>\n",
       "<table border=\"1\" class=\"dataframe\">\n",
       "  <thead>\n",
       "    <tr style=\"text-align: right;\">\n",
       "      <th></th>\n",
       "      <th>0</th>\n",
       "      <th>1</th>\n",
       "      <th>2</th>\n",
       "      <th>3</th>\n",
       "      <th>4</th>\n",
       "    </tr>\n",
       "  </thead>\n",
       "  <tbody>\n",
       "    <tr>\n",
       "      <th>0</th>\n",
       "      <td>0.90</td>\n",
       "      <td>0.23</td>\n",
       "      <td>0.38</td>\n",
       "      <td>0.98</td>\n",
       "      <td>0.70</td>\n",
       "    </tr>\n",
       "    <tr>\n",
       "      <th>1</th>\n",
       "      <td>0.42</td>\n",
       "      <td>0.11</td>\n",
       "      <td>0.37</td>\n",
       "      <td>0.21</td>\n",
       "      <td>0.99</td>\n",
       "    </tr>\n",
       "    <tr>\n",
       "      <th>2</th>\n",
       "      <td>0.35</td>\n",
       "      <td>0.75</td>\n",
       "      <td>0.67</td>\n",
       "      <td>0.52</td>\n",
       "      <td>0.79</td>\n",
       "    </tr>\n",
       "    <tr>\n",
       "      <th>3</th>\n",
       "      <td>0.28</td>\n",
       "      <td>0.93</td>\n",
       "      <td>0.28</td>\n",
       "      <td>0.06</td>\n",
       "      <td>0.59</td>\n",
       "    </tr>\n",
       "    <tr>\n",
       "      <th>4</th>\n",
       "      <td>0.16</td>\n",
       "      <td>0.26</td>\n",
       "      <td>0.01</td>\n",
       "      <td>0.76</td>\n",
       "      <td>0.99</td>\n",
       "    </tr>\n",
       "  </tbody>\n",
       "</table>\n",
       "</div>"
      ],
      "text/plain": [
       "      0     1     2     3     4\n",
       "0  0.90  0.23  0.38  0.98  0.70\n",
       "1  0.42  0.11  0.37  0.21  0.99\n",
       "2  0.35  0.75  0.67  0.52  0.79\n",
       "3  0.28  0.93  0.28  0.06  0.59\n",
       "4  0.16  0.26  0.01  0.76  0.99"
      ]
     },
     "execution_count": 36,
     "metadata": {},
     "output_type": "execute_result"
    }
   ],
   "source": [
    "pd.DataFrame(df_str.list_values.apply(lambda x: eval(x)).values.tolist()).head()"
   ]
  }
 ],
 "metadata": {
  "kernelspec": {
   "display_name": "Python 3 (ipykernel)",
   "language": "python",
   "name": "python3"
  },
  "language_info": {
   "codemirror_mode": {
    "name": "ipython",
    "version": 3
   },
   "file_extension": ".py",
   "mimetype": "text/x-python",
   "name": "python",
   "nbconvert_exporter": "python",
   "pygments_lexer": "ipython3",
   "version": "3.12.3"
  }
 },
 "nbformat": 4,
 "nbformat_minor": 5
}
