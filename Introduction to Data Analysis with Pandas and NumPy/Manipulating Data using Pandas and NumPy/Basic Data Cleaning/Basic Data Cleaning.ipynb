{
 "cells": [
  {
   "cell_type": "markdown",
   "id": "2d3c28f3-b2e6-4394-9026-138e189a1824",
   "metadata": {},
   "source": [
    "# Importing Libraries"
   ]
  },
  {
   "cell_type": "code",
   "execution_count": 1,
   "id": "a20ccba5-916e-4c82-a3e1-4bf19030f599",
   "metadata": {},
   "outputs": [],
   "source": [
    "import pandas as pd"
   ]
  },
  {
   "cell_type": "markdown",
   "id": "57ebd7ff-eeca-4571-a7b2-49f58b50ea8c",
   "metadata": {},
   "source": [
    "# Read data"
   ]
  },
  {
   "cell_type": "code",
   "execution_count": 2,
   "id": "52b303e4-45e1-474b-a0ab-5c618a320b6b",
   "metadata": {},
   "outputs": [
    {
     "data": {
      "text/html": [
       "<div>\n",
       "<style scoped>\n",
       "    .dataframe tbody tr th:only-of-type {\n",
       "        vertical-align: middle;\n",
       "    }\n",
       "\n",
       "    .dataframe tbody tr th {\n",
       "        vertical-align: top;\n",
       "    }\n",
       "\n",
       "    .dataframe thead th {\n",
       "        text-align: right;\n",
       "    }\n",
       "</style>\n",
       "<table border=\"1\" class=\"dataframe\">\n",
       "  <thead>\n",
       "    <tr style=\"text-align: right;\">\n",
       "      <th></th>\n",
       "      <th>user_id</th>\n",
       "      <th>product_id</th>\n",
       "      <th>liked</th>\n",
       "      <th>view_duration</th>\n",
       "      <th>source</th>\n",
       "      <th>timestamp</th>\n",
       "    </tr>\n",
       "  </thead>\n",
       "  <tbody>\n",
       "    <tr>\n",
       "      <th>0</th>\n",
       "      <td>3987</td>\n",
       "      <td>997021</td>\n",
       "      <td>True</td>\n",
       "      <td>1.048242</td>\n",
       "      <td>web</td>\n",
       "      <td>2017-09-23 00:18:29.056895</td>\n",
       "    </tr>\n",
       "    <tr>\n",
       "      <th>1</th>\n",
       "      <td>6300</td>\n",
       "      <td>865003</td>\n",
       "      <td>True</td>\n",
       "      <td>1.688173</td>\n",
       "      <td>web</td>\n",
       "      <td>2017-09-21 02:20:22.022096</td>\n",
       "    </tr>\n",
       "    <tr>\n",
       "      <th>2</th>\n",
       "      <td>6451</td>\n",
       "      <td>712951</td>\n",
       "      <td>False</td>\n",
       "      <td>NaN</td>\n",
       "      <td>mobile</td>\n",
       "      <td>2017-09-07 11:57:50.044683</td>\n",
       "    </tr>\n",
       "    <tr>\n",
       "      <th>3</th>\n",
       "      <td>7782</td>\n",
       "      <td>283235</td>\n",
       "      <td>True</td>\n",
       "      <td>0.194162</td>\n",
       "      <td>mobile</td>\n",
       "      <td>2017-09-17 03:48:20.019677</td>\n",
       "    </tr>\n",
       "    <tr>\n",
       "      <th>4</th>\n",
       "      <td>7782</td>\n",
       "      <td>283235</td>\n",
       "      <td>True</td>\n",
       "      <td>0.194162</td>\n",
       "      <td>mobile</td>\n",
       "      <td>2017-09-17 03:48:20.019677</td>\n",
       "    </tr>\n",
       "    <tr>\n",
       "      <th>5</th>\n",
       "      <td>5700</td>\n",
       "      <td>587019</td>\n",
       "      <td>False</td>\n",
       "      <td>0.493194</td>\n",
       "      <td>web</td>\n",
       "      <td>2017-09-07 00:25:07.019097</td>\n",
       "    </tr>\n",
       "    <tr>\n",
       "      <th>6</th>\n",
       "      <td>3400</td>\n",
       "      <td>505123</td>\n",
       "      <td>True</td>\n",
       "      <td>NaN</td>\n",
       "      <td>web</td>\n",
       "      <td>2017-09-07 13:53:21.008403</td>\n",
       "    </tr>\n",
       "    <tr>\n",
       "      <th>7</th>\n",
       "      <td>8403</td>\n",
       "      <td>459916</td>\n",
       "      <td>False</td>\n",
       "      <td>0.675041</td>\n",
       "      <td>mobile</td>\n",
       "      <td>2017-09-25 21:54:00.028323</td>\n",
       "    </tr>\n",
       "    <tr>\n",
       "      <th>8</th>\n",
       "      <td>8965</td>\n",
       "      <td>943363</td>\n",
       "      <td>False</td>\n",
       "      <td>NaN</td>\n",
       "      <td>web</td>\n",
       "      <td>2017-09-17 15:12:21.059489</td>\n",
       "    </tr>\n",
       "    <tr>\n",
       "      <th>9</th>\n",
       "      <td>9693</td>\n",
       "      <td>787546</td>\n",
       "      <td>True</td>\n",
       "      <td>0.101743</td>\n",
       "      <td>web</td>\n",
       "      <td>2017-09-26 12:34:46.012559</td>\n",
       "    </tr>\n",
       "    <tr>\n",
       "      <th>10</th>\n",
       "      <td>4107</td>\n",
       "      <td>811855</td>\n",
       "      <td>False</td>\n",
       "      <td>3.112086</td>\n",
       "      <td>web</td>\n",
       "      <td>2017-09-01 10:50:07.042593</td>\n",
       "    </tr>\n",
       "  </tbody>\n",
       "</table>\n",
       "</div>"
      ],
      "text/plain": [
       "    user_id  product_id  liked  view_duration  source  \\\n",
       "0      3987      997021   True       1.048242     web   \n",
       "1      6300      865003   True       1.688173     web   \n",
       "2      6451      712951  False            NaN  mobile   \n",
       "3      7782      283235   True       0.194162  mobile   \n",
       "4      7782      283235   True       0.194162  mobile   \n",
       "5      5700      587019  False       0.493194     web   \n",
       "6      3400      505123   True            NaN     web   \n",
       "7      8403      459916  False       0.675041  mobile   \n",
       "8      8965      943363  False            NaN     web   \n",
       "9      9693      787546   True       0.101743     web   \n",
       "10     4107      811855  False       3.112086     web   \n",
       "\n",
       "                     timestamp  \n",
       "0   2017-09-23 00:18:29.056895  \n",
       "1   2017-09-21 02:20:22.022096  \n",
       "2   2017-09-07 11:57:50.044683  \n",
       "3   2017-09-17 03:48:20.019677  \n",
       "4   2017-09-17 03:48:20.019677  \n",
       "5   2017-09-07 00:25:07.019097  \n",
       "6   2017-09-07 13:53:21.008403  \n",
       "7   2017-09-25 21:54:00.028323  \n",
       "8   2017-09-17 15:12:21.059489  \n",
       "9   2017-09-26 12:34:46.012559  \n",
       "10  2017-09-01 10:50:07.042593  "
      ]
     },
     "execution_count": 2,
     "metadata": {},
     "output_type": "execute_result"
    }
   ],
   "source": [
    "df = pd.read_csv('product_view_data.csv')\n",
    "df"
   ]
  },
  {
   "cell_type": "markdown",
   "id": "90dbe8ab-117f-406d-8583-eb4c0ab89707",
   "metadata": {},
   "source": [
    "# View data information"
   ]
  },
  {
   "cell_type": "code",
   "execution_count": 3,
   "id": "57281d0e-8047-4607-828d-d30af7318915",
   "metadata": {},
   "outputs": [
    {
     "name": "stdout",
     "output_type": "stream",
     "text": [
      "<class 'pandas.core.frame.DataFrame'>\n",
      "RangeIndex: 11 entries, 0 to 10\n",
      "Data columns (total 6 columns):\n",
      " #   Column         Non-Null Count  Dtype  \n",
      "---  ------         --------------  -----  \n",
      " 0   user_id        11 non-null     int64  \n",
      " 1   product_id     11 non-null     int64  \n",
      " 2   liked          11 non-null     bool   \n",
      " 3   view_duration  8 non-null      float64\n",
      " 4   source         11 non-null     object \n",
      " 5   timestamp      11 non-null     object \n",
      "dtypes: bool(1), float64(1), int64(2), object(2)\n",
      "memory usage: 583.0+ bytes\n"
     ]
    }
   ],
   "source": [
    "df.info()"
   ]
  },
  {
   "cell_type": "code",
   "execution_count": 4,
   "id": "bb999966-30b7-4222-9b20-dd1ffee80b7c",
   "metadata": {},
   "outputs": [
    {
     "data": {
      "text/plain": [
       "user_id          False\n",
       "product_id       False\n",
       "liked            False\n",
       "view_duration     True\n",
       "source           False\n",
       "timestamp        False\n",
       "dtype: bool"
      ]
     },
     "execution_count": 4,
     "metadata": {},
     "output_type": "execute_result"
    }
   ],
   "source": [
    "df.isna().any() #displays columns that contain nan values"
   ]
  },
  {
   "cell_type": "markdown",
   "id": "e75248ca-a76d-4d77-831d-01d06ce43a74",
   "metadata": {},
   "source": [
    "# Fill empty view durations with the average duration"
   ]
  },
  {
   "cell_type": "code",
   "execution_count": 6,
   "id": "6e81ba75-2326-4302-a6cf-de6d70c1d0ed",
   "metadata": {},
   "outputs": [
    {
     "data": {
      "text/html": [
       "<div>\n",
       "<style scoped>\n",
       "    .dataframe tbody tr th:only-of-type {\n",
       "        vertical-align: middle;\n",
       "    }\n",
       "\n",
       "    .dataframe tbody tr th {\n",
       "        vertical-align: top;\n",
       "    }\n",
       "\n",
       "    .dataframe thead th {\n",
       "        text-align: right;\n",
       "    }\n",
       "</style>\n",
       "<table border=\"1\" class=\"dataframe\">\n",
       "  <thead>\n",
       "    <tr style=\"text-align: right;\">\n",
       "      <th></th>\n",
       "      <th>user_id</th>\n",
       "      <th>product_id</th>\n",
       "      <th>liked</th>\n",
       "      <th>view_duration</th>\n",
       "      <th>source</th>\n",
       "      <th>timestamp</th>\n",
       "    </tr>\n",
       "  </thead>\n",
       "  <tbody>\n",
       "    <tr>\n",
       "      <th>0</th>\n",
       "      <td>3987</td>\n",
       "      <td>997021</td>\n",
       "      <td>True</td>\n",
       "      <td>1.048242</td>\n",
       "      <td>web</td>\n",
       "      <td>2017-09-23 00:18:29.056895</td>\n",
       "    </tr>\n",
       "    <tr>\n",
       "      <th>1</th>\n",
       "      <td>6300</td>\n",
       "      <td>865003</td>\n",
       "      <td>True</td>\n",
       "      <td>1.688173</td>\n",
       "      <td>web</td>\n",
       "      <td>2017-09-21 02:20:22.022096</td>\n",
       "    </tr>\n",
       "    <tr>\n",
       "      <th>2</th>\n",
       "      <td>6451</td>\n",
       "      <td>712951</td>\n",
       "      <td>False</td>\n",
       "      <td>0.938350</td>\n",
       "      <td>mobile</td>\n",
       "      <td>2017-09-07 11:57:50.044683</td>\n",
       "    </tr>\n",
       "    <tr>\n",
       "      <th>3</th>\n",
       "      <td>7782</td>\n",
       "      <td>283235</td>\n",
       "      <td>True</td>\n",
       "      <td>0.194162</td>\n",
       "      <td>mobile</td>\n",
       "      <td>2017-09-17 03:48:20.019677</td>\n",
       "    </tr>\n",
       "    <tr>\n",
       "      <th>4</th>\n",
       "      <td>7782</td>\n",
       "      <td>283235</td>\n",
       "      <td>True</td>\n",
       "      <td>0.194162</td>\n",
       "      <td>mobile</td>\n",
       "      <td>2017-09-17 03:48:20.019677</td>\n",
       "    </tr>\n",
       "    <tr>\n",
       "      <th>5</th>\n",
       "      <td>5700</td>\n",
       "      <td>587019</td>\n",
       "      <td>False</td>\n",
       "      <td>0.493194</td>\n",
       "      <td>web</td>\n",
       "      <td>2017-09-07 00:25:07.019097</td>\n",
       "    </tr>\n",
       "    <tr>\n",
       "      <th>6</th>\n",
       "      <td>3400</td>\n",
       "      <td>505123</td>\n",
       "      <td>True</td>\n",
       "      <td>0.938350</td>\n",
       "      <td>web</td>\n",
       "      <td>2017-09-07 13:53:21.008403</td>\n",
       "    </tr>\n",
       "    <tr>\n",
       "      <th>7</th>\n",
       "      <td>8403</td>\n",
       "      <td>459916</td>\n",
       "      <td>False</td>\n",
       "      <td>0.675041</td>\n",
       "      <td>mobile</td>\n",
       "      <td>2017-09-25 21:54:00.028323</td>\n",
       "    </tr>\n",
       "    <tr>\n",
       "      <th>8</th>\n",
       "      <td>8965</td>\n",
       "      <td>943363</td>\n",
       "      <td>False</td>\n",
       "      <td>0.938350</td>\n",
       "      <td>web</td>\n",
       "      <td>2017-09-17 15:12:21.059489</td>\n",
       "    </tr>\n",
       "    <tr>\n",
       "      <th>9</th>\n",
       "      <td>9693</td>\n",
       "      <td>787546</td>\n",
       "      <td>True</td>\n",
       "      <td>0.101743</td>\n",
       "      <td>web</td>\n",
       "      <td>2017-09-26 12:34:46.012559</td>\n",
       "    </tr>\n",
       "    <tr>\n",
       "      <th>10</th>\n",
       "      <td>4107</td>\n",
       "      <td>811855</td>\n",
       "      <td>False</td>\n",
       "      <td>3.112086</td>\n",
       "      <td>web</td>\n",
       "      <td>2017-09-01 10:50:07.042593</td>\n",
       "    </tr>\n",
       "  </tbody>\n",
       "</table>\n",
       "</div>"
      ],
      "text/plain": [
       "    user_id  product_id  liked  view_duration  source  \\\n",
       "0      3987      997021   True       1.048242     web   \n",
       "1      6300      865003   True       1.688173     web   \n",
       "2      6451      712951  False       0.938350  mobile   \n",
       "3      7782      283235   True       0.194162  mobile   \n",
       "4      7782      283235   True       0.194162  mobile   \n",
       "5      5700      587019  False       0.493194     web   \n",
       "6      3400      505123   True       0.938350     web   \n",
       "7      8403      459916  False       0.675041  mobile   \n",
       "8      8965      943363  False       0.938350     web   \n",
       "9      9693      787546   True       0.101743     web   \n",
       "10     4107      811855  False       3.112086     web   \n",
       "\n",
       "                     timestamp  \n",
       "0   2017-09-23 00:18:29.056895  \n",
       "1   2017-09-21 02:20:22.022096  \n",
       "2   2017-09-07 11:57:50.044683  \n",
       "3   2017-09-17 03:48:20.019677  \n",
       "4   2017-09-17 03:48:20.019677  \n",
       "5   2017-09-07 00:25:07.019097  \n",
       "6   2017-09-07 13:53:21.008403  \n",
       "7   2017-09-25 21:54:00.028323  \n",
       "8   2017-09-17 15:12:21.059489  \n",
       "9   2017-09-26 12:34:46.012559  \n",
       "10  2017-09-01 10:50:07.042593  "
      ]
     },
     "execution_count": 6,
     "metadata": {},
     "output_type": "execute_result"
    }
   ],
   "source": [
    "mean = df['view_duration'].mean()\n",
    "#df['view_duration'].fillna(mean,inplace=True) #deprecated\n",
    "df.fillna({'view_duration':mean},inplace=True)\n",
    "\n",
    "df"
   ]
  },
  {
   "cell_type": "markdown",
   "id": "162d3e20-95f4-467f-9353-a2ed796f9255",
   "metadata": {},
   "source": [
    "# Find Duplicates"
   ]
  },
  {
   "cell_type": "code",
   "execution_count": 9,
   "id": "87850f1b-5d78-4082-9c02-511eb6fdd039",
   "metadata": {},
   "outputs": [
    {
     "data": {
      "text/plain": [
       "0     False\n",
       "1     False\n",
       "2     False\n",
       "3     False\n",
       "4      True\n",
       "5     False\n",
       "6     False\n",
       "7     False\n",
       "8     False\n",
       "9     False\n",
       "10    False\n",
       "dtype: bool"
      ]
     },
     "execution_count": 9,
     "metadata": {},
     "output_type": "execute_result"
    }
   ],
   "source": [
    "df.duplicated()"
   ]
  },
  {
   "cell_type": "markdown",
   "id": "f6cfe333-7d42-4140-a3e5-b0eac3950f76",
   "metadata": {},
   "source": [
    "number of duplicates:"
   ]
  },
  {
   "cell_type": "code",
   "execution_count": 11,
   "id": "c4b5358e-3536-4c82-affa-d9907de3ba2a",
   "metadata": {},
   "outputs": [
    {
     "data": {
      "text/plain": [
       "1"
      ]
     },
     "execution_count": 11,
     "metadata": {},
     "output_type": "execute_result"
    }
   ],
   "source": [
    "sum(df.duplicated())"
   ]
  },
  {
   "cell_type": "markdown",
   "id": "5676b9e3-66dd-4651-80d4-96aeab1a67ad",
   "metadata": {},
   "source": [
    "# Remove Duplicates"
   ]
  },
  {
   "cell_type": "code",
   "execution_count": 12,
   "id": "152afe78-740c-4b06-b204-1105c26faff8",
   "metadata": {},
   "outputs": [],
   "source": [
    "df.drop_duplicates(inplace=True)"
   ]
  },
  {
   "cell_type": "code",
   "execution_count": 15,
   "id": "5e426f35-d83b-41eb-afd0-9688ef8e597d",
   "metadata": {},
   "outputs": [
    {
     "data": {
      "text/plain": [
       "0"
      ]
     },
     "execution_count": 15,
     "metadata": {},
     "output_type": "execute_result"
    }
   ],
   "source": [
    "sum(df.duplicated())# should say 0"
   ]
  },
  {
   "cell_type": "markdown",
   "id": "def86965-aa35-46b3-8fcc-a70474f8bc07",
   "metadata": {},
   "source": [
    "# Converting timestamp from a string to a datatime object"
   ]
  },
  {
   "cell_type": "markdown",
   "id": "b6549755-6d74-45e5-8a55-73f6cda3a42b",
   "metadata": {},
   "source": [
    "If after conversion this is saved back to a csv file, it will be re-read as a string upon opening the csv file. There are methods to automatically read the string as a datetime object that require passing in a parsing function (or option) to the read_csv() function."
   ]
  },
  {
   "cell_type": "code",
   "execution_count": 18,
   "id": "59958811-3ba8-480c-9a65-54d54ad1893b",
   "metadata": {},
   "outputs": [],
   "source": [
    "df['timestamp'] = pd.to_datetime(df['timestamp'])"
   ]
  },
  {
   "cell_type": "code",
   "execution_count": 20,
   "id": "f8c0a279-903a-485b-9de9-577daf38e155",
   "metadata": {},
   "outputs": [
    {
     "name": "stdout",
     "output_type": "stream",
     "text": [
      "<class 'pandas.core.frame.DataFrame'>\n",
      "Index: 10 entries, 0 to 10\n",
      "Data columns (total 6 columns):\n",
      " #   Column         Non-Null Count  Dtype         \n",
      "---  ------         --------------  -----         \n",
      " 0   user_id        10 non-null     int64         \n",
      " 1   product_id     10 non-null     int64         \n",
      " 2   liked          10 non-null     bool          \n",
      " 3   view_duration  10 non-null     float64       \n",
      " 4   source         10 non-null     object        \n",
      " 5   timestamp      10 non-null     datetime64[ns]\n",
      "dtypes: bool(1), datetime64[ns](1), float64(1), int64(2), object(1)\n",
      "memory usage: 490.0+ bytes\n"
     ]
    }
   ],
   "source": [
    "df.info()"
   ]
  }
 ],
 "metadata": {
  "kernelspec": {
   "display_name": "Python 3 (ipykernel)",
   "language": "python",
   "name": "python3"
  },
  "language_info": {
   "codemirror_mode": {
    "name": "ipython",
    "version": 3
   },
   "file_extension": ".py",
   "mimetype": "text/x-python",
   "name": "python",
   "nbconvert_exporter": "python",
   "pygments_lexer": "ipython3",
   "version": "3.12.3"
  }
 },
 "nbformat": 4,
 "nbformat_minor": 5
}
