{
 "cells": [
  {
   "cell_type": "markdown",
   "id": "026049ba-71d6-4354-8eb5-c5e0fe28a377",
   "metadata": {},
   "source": [
    "# Import libraries"
   ]
  },
  {
   "cell_type": "code",
   "execution_count": 25,
   "id": "81448ab9-d6d9-471f-82d2-0b552edc356c",
   "metadata": {},
   "outputs": [],
   "source": [
    "import pandas as pd"
   ]
  },
  {
   "cell_type": "markdown",
   "id": "30b3fa6c-46bd-4c9d-aa28-6e8ed87d902d",
   "metadata": {},
   "source": [
    "# Read datasets"
   ]
  },
  {
   "cell_type": "code",
   "execution_count": 26,
   "id": "b0591504-54d4-4118-a6d7-bdefc0b9eead",
   "metadata": {},
   "outputs": [],
   "source": [
    "df08 = pd.read_csv('data_08_v2.csv')\n",
    "df18 = pd.read_csv('data_18_v2.csv')"
   ]
  },
  {
   "cell_type": "code",
   "execution_count": 27,
   "id": "d2684740-4e12-4ee8-88fc-5553701f66e1",
   "metadata": {},
   "outputs": [
    {
     "data": {
      "text/html": [
       "<div>\n",
       "<style scoped>\n",
       "    .dataframe tbody tr th:only-of-type {\n",
       "        vertical-align: middle;\n",
       "    }\n",
       "\n",
       "    .dataframe tbody tr th {\n",
       "        vertical-align: top;\n",
       "    }\n",
       "\n",
       "    .dataframe thead th {\n",
       "        text-align: right;\n",
       "    }\n",
       "</style>\n",
       "<table border=\"1\" class=\"dataframe\">\n",
       "  <thead>\n",
       "    <tr style=\"text-align: right;\">\n",
       "      <th></th>\n",
       "      <th>model</th>\n",
       "      <th>displ</th>\n",
       "      <th>cyl</th>\n",
       "      <th>trans</th>\n",
       "      <th>drive</th>\n",
       "      <th>fuel</th>\n",
       "      <th>cert_region</th>\n",
       "      <th>veh_class</th>\n",
       "      <th>air_pollution_score</th>\n",
       "      <th>city_mpg</th>\n",
       "      <th>hwy_mpg</th>\n",
       "      <th>cmb_mpg</th>\n",
       "      <th>greenhouse_gas_score</th>\n",
       "      <th>smartway</th>\n",
       "    </tr>\n",
       "  </thead>\n",
       "  <tbody>\n",
       "    <tr>\n",
       "      <th>0</th>\n",
       "      <td>ACURA MDX</td>\n",
       "      <td>3.7</td>\n",
       "      <td>(6 cyl)</td>\n",
       "      <td>Auto-S5</td>\n",
       "      <td>4WD</td>\n",
       "      <td>Gasoline</td>\n",
       "      <td>CA</td>\n",
       "      <td>SUV</td>\n",
       "      <td>7</td>\n",
       "      <td>15</td>\n",
       "      <td>20</td>\n",
       "      <td>17</td>\n",
       "      <td>4</td>\n",
       "      <td>no</td>\n",
       "    </tr>\n",
       "    <tr>\n",
       "      <th>1</th>\n",
       "      <td>ACURA MDX</td>\n",
       "      <td>3.7</td>\n",
       "      <td>(6 cyl)</td>\n",
       "      <td>Auto-S5</td>\n",
       "      <td>4WD</td>\n",
       "      <td>Gasoline</td>\n",
       "      <td>FA</td>\n",
       "      <td>SUV</td>\n",
       "      <td>6</td>\n",
       "      <td>15</td>\n",
       "      <td>20</td>\n",
       "      <td>17</td>\n",
       "      <td>4</td>\n",
       "      <td>no</td>\n",
       "    </tr>\n",
       "    <tr>\n",
       "      <th>2</th>\n",
       "      <td>ACURA RDX</td>\n",
       "      <td>2.3</td>\n",
       "      <td>(4 cyl)</td>\n",
       "      <td>Auto-S5</td>\n",
       "      <td>4WD</td>\n",
       "      <td>Gasoline</td>\n",
       "      <td>CA</td>\n",
       "      <td>SUV</td>\n",
       "      <td>7</td>\n",
       "      <td>17</td>\n",
       "      <td>22</td>\n",
       "      <td>19</td>\n",
       "      <td>5</td>\n",
       "      <td>no</td>\n",
       "    </tr>\n",
       "    <tr>\n",
       "      <th>3</th>\n",
       "      <td>ACURA RDX</td>\n",
       "      <td>2.3</td>\n",
       "      <td>(4 cyl)</td>\n",
       "      <td>Auto-S5</td>\n",
       "      <td>4WD</td>\n",
       "      <td>Gasoline</td>\n",
       "      <td>FA</td>\n",
       "      <td>SUV</td>\n",
       "      <td>6</td>\n",
       "      <td>17</td>\n",
       "      <td>22</td>\n",
       "      <td>19</td>\n",
       "      <td>5</td>\n",
       "      <td>no</td>\n",
       "    </tr>\n",
       "    <tr>\n",
       "      <th>4</th>\n",
       "      <td>ACURA RL</td>\n",
       "      <td>3.5</td>\n",
       "      <td>(6 cyl)</td>\n",
       "      <td>Auto-S5</td>\n",
       "      <td>4WD</td>\n",
       "      <td>Gasoline</td>\n",
       "      <td>CA</td>\n",
       "      <td>midsize car</td>\n",
       "      <td>7</td>\n",
       "      <td>16</td>\n",
       "      <td>24</td>\n",
       "      <td>19</td>\n",
       "      <td>5</td>\n",
       "      <td>no</td>\n",
       "    </tr>\n",
       "  </tbody>\n",
       "</table>\n",
       "</div>"
      ],
      "text/plain": [
       "       model  displ      cyl    trans drive      fuel cert_region  \\\n",
       "0  ACURA MDX    3.7  (6 cyl)  Auto-S5   4WD  Gasoline          CA   \n",
       "1  ACURA MDX    3.7  (6 cyl)  Auto-S5   4WD  Gasoline          FA   \n",
       "2  ACURA RDX    2.3  (4 cyl)  Auto-S5   4WD  Gasoline          CA   \n",
       "3  ACURA RDX    2.3  (4 cyl)  Auto-S5   4WD  Gasoline          FA   \n",
       "4   ACURA RL    3.5  (6 cyl)  Auto-S5   4WD  Gasoline          CA   \n",
       "\n",
       "     veh_class air_pollution_score city_mpg hwy_mpg cmb_mpg  \\\n",
       "0          SUV                   7       15      20      17   \n",
       "1          SUV                   6       15      20      17   \n",
       "2          SUV                   7       17      22      19   \n",
       "3          SUV                   6       17      22      19   \n",
       "4  midsize car                   7       16      24      19   \n",
       "\n",
       "  greenhouse_gas_score smartway  \n",
       "0                    4       no  \n",
       "1                    4       no  \n",
       "2                    5       no  \n",
       "3                    5       no  \n",
       "4                    5       no  "
      ]
     },
     "execution_count": 27,
     "metadata": {},
     "output_type": "execute_result"
    }
   ],
   "source": [
    "df08.head()"
   ]
  },
  {
   "cell_type": "markdown",
   "id": "c61f5e37-982c-4091-8d03-798d7f2d4d2d",
   "metadata": {},
   "source": [
    "# View dimensions of the data"
   ]
  },
  {
   "cell_type": "code",
   "execution_count": 28,
   "id": "afcf398d-c80b-4bc1-a826-12d4ee6f55b3",
   "metadata": {},
   "outputs": [
    {
     "data": {
      "text/plain": [
       "((2404, 14), (1611, 14))"
      ]
     },
     "execution_count": 28,
     "metadata": {},
     "output_type": "execute_result"
    }
   ],
   "source": [
    "df08.shape, df18.shape"
   ]
  },
  {
   "cell_type": "markdown",
   "id": "1ef59628-8ea2-40f2-b175-0a33a17cce92",
   "metadata": {},
   "source": [
    "# Filter the data by Certification region"
   ]
  },
  {
   "cell_type": "markdown",
   "id": "25ce890c-9e17-4c41-b1b2-f72b7844ef61",
   "metadata": {},
   "source": [
    "The certificaion region should only be CA"
   ]
  },
  {
   "cell_type": "code",
   "execution_count": 29,
   "id": "72880386-c060-490f-875a-1b6315252701",
   "metadata": {},
   "outputs": [],
   "source": [
    "df08 = df08.query('cert_region == \"CA\"')#Assigning to a new variable will raise an error: SettingWithCopyWarning\n",
    "df18 = df18.query('cert_region == \"CA\"')"
   ]
  },
  {
   "cell_type": "markdown",
   "id": "87acbc2f-2f44-473f-8c15-195ebcf1505b",
   "metadata": {},
   "source": [
    "## Confirm the certificaion region is only CA"
   ]
  },
  {
   "cell_type": "code",
   "execution_count": 30,
   "id": "ddadd5ed-a0f7-4ad6-ba4b-f8704c327c1d",
   "metadata": {},
   "outputs": [
    {
     "data": {
      "text/plain": [
       "array(['CA'], dtype=object)"
      ]
     },
     "execution_count": 30,
     "metadata": {},
     "output_type": "execute_result"
    }
   ],
   "source": [
    "df08['cert_region'].unique()"
   ]
  },
  {
   "cell_type": "code",
   "execution_count": 31,
   "id": "8fc47d95-40b1-44af-bfd2-93ad5fd98b47",
   "metadata": {},
   "outputs": [
    {
     "data": {
      "text/plain": [
       "array(['CA'], dtype=object)"
      ]
     },
     "execution_count": 31,
     "metadata": {},
     "output_type": "execute_result"
    }
   ],
   "source": [
    "df18['cert_region'].unique()"
   ]
  },
  {
   "cell_type": "markdown",
   "id": "f13f7495-2510-415c-a8bb-bee1615716d3",
   "metadata": {},
   "source": [
    "## To answer the quiz questions"
   ]
  },
  {
   "cell_type": "code",
   "execution_count": 32,
   "id": "625bae29-efed-478e-a767-eb909fa81a8d",
   "metadata": {},
   "outputs": [
    {
     "name": "stdout",
     "output_type": "stream",
     "text": [
      "<class 'pandas.core.frame.DataFrame'>\n",
      "Index: 1084 entries, 0 to 2400\n",
      "Data columns (total 14 columns):\n",
      " #   Column                Non-Null Count  Dtype  \n",
      "---  ------                --------------  -----  \n",
      " 0   model                 1084 non-null   object \n",
      " 1   displ                 1084 non-null   float64\n",
      " 2   cyl                   1009 non-null   object \n",
      " 3   trans                 1009 non-null   object \n",
      " 4   drive                 1047 non-null   object \n",
      " 5   fuel                  1084 non-null   object \n",
      " 6   cert_region           1084 non-null   object \n",
      " 7   veh_class             1084 non-null   object \n",
      " 8   air_pollution_score   1084 non-null   object \n",
      " 9   city_mpg              1009 non-null   object \n",
      " 10  hwy_mpg               1009 non-null   object \n",
      " 11  cmb_mpg               1009 non-null   object \n",
      " 12  greenhouse_gas_score  1009 non-null   object \n",
      " 13  smartway              1084 non-null   object \n",
      "dtypes: float64(1), object(13)\n",
      "memory usage: 127.0+ KB\n"
     ]
    }
   ],
   "source": [
    "df08.info()"
   ]
  },
  {
   "cell_type": "code",
   "execution_count": 33,
   "id": "8dfa4818-32e7-48ef-9dab-2a1ab7fa037d",
   "metadata": {},
   "outputs": [
    {
     "name": "stdout",
     "output_type": "stream",
     "text": [
      "<class 'pandas.core.frame.DataFrame'>\n",
      "Index: 798 entries, 1 to 1609\n",
      "Data columns (total 14 columns):\n",
      " #   Column                Non-Null Count  Dtype  \n",
      "---  ------                --------------  -----  \n",
      " 0   model                 798 non-null    object \n",
      " 1   displ                 797 non-null    float64\n",
      " 2   cyl                   797 non-null    float64\n",
      " 3   trans                 798 non-null    object \n",
      " 4   drive                 798 non-null    object \n",
      " 5   fuel                  798 non-null    object \n",
      " 6   cert_region           798 non-null    object \n",
      " 7   veh_class             798 non-null    object \n",
      " 8   air_pollution_score   798 non-null    int64  \n",
      " 9   city_mpg              798 non-null    object \n",
      " 10  hwy_mpg               798 non-null    object \n",
      " 11  cmb_mpg               798 non-null    object \n",
      " 12  greenhouse_gas_score  798 non-null    int64  \n",
      " 13  smartway              798 non-null    object \n",
      "dtypes: float64(2), int64(2), object(10)\n",
      "memory usage: 93.5+ KB\n"
     ]
    }
   ],
   "source": [
    "df18.info()"
   ]
  },
  {
   "cell_type": "markdown",
   "id": "b24f1f5d-fff0-48d7-9674-b8f663620904",
   "metadata": {},
   "source": [
    "## Drop the unecessary Certification region column"
   ]
  },
  {
   "cell_type": "code",
   "execution_count": 8,
   "id": "fc8132c6-b9a2-44e4-b29e-277fca618337",
   "metadata": {},
   "outputs": [],
   "source": [
    "df08.drop(['cert_region'],axis=1,inplace=True)\n",
    "df18.drop(['cert_region'],axis=1,inplace=True)"
   ]
  },
  {
   "cell_type": "markdown",
   "id": "1ee7b121-931a-449d-b141-456a6cf41c62",
   "metadata": {},
   "source": [
    "## Verify the column has been deleted"
   ]
  },
  {
   "cell_type": "code",
   "execution_count": 9,
   "id": "1834d9c4-bc88-4165-a679-aa789f44f683",
   "metadata": {},
   "outputs": [
    {
     "data": {
      "text/html": [
       "<div>\n",
       "<style scoped>\n",
       "    .dataframe tbody tr th:only-of-type {\n",
       "        vertical-align: middle;\n",
       "    }\n",
       "\n",
       "    .dataframe tbody tr th {\n",
       "        vertical-align: top;\n",
       "    }\n",
       "\n",
       "    .dataframe thead th {\n",
       "        text-align: right;\n",
       "    }\n",
       "</style>\n",
       "<table border=\"1\" class=\"dataframe\">\n",
       "  <thead>\n",
       "    <tr style=\"text-align: right;\">\n",
       "      <th></th>\n",
       "      <th>model</th>\n",
       "      <th>displ</th>\n",
       "      <th>cyl</th>\n",
       "      <th>trans</th>\n",
       "      <th>drive</th>\n",
       "      <th>fuel</th>\n",
       "      <th>veh_class</th>\n",
       "      <th>air_pollution_score</th>\n",
       "      <th>city_mpg</th>\n",
       "      <th>hwy_mpg</th>\n",
       "      <th>cmb_mpg</th>\n",
       "      <th>greenhouse_gas_score</th>\n",
       "      <th>smartway</th>\n",
       "    </tr>\n",
       "  </thead>\n",
       "  <tbody>\n",
       "    <tr>\n",
       "      <th>0</th>\n",
       "      <td>ACURA MDX</td>\n",
       "      <td>3.7</td>\n",
       "      <td>(6 cyl)</td>\n",
       "      <td>Auto-S5</td>\n",
       "      <td>4WD</td>\n",
       "      <td>Gasoline</td>\n",
       "      <td>SUV</td>\n",
       "      <td>7</td>\n",
       "      <td>15</td>\n",
       "      <td>20</td>\n",
       "      <td>17</td>\n",
       "      <td>4</td>\n",
       "      <td>no</td>\n",
       "    </tr>\n",
       "    <tr>\n",
       "      <th>2</th>\n",
       "      <td>ACURA RDX</td>\n",
       "      <td>2.3</td>\n",
       "      <td>(4 cyl)</td>\n",
       "      <td>Auto-S5</td>\n",
       "      <td>4WD</td>\n",
       "      <td>Gasoline</td>\n",
       "      <td>SUV</td>\n",
       "      <td>7</td>\n",
       "      <td>17</td>\n",
       "      <td>22</td>\n",
       "      <td>19</td>\n",
       "      <td>5</td>\n",
       "      <td>no</td>\n",
       "    </tr>\n",
       "    <tr>\n",
       "      <th>4</th>\n",
       "      <td>ACURA RL</td>\n",
       "      <td>3.5</td>\n",
       "      <td>(6 cyl)</td>\n",
       "      <td>Auto-S5</td>\n",
       "      <td>4WD</td>\n",
       "      <td>Gasoline</td>\n",
       "      <td>midsize car</td>\n",
       "      <td>7</td>\n",
       "      <td>16</td>\n",
       "      <td>24</td>\n",
       "      <td>19</td>\n",
       "      <td>5</td>\n",
       "      <td>no</td>\n",
       "    </tr>\n",
       "    <tr>\n",
       "      <th>6</th>\n",
       "      <td>ACURA TL</td>\n",
       "      <td>3.2</td>\n",
       "      <td>(6 cyl)</td>\n",
       "      <td>Auto-S5</td>\n",
       "      <td>2WD</td>\n",
       "      <td>Gasoline</td>\n",
       "      <td>midsize car</td>\n",
       "      <td>7</td>\n",
       "      <td>18</td>\n",
       "      <td>26</td>\n",
       "      <td>21</td>\n",
       "      <td>6</td>\n",
       "      <td>yes</td>\n",
       "    </tr>\n",
       "    <tr>\n",
       "      <th>7</th>\n",
       "      <td>ACURA TL</td>\n",
       "      <td>3.5</td>\n",
       "      <td>(6 cyl)</td>\n",
       "      <td>Auto-S5</td>\n",
       "      <td>2WD</td>\n",
       "      <td>Gasoline</td>\n",
       "      <td>midsize car</td>\n",
       "      <td>7</td>\n",
       "      <td>17</td>\n",
       "      <td>26</td>\n",
       "      <td>20</td>\n",
       "      <td>6</td>\n",
       "      <td>yes</td>\n",
       "    </tr>\n",
       "  </tbody>\n",
       "</table>\n",
       "</div>"
      ],
      "text/plain": [
       "       model  displ      cyl    trans drive      fuel    veh_class  \\\n",
       "0  ACURA MDX    3.7  (6 cyl)  Auto-S5   4WD  Gasoline          SUV   \n",
       "2  ACURA RDX    2.3  (4 cyl)  Auto-S5   4WD  Gasoline          SUV   \n",
       "4   ACURA RL    3.5  (6 cyl)  Auto-S5   4WD  Gasoline  midsize car   \n",
       "6   ACURA TL    3.2  (6 cyl)  Auto-S5   2WD  Gasoline  midsize car   \n",
       "7   ACURA TL    3.5  (6 cyl)  Auto-S5   2WD  Gasoline  midsize car   \n",
       "\n",
       "  air_pollution_score city_mpg hwy_mpg cmb_mpg greenhouse_gas_score smartway  \n",
       "0                   7       15      20      17                    4       no  \n",
       "2                   7       17      22      19                    5       no  \n",
       "4                   7       16      24      19                    5       no  \n",
       "6                   7       18      26      21                    6      yes  \n",
       "7                   7       17      26      20                    6      yes  "
      ]
     },
     "execution_count": 9,
     "metadata": {},
     "output_type": "execute_result"
    }
   ],
   "source": [
    "df08.head()"
   ]
  },
  {
   "cell_type": "code",
   "execution_count": 10,
   "id": "163e994c-9973-48d6-b5eb-9c1738babbaa",
   "metadata": {},
   "outputs": [
    {
     "data": {
      "text/html": [
       "<div>\n",
       "<style scoped>\n",
       "    .dataframe tbody tr th:only-of-type {\n",
       "        vertical-align: middle;\n",
       "    }\n",
       "\n",
       "    .dataframe tbody tr th {\n",
       "        vertical-align: top;\n",
       "    }\n",
       "\n",
       "    .dataframe thead th {\n",
       "        text-align: right;\n",
       "    }\n",
       "</style>\n",
       "<table border=\"1\" class=\"dataframe\">\n",
       "  <thead>\n",
       "    <tr style=\"text-align: right;\">\n",
       "      <th></th>\n",
       "      <th>model</th>\n",
       "      <th>displ</th>\n",
       "      <th>cyl</th>\n",
       "      <th>trans</th>\n",
       "      <th>drive</th>\n",
       "      <th>fuel</th>\n",
       "      <th>veh_class</th>\n",
       "      <th>air_pollution_score</th>\n",
       "      <th>city_mpg</th>\n",
       "      <th>hwy_mpg</th>\n",
       "      <th>cmb_mpg</th>\n",
       "      <th>greenhouse_gas_score</th>\n",
       "      <th>smartway</th>\n",
       "    </tr>\n",
       "  </thead>\n",
       "  <tbody>\n",
       "    <tr>\n",
       "      <th>0</th>\n",
       "      <td>ACURA MDX</td>\n",
       "      <td>3.7</td>\n",
       "      <td>(6 cyl)</td>\n",
       "      <td>Auto-S5</td>\n",
       "      <td>4WD</td>\n",
       "      <td>Gasoline</td>\n",
       "      <td>SUV</td>\n",
       "      <td>7</td>\n",
       "      <td>15</td>\n",
       "      <td>20</td>\n",
       "      <td>17</td>\n",
       "      <td>4</td>\n",
       "      <td>no</td>\n",
       "    </tr>\n",
       "    <tr>\n",
       "      <th>2</th>\n",
       "      <td>ACURA RDX</td>\n",
       "      <td>2.3</td>\n",
       "      <td>(4 cyl)</td>\n",
       "      <td>Auto-S5</td>\n",
       "      <td>4WD</td>\n",
       "      <td>Gasoline</td>\n",
       "      <td>SUV</td>\n",
       "      <td>7</td>\n",
       "      <td>17</td>\n",
       "      <td>22</td>\n",
       "      <td>19</td>\n",
       "      <td>5</td>\n",
       "      <td>no</td>\n",
       "    </tr>\n",
       "    <tr>\n",
       "      <th>4</th>\n",
       "      <td>ACURA RL</td>\n",
       "      <td>3.5</td>\n",
       "      <td>(6 cyl)</td>\n",
       "      <td>Auto-S5</td>\n",
       "      <td>4WD</td>\n",
       "      <td>Gasoline</td>\n",
       "      <td>midsize car</td>\n",
       "      <td>7</td>\n",
       "      <td>16</td>\n",
       "      <td>24</td>\n",
       "      <td>19</td>\n",
       "      <td>5</td>\n",
       "      <td>no</td>\n",
       "    </tr>\n",
       "    <tr>\n",
       "      <th>6</th>\n",
       "      <td>ACURA TL</td>\n",
       "      <td>3.2</td>\n",
       "      <td>(6 cyl)</td>\n",
       "      <td>Auto-S5</td>\n",
       "      <td>2WD</td>\n",
       "      <td>Gasoline</td>\n",
       "      <td>midsize car</td>\n",
       "      <td>7</td>\n",
       "      <td>18</td>\n",
       "      <td>26</td>\n",
       "      <td>21</td>\n",
       "      <td>6</td>\n",
       "      <td>yes</td>\n",
       "    </tr>\n",
       "    <tr>\n",
       "      <th>7</th>\n",
       "      <td>ACURA TL</td>\n",
       "      <td>3.5</td>\n",
       "      <td>(6 cyl)</td>\n",
       "      <td>Auto-S5</td>\n",
       "      <td>2WD</td>\n",
       "      <td>Gasoline</td>\n",
       "      <td>midsize car</td>\n",
       "      <td>7</td>\n",
       "      <td>17</td>\n",
       "      <td>26</td>\n",
       "      <td>20</td>\n",
       "      <td>6</td>\n",
       "      <td>yes</td>\n",
       "    </tr>\n",
       "  </tbody>\n",
       "</table>\n",
       "</div>"
      ],
      "text/plain": [
       "       model  displ      cyl    trans drive      fuel    veh_class  \\\n",
       "0  ACURA MDX    3.7  (6 cyl)  Auto-S5   4WD  Gasoline          SUV   \n",
       "2  ACURA RDX    2.3  (4 cyl)  Auto-S5   4WD  Gasoline          SUV   \n",
       "4   ACURA RL    3.5  (6 cyl)  Auto-S5   4WD  Gasoline  midsize car   \n",
       "6   ACURA TL    3.2  (6 cyl)  Auto-S5   2WD  Gasoline  midsize car   \n",
       "7   ACURA TL    3.5  (6 cyl)  Auto-S5   2WD  Gasoline  midsize car   \n",
       "\n",
       "  air_pollution_score city_mpg hwy_mpg cmb_mpg greenhouse_gas_score smartway  \n",
       "0                   7       15      20      17                    4       no  \n",
       "2                   7       17      22      19                    5       no  \n",
       "4                   7       16      24      19                    5       no  \n",
       "6                   7       18      26      21                    6      yes  \n",
       "7                   7       17      26      20                    6      yes  "
      ]
     },
     "execution_count": 10,
     "metadata": {},
     "output_type": "execute_result"
    }
   ],
   "source": [
    "df08.head()"
   ]
  },
  {
   "cell_type": "code",
   "execution_count": 11,
   "id": "e57f76e3-3410-41c9-8755-4f7bb56e1ca2",
   "metadata": {},
   "outputs": [
    {
     "data": {
      "text/plain": [
       "((1084, 13), (1084, 13))"
      ]
     },
     "execution_count": 11,
     "metadata": {},
     "output_type": "execute_result"
    }
   ],
   "source": [
    "df08.shape,df08.shape"
   ]
  },
  {
   "cell_type": "markdown",
   "id": "975daf41-5435-47f0-8511-c49e045ff93c",
   "metadata": {},
   "source": [
    "# Drop rows with missing values"
   ]
  },
  {
   "cell_type": "code",
   "execution_count": 12,
   "id": "53e1b0f6-0eaf-4c69-81b2-ff093afe3e46",
   "metadata": {},
   "outputs": [],
   "source": [
    "df08.dropna(inplace=True)\n",
    "df18.dropna(inplace=True)"
   ]
  },
  {
   "cell_type": "code",
   "execution_count": 13,
   "id": "3f4cae6b-c0e5-41b0-8fe8-b7ce598b6eda",
   "metadata": {},
   "outputs": [
    {
     "data": {
      "text/plain": [
       "False"
      ]
     },
     "execution_count": 13,
     "metadata": {},
     "output_type": "execute_result"
    }
   ],
   "source": [
    "df08.isnull().sum().any()"
   ]
  },
  {
   "cell_type": "code",
   "execution_count": 14,
   "id": "18d67057-ad05-46c3-8ed7-fa3be530079b",
   "metadata": {},
   "outputs": [
    {
     "data": {
      "text/plain": [
       "False"
      ]
     },
     "execution_count": 14,
     "metadata": {},
     "output_type": "execute_result"
    }
   ],
   "source": [
    "df18.isnull().sum().any()"
   ]
  },
  {
   "cell_type": "markdown",
   "id": "25ffdd67-671e-463b-84ab-9a43ed42db34",
   "metadata": {},
   "source": [
    "# Drop duplicate data "
   ]
  },
  {
   "cell_type": "markdown",
   "id": "dd5b60d9-d07f-47cf-ab06-9673658c0765",
   "metadata": {},
   "source": [
    "## View duplicate data"
   ]
  },
  {
   "cell_type": "code",
   "execution_count": 16,
   "id": "e8b414fb-5bd9-488a-8ec4-4c626855284f",
   "metadata": {},
   "outputs": [
    {
     "data": {
      "text/plain": [
       "(23, 3)"
      ]
     },
     "execution_count": 16,
     "metadata": {},
     "output_type": "execute_result"
    }
   ],
   "source": [
    "df08.duplicated().sum(), df18.duplicated().sum()"
   ]
  },
  {
   "cell_type": "markdown",
   "id": "d8f95bd5-f397-4b69-becc-7d696cb674b1",
   "metadata": {},
   "source": [
    "## Dropping the duplicates"
   ]
  },
  {
   "cell_type": "code",
   "execution_count": 20,
   "id": "2ca996b7-fbdb-4fa3-9e2c-88396bedb244",
   "metadata": {},
   "outputs": [],
   "source": [
    "df08.drop_duplicates(inplace=True)\n",
    "df18.drop_duplicates(inplace=True)"
   ]
  },
  {
   "cell_type": "markdown",
   "id": "0605e735-fdec-47c1-8e3e-f36eab4332df",
   "metadata": {},
   "source": [
    "## Confirm duplicates has been dropped"
   ]
  },
  {
   "cell_type": "code",
   "execution_count": 21,
   "id": "d4edfff6-5aa7-49d7-9ad8-569652cf5d62",
   "metadata": {},
   "outputs": [
    {
     "data": {
      "text/plain": [
       "(0, 0)"
      ]
     },
     "execution_count": 21,
     "metadata": {},
     "output_type": "execute_result"
    }
   ],
   "source": [
    "df08.duplicated().sum(),df18.duplicated().sum()"
   ]
  },
  {
   "cell_type": "markdown",
   "id": "3a00895d-81ab-4c36-8ba5-b42e31f30228",
   "metadata": {},
   "source": [
    "# Save modified data sets"
   ]
  },
  {
   "cell_type": "code",
   "execution_count": 23,
   "id": "534d8983-3ee7-4096-be43-1ef2b811a70c",
   "metadata": {},
   "outputs": [],
   "source": [
    "df08.to_csv('data_08_v3.csv')\n",
    "df18.to_csv('data_18_v3.csv')"
   ]
  }
 ],
 "metadata": {
  "kernelspec": {
   "display_name": "Python 3 (ipykernel)",
   "language": "python",
   "name": "python3"
  },
  "language_info": {
   "codemirror_mode": {
    "name": "ipython",
    "version": 3
   },
   "file_extension": ".py",
   "mimetype": "text/x-python",
   "name": "python",
   "nbconvert_exporter": "python",
   "pygments_lexer": "ipython3",
   "version": "3.12.3"
  }
 },
 "nbformat": 4,
 "nbformat_minor": 5
}
