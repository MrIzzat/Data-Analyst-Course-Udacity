{
 "cells": [
  {
   "cell_type": "markdown",
   "id": "e77fbef1-06ea-4767-ac92-848bf945f5fc",
   "metadata": {},
   "source": [
    "# Import Libraries"
   ]
  },
  {
   "cell_type": "code",
   "execution_count": 1,
   "id": "77bcfd56-3a4b-4b81-af0f-07d03687b69b",
   "metadata": {},
   "outputs": [],
   "source": [
    "import pandas as pd"
   ]
  },
  {
   "cell_type": "markdown",
   "id": "0e10d14e-fbc4-40b1-8e58-7e2c489843f6",
   "metadata": {},
   "source": [
    "# Read Datasets"
   ]
  },
  {
   "cell_type": "code",
   "execution_count": 15,
   "id": "382fba4e-dc84-4de7-99b4-32d86cc83eae",
   "metadata": {},
   "outputs": [],
   "source": [
    "fuel08 = pd.read_csv('data_08_v3.csv')\n",
    "fuel18 = pd.read_csv('data_18_v3.csv')"
   ]
  },
  {
   "cell_type": "code",
   "execution_count": 16,
   "id": "4a2a1d58-db1f-4d67-8f46-bc647347cb69",
   "metadata": {},
   "outputs": [
    {
     "data": {
      "text/html": [
       "<div>\n",
       "<style scoped>\n",
       "    .dataframe tbody tr th:only-of-type {\n",
       "        vertical-align: middle;\n",
       "    }\n",
       "\n",
       "    .dataframe tbody tr th {\n",
       "        vertical-align: top;\n",
       "    }\n",
       "\n",
       "    .dataframe thead th {\n",
       "        text-align: right;\n",
       "    }\n",
       "</style>\n",
       "<table border=\"1\" class=\"dataframe\">\n",
       "  <thead>\n",
       "    <tr style=\"text-align: right;\">\n",
       "      <th></th>\n",
       "      <th>model</th>\n",
       "      <th>displ</th>\n",
       "      <th>cyl</th>\n",
       "      <th>trans</th>\n",
       "      <th>drive</th>\n",
       "      <th>fuel</th>\n",
       "      <th>veh_class</th>\n",
       "      <th>air_pollution_score</th>\n",
       "      <th>city_mpg</th>\n",
       "      <th>hwy_mpg</th>\n",
       "      <th>cmb_mpg</th>\n",
       "      <th>greenhouse_gas_score</th>\n",
       "      <th>smartway</th>\n",
       "    </tr>\n",
       "  </thead>\n",
       "  <tbody>\n",
       "    <tr>\n",
       "      <th>0</th>\n",
       "      <td>ACURA MDX</td>\n",
       "      <td>3.7</td>\n",
       "      <td>(6 cyl)</td>\n",
       "      <td>Auto-S5</td>\n",
       "      <td>4WD</td>\n",
       "      <td>Gasoline</td>\n",
       "      <td>SUV</td>\n",
       "      <td>7</td>\n",
       "      <td>15</td>\n",
       "      <td>20</td>\n",
       "      <td>17</td>\n",
       "      <td>4</td>\n",
       "      <td>no</td>\n",
       "    </tr>\n",
       "  </tbody>\n",
       "</table>\n",
       "</div>"
      ],
      "text/plain": [
       "       model  displ      cyl    trans drive      fuel veh_class  \\\n",
       "0  ACURA MDX    3.7  (6 cyl)  Auto-S5   4WD  Gasoline       SUV   \n",
       "\n",
       "  air_pollution_score city_mpg hwy_mpg cmb_mpg greenhouse_gas_score smartway  \n",
       "0                   7       15      20      17                    4       no  "
      ]
     },
     "execution_count": 16,
     "metadata": {},
     "output_type": "execute_result"
    }
   ],
   "source": [
    "fuel08.head(1)"
   ]
  },
  {
   "cell_type": "code",
   "execution_count": 17,
   "id": "640102b3-838b-4de5-a831-aada45b78e91",
   "metadata": {},
   "outputs": [
    {
     "data": {
      "text/html": [
       "<div>\n",
       "<style scoped>\n",
       "    .dataframe tbody tr th:only-of-type {\n",
       "        vertical-align: middle;\n",
       "    }\n",
       "\n",
       "    .dataframe tbody tr th {\n",
       "        vertical-align: top;\n",
       "    }\n",
       "\n",
       "    .dataframe thead th {\n",
       "        text-align: right;\n",
       "    }\n",
       "</style>\n",
       "<table border=\"1\" class=\"dataframe\">\n",
       "  <thead>\n",
       "    <tr style=\"text-align: right;\">\n",
       "      <th></th>\n",
       "      <th>model</th>\n",
       "      <th>displ</th>\n",
       "      <th>cyl</th>\n",
       "      <th>trans</th>\n",
       "      <th>drive</th>\n",
       "      <th>fuel</th>\n",
       "      <th>veh_class</th>\n",
       "      <th>air_pollution_score</th>\n",
       "      <th>city_mpg</th>\n",
       "      <th>hwy_mpg</th>\n",
       "      <th>cmb_mpg</th>\n",
       "      <th>greenhouse_gas_score</th>\n",
       "      <th>smartway</th>\n",
       "    </tr>\n",
       "  </thead>\n",
       "  <tbody>\n",
       "    <tr>\n",
       "      <th>0</th>\n",
       "      <td>ACURA RDX</td>\n",
       "      <td>3.5</td>\n",
       "      <td>6.0</td>\n",
       "      <td>SemiAuto-6</td>\n",
       "      <td>2WD</td>\n",
       "      <td>Gasoline</td>\n",
       "      <td>small SUV</td>\n",
       "      <td>3</td>\n",
       "      <td>20</td>\n",
       "      <td>28</td>\n",
       "      <td>23</td>\n",
       "      <td>5</td>\n",
       "      <td>No</td>\n",
       "    </tr>\n",
       "  </tbody>\n",
       "</table>\n",
       "</div>"
      ],
      "text/plain": [
       "       model  displ  cyl       trans drive      fuel  veh_class  \\\n",
       "0  ACURA RDX    3.5  6.0  SemiAuto-6   2WD  Gasoline  small SUV   \n",
       "\n",
       "   air_pollution_score city_mpg hwy_mpg cmb_mpg  greenhouse_gas_score smartway  \n",
       "0                    3       20      28      23                     5       No  "
      ]
     },
     "execution_count": 17,
     "metadata": {},
     "output_type": "execute_result"
    }
   ],
   "source": [
    "fuel18.head(1)"
   ]
  },
  {
   "cell_type": "markdown",
   "id": "63d04aa0-978b-4618-88d7-4beec167b2f3",
   "metadata": {},
   "source": [
    "# Find the datatypes"
   ]
  },
  {
   "cell_type": "code",
   "execution_count": 18,
   "id": "839bb2d0-bc84-428b-81e4-47f04b19444e",
   "metadata": {},
   "outputs": [
    {
     "data": {
      "text/plain": [
       "model                    object\n",
       "displ                   float64\n",
       "cyl                      object\n",
       "trans                    object\n",
       "drive                    object\n",
       "fuel                     object\n",
       "veh_class                object\n",
       "air_pollution_score      object\n",
       "city_mpg                 object\n",
       "hwy_mpg                  object\n",
       "cmb_mpg                  object\n",
       "greenhouse_gas_score     object\n",
       "smartway                 object\n",
       "dtype: object"
      ]
     },
     "execution_count": 18,
     "metadata": {},
     "output_type": "execute_result"
    }
   ],
   "source": [
    "fuel08.dtypes"
   ]
  },
  {
   "cell_type": "code",
   "execution_count": 19,
   "id": "cffc9904-b7a8-4e3d-8447-b6d910fe6d8f",
   "metadata": {},
   "outputs": [
    {
     "data": {
      "text/plain": [
       "model                    object\n",
       "displ                   float64\n",
       "cyl                     float64\n",
       "trans                    object\n",
       "drive                    object\n",
       "fuel                     object\n",
       "veh_class                object\n",
       "air_pollution_score       int64\n",
       "city_mpg                 object\n",
       "hwy_mpg                  object\n",
       "cmb_mpg                  object\n",
       "greenhouse_gas_score      int64\n",
       "smartway                 object\n",
       "dtype: object"
      ]
     },
     "execution_count": 19,
     "metadata": {},
     "output_type": "execute_result"
    }
   ],
   "source": [
    "fuel18.dtypes"
   ]
  },
  {
   "cell_type": "markdown",
   "id": "a82383e2-a574-41b9-a953-8cb8ed41d4f5",
   "metadata": {},
   "source": [
    "# Finding the unique values in both data sets"
   ]
  },
  {
   "cell_type": "markdown",
   "id": "49062089-0c09-4603-b841-c15b80e09de6",
   "metadata": {},
   "source": [
    "## What is the difference between the two datasets for the `cyl` column?"
   ]
  },
  {
   "cell_type": "code",
   "execution_count": 20,
   "id": "d4bd488f-ae10-4ea3-8872-c4b8b4f05ebe",
   "metadata": {},
   "outputs": [
    {
     "data": {
      "text/plain": [
       "'(6 cyl)(4 cyl)(12 cyl)(8 cyl)(10 cyl)(16 cyl)(5 cyl)(2 cyl)'"
      ]
     },
     "execution_count": 20,
     "metadata": {},
     "output_type": "execute_result"
    }
   ],
   "source": [
    "fuel08['cyl'].unique().sum()"
   ]
  },
  {
   "cell_type": "code",
   "execution_count": 22,
   "id": "56638a7c-1657-4167-b2ef-6b4e02a7bdd4",
   "metadata": {},
   "outputs": [
    {
     "data": {
      "text/plain": [
       "array([ 6.,  4.,  5., 12., 16.,  8.,  3.])"
      ]
     },
     "execution_count": 22,
     "metadata": {},
     "output_type": "execute_result"
    }
   ],
   "source": [
    "fuel18['cyl'].unique()"
   ]
  },
  {
   "cell_type": "markdown",
   "id": "794579b3-e0b4-4d94-9402-184a5396c19d",
   "metadata": {},
   "source": [
    "## What is the difference between the two datasets for the `air_pollution_score` column? "
   ]
  },
  {
   "cell_type": "code",
   "execution_count": 25,
   "id": "885ddf74-367a-431d-bf35-7dcd8d0c97af",
   "metadata": {},
   "outputs": [
    {
     "data": {
      "text/plain": [
       "array(['7', '6', '9.5', '9', '6/4'], dtype=object)"
      ]
     },
     "execution_count": 25,
     "metadata": {},
     "output_type": "execute_result"
    }
   ],
   "source": [
    "fuel08['air_pollution_score'].unique()"
   ]
  },
  {
   "cell_type": "code",
   "execution_count": 26,
   "id": "2fa44064-31cb-46f6-8576-c1b78866b745",
   "metadata": {},
   "outputs": [
    {
     "data": {
      "text/plain": [
       "array([3, 1, 7, 5, 6], dtype=int64)"
      ]
     },
     "execution_count": 26,
     "metadata": {},
     "output_type": "execute_result"
    }
   ],
   "source": [
    "fuel08['air_pollution_score'].unique()"
   ]
  },
  {
   "cell_type": "markdown",
   "id": "f71bd52c-8f7f-4ade-82a6-3d45ee3c3e4a",
   "metadata": {},
   "source": [
    "## What are the unique values for the `*_mpg` columns?"
   ]
  },
  {
   "cell_type": "markdown",
   "id": "27ebe736-6357-4ce8-8e6a-f11167c01164",
   "metadata": {},
   "source": [
    "Refering to any column that ends with `_mpg`"
   ]
  },
  {
   "cell_type": "code",
   "execution_count": 39,
   "id": "e23fa1f0-d497-43e9-9323-a9052a7f0866",
   "metadata": {},
   "outputs": [
    {
     "data": {
      "text/plain": [
       "array(['15', '17', '16', '18', '19', '20', '10', '11', '12', '13', '21',\n",
       "       '22', '14', '23', '9', '8', '24', '34', '29', '25', '26', '40',\n",
       "       '27', '28', '13/18', '35', '33', '48'], dtype=object)"
      ]
     },
     "execution_count": 39,
     "metadata": {},
     "output_type": "execute_result"
    }
   ],
   "source": [
    "fuel08['city_mpg'].unique()"
   ]
  },
  {
   "cell_type": "code",
   "execution_count": 40,
   "id": "3bf185b4-14f7-41ce-accb-2c0c6162052b",
   "metadata": {},
   "outputs": [
    {
     "data": {
      "text/plain": [
       "array(['20', '22', '24', '26', '27', '28', '16', '18', '17', '19', '29',\n",
       "       '25', '30', '23', '21', '31', '15', '14', '33', '32', '35', '36',\n",
       "       '34', '45', '13', '19/25', '37'], dtype=object)"
      ]
     },
     "execution_count": 40,
     "metadata": {},
     "output_type": "execute_result"
    }
   ],
   "source": [
    "fuel08['hwy_mpg'].unique()\n"
   ]
  },
  {
   "cell_type": "code",
   "execution_count": 41,
   "id": "1eca2e23-6bfd-4b01-a8ee-afa3214ac66e",
   "metadata": {},
   "outputs": [
    {
     "data": {
      "text/plain": [
       "array(['17', '19', '21', '20', '22', '23', '12', '13', '15', '24', '25',\n",
       "       '18', '16', '14', '26', '11', '10', '27', '32', '28', '29', '42',\n",
       "       '30', '31', '15/21', '34', '46'], dtype=object)"
      ]
     },
     "execution_count": 41,
     "metadata": {},
     "output_type": "execute_result"
    }
   ],
   "source": [
    "fuel08['cmb_mpg'].unique()\n"
   ]
  },
  {
   "cell_type": "code",
   "execution_count": 42,
   "id": "5f02fe30-9a04-4c55-a44a-fbf27566afb2",
   "metadata": {},
   "outputs": [
    {
     "data": {
      "text/plain": [
       "array(['20', '19', '23', '21', '24', '17', '26', '22', '25', '27', '12',\n",
       "       '9', '28/66', '27/70', '27/66', '16', '25/62', '18', '14', '15',\n",
       "       '13', '29', '31', '30', '28', '14/18', '49', '12/18', '12/17',\n",
       "       '12/16', '11/16', '43/113', '14/19', '13/18', '43/102', '43', '33',\n",
       "       '32', '15/21', '14/21', '20/59', '10', '17/24', '17/23', '28/63',\n",
       "       '37', '35', '40', '51', '44', '48', '34', '9/13', '26/70', '26/60',\n",
       "       '26/63'], dtype=object)"
      ]
     },
     "execution_count": 42,
     "metadata": {},
     "output_type": "execute_result"
    }
   ],
   "source": [
    "fuel18['city_mpg'].unique()"
   ]
  },
  {
   "cell_type": "code",
   "execution_count": 43,
   "id": "32034dbb-4e68-4dc4-9162-7126caf9fba0",
   "metadata": {},
   "outputs": [
    {
     "data": {
      "text/plain": [
       "array(['28', '27', '33', '32', '30', '29', '34', '24', '31', '35', '37',\n",
       "       '25', '19', '14', '34/78', '31/75', '31/68', '29/68', '26', '22',\n",
       "       '20', '23', '21', '15', '18', '40', '47', '52', '38', '45', '48',\n",
       "       '39', '20/28', '36', '43', '16/24', '15/22', '17/23', '16/22',\n",
       "       '42/99', '22/30', '20/27', '16', '17', '41/91', '41', '42',\n",
       "       '21/28', '21/61', '24/32', '23/31', '17/22', '27/66', '53',\n",
       "       '13/17', '12/17', '33/72', '28/58', '30/61'], dtype=object)"
      ]
     },
     "execution_count": 43,
     "metadata": {},
     "output_type": "execute_result"
    }
   ],
   "source": [
    "fuel18['hwy_mpg'].unique()"
   ]
  },
  {
   "cell_type": "code",
   "execution_count": 44,
   "id": "d80db75b-9b1b-46bf-b8e7-dda1058b573a",
   "metadata": {},
   "outputs": [
    {
     "data": {
      "text/plain": [
       "array(['23', '22', '27', '24', '28', '20', '29', '25', '31', '26', '21',\n",
       "       '15', '11', '30/71', '29/72', '28/67', '19', '27/64', '16', '17',\n",
       "       '30', '18', '32', '33', '37', '35', '16/22', '46', '14/20',\n",
       "       '13/19', '14/19', '12/18', '13/18', '42/106', '17/23', '16/21',\n",
       "       '13', '42/97', '42', '34', '36', '18/25', '20/60', '12', '20/27',\n",
       "       '19/26', '27/65', '39', '14', '40', '52', '10/14', '10/15',\n",
       "       '29/71', '26/59', '27/62'], dtype=object)"
      ]
     },
     "execution_count": 44,
     "metadata": {},
     "output_type": "execute_result"
    }
   ],
   "source": [
    "fuel18['cmb_mpg'].unique()"
   ]
  },
  {
   "cell_type": "markdown",
   "id": "a5feb25f-44e6-4079-ab62-b5db54f0b4c8",
   "metadata": {},
   "source": [
    "## What is the difference between the two datasets for the `greenhouse_gas_score` column?"
   ]
  },
  {
   "cell_type": "code",
   "execution_count": 45,
   "id": "48ba42a4-4e7b-4769-83ad-be120e3017b5",
   "metadata": {},
   "outputs": [
    {
     "data": {
      "text/plain": [
       "array(['4', '5', '6', '7', '0', '1', '3', '2', '8', '9', '10', '7/6'],\n",
       "      dtype=object)"
      ]
     },
     "execution_count": 45,
     "metadata": {},
     "output_type": "execute_result"
    }
   ],
   "source": [
    "fuel08['greenhouse_gas_score'].unique()"
   ]
  },
  {
   "cell_type": "code",
   "execution_count": 46,
   "id": "ac896a7d-bb82-44ff-9415-610a25a508bf",
   "metadata": {},
   "outputs": [
    {
     "data": {
      "text/plain": [
       "array([ 5,  4,  6,  7,  2,  1, 10,  3,  9,  8], dtype=int64)"
      ]
     },
     "execution_count": 46,
     "metadata": {},
     "output_type": "execute_result"
    }
   ],
   "source": [
    "fuel18['greenhouse_gas_score'].unique()"
   ]
  }
 ],
 "metadata": {
  "kernelspec": {
   "display_name": "Python 3 (ipykernel)",
   "language": "python",
   "name": "python3"
  },
  "language_info": {
   "codemirror_mode": {
    "name": "ipython",
    "version": 3
   },
   "file_extension": ".py",
   "mimetype": "text/x-python",
   "name": "python",
   "nbconvert_exporter": "python",
   "pygments_lexer": "ipython3",
   "version": "3.12.3"
  }
 },
 "nbformat": 4,
 "nbformat_minor": 5
}
