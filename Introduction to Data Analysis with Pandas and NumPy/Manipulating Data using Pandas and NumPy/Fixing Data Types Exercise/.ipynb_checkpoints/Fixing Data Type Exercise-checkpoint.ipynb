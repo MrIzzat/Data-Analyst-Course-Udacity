{
 "cells": [
  {
   "cell_type": "markdown",
   "id": "73cea3df-ebbc-403f-9484-ac8a356cd55d",
   "metadata": {
    "jp-MarkdownHeadingCollapsed": true
   },
   "source": [
    "# It's a continuation from Pandas Data Types"
   ]
  },
  {
   "cell_type": "markdown",
   "id": "baf65782-0fb0-444c-826f-271abdac28e3",
   "metadata": {},
   "source": [
    "# Import Libraries"
   ]
  },
  {
   "cell_type": "code",
   "execution_count": 1,
   "id": "595ab10a-b470-4591-a01a-f114b4e0d19e",
   "metadata": {},
   "outputs": [],
   "source": [
    "import pandas as pd"
   ]
  },
  {
   "cell_type": "markdown",
   "id": "08fccbfd-b1a6-4c31-a8e5-5c8b9ed9a893",
   "metadata": {},
   "source": [
    "# Read Datasets"
   ]
  },
  {
   "cell_type": "code",
   "execution_count": 2,
   "id": "d3b9a19d-98ae-4d29-a11a-c638ca665ef7",
   "metadata": {},
   "outputs": [],
   "source": [
    "fuel08 = pd.read_csv('data_08_v3.csv')\n",
    "fuel18 = pd.read_csv('data_18_v3.csv')"
   ]
  },
  {
   "cell_type": "markdown",
   "id": "c4820e41-594e-48eb-96b3-cd35b0f403ec",
   "metadata": {
    "jp-MarkdownHeadingCollapsed": true
   },
   "source": [
    "# Fix 1: fixing the `cyl` data type"
   ]
  },
  {
   "cell_type": "markdown",
   "id": "3c920b29-622d-4181-a767-001fa840fc42",
   "metadata": {},
   "source": [
    "* For the 2008 dataset: extract int from the string\n",
    "* For the 2018 dataset: convert float to int"
   ]
  },
  {
   "cell_type": "code",
   "execution_count": 3,
   "id": "f2135162-9930-4ec9-b700-3deec1b2cbbe",
   "metadata": {},
   "outputs": [],
   "source": [
    "fuel08['cyl'] = fuel08['cyl'].astype(str).str.extract(r'(\\d+)').astype(int)"
   ]
  },
  {
   "cell_type": "markdown",
   "id": "abc91691-8696-4f9c-b214-444c82030e2a",
   "metadata": {},
   "source": [
    "## Confirm it extracted the intergers correctly"
   ]
  },
  {
   "cell_type": "code",
   "execution_count": 4,
   "id": "ddcaca12-2d20-4d31-8c8b-1cc90c7b1294",
   "metadata": {},
   "outputs": [
    {
     "data": {
      "text/plain": [
       "cyl\n",
       "6     409\n",
       "4     283\n",
       "8     199\n",
       "5      48\n",
       "12     30\n",
       "10     14\n",
       "2       2\n",
       "16      1\n",
       "Name: count, dtype: int64"
      ]
     },
     "execution_count": 4,
     "metadata": {},
     "output_type": "execute_result"
    }
   ],
   "source": [
    "fuel08['cyl'].value_counts()"
   ]
  },
  {
   "cell_type": "code",
   "execution_count": 5,
   "id": "ce1a00ca-39ab-46a1-8655-0613fac19793",
   "metadata": {},
   "outputs": [
    {
     "data": {
      "text/plain": [
       "dtype('int32')"
      ]
     },
     "execution_count": 5,
     "metadata": {},
     "output_type": "execute_result"
    }
   ],
   "source": [
    "fuel08['cyl'].dtype"
   ]
  },
  {
   "cell_type": "code",
   "execution_count": 6,
   "id": "41c1c3eb-7273-4fc8-abe6-522e9cb1205a",
   "metadata": {},
   "outputs": [],
   "source": [
    "fuel18['cyl']= fuel18['cyl'].astype(int)"
   ]
  },
  {
   "cell_type": "code",
   "execution_count": 7,
   "id": "f0dd90f9-410a-43c0-b5cc-5d1b48989ecd",
   "metadata": {},
   "outputs": [
    {
     "data": {
      "text/plain": [
       "cyl\n",
       "4     365\n",
       "6     246\n",
       "8     153\n",
       "3      18\n",
       "12      9\n",
       "5       2\n",
       "16      1\n",
       "Name: count, dtype: int64"
      ]
     },
     "execution_count": 7,
     "metadata": {},
     "output_type": "execute_result"
    }
   ],
   "source": [
    "fuel18['cyl'].value_counts()"
   ]
  },
  {
   "cell_type": "markdown",
   "id": "34045bfc-4d5f-4dcd-ad65-cb25d9fefd0a",
   "metadata": {},
   "source": [
    "# Fix 2: fixing `air_pollution_score` data types"
   ]
  },
  {
   "cell_type": "markdown",
   "id": "9920fb79-9ac1-4567-aa11-de77658eb9bc",
   "metadata": {},
   "source": [
    "* 2008: convert string to float\n",
    "* 2018: convert int to float"
   ]
  },
  {
   "cell_type": "code",
   "execution_count": 8,
   "id": "4ccfefce-c6f2-4703-8f19-ca4d92573a7d",
   "metadata": {},
   "outputs": [
    {
     "data": {
      "text/plain": [
       "array(['7', '6', '9.5', '9', '6/4'], dtype=object)"
      ]
     },
     "execution_count": 8,
     "metadata": {},
     "output_type": "execute_result"
    }
   ],
   "source": [
    "fuel08['air_pollution_score'].unique()"
   ]
  },
  {
   "cell_type": "markdown",
   "id": "10219458-0760-470e-ae74-5dfbb7b2d1ad",
   "metadata": {},
   "source": [
    "Since some of the pollution is written in the form of a/b, and according to the pdf documentation in [this link](http://www.fueleconomy.gov/feg/findacarhelp.shtml#airPollutionScore):\n",
    "\n",
    "    \"If a vehicle can operate on more than one type of fuel, an estimate is provided for each fuel type.\"\n",
    "\n",
    "It means that some of the values represent two pollution value for the hybrid cars."
   ]
  },
  {
   "cell_type": "markdown",
   "id": "00b1255f-4013-4cba-b0cf-ba4941f7804c",
   "metadata": {},
   "source": [
    "## Getting all the hybrids in 2008 dataset"
   ]
  },
  {
   "cell_type": "code",
   "execution_count": 9,
   "id": "63226b74-ea24-41d2-bd40-f21440b4a259",
   "metadata": {},
   "outputs": [
    {
     "data": {
      "text/html": [
       "<div>\n",
       "<style scoped>\n",
       "    .dataframe tbody tr th:only-of-type {\n",
       "        vertical-align: middle;\n",
       "    }\n",
       "\n",
       "    .dataframe tbody tr th {\n",
       "        vertical-align: top;\n",
       "    }\n",
       "\n",
       "    .dataframe thead th {\n",
       "        text-align: right;\n",
       "    }\n",
       "</style>\n",
       "<table border=\"1\" class=\"dataframe\">\n",
       "  <thead>\n",
       "    <tr style=\"text-align: right;\">\n",
       "      <th></th>\n",
       "      <th>model</th>\n",
       "      <th>displ</th>\n",
       "      <th>cyl</th>\n",
       "      <th>trans</th>\n",
       "      <th>drive</th>\n",
       "      <th>fuel</th>\n",
       "      <th>veh_class</th>\n",
       "      <th>air_pollution_score</th>\n",
       "      <th>city_mpg</th>\n",
       "      <th>hwy_mpg</th>\n",
       "      <th>cmb_mpg</th>\n",
       "      <th>greenhouse_gas_score</th>\n",
       "      <th>smartway</th>\n",
       "    </tr>\n",
       "  </thead>\n",
       "  <tbody>\n",
       "    <tr>\n",
       "      <th>582</th>\n",
       "      <td>MERCEDES-BENZ C300</td>\n",
       "      <td>3.0</td>\n",
       "      <td>6</td>\n",
       "      <td>Auto-L7</td>\n",
       "      <td>2WD</td>\n",
       "      <td>ethanol/gas</td>\n",
       "      <td>small car</td>\n",
       "      <td>6/4</td>\n",
       "      <td>13/18</td>\n",
       "      <td>19/25</td>\n",
       "      <td>15/21</td>\n",
       "      <td>7/6</td>\n",
       "      <td>no</td>\n",
       "    </tr>\n",
       "  </tbody>\n",
       "</table>\n",
       "</div>"
      ],
      "text/plain": [
       "                  model  displ  cyl    trans drive         fuel  veh_class  \\\n",
       "582  MERCEDES-BENZ C300    3.0    6  Auto-L7   2WD  ethanol/gas  small car   \n",
       "\n",
       "    air_pollution_score city_mpg hwy_mpg cmb_mpg greenhouse_gas_score smartway  \n",
       "582                 6/4    13/18   19/25   15/21                  7/6       no  "
      ]
     },
     "execution_count": 9,
     "metadata": {},
     "output_type": "execute_result"
    }
   ],
   "source": [
    "hb08 = fuel08.query('fuel.str.contains(\"/\")',engine='python')\n",
    "hb08 #only has one"
   ]
  },
  {
   "cell_type": "markdown",
   "id": "b587fc1e-302f-4718-9bfc-a8d47b37d322",
   "metadata": {},
   "source": [
    "## Getting all the hybrids in the 2018 dataset"
   ]
  },
  {
   "cell_type": "code",
   "execution_count": 10,
   "id": "e4a53d74-9d5e-4a7b-a851-c6febc6b7f81",
   "metadata": {},
   "outputs": [
    {
     "data": {
      "text/html": [
       "<div>\n",
       "<style scoped>\n",
       "    .dataframe tbody tr th:only-of-type {\n",
       "        vertical-align: middle;\n",
       "    }\n",
       "\n",
       "    .dataframe tbody tr th {\n",
       "        vertical-align: top;\n",
       "    }\n",
       "\n",
       "    .dataframe thead th {\n",
       "        text-align: right;\n",
       "    }\n",
       "</style>\n",
       "<table border=\"1\" class=\"dataframe\">\n",
       "  <thead>\n",
       "    <tr style=\"text-align: right;\">\n",
       "      <th></th>\n",
       "      <th>model</th>\n",
       "      <th>displ</th>\n",
       "      <th>cyl</th>\n",
       "      <th>trans</th>\n",
       "      <th>drive</th>\n",
       "      <th>fuel</th>\n",
       "      <th>veh_class</th>\n",
       "      <th>air_pollution_score</th>\n",
       "      <th>city_mpg</th>\n",
       "      <th>hwy_mpg</th>\n",
       "      <th>cmb_mpg</th>\n",
       "      <th>greenhouse_gas_score</th>\n",
       "      <th>smartway</th>\n",
       "    </tr>\n",
       "  </thead>\n",
       "  <tbody>\n",
       "    <tr>\n",
       "      <th>52</th>\n",
       "      <td>BMW 330e</td>\n",
       "      <td>2.0</td>\n",
       "      <td>4</td>\n",
       "      <td>SemiAuto-8</td>\n",
       "      <td>2WD</td>\n",
       "      <td>Gasoline/Electricity</td>\n",
       "      <td>small car</td>\n",
       "      <td>3</td>\n",
       "      <td>28/66</td>\n",
       "      <td>34/78</td>\n",
       "      <td>30/71</td>\n",
       "      <td>10</td>\n",
       "      <td>Yes</td>\n",
       "    </tr>\n",
       "    <tr>\n",
       "      <th>78</th>\n",
       "      <td>BMW 530e</td>\n",
       "      <td>2.0</td>\n",
       "      <td>4</td>\n",
       "      <td>SemiAuto-8</td>\n",
       "      <td>2WD</td>\n",
       "      <td>Gasoline/Electricity</td>\n",
       "      <td>small car</td>\n",
       "      <td>7</td>\n",
       "      <td>27/70</td>\n",
       "      <td>31/75</td>\n",
       "      <td>29/72</td>\n",
       "      <td>10</td>\n",
       "      <td>Elite</td>\n",
       "    </tr>\n",
       "  </tbody>\n",
       "</table>\n",
       "</div>"
      ],
      "text/plain": [
       "       model  displ  cyl       trans drive                  fuel  veh_class  \\\n",
       "52  BMW 330e    2.0    4  SemiAuto-8   2WD  Gasoline/Electricity  small car   \n",
       "78  BMW 530e    2.0    4  SemiAuto-8   2WD  Gasoline/Electricity  small car   \n",
       "\n",
       "    air_pollution_score city_mpg hwy_mpg cmb_mpg  greenhouse_gas_score  \\\n",
       "52                    3    28/66   34/78   30/71                    10   \n",
       "78                    7    27/70   31/75   29/72                    10   \n",
       "\n",
       "   smartway  \n",
       "52      Yes  \n",
       "78    Elite  "
      ]
     },
     "execution_count": 10,
     "metadata": {},
     "output_type": "execute_result"
    }
   ],
   "source": [
    "hb18 = fuel18.query('fuel.str.contains(\"/\")',engine='python')\n",
    "hb18.head(2)"
   ]
  },
  {
   "cell_type": "markdown",
   "id": "b09884e1-000e-4dcf-a406-26a1afce9549",
   "metadata": {},
   "source": [
    "## Splitting the hybrid row into two new rows"
   ]
  },
  {
   "cell_type": "markdown",
   "id": "5d8587a0-0ac0-4756-afae-aa5291678edc",
   "metadata": {},
   "source": [
    "One row will contain the values for the first fuel type and the second row will contain values for the second fuel type (before and after the \"/\"). "
   ]
  },
  {
   "cell_type": "markdown",
   "id": "8f0c5ba2-da12-4bd2-931f-1168140c023d",
   "metadata": {},
   "source": [
    "### Creating two copies of the 2008 hybrid data frame"
   ]
  },
  {
   "cell_type": "code",
   "execution_count": 11,
   "id": "31ab111a-498c-433a-ac62-3a5b22dfe710",
   "metadata": {},
   "outputs": [
    {
     "data": {
      "text/html": [
       "<div>\n",
       "<style scoped>\n",
       "    .dataframe tbody tr th:only-of-type {\n",
       "        vertical-align: middle;\n",
       "    }\n",
       "\n",
       "    .dataframe tbody tr th {\n",
       "        vertical-align: top;\n",
       "    }\n",
       "\n",
       "    .dataframe thead th {\n",
       "        text-align: right;\n",
       "    }\n",
       "</style>\n",
       "<table border=\"1\" class=\"dataframe\">\n",
       "  <thead>\n",
       "    <tr style=\"text-align: right;\">\n",
       "      <th></th>\n",
       "      <th>model</th>\n",
       "      <th>displ</th>\n",
       "      <th>cyl</th>\n",
       "      <th>trans</th>\n",
       "      <th>drive</th>\n",
       "      <th>fuel</th>\n",
       "      <th>veh_class</th>\n",
       "      <th>air_pollution_score</th>\n",
       "      <th>city_mpg</th>\n",
       "      <th>hwy_mpg</th>\n",
       "      <th>cmb_mpg</th>\n",
       "      <th>greenhouse_gas_score</th>\n",
       "      <th>smartway</th>\n",
       "    </tr>\n",
       "  </thead>\n",
       "  <tbody>\n",
       "    <tr>\n",
       "      <th>582</th>\n",
       "      <td>MERCEDES-BENZ C300</td>\n",
       "      <td>3.0</td>\n",
       "      <td>6</td>\n",
       "      <td>Auto-L7</td>\n",
       "      <td>2WD</td>\n",
       "      <td>ethanol/gas</td>\n",
       "      <td>small car</td>\n",
       "      <td>6/4</td>\n",
       "      <td>13/18</td>\n",
       "      <td>19/25</td>\n",
       "      <td>15/21</td>\n",
       "      <td>7/6</td>\n",
       "      <td>no</td>\n",
       "    </tr>\n",
       "  </tbody>\n",
       "</table>\n",
       "</div>"
      ],
      "text/plain": [
       "                  model  displ  cyl    trans drive         fuel  veh_class  \\\n",
       "582  MERCEDES-BENZ C300    3.0    6  Auto-L7   2WD  ethanol/gas  small car   \n",
       "\n",
       "    air_pollution_score city_mpg hwy_mpg cmb_mpg greenhouse_gas_score smartway  \n",
       "582                 6/4    13/18   19/25   15/21                  7/6       no  "
      ]
     },
     "execution_count": 11,
     "metadata": {},
     "output_type": "execute_result"
    }
   ],
   "source": [
    "df1 = hb08.copy()\n",
    "df2 = hb08.copy()\n",
    "\n",
    "df1"
   ]
  },
  {
   "cell_type": "markdown",
   "id": "75b7f826-583b-4f68-8d29-126a838eeb1f",
   "metadata": {},
   "source": [
    "Using pandas apply function, which basically applies a function to all values of a row. The following code will basically split the coloumns in the hybrid rows that contain a \"/\" in it and place the values before the \"/\" in one row and the value after the \"/\" in another row."
   ]
  },
  {
   "cell_type": "code",
   "execution_count": 12,
   "id": "cccb5f1d-7b33-4bdc-9a08-a1a9e3c9bf2f",
   "metadata": {},
   "outputs": [],
   "source": [
    "split_columns = ['fuel', 'air_pollution_score', 'city_mpg', 'hwy_mpg', 'cmb_mpg', 'greenhouse_gas_score']\n",
    "\n",
    "\n",
    "for col in split_columns:\n",
    "    df1[col] = df1[col].apply(lambda x: x.split(\"/\")[0])\n",
    "    df2[col] = df2[col].apply(lambda x: x.split(\"/\")[1])"
   ]
  },
  {
   "cell_type": "markdown",
   "id": "fa4dab8c-ae46-4315-9ce4-56704b43180b",
   "metadata": {},
   "source": [
    "This will contain the ehanol part of the car"
   ]
  },
  {
   "cell_type": "code",
   "execution_count": 13,
   "id": "8a45ccde-2351-4c3c-b58f-768abb1b616e",
   "metadata": {},
   "outputs": [
    {
     "data": {
      "text/html": [
       "<div>\n",
       "<style scoped>\n",
       "    .dataframe tbody tr th:only-of-type {\n",
       "        vertical-align: middle;\n",
       "    }\n",
       "\n",
       "    .dataframe tbody tr th {\n",
       "        vertical-align: top;\n",
       "    }\n",
       "\n",
       "    .dataframe thead th {\n",
       "        text-align: right;\n",
       "    }\n",
       "</style>\n",
       "<table border=\"1\" class=\"dataframe\">\n",
       "  <thead>\n",
       "    <tr style=\"text-align: right;\">\n",
       "      <th></th>\n",
       "      <th>model</th>\n",
       "      <th>displ</th>\n",
       "      <th>cyl</th>\n",
       "      <th>trans</th>\n",
       "      <th>drive</th>\n",
       "      <th>fuel</th>\n",
       "      <th>veh_class</th>\n",
       "      <th>air_pollution_score</th>\n",
       "      <th>city_mpg</th>\n",
       "      <th>hwy_mpg</th>\n",
       "      <th>cmb_mpg</th>\n",
       "      <th>greenhouse_gas_score</th>\n",
       "      <th>smartway</th>\n",
       "    </tr>\n",
       "  </thead>\n",
       "  <tbody>\n",
       "    <tr>\n",
       "      <th>582</th>\n",
       "      <td>MERCEDES-BENZ C300</td>\n",
       "      <td>3.0</td>\n",
       "      <td>6</td>\n",
       "      <td>Auto-L7</td>\n",
       "      <td>2WD</td>\n",
       "      <td>ethanol</td>\n",
       "      <td>small car</td>\n",
       "      <td>6</td>\n",
       "      <td>13</td>\n",
       "      <td>19</td>\n",
       "      <td>15</td>\n",
       "      <td>7</td>\n",
       "      <td>no</td>\n",
       "    </tr>\n",
       "  </tbody>\n",
       "</table>\n",
       "</div>"
      ],
      "text/plain": [
       "                  model  displ  cyl    trans drive     fuel  veh_class  \\\n",
       "582  MERCEDES-BENZ C300    3.0    6  Auto-L7   2WD  ethanol  small car   \n",
       "\n",
       "    air_pollution_score city_mpg hwy_mpg cmb_mpg greenhouse_gas_score smartway  \n",
       "582                   6       13      19      15                    7       no  "
      ]
     },
     "execution_count": 13,
     "metadata": {},
     "output_type": "execute_result"
    }
   ],
   "source": [
    "df1"
   ]
  },
  {
   "cell_type": "markdown",
   "id": "96457836-d7da-4a07-83f1-b6e16c519cc0",
   "metadata": {},
   "source": [
    "This will contain the gas part of the car"
   ]
  },
  {
   "cell_type": "code",
   "execution_count": 14,
   "id": "1fb04f5e-3d0d-47a0-a47d-09c035e6df95",
   "metadata": {},
   "outputs": [
    {
     "data": {
      "text/html": [
       "<div>\n",
       "<style scoped>\n",
       "    .dataframe tbody tr th:only-of-type {\n",
       "        vertical-align: middle;\n",
       "    }\n",
       "\n",
       "    .dataframe tbody tr th {\n",
       "        vertical-align: top;\n",
       "    }\n",
       "\n",
       "    .dataframe thead th {\n",
       "        text-align: right;\n",
       "    }\n",
       "</style>\n",
       "<table border=\"1\" class=\"dataframe\">\n",
       "  <thead>\n",
       "    <tr style=\"text-align: right;\">\n",
       "      <th></th>\n",
       "      <th>model</th>\n",
       "      <th>displ</th>\n",
       "      <th>cyl</th>\n",
       "      <th>trans</th>\n",
       "      <th>drive</th>\n",
       "      <th>fuel</th>\n",
       "      <th>veh_class</th>\n",
       "      <th>air_pollution_score</th>\n",
       "      <th>city_mpg</th>\n",
       "      <th>hwy_mpg</th>\n",
       "      <th>cmb_mpg</th>\n",
       "      <th>greenhouse_gas_score</th>\n",
       "      <th>smartway</th>\n",
       "    </tr>\n",
       "  </thead>\n",
       "  <tbody>\n",
       "    <tr>\n",
       "      <th>582</th>\n",
       "      <td>MERCEDES-BENZ C300</td>\n",
       "      <td>3.0</td>\n",
       "      <td>6</td>\n",
       "      <td>Auto-L7</td>\n",
       "      <td>2WD</td>\n",
       "      <td>gas</td>\n",
       "      <td>small car</td>\n",
       "      <td>4</td>\n",
       "      <td>18</td>\n",
       "      <td>25</td>\n",
       "      <td>21</td>\n",
       "      <td>6</td>\n",
       "      <td>no</td>\n",
       "    </tr>\n",
       "  </tbody>\n",
       "</table>\n",
       "</div>"
      ],
      "text/plain": [
       "                  model  displ  cyl    trans drive fuel  veh_class  \\\n",
       "582  MERCEDES-BENZ C300    3.0    6  Auto-L7   2WD  gas  small car   \n",
       "\n",
       "    air_pollution_score city_mpg hwy_mpg cmb_mpg greenhouse_gas_score smartway  \n",
       "582                   4       18      25      21                    6       no  "
      ]
     },
     "execution_count": 14,
     "metadata": {},
     "output_type": "execute_result"
    }
   ],
   "source": [
    "df2"
   ]
  },
  {
   "cell_type": "markdown",
   "id": "7899c5b1-43cb-4f4d-bb26-cd08d2d7c7d1",
   "metadata": {},
   "source": [
    "### Concatenating the new rows"
   ]
  },
  {
   "cell_type": "code",
   "execution_count": 15,
   "id": "05e85485-1063-4fc6-aedf-d4c2a8981b6e",
   "metadata": {},
   "outputs": [
    {
     "data": {
      "text/html": [
       "<div>\n",
       "<style scoped>\n",
       "    .dataframe tbody tr th:only-of-type {\n",
       "        vertical-align: middle;\n",
       "    }\n",
       "\n",
       "    .dataframe tbody tr th {\n",
       "        vertical-align: top;\n",
       "    }\n",
       "\n",
       "    .dataframe thead th {\n",
       "        text-align: right;\n",
       "    }\n",
       "</style>\n",
       "<table border=\"1\" class=\"dataframe\">\n",
       "  <thead>\n",
       "    <tr style=\"text-align: right;\">\n",
       "      <th></th>\n",
       "      <th>model</th>\n",
       "      <th>displ</th>\n",
       "      <th>cyl</th>\n",
       "      <th>trans</th>\n",
       "      <th>drive</th>\n",
       "      <th>fuel</th>\n",
       "      <th>veh_class</th>\n",
       "      <th>air_pollution_score</th>\n",
       "      <th>city_mpg</th>\n",
       "      <th>hwy_mpg</th>\n",
       "      <th>cmb_mpg</th>\n",
       "      <th>greenhouse_gas_score</th>\n",
       "      <th>smartway</th>\n",
       "    </tr>\n",
       "  </thead>\n",
       "  <tbody>\n",
       "    <tr>\n",
       "      <th>582</th>\n",
       "      <td>MERCEDES-BENZ C300</td>\n",
       "      <td>3.0</td>\n",
       "      <td>6</td>\n",
       "      <td>Auto-L7</td>\n",
       "      <td>2WD</td>\n",
       "      <td>ethanol</td>\n",
       "      <td>small car</td>\n",
       "      <td>6</td>\n",
       "      <td>13</td>\n",
       "      <td>19</td>\n",
       "      <td>15</td>\n",
       "      <td>7</td>\n",
       "      <td>no</td>\n",
       "    </tr>\n",
       "    <tr>\n",
       "      <th>582</th>\n",
       "      <td>MERCEDES-BENZ C300</td>\n",
       "      <td>3.0</td>\n",
       "      <td>6</td>\n",
       "      <td>Auto-L7</td>\n",
       "      <td>2WD</td>\n",
       "      <td>gas</td>\n",
       "      <td>small car</td>\n",
       "      <td>4</td>\n",
       "      <td>18</td>\n",
       "      <td>25</td>\n",
       "      <td>21</td>\n",
       "      <td>6</td>\n",
       "      <td>no</td>\n",
       "    </tr>\n",
       "  </tbody>\n",
       "</table>\n",
       "</div>"
      ],
      "text/plain": [
       "                  model  displ  cyl    trans drive     fuel  veh_class  \\\n",
       "582  MERCEDES-BENZ C300    3.0    6  Auto-L7   2WD  ethanol  small car   \n",
       "582  MERCEDES-BENZ C300    3.0    6  Auto-L7   2WD      gas  small car   \n",
       "\n",
       "    air_pollution_score city_mpg hwy_mpg cmb_mpg greenhouse_gas_score smartway  \n",
       "582                   6       13      19      15                    7       no  \n",
       "582                   4       18      25      21                    6       no  "
      ]
     },
     "execution_count": 15,
     "metadata": {},
     "output_type": "execute_result"
    }
   ],
   "source": [
    "new_rows = pd.concat([df1,df2])\n",
    "\n",
    "new_rows"
   ]
  },
  {
   "cell_type": "markdown",
   "id": "ab532642-ac8b-44b2-861f-41d9b386f98c",
   "metadata": {},
   "source": [
    "### Drop the original row"
   ]
  },
  {
   "cell_type": "code",
   "execution_count": 16,
   "id": "c7d34591-d44e-4e31-8c7d-a2ed874f82bf",
   "metadata": {},
   "outputs": [],
   "source": [
    "fuel08.drop(hb08.index,inplace=True)"
   ]
  },
  {
   "cell_type": "markdown",
   "id": "53273b07-b3ea-457b-ab86-3d1d3176a313",
   "metadata": {},
   "source": [
    "### Add the new rows"
   ]
  },
  {
   "cell_type": "code",
   "execution_count": 17,
   "id": "bf7d6d64-34ec-4c07-b21b-fc241fb3ff68",
   "metadata": {},
   "outputs": [],
   "source": [
    "fuel08 = pd.concat([fuel08,new_rows],ignore_index=True)"
   ]
  },
  {
   "cell_type": "markdown",
   "id": "fbe5cd66-0f0b-40b0-8f74-764cb2079c53",
   "metadata": {},
   "source": [
    "### Check that the \"/\" are now gone"
   ]
  },
  {
   "cell_type": "code",
   "execution_count": 18,
   "id": "cfb8b845-4915-4d4a-8c33-14bcb5070080",
   "metadata": {},
   "outputs": [
    {
     "data": {
      "text/html": [
       "<div>\n",
       "<style scoped>\n",
       "    .dataframe tbody tr th:only-of-type {\n",
       "        vertical-align: middle;\n",
       "    }\n",
       "\n",
       "    .dataframe tbody tr th {\n",
       "        vertical-align: top;\n",
       "    }\n",
       "\n",
       "    .dataframe thead th {\n",
       "        text-align: right;\n",
       "    }\n",
       "</style>\n",
       "<table border=\"1\" class=\"dataframe\">\n",
       "  <thead>\n",
       "    <tr style=\"text-align: right;\">\n",
       "      <th></th>\n",
       "      <th>model</th>\n",
       "      <th>displ</th>\n",
       "      <th>cyl</th>\n",
       "      <th>trans</th>\n",
       "      <th>drive</th>\n",
       "      <th>fuel</th>\n",
       "      <th>veh_class</th>\n",
       "      <th>air_pollution_score</th>\n",
       "      <th>city_mpg</th>\n",
       "      <th>hwy_mpg</th>\n",
       "      <th>cmb_mpg</th>\n",
       "      <th>greenhouse_gas_score</th>\n",
       "      <th>smartway</th>\n",
       "    </tr>\n",
       "  </thead>\n",
       "  <tbody>\n",
       "  </tbody>\n",
       "</table>\n",
       "</div>"
      ],
      "text/plain": [
       "Empty DataFrame\n",
       "Columns: [model, displ, cyl, trans, drive, fuel, veh_class, air_pollution_score, city_mpg, hwy_mpg, cmb_mpg, greenhouse_gas_score, smartway]\n",
       "Index: []"
      ]
     },
     "execution_count": 18,
     "metadata": {},
     "output_type": "execute_result"
    }
   ],
   "source": [
    "fuel08.query('fuel.str.contains(\"/\")',engine='python')"
   ]
  },
  {
   "cell_type": "code",
   "execution_count": 19,
   "id": "a331b839-1ea8-4487-9743-a2b8ec314647",
   "metadata": {},
   "outputs": [
    {
     "data": {
      "text/plain": [
       "(987, 13)"
      ]
     },
     "execution_count": 19,
     "metadata": {},
     "output_type": "execute_result"
    }
   ],
   "source": [
    "fuel08.shape"
   ]
  },
  {
   "cell_type": "markdown",
   "id": "cd0f66b9-5ee5-452e-93a3-199addde6047",
   "metadata": {},
   "source": [
    "## Splitting hybrid rows for 2018 into seperate rows"
   ]
  },
  {
   "cell_type": "markdown",
   "id": "8b303076-820f-4aca-81c7-c259295c5b9e",
   "metadata": {},
   "source": [
    "### Creating two copies of the 2018 hybrid data frame"
   ]
  },
  {
   "cell_type": "code",
   "execution_count": 20,
   "id": "448d07d4-77a7-4bc8-9779-74d9153c24f2",
   "metadata": {},
   "outputs": [],
   "source": [
    "df1 = hb18.copy()\n",
    "df2 = hb18.copy()"
   ]
  },
  {
   "cell_type": "markdown",
   "id": "b9dc0708-e5d0-4cce-abe3-379780e22529",
   "metadata": {},
   "source": [
    "### Splitting the columns based on \"/\""
   ]
  },
  {
   "cell_type": "code",
   "execution_count": 21,
   "id": "c1613c6d-2d4a-4aba-b310-bf8943470974",
   "metadata": {},
   "outputs": [],
   "source": [
    "split_columns = ['fuel', 'city_mpg', 'hwy_mpg', 'cmb_mpg']\n",
    "\n",
    "for col in split_columns:\n",
    "    df1[col] = df1[col].apply(lambda x: x.split(\"/\")[0])\n",
    "    df2[col] = df2[col].apply(lambda x: x.split(\"/\")[1])"
   ]
  },
  {
   "cell_type": "markdown",
   "id": "98cdf4b9-d82e-4fea-8203-162d677a1c21",
   "metadata": {},
   "source": [
    "### Append the two rows together"
   ]
  },
  {
   "cell_type": "code",
   "execution_count": 22,
   "id": "ea114d66-9ae0-407c-8349-d471ed03e706",
   "metadata": {},
   "outputs": [],
   "source": [
    "new_rows = pd.concat([df1,df2])"
   ]
  },
  {
   "cell_type": "code",
   "execution_count": 23,
   "id": "925f6161-8bb4-4df9-b72a-00744c71d965",
   "metadata": {},
   "outputs": [
    {
     "data": {
      "text/html": [
       "<div>\n",
       "<style scoped>\n",
       "    .dataframe tbody tr th:only-of-type {\n",
       "        vertical-align: middle;\n",
       "    }\n",
       "\n",
       "    .dataframe tbody tr th {\n",
       "        vertical-align: top;\n",
       "    }\n",
       "\n",
       "    .dataframe thead th {\n",
       "        text-align: right;\n",
       "    }\n",
       "</style>\n",
       "<table border=\"1\" class=\"dataframe\">\n",
       "  <thead>\n",
       "    <tr style=\"text-align: right;\">\n",
       "      <th></th>\n",
       "      <th>model</th>\n",
       "      <th>displ</th>\n",
       "      <th>cyl</th>\n",
       "      <th>trans</th>\n",
       "      <th>drive</th>\n",
       "      <th>fuel</th>\n",
       "      <th>veh_class</th>\n",
       "      <th>air_pollution_score</th>\n",
       "      <th>city_mpg</th>\n",
       "      <th>hwy_mpg</th>\n",
       "      <th>cmb_mpg</th>\n",
       "      <th>greenhouse_gas_score</th>\n",
       "      <th>smartway</th>\n",
       "    </tr>\n",
       "  </thead>\n",
       "  <tbody>\n",
       "    <tr>\n",
       "      <th>52</th>\n",
       "      <td>BMW 330e</td>\n",
       "      <td>2.0</td>\n",
       "      <td>4</td>\n",
       "      <td>SemiAuto-8</td>\n",
       "      <td>2WD</td>\n",
       "      <td>Gasoline</td>\n",
       "      <td>small car</td>\n",
       "      <td>3</td>\n",
       "      <td>28</td>\n",
       "      <td>34</td>\n",
       "      <td>30</td>\n",
       "      <td>10</td>\n",
       "      <td>Yes</td>\n",
       "    </tr>\n",
       "    <tr>\n",
       "      <th>78</th>\n",
       "      <td>BMW 530e</td>\n",
       "      <td>2.0</td>\n",
       "      <td>4</td>\n",
       "      <td>SemiAuto-8</td>\n",
       "      <td>2WD</td>\n",
       "      <td>Gasoline</td>\n",
       "      <td>small car</td>\n",
       "      <td>7</td>\n",
       "      <td>27</td>\n",
       "      <td>31</td>\n",
       "      <td>29</td>\n",
       "      <td>10</td>\n",
       "      <td>Elite</td>\n",
       "    </tr>\n",
       "    <tr>\n",
       "      <th>79</th>\n",
       "      <td>BMW 530e</td>\n",
       "      <td>2.0</td>\n",
       "      <td>4</td>\n",
       "      <td>SemiAuto-8</td>\n",
       "      <td>4WD</td>\n",
       "      <td>Gasoline</td>\n",
       "      <td>small car</td>\n",
       "      <td>7</td>\n",
       "      <td>27</td>\n",
       "      <td>31</td>\n",
       "      <td>28</td>\n",
       "      <td>10</td>\n",
       "      <td>Elite</td>\n",
       "    </tr>\n",
       "    <tr>\n",
       "      <th>92</th>\n",
       "      <td>BMW 740e</td>\n",
       "      <td>2.0</td>\n",
       "      <td>4</td>\n",
       "      <td>SemiAuto-8</td>\n",
       "      <td>4WD</td>\n",
       "      <td>Gasoline</td>\n",
       "      <td>large car</td>\n",
       "      <td>3</td>\n",
       "      <td>25</td>\n",
       "      <td>29</td>\n",
       "      <td>27</td>\n",
       "      <td>9</td>\n",
       "      <td>Yes</td>\n",
       "    </tr>\n",
       "    <tr>\n",
       "      <th>189</th>\n",
       "      <td>CHEVROLET Impala</td>\n",
       "      <td>3.6</td>\n",
       "      <td>6</td>\n",
       "      <td>SemiAuto-6</td>\n",
       "      <td>2WD</td>\n",
       "      <td>Ethanol</td>\n",
       "      <td>large car</td>\n",
       "      <td>5</td>\n",
       "      <td>14</td>\n",
       "      <td>20</td>\n",
       "      <td>16</td>\n",
       "      <td>4</td>\n",
       "      <td>No</td>\n",
       "    </tr>\n",
       "  </tbody>\n",
       "</table>\n",
       "</div>"
      ],
      "text/plain": [
       "                model  displ  cyl       trans drive      fuel  veh_class  \\\n",
       "52           BMW 330e    2.0    4  SemiAuto-8   2WD  Gasoline  small car   \n",
       "78           BMW 530e    2.0    4  SemiAuto-8   2WD  Gasoline  small car   \n",
       "79           BMW 530e    2.0    4  SemiAuto-8   4WD  Gasoline  small car   \n",
       "92           BMW 740e    2.0    4  SemiAuto-8   4WD  Gasoline  large car   \n",
       "189  CHEVROLET Impala    3.6    6  SemiAuto-6   2WD   Ethanol  large car   \n",
       "\n",
       "     air_pollution_score city_mpg hwy_mpg cmb_mpg  greenhouse_gas_score  \\\n",
       "52                     3       28      34      30                    10   \n",
       "78                     7       27      31      29                    10   \n",
       "79                     7       27      31      28                    10   \n",
       "92                     3       25      29      27                     9   \n",
       "189                    5       14      20      16                     4   \n",
       "\n",
       "    smartway  \n",
       "52       Yes  \n",
       "78     Elite  \n",
       "79     Elite  \n",
       "92       Yes  \n",
       "189       No  "
      ]
     },
     "execution_count": 23,
     "metadata": {},
     "output_type": "execute_result"
    }
   ],
   "source": [
    "new_rows.head()"
   ]
  },
  {
   "cell_type": "markdown",
   "id": "afd89883-475a-4869-bc8c-267bf9f5328b",
   "metadata": {},
   "source": [
    "### Drop the original hybrid rows"
   ]
  },
  {
   "cell_type": "code",
   "execution_count": 24,
   "id": "b903f6ef-2ca3-4902-9087-9dfbd8dbada3",
   "metadata": {},
   "outputs": [],
   "source": [
    "fuel18.drop(hb18.index,inplace=True)"
   ]
  },
  {
   "cell_type": "markdown",
   "id": "02327257-b449-4787-9ab2-6939e63330e3",
   "metadata": {},
   "source": [
    "### Adding the new hybrid rows"
   ]
  },
  {
   "cell_type": "code",
   "execution_count": 25,
   "id": "072b1f75-846e-40f4-9dfc-5e256ecbaf31",
   "metadata": {},
   "outputs": [],
   "source": [
    "fuel18 = pd.concat([fuel18,new_rows],ignore_index=True)"
   ]
  },
  {
   "cell_type": "markdown",
   "id": "3d811176-bc73-4509-ba08-f03a762702f0",
   "metadata": {},
   "source": [
    "### Confirm that they're gone"
   ]
  },
  {
   "cell_type": "code",
   "execution_count": 27,
   "id": "14372518-b2b5-486a-818d-340f062b6ab8",
   "metadata": {},
   "outputs": [
    {
     "data": {
      "text/html": [
       "<div>\n",
       "<style scoped>\n",
       "    .dataframe tbody tr th:only-of-type {\n",
       "        vertical-align: middle;\n",
       "    }\n",
       "\n",
       "    .dataframe tbody tr th {\n",
       "        vertical-align: top;\n",
       "    }\n",
       "\n",
       "    .dataframe thead th {\n",
       "        text-align: right;\n",
       "    }\n",
       "</style>\n",
       "<table border=\"1\" class=\"dataframe\">\n",
       "  <thead>\n",
       "    <tr style=\"text-align: right;\">\n",
       "      <th></th>\n",
       "      <th>model</th>\n",
       "      <th>displ</th>\n",
       "      <th>cyl</th>\n",
       "      <th>trans</th>\n",
       "      <th>drive</th>\n",
       "      <th>fuel</th>\n",
       "      <th>veh_class</th>\n",
       "      <th>air_pollution_score</th>\n",
       "      <th>city_mpg</th>\n",
       "      <th>hwy_mpg</th>\n",
       "      <th>cmb_mpg</th>\n",
       "      <th>greenhouse_gas_score</th>\n",
       "      <th>smartway</th>\n",
       "    </tr>\n",
       "  </thead>\n",
       "  <tbody>\n",
       "  </tbody>\n",
       "</table>\n",
       "</div>"
      ],
      "text/plain": [
       "Empty DataFrame\n",
       "Columns: [model, displ, cyl, trans, drive, fuel, veh_class, air_pollution_score, city_mpg, hwy_mpg, cmb_mpg, greenhouse_gas_score, smartway]\n",
       "Index: []"
      ]
     },
     "execution_count": 27,
     "metadata": {},
     "output_type": "execute_result"
    }
   ],
   "source": [
    "fuel18.query('fuel.str.contains(\"/\")')"
   ]
  },
  {
   "cell_type": "code",
   "execution_count": 28,
   "id": "5c3741f5-6123-4d4c-a62d-553f56390498",
   "metadata": {},
   "outputs": [
    {
     "data": {
      "text/plain": [
       "(832, 13)"
      ]
     },
     "execution_count": 28,
     "metadata": {},
     "output_type": "execute_result"
    }
   ],
   "source": [
    "fuel18.shape"
   ]
  },
  {
   "cell_type": "markdown",
   "id": "de9c4712-8ac5-4c9e-8bae-080561d480a3",
   "metadata": {},
   "source": [
    "## Now the changes to the `air_pollution_score` can be applied"
   ]
  },
  {
   "cell_type": "code",
   "execution_count": 30,
   "id": "ee353852-83b9-4663-8db3-114f3a193948",
   "metadata": {},
   "outputs": [],
   "source": [
    "fuel08['air_pollution_score'] = fuel08['air_pollution_score'].astype(float)"
   ]
  },
  {
   "cell_type": "code",
   "execution_count": 32,
   "id": "3bff4fa5-5bb0-4c13-84a1-d70ad4e15977",
   "metadata": {},
   "outputs": [],
   "source": [
    "fuel18['air_pollution_score'] = fuel18['air_pollution_score'].astype(float)"
   ]
  },
  {
   "cell_type": "markdown",
   "id": "e6e3c97f-e38d-4f12-8e41-27aaf7d08f2e",
   "metadata": {},
   "source": [
    "# Fix 3: fixing city_mpg, hwy_mpg, cmb_mpg datatypes"
   ]
  },
  {
   "cell_type": "markdown",
   "id": "b1a2abc3-f094-421a-8bbf-41865f2ef1e9",
   "metadata": {},
   "source": [
    "* in the 2008 dataset: convert string to float\r",
    "* In the \n",
    "201 dataset8: convert int to float"
   ]
  },
  {
   "cell_type": "markdown",
   "id": "327dc20c-165e-43fd-b0c0-8d44583172a2",
   "metadata": {},
   "source": [
    "## Getting the columns that end with mpg"
   ]
  },
  {
   "cell_type": "code",
   "execution_count": 116,
   "id": "c4fb7672-76c1-4d8d-baec-b2ea479509f5",
   "metadata": {},
   "outputs": [
    {
     "data": {
      "text/plain": [
       "['city_mpg', 'hwy_mpg', 'cmb_mpg']"
      ]
     },
     "execution_count": 116,
     "metadata": {},
     "output_type": "execute_result"
    }
   ],
   "source": [
    "import re\n",
    "\n",
    "mpg_columns =  [x for x in fuel08.columns if re.search(r\"(mpg)$\", x)] \n",
    "\n",
    "mpg_columns"
   ]
  },
  {
   "cell_type": "markdown",
   "id": "2ee63351-5ec1-4317-b891-5ff1ab26e2d3",
   "metadata": {},
   "source": [
    "## Converting the columns from float to int"
   ]
  },
  {
   "cell_type": "code",
   "execution_count": 117,
   "id": "06e83ec2-32ae-43be-9486-d163884d45ae",
   "metadata": {},
   "outputs": [],
   "source": [
    "for col in mpg_columns:\n",
    "    fuel08[col] = fuel08[col].astype(int)\n",
    "    fuel18[col] = fuel18[col].astype(int)"
   ]
  },
  {
   "cell_type": "markdown",
   "id": "a1f81c89-7b81-463d-8b67-52d1a3ac0ea2",
   "metadata": {},
   "source": [
    "## Fix 4: Fixing the `greenhouse_gas_score` data type"
   ]
  },
  {
   "cell_type": "markdown",
   "id": "65e33d02-0e41-4c23-a9e2-8cefa6227ce6",
   "metadata": {},
   "source": [
    "* In the 2008 dataset: convert from float to int"
   ]
  },
  {
   "cell_type": "code",
   "execution_count": 125,
   "id": "c5495ff1-05e7-4647-abab-e55dee7be211",
   "metadata": {},
   "outputs": [],
   "source": [
    "import numpy as np\n",
    "\n",
    "fuel08['greenhouse_gas_score'] = fuel08['greenhouse_gas_score'].astype(np.int64)"
   ]
  },
  {
   "cell_type": "markdown",
   "id": "0cfc5949-c665-4f71-baf1-6cf801be1d7d",
   "metadata": {},
   "source": [
    "# Confirm all the datatypes are fixed"
   ]
  },
  {
   "cell_type": "code",
   "execution_count": 126,
   "id": "0a626158-98e4-4491-b892-639da7946145",
   "metadata": {},
   "outputs": [
    {
     "data": {
      "text/plain": [
       "model                    object\n",
       "displ                   float64\n",
       "cyl                       int32\n",
       "trans                    object\n",
       "drive                    object\n",
       "fuel                     object\n",
       "veh_class                object\n",
       "air_pollution_score     float64\n",
       "city_mpg                  int32\n",
       "hwy_mpg                   int32\n",
       "cmb_mpg                   int32\n",
       "greenhouse_gas_score      int64\n",
       "smartway                 object\n",
       "dtype: object"
      ]
     },
     "execution_count": 126,
     "metadata": {},
     "output_type": "execute_result"
    }
   ],
   "source": [
    "fuel08.dtypes"
   ]
  },
  {
   "cell_type": "code",
   "execution_count": 127,
   "id": "0df92358-bf1e-4dd9-b5e8-bf99530eda85",
   "metadata": {},
   "outputs": [
    {
     "data": {
      "text/plain": [
       "model                    object\n",
       "displ                   float64\n",
       "cyl                       int32\n",
       "trans                    object\n",
       "drive                    object\n",
       "fuel                     object\n",
       "veh_class                object\n",
       "air_pollution_score     float64\n",
       "city_mpg                  int32\n",
       "hwy_mpg                   int32\n",
       "cmb_mpg                   int32\n",
       "greenhouse_gas_score      int64\n",
       "smartway                 object\n",
       "dtype: object"
      ]
     },
     "execution_count": 127,
     "metadata": {},
     "output_type": "execute_result"
    }
   ],
   "source": [
    "fuel18.dtypes"
   ]
  },
  {
   "cell_type": "code",
   "execution_count": 128,
   "id": "270e12da-081a-4cac-9070-3cd0059e58ba",
   "metadata": {},
   "outputs": [
    {
     "data": {
      "text/plain": [
       "model                   True\n",
       "displ                   True\n",
       "cyl                     True\n",
       "trans                   True\n",
       "drive                   True\n",
       "fuel                    True\n",
       "veh_class               True\n",
       "air_pollution_score     True\n",
       "city_mpg                True\n",
       "hwy_mpg                 True\n",
       "cmb_mpg                 True\n",
       "greenhouse_gas_score    True\n",
       "smartway                True\n",
       "dtype: bool"
      ]
     },
     "execution_count": 128,
     "metadata": {},
     "output_type": "execute_result"
    }
   ],
   "source": [
    "fuel08.dtypes == fuel18.dtypes "
   ]
  },
  {
   "cell_type": "markdown",
   "id": "030b5ed8-0876-4f8f-ae4c-a75f19d853cc",
   "metadata": {},
   "source": [
    "# Saving changes"
   ]
  },
  {
   "cell_type": "code",
   "execution_count": 129,
   "id": "28194ab7-8555-4c98-8223-0a788dac8d08",
   "metadata": {},
   "outputs": [],
   "source": [
    "fuel08.to_csv('clean_08.csv',index=False)\n",
    "fuel18.to_csv('clean_18.csv',index=False)"
   ]
  }
 ],
 "metadata": {
  "kernelspec": {
   "display_name": "Python 3 (ipykernel)",
   "language": "python",
   "name": "python3"
  },
  "language_info": {
   "codemirror_mode": {
    "name": "ipython",
    "version": 3
   },
   "file_extension": ".py",
   "mimetype": "text/x-python",
   "name": "python",
   "nbconvert_exporter": "python",
   "pygments_lexer": "ipython3",
   "version": "3.12.3"
  }
 },
 "nbformat": 4,
 "nbformat_minor": 5
}
