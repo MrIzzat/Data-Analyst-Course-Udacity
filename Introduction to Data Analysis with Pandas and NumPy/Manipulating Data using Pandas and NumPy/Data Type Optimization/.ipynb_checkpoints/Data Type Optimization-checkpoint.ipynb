{
 "cells": [
  {
   "cell_type": "markdown",
   "id": "dbb07208-c1dd-4fdb-aab6-e185e82cfe71",
   "metadata": {},
   "source": [
    "# Import libraries"
   ]
  },
  {
   "cell_type": "code",
   "execution_count": 2,
   "id": "2fc9b5e6-aef4-4286-8d66-657efc8b025e",
   "metadata": {},
   "outputs": [],
   "source": [
    "import pandas as pd\n",
    "import numpy as np"
   ]
  },
  {
   "cell_type": "markdown",
   "id": "2185b182-fdd2-49c3-a49b-1e710574b467",
   "metadata": {},
   "source": [
    "# Load Data"
   ]
  },
  {
   "cell_type": "code",
   "execution_count": 3,
   "id": "802134d3-09fb-4aa6-acf1-c005445d1188",
   "metadata": {},
   "outputs": [],
   "source": [
    "df = pd.read_csv('clean_08.csv')"
   ]
  },
  {
   "cell_type": "code",
   "execution_count": 4,
   "id": "709736b0-5fd0-4912-a363-a67eaa1d833f",
   "metadata": {},
   "outputs": [
    {
     "name": "stdout",
     "output_type": "stream",
     "text": [
      "<class 'pandas.core.frame.DataFrame'>\n",
      "RangeIndex: 987 entries, 0 to 986\n",
      "Data columns (total 13 columns):\n",
      " #   Column                Non-Null Count  Dtype  \n",
      "---  ------                --------------  -----  \n",
      " 0   model                 987 non-null    object \n",
      " 1   displ                 987 non-null    float64\n",
      " 2   cyl                   987 non-null    int64  \n",
      " 3   trans                 987 non-null    object \n",
      " 4   drive                 987 non-null    object \n",
      " 5   fuel                  987 non-null    object \n",
      " 6   veh_class             987 non-null    object \n",
      " 7   air_pollution_score   987 non-null    float64\n",
      " 8   city_mpg              987 non-null    int64  \n",
      " 9   hwy_mpg               987 non-null    int64  \n",
      " 10  cmb_mpg               987 non-null    int64  \n",
      " 11  greenhouse_gas_score  987 non-null    int64  \n",
      " 12  smartway              987 non-null    object \n",
      "dtypes: float64(2), int64(5), object(6)\n",
      "memory usage: 100.4+ KB\n"
     ]
    }
   ],
   "source": [
    "df.info()"
   ]
  },
  {
   "cell_type": "markdown",
   "id": "c75d4454-8502-40dc-891a-52faca7875af",
   "metadata": {},
   "source": [
    "# View Values in `mpg` columns"
   ]
  },
  {
   "cell_type": "code",
   "execution_count": 7,
   "id": "e0702a18-7a6d-4fda-ad64-823e663b7571",
   "metadata": {},
   "outputs": [
    {
     "data": {
      "text/plain": [
       "['city_mpg', 'hwy_mpg', 'cmb_mpg']"
      ]
     },
     "execution_count": 7,
     "metadata": {},
     "output_type": "execute_result"
    }
   ],
   "source": [
    "import re\n",
    "\n",
    "mpg_columns =  [x for x in df.columns if re.search(r\"(mpg)$\", x)] \n",
    "\n",
    "mpg_columns"
   ]
  },
  {
   "cell_type": "code",
   "execution_count": 10,
   "id": "7e9ec73b-86bf-47cd-a707-da4a13bf75c3",
   "metadata": {},
   "outputs": [
    {
     "name": "stdout",
     "output_type": "stream",
     "text": [
      "<bound method IndexOpsMixin.value_counts of 0      15\n",
      "1      17\n",
      "2      16\n",
      "3      18\n",
      "4      17\n",
      "       ..\n",
      "982    14\n",
      "983    14\n",
      "984    13\n",
      "985    13\n",
      "986    18\n",
      "Name: city_mpg, Length: 987, dtype: int64>\n",
      "-------------------\n",
      "<bound method IndexOpsMixin.value_counts of 0      20\n",
      "1      22\n",
      "2      24\n",
      "3      26\n",
      "4      26\n",
      "       ..\n",
      "982    20\n",
      "983    20\n",
      "984    19\n",
      "985    19\n",
      "986    25\n",
      "Name: hwy_mpg, Length: 987, dtype: int64>\n",
      "-------------------\n",
      "<bound method IndexOpsMixin.value_counts of 0      17\n",
      "1      19\n",
      "2      19\n",
      "3      21\n",
      "4      20\n",
      "       ..\n",
      "982    16\n",
      "983    16\n",
      "984    15\n",
      "985    15\n",
      "986    21\n",
      "Name: cmb_mpg, Length: 987, dtype: int64>\n",
      "-------------------\n"
     ]
    }
   ],
   "source": [
    "for col in mpg_columns:\n",
    "    print(df[col].value_counts)\n",
    "    print(\"-------------------\")"
   ]
  },
  {
   "cell_type": "markdown",
   "id": "f232bcbc-3d94-4799-a965-da2b575a2312",
   "metadata": {},
   "source": [
    "# Changing the column types to int"
   ]
  },
  {
   "cell_type": "markdown",
   "id": "b2ea7341-6fbf-4204-b894-1b273327985c",
   "metadata": {},
   "source": [
    "*Note I already did this while cleaning the data*"
   ]
  },
  {
   "cell_type": "code",
   "execution_count": 11,
   "id": "8c717832-be74-4ff3-99f5-88e7ad74bf30",
   "metadata": {},
   "outputs": [],
   "source": [
    "for col in mpg_columns:\n",
    "    df[col] = df[col].astype(int)"
   ]
  },
  {
   "cell_type": "code",
   "execution_count": 12,
   "id": "4708c52d-d144-406d-b5e4-29f119c24899",
   "metadata": {},
   "outputs": [
    {
     "name": "stdout",
     "output_type": "stream",
     "text": [
      "<class 'pandas.core.frame.DataFrame'>\n",
      "RangeIndex: 987 entries, 0 to 986\n",
      "Data columns (total 13 columns):\n",
      " #   Column                Non-Null Count  Dtype  \n",
      "---  ------                --------------  -----  \n",
      " 0   model                 987 non-null    object \n",
      " 1   displ                 987 non-null    float64\n",
      " 2   cyl                   987 non-null    int64  \n",
      " 3   trans                 987 non-null    object \n",
      " 4   drive                 987 non-null    object \n",
      " 5   fuel                  987 non-null    object \n",
      " 6   veh_class             987 non-null    object \n",
      " 7   air_pollution_score   987 non-null    float64\n",
      " 8   city_mpg              987 non-null    int32  \n",
      " 9   hwy_mpg               987 non-null    int32  \n",
      " 10  cmb_mpg               987 non-null    int32  \n",
      " 11  greenhouse_gas_score  987 non-null    int64  \n",
      " 12  smartway              987 non-null    object \n",
      "dtypes: float64(2), int32(3), int64(2), object(6)\n",
      "memory usage: 88.8+ KB\n"
     ]
    }
   ],
   "source": [
    "df.info()"
   ]
  },
  {
   "cell_type": "markdown",
   "id": "02da1d08-a1c6-46a6-bdb7-a1630167917d",
   "metadata": {},
   "source": [
    "int32 is way to much to represent data that at maxium is 48 and at the minimum 8. Instead, a smalled int based should be used like int8. The next cell shows the greatest and smallest values used in the mpg_columns."
   ]
  },
  {
   "cell_type": "code",
   "execution_count": 14,
   "id": "e6a83d1a-d415-4da6-8818-0f85d3e742c7",
   "metadata": {},
   "outputs": [
    {
     "data": {
      "text/html": [
       "<div>\n",
       "<style scoped>\n",
       "    .dataframe tbody tr th:only-of-type {\n",
       "        vertical-align: middle;\n",
       "    }\n",
       "\n",
       "    .dataframe tbody tr th {\n",
       "        vertical-align: top;\n",
       "    }\n",
       "\n",
       "    .dataframe thead th {\n",
       "        text-align: right;\n",
       "    }\n",
       "</style>\n",
       "<table border=\"1\" class=\"dataframe\">\n",
       "  <thead>\n",
       "    <tr style=\"text-align: right;\">\n",
       "      <th></th>\n",
       "      <th>city_mpg</th>\n",
       "      <th>hwy_mpg</th>\n",
       "      <th>cmb_mpg</th>\n",
       "    </tr>\n",
       "  </thead>\n",
       "  <tbody>\n",
       "    <tr>\n",
       "      <th>count</th>\n",
       "      <td>987.000000</td>\n",
       "      <td>987.000000</td>\n",
       "      <td>987.000000</td>\n",
       "    </tr>\n",
       "    <tr>\n",
       "      <th>mean</th>\n",
       "      <td>17.386018</td>\n",
       "      <td>24.038501</td>\n",
       "      <td>19.788247</td>\n",
       "    </tr>\n",
       "    <tr>\n",
       "      <th>std</th>\n",
       "      <td>4.088018</td>\n",
       "      <td>4.753406</td>\n",
       "      <td>4.251565</td>\n",
       "    </tr>\n",
       "    <tr>\n",
       "      <th>min</th>\n",
       "      <td>8.000000</td>\n",
       "      <td>13.000000</td>\n",
       "      <td>10.000000</td>\n",
       "    </tr>\n",
       "    <tr>\n",
       "      <th>25%</th>\n",
       "      <td>15.000000</td>\n",
       "      <td>20.000000</td>\n",
       "      <td>17.000000</td>\n",
       "    </tr>\n",
       "    <tr>\n",
       "      <th>50%</th>\n",
       "      <td>17.000000</td>\n",
       "      <td>24.000000</td>\n",
       "      <td>20.000000</td>\n",
       "    </tr>\n",
       "    <tr>\n",
       "      <th>75%</th>\n",
       "      <td>20.000000</td>\n",
       "      <td>27.000000</td>\n",
       "      <td>22.000000</td>\n",
       "    </tr>\n",
       "    <tr>\n",
       "      <th>max</th>\n",
       "      <td>48.000000</td>\n",
       "      <td>45.000000</td>\n",
       "      <td>46.000000</td>\n",
       "    </tr>\n",
       "  </tbody>\n",
       "</table>\n",
       "</div>"
      ],
      "text/plain": [
       "         city_mpg     hwy_mpg     cmb_mpg\n",
       "count  987.000000  987.000000  987.000000\n",
       "mean    17.386018   24.038501   19.788247\n",
       "std      4.088018    4.753406    4.251565\n",
       "min      8.000000   13.000000   10.000000\n",
       "25%     15.000000   20.000000   17.000000\n",
       "50%     17.000000   24.000000   20.000000\n",
       "75%     20.000000   27.000000   22.000000\n",
       "max     48.000000   45.000000   46.000000"
      ]
     },
     "execution_count": 14,
     "metadata": {},
     "output_type": "execute_result"
    }
   ],
   "source": [
    "df[mpg_columns].describe()"
   ]
  },
  {
   "cell_type": "markdown",
   "id": "a36fdcd6-c048-4bbe-b832-faab5cf1284c",
   "metadata": {},
   "source": [
    "## Changing the column values to `int8`"
   ]
  },
  {
   "cell_type": "code",
   "execution_count": 15,
   "id": "543b9e28-368b-4f37-b071-dbae10c9a93b",
   "metadata": {},
   "outputs": [],
   "source": [
    "for col in mpg_columns:\n",
    "    df[col] = df[col].astype(\"int8\")"
   ]
  },
  {
   "cell_type": "markdown",
   "id": "fbae3445-ee14-4250-a020-01d4dd0dc332",
   "metadata": {},
   "source": [
    "Data has now gone from 100KB to 80KB"
   ]
  },
  {
   "cell_type": "code",
   "execution_count": 17,
   "id": "d5569b03-c4b2-4fde-b5f5-690f82b624d5",
   "metadata": {},
   "outputs": [
    {
     "name": "stdout",
     "output_type": "stream",
     "text": [
      "<class 'pandas.core.frame.DataFrame'>\n",
      "RangeIndex: 987 entries, 0 to 986\n",
      "Data columns (total 13 columns):\n",
      " #   Column                Non-Null Count  Dtype  \n",
      "---  ------                --------------  -----  \n",
      " 0   model                 987 non-null    object \n",
      " 1   displ                 987 non-null    float64\n",
      " 2   cyl                   987 non-null    int64  \n",
      " 3   trans                 987 non-null    object \n",
      " 4   drive                 987 non-null    object \n",
      " 5   fuel                  987 non-null    object \n",
      " 6   veh_class             987 non-null    object \n",
      " 7   air_pollution_score   987 non-null    float64\n",
      " 8   city_mpg              987 non-null    int8   \n",
      " 9   hwy_mpg               987 non-null    int8   \n",
      " 10  cmb_mpg               987 non-null    int8   \n",
      " 11  greenhouse_gas_score  987 non-null    int64  \n",
      " 12  smartway              987 non-null    object \n",
      "dtypes: float64(2), int64(2), int8(3), object(6)\n",
      "memory usage: 80.1+ KB\n"
     ]
    }
   ],
   "source": [
    "df.info()"
   ]
  },
  {
   "cell_type": "markdown",
   "id": "0b05f0aa-94d2-4134-ac20-e5b0697456b2",
   "metadata": {},
   "source": [
    "# Optmizing String Values"
   ]
  },
  {
   "cell_type": "markdown",
   "id": "c2cabdd3-583b-464b-9bce-9e324b3054cc",
   "metadata": {},
   "source": [
    "## Viewing the value counts in the string columns"
   ]
  },
  {
   "cell_type": "code",
   "execution_count": 35,
   "id": "697df732-f43f-4828-9bd2-cfc5410da773",
   "metadata": {},
   "outputs": [
    {
     "data": {
      "text/plain": [
       "['model', 'trans', 'drive', 'fuel', 'veh_class', 'smartway']"
      ]
     },
     "execution_count": 35,
     "metadata": {},
     "output_type": "execute_result"
    }
   ],
   "source": [
    "stringColumns = [x for x in df.columns if df[x].dtype == \"object\"]\n",
    "\n",
    "stringColumns"
   ]
  },
  {
   "cell_type": "code",
   "execution_count": 25,
   "id": "9148bffa-41f8-4572-a363-e99df561f06f",
   "metadata": {},
   "outputs": [
    {
     "name": "stdout",
     "output_type": "stream",
     "text": [
      "model\n",
      "NISSAN Altima             12\n",
      "HONDA Accord              11\n",
      "FORD Ranger               10\n",
      "DODGE RAM 1500             9\n",
      "DODGE Dakota               8\n",
      "                          ..\n",
      "MERCEDES-BENZ SL55 AMG     1\n",
      "MERCEDES-BENZ SL550        1\n",
      "MERCEDES-BENZ SL600        1\n",
      "MERCEDES-BENZ SL65 AMG     1\n",
      "ACURA MDX                  1\n",
      "Name: count, Length: 377, dtype: int64\n",
      "-----------------\n",
      "trans\n",
      "Auto-L4    176\n",
      "Auto-S6    162\n",
      "Auto-L5    157\n",
      "Man-6      142\n",
      "Man-5      123\n",
      "Auto-S5     71\n",
      "Auto-L6     56\n",
      "Auto-AV     45\n",
      "Auto-S4     21\n",
      "Auto-L7     15\n",
      "Auto-S7     11\n",
      "Auto-6       4\n",
      "S8           4\n",
      "Name: count, dtype: int64\n",
      "-----------------\n",
      "drive\n",
      "2WD    662\n",
      "4WD    325\n",
      "Name: count, dtype: int64\n",
      "-----------------\n",
      "fuel\n",
      "Gasoline    984\n",
      "CNG           1\n",
      "ethanol       1\n",
      "gas           1\n",
      "Name: count, dtype: int64\n",
      "-----------------\n",
      "veh_class\n",
      "small car        333\n",
      "SUV              280\n",
      "midsize car      138\n",
      "pickup            83\n",
      "station wagon     60\n",
      "large car         55\n",
      "van               21\n",
      "minivan           17\n",
      "Name: count, dtype: int64\n",
      "-----------------\n",
      "smartway\n",
      "no     607\n",
      "yes    380\n",
      "Name: count, dtype: int64\n",
      "-----------------\n"
     ]
    }
   ],
   "source": [
    "for col in stringColumns:\n",
    "    print(df[col].value_counts())\n",
    "    print(\"-----------------\")"
   ]
  },
  {
   "cell_type": "markdown",
   "id": "fa9ae5e2-ab23-4014-a411-58492c4dced1",
   "metadata": {},
   "source": [
    "## Changing most of the string columns to `category` data type"
   ]
  },
  {
   "cell_type": "markdown",
   "id": "aedd42bc-9271-439d-8862-3a7023f541b4",
   "metadata": {},
   "source": [
    "As it can be seen, all the string columns have between 2-13 unique values except for `model`. For every time a string value is used in the dataframe, a lot of extra space is dedicated to that specfic value. To save up on all that space being used on each character of each string of each string value, a category data type can be used instead. Category types are especially useful when representing data from columns with a very low number of unqiue values. They can be created as categories and pandas will use those categories to store the data more efficently."
   ]
  },
  {
   "cell_type": "markdown",
   "id": "91ef7d03-dcc6-448f-a766-520eb95682ce",
   "metadata": {},
   "source": [
    "The model does not need to be turned into a category since there is way too many model types. So it'll be removed from the columns list."
   ]
  },
  {
   "cell_type": "code",
   "execution_count": 36,
   "id": "46a62242-8064-49b0-bad0-f6ff6f12fae7",
   "metadata": {},
   "outputs": [],
   "source": [
    "stringColumns.remove(\"model\")"
   ]
  },
  {
   "cell_type": "markdown",
   "id": "76dc6365-de17-4f10-ba36-29bd06afd90b",
   "metadata": {},
   "source": [
    "### Converting columns to category"
   ]
  },
  {
   "cell_type": "code",
   "execution_count": 38,
   "id": "699b0c60-8323-4221-8fc5-e91353c585f6",
   "metadata": {},
   "outputs": [],
   "source": [
    "for col in stringColumns:\n",
    "    df[col] = df[col].astype(\"category\")"
   ]
  },
  {
   "cell_type": "code",
   "execution_count": 39,
   "id": "4df18d29-90f7-40bf-b9ee-985cf1c2f362",
   "metadata": {},
   "outputs": [
    {
     "name": "stdout",
     "output_type": "stream",
     "text": [
      "<class 'pandas.core.frame.DataFrame'>\n",
      "RangeIndex: 987 entries, 0 to 986\n",
      "Data columns (total 13 columns):\n",
      " #   Column                Non-Null Count  Dtype   \n",
      "---  ------                --------------  -----   \n",
      " 0   model                 987 non-null    object  \n",
      " 1   displ                 987 non-null    float64 \n",
      " 2   cyl                   987 non-null    int64   \n",
      " 3   trans                 987 non-null    category\n",
      " 4   drive                 987 non-null    category\n",
      " 5   fuel                  987 non-null    category\n",
      " 6   veh_class             987 non-null    category\n",
      " 7   air_pollution_score   987 non-null    float64 \n",
      " 8   city_mpg              987 non-null    int8    \n",
      " 9   hwy_mpg               987 non-null    int8    \n",
      " 10  cmb_mpg               987 non-null    int8    \n",
      " 11  greenhouse_gas_score  987 non-null    int64   \n",
      " 12  smartway              987 non-null    category\n",
      "dtypes: category(5), float64(2), int64(2), int8(3), object(1)\n",
      "memory usage: 47.8+ KB\n"
     ]
    }
   ],
   "source": [
    "df.info()"
   ]
  },
  {
   "cell_type": "markdown",
   "id": "542bba71-aa77-4e83-9b44-f2447cc3230b",
   "metadata": {},
   "source": [
    "The space of the dataset went down from 80KB to 47KB"
   ]
  }
 ],
 "metadata": {
  "kernelspec": {
   "display_name": "Python 3 (ipykernel)",
   "language": "python",
   "name": "python3"
  },
  "language_info": {
   "codemirror_mode": {
    "name": "ipython",
    "version": 3
   },
   "file_extension": ".py",
   "mimetype": "text/x-python",
   "name": "python",
   "nbconvert_exporter": "python",
   "pygments_lexer": "ipython3",
   "version": "3.12.3"
  }
 },
 "nbformat": 4,
 "nbformat_minor": 5
}
