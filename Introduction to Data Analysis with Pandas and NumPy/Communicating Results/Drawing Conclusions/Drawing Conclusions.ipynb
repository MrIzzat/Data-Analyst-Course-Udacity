{
 "cells": [
  {
   "cell_type": "markdown",
   "id": "174b11ef-c110-4cfb-aa2a-fc43b537e691",
   "metadata": {},
   "source": [
    "The conclusion to draw here answers the following question: \n",
    "\n",
    "    \"Does the size of a tumor affect its malignancy?\""
   ]
  },
  {
   "cell_type": "markdown",
   "id": "b039eca7-80e7-447d-aa13-611f4b9d44b8",
   "metadata": {},
   "source": [
    "# Import libraries"
   ]
  },
  {
   "cell_type": "code",
   "execution_count": 17,
   "id": "8d00ecc5-ed29-4b08-883c-253d4640e868",
   "metadata": {},
   "outputs": [],
   "source": [
    "import pandas as pd\n",
    "import matplotlib.pyplot as plt\n",
    "%config InlineBackend.figure_format='retina'"
   ]
  },
  {
   "cell_type": "markdown",
   "id": "d43e8730-e12b-4dd8-bb6e-e791b93d65ea",
   "metadata": {},
   "source": [
    "# Load Dataset"
   ]
  },
  {
   "cell_type": "code",
   "execution_count": 4,
   "id": "e6e522b3-1629-48f7-8597-3fa9f154354b",
   "metadata": {},
   "outputs": [
    {
     "data": {
      "text/html": [
       "<div>\n",
       "<style scoped>\n",
       "    .dataframe tbody tr th:only-of-type {\n",
       "        vertical-align: middle;\n",
       "    }\n",
       "\n",
       "    .dataframe tbody tr th {\n",
       "        vertical-align: top;\n",
       "    }\n",
       "\n",
       "    .dataframe thead th {\n",
       "        text-align: right;\n",
       "    }\n",
       "</style>\n",
       "<table border=\"1\" class=\"dataframe\">\n",
       "  <thead>\n",
       "    <tr style=\"text-align: right;\">\n",
       "      <th></th>\n",
       "      <th>id</th>\n",
       "      <th>diagnosis</th>\n",
       "      <th>radius</th>\n",
       "      <th>texture</th>\n",
       "      <th>perimeter</th>\n",
       "      <th>area</th>\n",
       "      <th>smoothness</th>\n",
       "      <th>compactness</th>\n",
       "      <th>concavity</th>\n",
       "      <th>concave_points</th>\n",
       "      <th>symmetry</th>\n",
       "      <th>fractal_dimension</th>\n",
       "    </tr>\n",
       "  </thead>\n",
       "  <tbody>\n",
       "    <tr>\n",
       "      <th>0</th>\n",
       "      <td>842302</td>\n",
       "      <td>M</td>\n",
       "      <td>17.99</td>\n",
       "      <td>19.293431</td>\n",
       "      <td>122.8</td>\n",
       "      <td>1001.0</td>\n",
       "      <td>0.1184</td>\n",
       "      <td>0.2776</td>\n",
       "      <td>0.3001</td>\n",
       "      <td>0.1471</td>\n",
       "      <td>0.2419</td>\n",
       "      <td>0.07871</td>\n",
       "    </tr>\n",
       "  </tbody>\n",
       "</table>\n",
       "</div>"
      ],
      "text/plain": [
       "       id diagnosis  radius    texture  perimeter    area  smoothness  \\\n",
       "0  842302         M   17.99  19.293431      122.8  1001.0      0.1184   \n",
       "\n",
       "   compactness  concavity  concave_points  symmetry  fractal_dimension  \n",
       "0       0.2776     0.3001          0.1471    0.2419            0.07871  "
      ]
     },
     "execution_count": 4,
     "metadata": {},
     "output_type": "execute_result"
    }
   ],
   "source": [
    "df = pd.read_csv('cancer_data_edited.csv')\n",
    "df.head(1)"
   ]
  },
  {
   "cell_type": "markdown",
   "id": "9494ab07-349e-49fe-a755-4e4b75fd100a",
   "metadata": {},
   "source": [
    "# Split the dataset into two dataframes: malignant cancer and benign cancer"
   ]
  },
  {
   "cell_type": "code",
   "execution_count": 5,
   "id": "f5ac671a-6373-4ef1-94fb-3bef1bb950f8",
   "metadata": {},
   "outputs": [
    {
     "data": {
      "text/html": [
       "<div>\n",
       "<style scoped>\n",
       "    .dataframe tbody tr th:only-of-type {\n",
       "        vertical-align: middle;\n",
       "    }\n",
       "\n",
       "    .dataframe tbody tr th {\n",
       "        vertical-align: top;\n",
       "    }\n",
       "\n",
       "    .dataframe thead th {\n",
       "        text-align: right;\n",
       "    }\n",
       "</style>\n",
       "<table border=\"1\" class=\"dataframe\">\n",
       "  <thead>\n",
       "    <tr style=\"text-align: right;\">\n",
       "      <th></th>\n",
       "      <th>id</th>\n",
       "      <th>diagnosis</th>\n",
       "      <th>radius</th>\n",
       "      <th>texture</th>\n",
       "      <th>perimeter</th>\n",
       "      <th>area</th>\n",
       "      <th>smoothness</th>\n",
       "      <th>compactness</th>\n",
       "      <th>concavity</th>\n",
       "      <th>concave_points</th>\n",
       "      <th>symmetry</th>\n",
       "      <th>fractal_dimension</th>\n",
       "    </tr>\n",
       "  </thead>\n",
       "  <tbody>\n",
       "    <tr>\n",
       "      <th>0</th>\n",
       "      <td>842302</td>\n",
       "      <td>M</td>\n",
       "      <td>17.99</td>\n",
       "      <td>19.293431</td>\n",
       "      <td>122.8</td>\n",
       "      <td>1001.0</td>\n",
       "      <td>0.1184</td>\n",
       "      <td>0.2776</td>\n",
       "      <td>0.3001</td>\n",
       "      <td>0.1471</td>\n",
       "      <td>0.2419</td>\n",
       "      <td>0.07871</td>\n",
       "    </tr>\n",
       "  </tbody>\n",
       "</table>\n",
       "</div>"
      ],
      "text/plain": [
       "       id diagnosis  radius    texture  perimeter    area  smoothness  \\\n",
       "0  842302         M   17.99  19.293431      122.8  1001.0      0.1184   \n",
       "\n",
       "   compactness  concavity  concave_points  symmetry  fractal_dimension  \n",
       "0       0.2776     0.3001          0.1471    0.2419            0.07871  "
      ]
     },
     "execution_count": 5,
     "metadata": {},
     "output_type": "execute_result"
    }
   ],
   "source": [
    "df_m = df.query(\"diagnosis == 'M'\")\n",
    "df_m.head(1)"
   ]
  },
  {
   "cell_type": "code",
   "execution_count": 6,
   "id": "6d1b18c7-760d-44a4-99c8-6517c660ad95",
   "metadata": {},
   "outputs": [
    {
     "data": {
      "text/html": [
       "<div>\n",
       "<style scoped>\n",
       "    .dataframe tbody tr th:only-of-type {\n",
       "        vertical-align: middle;\n",
       "    }\n",
       "\n",
       "    .dataframe tbody tr th {\n",
       "        vertical-align: top;\n",
       "    }\n",
       "\n",
       "    .dataframe thead th {\n",
       "        text-align: right;\n",
       "    }\n",
       "</style>\n",
       "<table border=\"1\" class=\"dataframe\">\n",
       "  <thead>\n",
       "    <tr style=\"text-align: right;\">\n",
       "      <th></th>\n",
       "      <th>id</th>\n",
       "      <th>diagnosis</th>\n",
       "      <th>radius</th>\n",
       "      <th>texture</th>\n",
       "      <th>perimeter</th>\n",
       "      <th>area</th>\n",
       "      <th>smoothness</th>\n",
       "      <th>compactness</th>\n",
       "      <th>concavity</th>\n",
       "      <th>concave_points</th>\n",
       "      <th>symmetry</th>\n",
       "      <th>fractal_dimension</th>\n",
       "    </tr>\n",
       "  </thead>\n",
       "  <tbody>\n",
       "    <tr>\n",
       "      <th>19</th>\n",
       "      <td>8510426</td>\n",
       "      <td>B</td>\n",
       "      <td>13.54</td>\n",
       "      <td>14.36</td>\n",
       "      <td>87.46</td>\n",
       "      <td>566.3</td>\n",
       "      <td>0.09779</td>\n",
       "      <td>0.08129</td>\n",
       "      <td>0.06664</td>\n",
       "      <td>0.04781</td>\n",
       "      <td>0.1885</td>\n",
       "      <td>0.05766</td>\n",
       "    </tr>\n",
       "  </tbody>\n",
       "</table>\n",
       "</div>"
      ],
      "text/plain": [
       "         id diagnosis  radius  texture  perimeter   area  smoothness  \\\n",
       "19  8510426         B   13.54    14.36      87.46  566.3     0.09779   \n",
       "\n",
       "    compactness  concavity  concave_points  symmetry  fractal_dimension  \n",
       "19      0.08129    0.06664         0.04781    0.1885            0.05766  "
      ]
     },
     "execution_count": 6,
     "metadata": {},
     "output_type": "execute_result"
    }
   ],
   "source": [
    "df_b = df.query('diagnosis == \"B\"')\n",
    "df_b.head(1)"
   ]
  },
  {
   "cell_type": "markdown",
   "id": "968ade7a-6f8c-4979-9d2f-7e6eb96aa95d",
   "metadata": {},
   "source": [
    "# Seeing the summary statistics of `area`"
   ]
  },
  {
   "cell_type": "markdown",
   "id": "2d37479c-d924-45ff-9b96-9e0e4e204102",
   "metadata": {},
   "source": [
    "`area` is used since it's the closest information to the size of the tumor. If the mean of the area of `M` tumors are larger, it means that the size of tumor affects whether or not it's malignant."
   ]
  },
  {
   "cell_type": "code",
   "execution_count": 10,
   "id": "f00433cc-32d6-405b-803a-01e6331c59d3",
   "metadata": {},
   "outputs": [
    {
     "data": {
      "text/plain": [
       "count     210.000000\n",
       "mean      976.582857\n",
       "std       365.494289\n",
       "min       361.600000\n",
       "25%       706.850000\n",
       "50%       932.000000\n",
       "75%      1200.750000\n",
       "max      2501.000000\n",
       "Name: area, dtype: float64"
      ]
     },
     "execution_count": 10,
     "metadata": {},
     "output_type": "execute_result"
    }
   ],
   "source": [
    "df_m['area'].describe()"
   ]
  },
  {
   "cell_type": "code",
   "execution_count": 11,
   "id": "d09759b8-fd43-4044-856b-b5915ccb7385",
   "metadata": {},
   "outputs": [
    {
     "data": {
      "text/plain": [
       "count    354.000000\n",
       "mean     462.712429\n",
       "std      134.769158\n",
       "min      143.500000\n",
       "25%      374.975000\n",
       "50%      458.150000\n",
       "75%      551.550000\n",
       "max      992.100000\n",
       "Name: area, dtype: float64"
      ]
     },
     "execution_count": 11,
     "metadata": {},
     "output_type": "execute_result"
    }
   ],
   "source": [
    "df_b['area'].describe()"
   ]
  },
  {
   "cell_type": "markdown",
   "id": "7ec93925-2b76-45ed-a797-3bbf365a1b44",
   "metadata": {},
   "source": [
    "# Plotting both `M` and `B` tumors to see how the distribution "
   ]
  },
  {
   "cell_type": "markdown",
   "id": "43c8832d-73a7-46c0-aca4-7adcfc7e8d5e",
   "metadata": {},
   "source": [
    "While using the summary statistics is useful for determining the effect of tumor size, plotting all the sized for `M` and `B` tumors may yield more succint and conclusive results, as all of the sizes are displayed directly on a plot. For this specific issue, a histogram would work great."
   ]
  },
  {
   "cell_type": "code",
   "execution_count": 18,
   "id": "6c9c9fe6-f1a7-4636-a867-f1aa27eefcbe",
   "metadata": {},
   "outputs": [
    {
     "data": {
      "image/png": "[encoded data removed]",
      "text/plain": [
       "<Figure size 640x480 with 1 Axes>"
      ]
     },
     "metadata": {
      "image/png": {
       "height": 413,
       "width": 543
      }
     },
     "output_type": "display_data"
    }
   ],
   "source": [
    "plt.hist(df_m['area'],alpha=0.5,color=\"orange\",label=\"maliganant\")\n",
    "plt.hist(df_b['area'],alpha=0.5,color=\"b\",label=\"benign\")\n",
    "plt.legend()\n",
    "plt.show()"
   ]
  }
 ],
 "metadata": {
  "kernelspec": {
   "display_name": "Python 3 (ipykernel)",
   "language": "python",
   "name": "python3"
  },
  "language_info": {
   "codemirror_mode": {
    "name": "ipython",
    "version": 3
   },
   "file_extension": ".py",
   "mimetype": "text/x-python",
   "name": "python",
   "nbconvert_exporter": "python",
   "pygments_lexer": "ipython3",
   "version": "3.12.3"
  }
 },
 "nbformat": 4,
 "nbformat_minor": 5
}
