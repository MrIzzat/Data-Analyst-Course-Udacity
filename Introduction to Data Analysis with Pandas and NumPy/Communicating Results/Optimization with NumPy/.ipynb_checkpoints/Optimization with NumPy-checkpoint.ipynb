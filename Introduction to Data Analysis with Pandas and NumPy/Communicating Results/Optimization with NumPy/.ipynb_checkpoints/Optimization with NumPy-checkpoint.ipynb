{
 "cells": [
  {
   "cell_type": "markdown",
   "id": "cf88c255-5f7c-41c0-8303-294967b7ef93",
   "metadata": {},
   "source": [
    "# Why is NumPy so fast?"
   ]
  },
  {
   "cell_type": "markdown",
   "id": "6efb50b8-4a4c-4cad-be70-924163d2c4aa",
   "metadata": {},
   "source": [
    "Because numpy is written in C, it runs much faster than code written in python. Take this test case for example:"
   ]
  },
  {
   "cell_type": "code",
   "execution_count": 1,
   "id": "b80d90e3-865a-423d-b5fa-8a5a18f45888",
   "metadata": {},
   "outputs": [],
   "source": [
    "import numpy as np"
   ]
  },
  {
   "cell_type": "code",
   "execution_count": 2,
   "id": "6dab35c1-f84b-4c8b-852b-5de89dd08e6f",
   "metadata": {},
   "outputs": [],
   "source": [
    "a = np.random.random(int(1e8))"
   ]
  },
  {
   "cell_type": "markdown",
   "id": "5061bd58-23e2-4494-a956-b9bed1166b49",
   "metadata": {},
   "source": [
    "## Calculating the mean of a large array using python"
   ]
  },
  {
   "cell_type": "code",
   "execution_count": 3,
   "id": "d9f547c0-dcd2-4eca-bdc8-3f5a6a718f85",
   "metadata": {},
   "outputs": [
    {
     "name": "stdout",
     "output_type": "stream",
     "text": [
      "17.417455434799194 seconds\n"
     ]
    }
   ],
   "source": [
    "import time\n",
    "\n",
    "start = time.time()\n",
    "\n",
    "sum(a)/len(a)\n",
    "\n",
    "print(time.time() - start,'seconds')"
   ]
  },
  {
   "cell_type": "markdown",
   "id": "39269ada-1b07-4b5e-9ba1-194cd652bb47",
   "metadata": {},
   "source": [
    "## Calculating the mean of a large array using NumPy"
   ]
  },
  {
   "cell_type": "code",
   "execution_count": 62,
   "id": "0cf32201-4840-400f-9931-5c68a93d066a",
   "metadata": {},
   "outputs": [
    {
     "name": "stdout",
     "output_type": "stream",
     "text": [
      "0.1389446258544922 seconds\n"
     ]
    }
   ],
   "source": [
    "start = time.time()\n",
    "np.mean(a)\n",
    "print(time.time()-start,'seconds')"
   ]
  },
  {
   "cell_type": "markdown",
   "id": "3d9ed457-918e-4f7f-8371-850b64211965",
   "metadata": {},
   "source": [
    "Having really fast computations is great when there are operations needed to be applied on huge datasets."
   ]
  }
 ],
 "metadata": {
  "kernelspec": {
   "display_name": "Python 3 (ipykernel)",
   "language": "python",
   "name": "python3"
  },
  "language_info": {
   "codemirror_mode": {
    "name": "ipython",
    "version": 3
   },
   "file_extension": ".py",
   "mimetype": "text/x-python",
   "name": "python",
   "nbconvert_exporter": "python",
   "pygments_lexer": "ipython3",
   "version": "3.12.3"
  }
 },
 "nbformat": 4,
 "nbformat_minor": 5
}
